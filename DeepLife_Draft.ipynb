{
  "nbformat": 4,
  "nbformat_minor": 0,
  "metadata": {
    "colab": {
      "provenance": [],
      "authorship_tag": "ABX9TyO4YWsejbX6G3Z0Uly7cGVL",
      "include_colab_link": true
    },
    "kernelspec": {
      "name": "python3",
      "display_name": "Python 3"
    },
    "language_info": {
      "name": "python"
    }
  },
  "cells": [
    {
      "cell_type": "markdown",
      "metadata": {
        "id": "view-in-github",
        "colab_type": "text"
      },
      "source": [
        "<a href=\"https://colab.research.google.com/github/ryghrmni/DeepLifeProject/blob/robin/DeepLife_Draft.ipynb\" target=\"_parent\"><img src=\"https://colab.research.google.com/assets/colab-badge.svg\" alt=\"Open In Colab\"/></a>"
      ]
    },
    {
      "cell_type": "code",
      "source": [
        "! pip install -q kaggle"
      ],
      "metadata": {
        "id": "_poHrJ4Q_-yB"
      },
      "execution_count": 1,
      "outputs": []
    },
    {
      "cell_type": "code",
      "execution_count": 2,
      "metadata": {
        "colab": {
          "base_uri": "https://localhost:8080/"
        },
        "id": "Dq5lvUhQ--Do",
        "outputId": "4ce15d4b-9c0a-4e84-ff4a-38da0c9b310c"
      },
      "outputs": [
        {
          "output_type": "stream",
          "name": "stdout",
          "text": [
            "Drive already mounted at /content/drive; to attempt to forcibly remount, call drive.mount(\"/content/drive\", force_remount=True).\n"
          ]
        }
      ],
      "source": [
        "from google.colab import drive\n",
        "drive.mount('/content/drive')"
      ]
    },
    {
      "cell_type": "code",
      "source": [
        " from google.colab import files"
      ],
      "metadata": {
        "id": "HIh9vpHdAJMq"
      },
      "execution_count": 3,
      "outputs": []
    },
    {
      "cell_type": "code",
      "source": [
        "files.upload()"
      ],
      "metadata": {
        "colab": {
          "base_uri": "https://localhost:8080/",
          "height": 90
        },
        "id": "jzq598oDAMhN",
        "outputId": "37d847f7-8560-4cc2-c01d-2cdd5865cefb"
      },
      "execution_count": 14,
      "outputs": [
        {
          "output_type": "display_data",
          "data": {
            "text/plain": [
              "<IPython.core.display.HTML object>"
            ],
            "text/html": [
              "\n",
              "     <input type=\"file\" id=\"files-bc9368d5-9041-4b6a-a154-a5ff58c1b93f\" name=\"files[]\" multiple disabled\n",
              "        style=\"border:none\" />\n",
              "     <output id=\"result-bc9368d5-9041-4b6a-a154-a5ff58c1b93f\">\n",
              "      Upload widget is only available when the cell has been executed in the\n",
              "      current browser session. Please rerun this cell to enable.\n",
              "      </output>\n",
              "      <script>// Copyright 2017 Google LLC\n",
              "//\n",
              "// Licensed under the Apache License, Version 2.0 (the \"License\");\n",
              "// you may not use this file except in compliance with the License.\n",
              "// You may obtain a copy of the License at\n",
              "//\n",
              "//      http://www.apache.org/licenses/LICENSE-2.0\n",
              "//\n",
              "// Unless required by applicable law or agreed to in writing, software\n",
              "// distributed under the License is distributed on an \"AS IS\" BASIS,\n",
              "// WITHOUT WARRANTIES OR CONDITIONS OF ANY KIND, either express or implied.\n",
              "// See the License for the specific language governing permissions and\n",
              "// limitations under the License.\n",
              "\n",
              "/**\n",
              " * @fileoverview Helpers for google.colab Python module.\n",
              " */\n",
              "(function(scope) {\n",
              "function span(text, styleAttributes = {}) {\n",
              "  const element = document.createElement('span');\n",
              "  element.textContent = text;\n",
              "  for (const key of Object.keys(styleAttributes)) {\n",
              "    element.style[key] = styleAttributes[key];\n",
              "  }\n",
              "  return element;\n",
              "}\n",
              "\n",
              "// Max number of bytes which will be uploaded at a time.\n",
              "const MAX_PAYLOAD_SIZE = 100 * 1024;\n",
              "\n",
              "function _uploadFiles(inputId, outputId) {\n",
              "  const steps = uploadFilesStep(inputId, outputId);\n",
              "  const outputElement = document.getElementById(outputId);\n",
              "  // Cache steps on the outputElement to make it available for the next call\n",
              "  // to uploadFilesContinue from Python.\n",
              "  outputElement.steps = steps;\n",
              "\n",
              "  return _uploadFilesContinue(outputId);\n",
              "}\n",
              "\n",
              "// This is roughly an async generator (not supported in the browser yet),\n",
              "// where there are multiple asynchronous steps and the Python side is going\n",
              "// to poll for completion of each step.\n",
              "// This uses a Promise to block the python side on completion of each step,\n",
              "// then passes the result of the previous step as the input to the next step.\n",
              "function _uploadFilesContinue(outputId) {\n",
              "  const outputElement = document.getElementById(outputId);\n",
              "  const steps = outputElement.steps;\n",
              "\n",
              "  const next = steps.next(outputElement.lastPromiseValue);\n",
              "  return Promise.resolve(next.value.promise).then((value) => {\n",
              "    // Cache the last promise value to make it available to the next\n",
              "    // step of the generator.\n",
              "    outputElement.lastPromiseValue = value;\n",
              "    return next.value.response;\n",
              "  });\n",
              "}\n",
              "\n",
              "/**\n",
              " * Generator function which is called between each async step of the upload\n",
              " * process.\n",
              " * @param {string} inputId Element ID of the input file picker element.\n",
              " * @param {string} outputId Element ID of the output display.\n",
              " * @return {!Iterable<!Object>} Iterable of next steps.\n",
              " */\n",
              "function* uploadFilesStep(inputId, outputId) {\n",
              "  const inputElement = document.getElementById(inputId);\n",
              "  inputElement.disabled = false;\n",
              "\n",
              "  const outputElement = document.getElementById(outputId);\n",
              "  outputElement.innerHTML = '';\n",
              "\n",
              "  const pickedPromise = new Promise((resolve) => {\n",
              "    inputElement.addEventListener('change', (e) => {\n",
              "      resolve(e.target.files);\n",
              "    });\n",
              "  });\n",
              "\n",
              "  const cancel = document.createElement('button');\n",
              "  inputElement.parentElement.appendChild(cancel);\n",
              "  cancel.textContent = 'Cancel upload';\n",
              "  const cancelPromise = new Promise((resolve) => {\n",
              "    cancel.onclick = () => {\n",
              "      resolve(null);\n",
              "    };\n",
              "  });\n",
              "\n",
              "  // Wait for the user to pick the files.\n",
              "  const files = yield {\n",
              "    promise: Promise.race([pickedPromise, cancelPromise]),\n",
              "    response: {\n",
              "      action: 'starting',\n",
              "    }\n",
              "  };\n",
              "\n",
              "  cancel.remove();\n",
              "\n",
              "  // Disable the input element since further picks are not allowed.\n",
              "  inputElement.disabled = true;\n",
              "\n",
              "  if (!files) {\n",
              "    return {\n",
              "      response: {\n",
              "        action: 'complete',\n",
              "      }\n",
              "    };\n",
              "  }\n",
              "\n",
              "  for (const file of files) {\n",
              "    const li = document.createElement('li');\n",
              "    li.append(span(file.name, {fontWeight: 'bold'}));\n",
              "    li.append(span(\n",
              "        `(${file.type || 'n/a'}) - ${file.size} bytes, ` +\n",
              "        `last modified: ${\n",
              "            file.lastModifiedDate ? file.lastModifiedDate.toLocaleDateString() :\n",
              "                                    'n/a'} - `));\n",
              "    const percent = span('0% done');\n",
              "    li.appendChild(percent);\n",
              "\n",
              "    outputElement.appendChild(li);\n",
              "\n",
              "    const fileDataPromise = new Promise((resolve) => {\n",
              "      const reader = new FileReader();\n",
              "      reader.onload = (e) => {\n",
              "        resolve(e.target.result);\n",
              "      };\n",
              "      reader.readAsArrayBuffer(file);\n",
              "    });\n",
              "    // Wait for the data to be ready.\n",
              "    let fileData = yield {\n",
              "      promise: fileDataPromise,\n",
              "      response: {\n",
              "        action: 'continue',\n",
              "      }\n",
              "    };\n",
              "\n",
              "    // Use a chunked sending to avoid message size limits. See b/62115660.\n",
              "    let position = 0;\n",
              "    do {\n",
              "      const length = Math.min(fileData.byteLength - position, MAX_PAYLOAD_SIZE);\n",
              "      const chunk = new Uint8Array(fileData, position, length);\n",
              "      position += length;\n",
              "\n",
              "      const base64 = btoa(String.fromCharCode.apply(null, chunk));\n",
              "      yield {\n",
              "        response: {\n",
              "          action: 'append',\n",
              "          file: file.name,\n",
              "          data: base64,\n",
              "        },\n",
              "      };\n",
              "\n",
              "      let percentDone = fileData.byteLength === 0 ?\n",
              "          100 :\n",
              "          Math.round((position / fileData.byteLength) * 100);\n",
              "      percent.textContent = `${percentDone}% done`;\n",
              "\n",
              "    } while (position < fileData.byteLength);\n",
              "  }\n",
              "\n",
              "  // All done.\n",
              "  yield {\n",
              "    response: {\n",
              "      action: 'complete',\n",
              "    }\n",
              "  };\n",
              "}\n",
              "\n",
              "scope.google = scope.google || {};\n",
              "scope.google.colab = scope.google.colab || {};\n",
              "scope.google.colab._files = {\n",
              "  _uploadFiles,\n",
              "  _uploadFilesContinue,\n",
              "};\n",
              "})(self);\n",
              "</script> "
            ]
          },
          "metadata": {}
        },
        {
          "output_type": "stream",
          "name": "stdout",
          "text": [
            "Saving kaggle.json to kaggle.json\n"
          ]
        },
        {
          "output_type": "execute_result",
          "data": {
            "text/plain": [
              "{'kaggle.json': b'{\"username\":\"arvinjmf\",\"key\":\"ef5b6cf0cf0beed53111482fa9d45430\"}'}"
            ]
          },
          "metadata": {},
          "execution_count": 14
        }
      ]
    },
    {
      "cell_type": "code",
      "source": [
        "! mkdir ~/.kaggle"
      ],
      "metadata": {
        "id": "mxh7ZisWATZ_"
      },
      "execution_count": 11,
      "outputs": []
    },
    {
      "cell_type": "code",
      "source": [
        "! cp kaggle.json ~/.kaggle/"
      ],
      "metadata": {
        "id": "XVxm5njUAbjK"
      },
      "execution_count": 15,
      "outputs": []
    },
    {
      "cell_type": "code",
      "source": [
        "! chmod 600 ~/.kaggle/kaggle.json"
      ],
      "metadata": {
        "id": "en-KjDu9AjWq"
      },
      "execution_count": 16,
      "outputs": []
    },
    {
      "cell_type": "code",
      "source": [
        " ! kaggle datasets list"
      ],
      "metadata": {
        "colab": {
          "base_uri": "https://localhost:8080/"
        },
        "id": "1RIQadsJA0tV",
        "outputId": "21129455-c724-48c3-e973-1a0b672e49f4"
      },
      "execution_count": 17,
      "outputs": [
        {
          "output_type": "stream",
          "name": "stdout",
          "text": [
            "ref                                                              title                                             size  lastUpdated          downloadCount  voteCount  usabilityRating  \n",
            "---------------------------------------------------------------  -----------------------------------------------  -----  -------------------  -------------  ---------  ---------------  \n",
            "rahulvyasm/netflix-movies-and-tv-shows                           Netflix Movies and TV Shows                        1MB  2024-04-10 09:48:38          17439        382  1.0              \n",
            "sahirmaharajj/school-student-daily-attendance                    School Student Daily Attendance                    2MB  2024-04-29 19:29:56           3835         87  1.0              \n",
            "sahirmaharajj/college-exam-results-sat                           College Exam Results (SAT)                        10KB  2024-05-06 14:37:56           1562         33  1.0              \n",
            "mexwell/heart-disease-dataset                                    🫀 Heart Disease Dataset                          399KB  2024-04-08 09:43:49           8127        128  1.0              \n",
            "supriyoain/water-quality-data                                    Water Quality Data 🌊                              22KB  2024-04-28 15:56:34           1483         30  1.0              \n",
            "dansbecker/melbourne-housing-snapshot                            Melbourne Housing Snapshot                       451KB  2018-06-05 12:52:24         146599       1475  0.7058824        \n",
            "aadarshvelu/aids-virus-infection-prediction                      AIDS Virus Infection Prediction 💉                  2MB  2024-04-28 03:22:18           2412         56  1.0              \n",
            "rabieelkharoua/predict-survival-of-patients-with-heart-failure   Predict survival of patients with heart failure    4KB  2024-04-25 10:21:47           3232         48  1.0              \n",
            "kapturovalexander/time-series-for-online-store                   🏪🏬🪫 Electronic store sales data                    9MB  2024-04-30 09:33:41           1357         32  1.0              \n",
            "jeanetteponder/world-economic-classifications                    World Economic Classifications                     4KB  2024-04-28 01:05:08            869         27  1.0              \n",
            "fahadrehman07/retail-transaction-dataset                         Retail Transaction Dataset                         5MB  2024-05-01 10:05:25           2002         49  1.0              \n",
            "prishasawhney/mushroom-dataset                                   Mushroom Dataset (Binary Classification)         602KB  2024-04-18 19:56:44           3455         92  1.0              \n",
            "chopper53/data-engineer-salary-in-2024                           Data Engineer Salary in 2024                     108KB  2024-04-24 20:23:25           1514         33  1.0              \n",
            "jaidalmotra/pokemon-dataset                                      Pokemon Dataset                                   19KB  2024-04-30 10:38:36           1770         49  1.0              \n",
            "muhammadibrahimqasmi/nvidia-corporation-nvda-stock-2020-to-2024  NVIDIA Corporation (NVDA) Stock | 2020 to 2024    32KB  2024-05-05 20:42:16            405         39  1.0              \n",
            "juanmerinobermejo/smartphones-price-dataset                      Smartphones Price Dataset                         27KB  2024-04-18 17:24:55           1818         39  1.0              \n",
            "datasnaek/youtube-new                                            Trending YouTube Video Statistics                201MB  2019-06-03 00:56:47         240520       5404  0.7941176        \n",
            "zynicide/wine-reviews                                            Wine Reviews                                      51MB  2017-11-27 17:08:04         297642       3597  0.7941176        \n",
            "iabhishekofficial/mobile-price-classification                    Mobile Price Classification                       71KB  2018-01-28 08:44:24         179122       1992  0.7058824        \n",
            "datasnaek/chess                                                  Chess Game Dataset (Lichess)                       3MB  2017-09-04 03:09:09          44500       1252  0.8235294        \n"
          ]
        }
      ]
    },
    {
      "cell_type": "code",
      "source": [
        "! kaggle competitions download -c data-science-bowl-2018"
      ],
      "metadata": {
        "colab": {
          "base_uri": "https://localhost:8080/"
        },
        "id": "soE9CqoEA2uk",
        "outputId": "49e4a89d-bba0-4d87-916b-8187643061a3"
      },
      "execution_count": 20,
      "outputs": [
        {
          "output_type": "stream",
          "name": "stdout",
          "text": [
            "Downloading data-science-bowl-2018.zip to /content\n",
            " 97% 347M/358M [00:04<00:00, 112MB/s]\n",
            "100% 358M/358M [00:04<00:00, 81.4MB/s]\n"
          ]
        }
      ]
    },
    {
      "cell_type": "code",
      "source": [
        "! mkdir data"
      ],
      "metadata": {
        "id": "7HSes_YSBHE6"
      },
      "execution_count": 22,
      "outputs": []
    },
    {
      "cell_type": "code",
      "source": [
        "! unzip data-science-bowl-2018.zip -d data"
      ],
      "metadata": {
        "colab": {
          "base_uri": "https://localhost:8080/"
        },
        "id": "V97X0wOQBZsT",
        "outputId": "67efcd62-4c77-4c96-d1ed-c20bfd0c5e35"
      },
      "execution_count": 19,
      "outputs": [
        {
          "output_type": "stream",
          "name": "stdout",
          "text": [
            "Archive:  data-science-bowl-2018.zip\n",
            "  inflating: data/stage1_sample_submission.csv.zip  \n",
            "  inflating: data/stage1_solution.csv.zip  \n",
            "  inflating: data/stage1_test.zip    \n",
            "  inflating: data/stage1_train.zip   \n",
            "  inflating: data/stage1_train_labels.csv.zip  \n",
            "  inflating: data/stage2_sample_submission_final.csv.zip  \n",
            "  inflating: data/stage2_test_final.zip  \n"
          ]
        }
      ]
    },
    {
      "cell_type": "code",
      "source": [
        "cd data"
      ],
      "metadata": {
        "id": "rfFIv5NHBosR"
      },
      "execution_count": 31,
      "outputs": []
    },
    {
      "cell_type": "code",
      "source": [
        "!for file in *.zip; do unzip -q \"$file\" -d \"${file%%.*}\" && rm \"$file\"; done"
      ],
      "metadata": {
        "id": "o783ngWmDgp5"
      },
      "execution_count": 24,
      "outputs": []
    },
    {
      "cell_type": "code",
      "source": [
        "ls"
      ],
      "metadata": {
        "colab": {
          "base_uri": "https://localhost:8080/"
        },
        "id": "TPF_dfQ7GWqb",
        "outputId": "5ac8da84-d247-437d-f4f1-9014fa5c5afd"
      },
      "execution_count": 30,
      "outputs": [
        {
          "output_type": "stream",
          "name": "stdout",
          "text": [
            "\u001b[0m\u001b[01;34mstage1_sample_submission\u001b[0m/  \u001b[01;34mstage1_test\u001b[0m/   \u001b[01;34mstage1_train_labels\u001b[0m/             \u001b[01;34mstage2_test_final\u001b[0m/\n",
            "\u001b[01;34mstage1_solution\u001b[0m/           \u001b[01;34mstage1_train\u001b[0m/  \u001b[01;34mstage2_sample_submission_final\u001b[0m/\n"
          ]
        }
      ]
    },
    {
      "cell_type": "code",
      "source": [
        "import os\n",
        "import shutil\n",
        "import random\n",
        "\n",
        "# Define the source directory\n",
        "source_dir = \"stage1_train/\"\n",
        "\n",
        "# Define the destination directory\n",
        "dest_dir = \"toy_data/\"\n",
        "\n",
        "# Create the destination directory if it doesn't exist\n",
        "os.makedirs(dest_dir, exist_ok=True)\n",
        "\n",
        "# Get a list of all folders in the source directory\n",
        "folders = os.listdir(source_dir)\n",
        "\n",
        "# Randomly select 50 folders\n",
        "selected_folders = random.sample(folders, 50)\n",
        "\n",
        "# Copy selected folders to the destination directory\n",
        "for folder in selected_folders:\n",
        "    src = os.path.join(source_dir, folder)\n",
        "    dst = os.path.join(dest_dir, folder)\n",
        "    shutil.copytree(src, dst)\n",
        "\n",
        "print(\"Selected folders have been copied to the 'toy_data' folder.\")\n"
      ],
      "metadata": {
        "colab": {
          "base_uri": "https://localhost:8080/"
        },
        "id": "NHUWkHd9GtSe",
        "outputId": "689bc650-779b-4b00-a70f-503e0b86edd6"
      },
      "execution_count": 31,
      "outputs": [
        {
          "output_type": "stream",
          "name": "stdout",
          "text": [
            "Selected folders have been copied to the 'toy_data' folder.\n"
          ]
        }
      ]
    },
    {
      "cell_type": "code",
      "source": [
        "cd toy_data/"
      ],
      "metadata": {
        "colab": {
          "base_uri": "https://localhost:8080/"
        },
        "id": "FgyQu6q2ICqR",
        "outputId": "e8c041a5-bbc2-40f1-b733-cd7c503c3b1c"
      },
      "execution_count": 33,
      "outputs": [
        {
          "output_type": "stream",
          "name": "stdout",
          "text": [
            "/content/data/toy_data\n"
          ]
        }
      ]
    },
    {
      "cell_type": "code",
      "source": [
        "ls"
      ],
      "metadata": {
        "colab": {
          "base_uri": "https://localhost:8080/"
        },
        "id": "o8Y5PtyTID6t",
        "outputId": "7400c4fe-272c-416a-d48d-60f56c4ce627"
      },
      "execution_count": 34,
      "outputs": [
        {
          "output_type": "stream",
          "name": "stdout",
          "text": [
            "\u001b[0m\u001b[01;34m0280fa8f60f6bcae0f97d93c28f60be194f9309ff610dc5845e60455b0f87c21\u001b[0m/\n",
            "\u001b[01;34m0c6507d493bf79b2ba248c5cca3d14df8b67328b89efa5f4a32f97a06a88c92c\u001b[0m/\n",
            "\u001b[01;34m11a0170f44e3ab4a8d669ae8ea9546d3a32ebfe6486d9066e5648d30b4e1cb69\u001b[0m/\n",
            "\u001b[01;34m1b2bf5933b0fb82918d278983bee66e9532b53807c3638efd9af66d20a2bae88\u001b[0m/\n",
            "\u001b[01;34m1f9e429c12f4477221b5b855a5f494fda2ef6d064ff75b061ffaf093e91758c5\u001b[0m/\n",
            "\u001b[01;34m20b20ab049372d184c705acebe7af026d3580f5fd5a72ed796e3622e1685af2f\u001b[0m/\n",
            "\u001b[01;34m237802ac5005f9cf782367156c46c383efd9e05088e5768ca883cbbe24abadb1\u001b[0m/\n",
            "\u001b[01;34m23830d0e51245fc0c9e410efa4c17d2a7d83a0104a3777130119ab892de47a4e\u001b[0m/\n",
            "\u001b[01;34m29ea4f6eb4545f43868a9b40a60000426bf8dfd9d062546656a37bd2a2aaf9ec\u001b[0m/\n",
            "\u001b[01;34m2ad489c11ed8b77a9d8a2339ac64ffc38e79281c03a2507db4688fd3186c0fe5\u001b[0m/\n",
            "\u001b[01;34m35ca5f142a7d7a3e4b59f1a767a31f87cb00d66348226bc64094ee3d1e46531c\u001b[0m/\n",
            "\u001b[01;34m3f9fc8e63f87e8a56d3eaef7db26f1b6db874d19f12abd5a752821b78d47661e\u001b[0m/\n",
            "\u001b[01;34m40bcdad218ac5f0885fc247d88fcad9f729f55c81c79d241a8f1559b6d8c0574\u001b[0m/\n",
            "\u001b[01;34m431b9b0c520a28375b5a0c18d0a5039dd62cbca7c4a0bcc25af3b763d4a81bec\u001b[0m/\n",
            "\u001b[01;34m43cf6b2ec0b0745ac2b87b4d8780f62e9050d3f5d50a1fcefa42d166191e84c6\u001b[0m/\n",
            "\u001b[01;34m449fe932622db3b49366a260ddd20077219f96fb2dc0f912ad4f60b087876f3b\u001b[0m/\n",
            "\u001b[01;34m483b89aa683542f1c63e62f5f71ae8ae1f959caf1c379cd61230a71cd1036732\u001b[0m/\n",
            "\u001b[01;34m4e92129f4e8066d6f560d6022cd343a2245939aa49d8b06cddbd9bfc7e7eeb0e\u001b[0m/\n",
            "\u001b[01;34m589f86dee5b480a88dd4f77eeaffe2c4d70aefdf879a4096dde1fa4d41055b8f\u001b[0m/\n",
            "\u001b[01;34m58cc121d37fb7f1b4a5252024d88415936781e540252b8f734faeedd29b682d5\u001b[0m/\n",
            "\u001b[01;34m5d58600efa0c2667ec85595bf456a54e2bd6e6e9a5c0dff42d807bc9fe2b822e\u001b[0m/\n",
            "\u001b[01;34m5d75a63972ef643efd7c42f20668b167f2af43635d6263962d84e62e7609ab51\u001b[0m/\n",
            "\u001b[01;34m610f32e2d9d270d740aec501dcf0c89595e4e623468ad43272adab90520a8f96\u001b[0m/\n",
            "\u001b[01;34m6b61ab2e3ff0e2c7a55fd71e290b51e142555cf82bc7574fc27326735e8acbd1\u001b[0m/\n",
            "\u001b[01;34m6b6d4e6ff52de473a4b6f8bd0f11ae22242d508cc4117ff38ec39cbb88088aaa\u001b[0m/\n",
            "\u001b[01;34m75120baa6abcbfe750a4eb223b8c10ae6bc3bebdda7b00d9a78bc2472fa28625\u001b[0m/\n",
            "\u001b[01;34m7773ac91af61ed041701b7c3b649598e3707cf04c0577f464fd31be687f538fe\u001b[0m/\n",
            "\u001b[01;34m7af09f98ec299ba0658d759eebc4c34e1c98289ea6ce37f233e9f5e4e2fc84f4\u001b[0m/\n",
            "\u001b[01;34m8175a55b711c948fe383bd3b91b6ca1b9e048a5241e0be13aff31ce2674fbe6d\u001b[0m/\n",
            "\u001b[01;34m8d05fb18ee0cda107d56735cafa6197a31884e0a5092dc6d41760fb92ae23ab4\u001b[0m/\n",
            "\u001b[01;34m93c5638e7e6433b5c9cc87c152bcbe28873d2f9d6a392cca0642520807542a77\u001b[0m/\n",
            "\u001b[01;34m97126a9791f0c1176e4563ad679a301dac27c59011f579e808bbd6e9f4cd1034\u001b[0m/\n",
            "\u001b[01;34m9fb32aba1c2fd53273dca9abefac944ba747f578da82dfaa1249f332a2324944\u001b[0m/\n",
            "\u001b[01;34ma1777737270c5f96c4523dff76e4097756f8f7d4c9d59bac079e31f9510deabd\u001b[0m/\n",
            "\u001b[01;34maa83f5b4fca02ae43a6b9456ab42707b0beabc6e7c5c4e66c0d2572fb80f3615\u001b[0m/\n",
            "\u001b[01;34mb6d50fa22380ae3a7e8c52c5bc44a254e7b2596fd8927980dbe2c160cb5689b5\u001b[0m/\n",
            "\u001b[01;34mbe1916d0e5592c17f971315b5de720ef6894173087399daed94a52ef109c1572\u001b[0m/\n",
            "\u001b[01;34mc304a1fdf3bca2f4b4580d2cac59942e2224a7678001bf5ed9d9852f57708932\u001b[0m/\n",
            "\u001b[01;34mc620631271a56407d6d69fa1a69451ca99c50dcc30e29db04cf6fb7cacbde8cb\u001b[0m/\n",
            "\u001b[01;34md1dbc6ee7c44a7027e935d040e496793186b884a1028d0e26284a206c6f5aff0\u001b[0m/\n",
            "\u001b[01;34mda31f2aa8601afec5c45180a2c448cb9c4a8ec7b35e75190d6ba3588f69058c8\u001b[0m/\n",
            "\u001b[01;34me2d22d3d283915df8350d039278e314a23e6e8f2b41bdfc16df849e22dd13b36\u001b[0m/\n",
            "\u001b[01;34me321cfa987e77c21373a0f8b1236c83d6636306949a82a7f5b07fc0838e7777f\u001b[0m/\n",
            "\u001b[01;34me4537e7893e631f3ba6ae5b1023e24b233c78249a31c2f5e561f6c4cad88fcf6\u001b[0m/\n",
            "\u001b[01;34me5f8ad0f0a43af8ca57e31e16800108abdfb44a7e962a71d246f72d2dbde42bf\u001b[0m/\n",
            "\u001b[01;34me66a97b2c77f3d66a7d3cebbc6a36c8c6259368a397f7b67647ed80ad53aa776\u001b[0m/\n",
            "\u001b[01;34mec031f176dafe0b36547068ce42eab39428ec7995dac1b3ea52d1db79b61fdeb\u001b[0m/\n",
            "\u001b[01;34mecb36c90cdd20245d89173c106f3c6a2d124d07bdea0ae202fb1efa49b0cd169\u001b[0m/\n",
            "\u001b[01;34med4b8e0d756836be7acb2e2b7799c473b52424e3092a71d3c6d23558e500dc4c\u001b[0m/\n",
            "\u001b[01;34mf487cc82271cf84b4414552aa8b0a9d82d902451ebe8e8bc639d4121c1672ff7\u001b[0m/\n"
          ]
        }
      ]
    },
    {
      "cell_type": "code",
      "source": [],
      "metadata": {
        "id": "NJ-ud0EfIHLt"
      },
      "execution_count": null,
      "outputs": []
    }
  ]
}