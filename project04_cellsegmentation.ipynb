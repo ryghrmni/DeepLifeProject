{
  "cells": [
    {
      "cell_type": "markdown",
      "metadata": {
        "id": "view-in-github",
        "colab_type": "text"
      },
      "source": [
        "<a href=\"https://colab.research.google.com/github/ryghrmni/DeepLifeProject/blob/robin/project04_cellsegmentation.ipynb\" target=\"_parent\"><img src=\"https://colab.research.google.com/assets/colab-badge.svg\" alt=\"Open In Colab\"/></a>"
      ]
    },
    {
      "cell_type": "markdown",
      "metadata": {
        "id": "Z0xzMd29fZxI"
      },
      "source": [
        "# **Project : Cell image segmentation projects**\n",
        "\n",
        "\n",
        "---\n",
        "\n",
        "\n",
        "\n",
        "**Team** (Alphabetical order)**:** Arvin Jafari, Delnavaz Fotouhi, Reza Ghahremani\n",
        "\n",
        "**University:** Università degli Studi di Milano\n",
        "\n",
        "** This course is provided by 4EU+ alliance of European universities, Heidelberg University will coordinate a joint course on Applications of Deep Learning in Life Sciences (DeepLife) involving the universities of Paris-Sorbonne, Warsaw, Prague, Milano and Heidelberg.\n",
        "\n",
        "**Reference:** https://deeplife4eu.github.io/\n",
        "\n",
        "\n",
        "---\n",
        "\n",
        "\n",
        "\n",
        "Cell segmentation is usually the first step for downstream single-cell analysis in microscopy image-based biology and biomedical research. Deep learning has been widely used for cell-image segmentation.\n",
        "The CellSeg competition aims to benchmark cell segmentation methods that could be applied to various microscopy images across multiple imaging platforms and tissue types for cell Segmentation. The  Dataset challenge organizers provide contains both labeled images and unlabeled ones.\n",
        "The “2018 Data Science Bowl” Kaggle competition provides cell images and their masks for training cell/nuclei segmentation models.\n",
        "\n",
        "### Project Description\n",
        "\n",
        "In the field of (bio-medical) image processing, segmentation of images is typically performed via U-Nets [1,2].\n",
        "\n",
        "A U-Net consists of an encoder - a series of convolution and pooling layers which reduce the spatial resolution of the input, followed by a decoder - a series of transposed convolution and upsampling layers which increase the spatial resolution of the input. The encoder and decoder are connected by a bottleneck layer which is responsible for reducing the number of channels in the input.\n",
        "The key innovation of U-Net is the addition of skip connections that connect the contracting path to the corresponding layers in the expanding path, allowing the network to recover fine-grained details lost during downsampling.\n",
        "\n",
        "<img src='https://production-media.paperswithcode.com/methods/Screen_Shot_2020-07-07_at_9.08.00_PM_rpNArED.png' width=\"400\"/>\n",
        "\n",
        "\n",
        "At this [link](https://rpubs.com/eR_ic/unet), you find an R implementation of basic U-Nets. At this [link](https://github.com/zhixuhao/unet), you find a Keras implementation of UNets.  \n",
        "Other implementations of more advanced UNets are also made available in [2] at these links: [UNet++](https://github.com/MrGiovanni/UNetPlusPlus)\n",
        "and by the CellSeg organizers as baseline models: [https://neurips22-cellseg.grand-challenge.org/baseline-and-tutorial/](https://neurips22-cellseg.grand-challenge.org/baseline-and-tutorial/)\n",
        "\n",
        "### Project aim\n",
        "\n",
        "The aim of the project is to download the cell images (preferably from the “2018 Data Science Bowl” competition) and assess the performance of an UNet or any other Deep model for cell segmentation.\n",
        "Students are free to choose any model, as long as they are able to explain their rationale, architecture, strengths and weaknesses.\n",
        "\n",
        "\n",
        "\n",
        "### References\n",
        "\n",
        "[1] Ronneberger, O., Fischer, P., Brox, T. (2015). U-Net: Convolutional Networks for Biomedical Image Segmentation. In: Navab, N., Hornegger, J., Wells, W., Frangi, A. (eds) Medical Image Computing and Computer-Assisted Intervention – MICCAI 2015. MICCAI 2015. Lecture Notes in Computer Science(), vol 9351. Springer, Cham. https://doi.org/10.1007/978-3-319-24574-4_28\n",
        "\n",
        "[2] Long, F. Microscopy cell nuclei segmentation with enhanced U-Net. BMC Bioinformatics 21, 8 (2020). https://doi.org/10.1186/s12859-019-3332-1\n"
      ]
    },
    {
      "cell_type": "markdown",
      "source": [
        "## **Step 1: Data Preparation**"
      ],
      "metadata": {
        "id": "u2n196-j1Z8Y"
      }
    },
    {
      "cell_type": "markdown",
      "source": [
        "**1.1. Install and Upgrade Kaggle Package**\n",
        "\n",
        "The Kaggle Python package was installed and upgraded to ensure we have the latest version with all necessary functionalities."
      ],
      "metadata": {
        "id": "DHAZEmm-1xYt"
      }
    },
    {
      "cell_type": "code",
      "source": [
        "!pip install --upgrade kaggle"
      ],
      "metadata": {
        "id": "6S8SJIKi1nNd",
        "outputId": "883afffa-0f82-49fc-f41b-2f817e6ba1f1",
        "colab": {
          "base_uri": "https://localhost:8080/"
        }
      },
      "execution_count": 2,
      "outputs": [
        {
          "output_type": "stream",
          "name": "stdout",
          "text": [
            "Requirement already satisfied: kaggle in /usr/local/lib/python3.10/dist-packages (1.6.14)\n",
            "Requirement already satisfied: six>=1.10 in /usr/local/lib/python3.10/dist-packages (from kaggle) (1.16.0)\n",
            "Requirement already satisfied: certifi>=2023.7.22 in /usr/local/lib/python3.10/dist-packages (from kaggle) (2024.2.2)\n",
            "Requirement already satisfied: python-dateutil in /usr/local/lib/python3.10/dist-packages (from kaggle) (2.8.2)\n",
            "Requirement already satisfied: requests in /usr/local/lib/python3.10/dist-packages (from kaggle) (2.31.0)\n",
            "Requirement already satisfied: tqdm in /usr/local/lib/python3.10/dist-packages (from kaggle) (4.66.4)\n",
            "Requirement already satisfied: python-slugify in /usr/local/lib/python3.10/dist-packages (from kaggle) (8.0.4)\n",
            "Requirement already satisfied: urllib3 in /usr/local/lib/python3.10/dist-packages (from kaggle) (2.0.7)\n",
            "Requirement already satisfied: bleach in /usr/local/lib/python3.10/dist-packages (from kaggle) (6.1.0)\n",
            "Requirement already satisfied: webencodings in /usr/local/lib/python3.10/dist-packages (from bleach->kaggle) (0.5.1)\n",
            "Requirement already satisfied: text-unidecode>=1.3 in /usr/local/lib/python3.10/dist-packages (from python-slugify->kaggle) (1.3)\n",
            "Requirement already satisfied: charset-normalizer<4,>=2 in /usr/local/lib/python3.10/dist-packages (from requests->kaggle) (3.3.2)\n",
            "Requirement already satisfied: idna<4,>=2.5 in /usr/local/lib/python3.10/dist-packages (from requests->kaggle) (3.7)\n"
          ]
        }
      ]
    },
    {
      "cell_type": "markdown",
      "source": [
        "**1.2. Verify and Create Kaggle Directory**\n",
        "\n",
        "We verified if the ~/.kaggle directory exists. If not, the directory was created to store the Kaggle API credentials."
      ],
      "metadata": {
        "id": "BXC_zD3B1yfD"
      }
    },
    {
      "cell_type": "code",
      "source": [
        "import os\n",
        "\n",
        "# Verify ~/.kaggle directory exists\n",
        "kaggle_dir = os.path.expanduser('~/.kaggle')\n",
        "if not os.path.exists(kaggle_dir):\n",
        "    os.makedirs(kaggle_dir)\n",
        "    print(\"Directory created: ~/.kaggle\")\n",
        "else:\n",
        "    print(\"Directory already exists: ~/.kaggle\")"
      ],
      "metadata": {
        "id": "9mfuxTH41s83",
        "outputId": "151875a0-be39-4dfa-e275-a713a651f4d6",
        "colab": {
          "base_uri": "https://localhost:8080/"
        }
      },
      "execution_count": 3,
      "outputs": [
        {
          "output_type": "stream",
          "name": "stdout",
          "text": [
            "Directory created: ~/.kaggle\n"
          ]
        }
      ]
    },
    {
      "cell_type": "markdown",
      "source": [
        "**1.3. Copy Kaggle JSON to Kaggle Directory**\n",
        "\n",
        "The kaggle.json file, which contains the API credentials, was copied to the ~/.kaggle directory. Permissions were set to ensure the file is secure."
      ],
      "metadata": {
        "id": "re7v04_m142N"
      }
    },
    {
      "cell_type": "code",
      "source": [
        "import shutil\n",
        "\n",
        "kaggle_json_path = 'kaggle.json'\n",
        "target_path = os.path.join(kaggle_dir, 'kaggle.json')\n",
        "\n",
        "if os.path.exists(kaggle_json_path):\n",
        "    shutil.copy(kaggle_json_path, target_path)\n",
        "    os.chmod(target_path, 0o600)\n",
        "    print(\"kaggle.json has been copied to ~/.kaggle and permissions set.\")\n",
        "else:\n",
        "    print(\"kaggle.json not found in the current directory.\")"
      ],
      "metadata": {
        "id": "OGODo9ni15eQ",
        "outputId": "9a02d8ce-653f-4805-d7c0-bd8d86963a2f",
        "colab": {
          "base_uri": "https://localhost:8080/"
        }
      },
      "execution_count": 4,
      "outputs": [
        {
          "output_type": "stream",
          "name": "stdout",
          "text": [
            "kaggle.json not found in the current directory.\n"
          ]
        }
      ]
    },
    {
      "cell_type": "markdown",
      "source": [
        "**1.4. Set Environment Variables for Kaggle API**\n",
        "\n",
        "Environment variables for the Kaggle username and key were set to enable authentication for API requests.\n",
        "\n",
        "**reference:** https://www.kaggle.com/docs/api"
      ],
      "metadata": {
        "id": "D8tQV0ir2L3x"
      }
    },
    {
      "cell_type": "code",
      "source": [
        "import os\n",
        "os.environ['KAGGLE_USERNAME'] = input()\n",
        "os.environ['KAGGLE_KEY'] = input()"
      ],
      "metadata": {
        "id": "lZsvlnln2Keg",
        "outputId": "bc25ed47-9118-4f16-c719-775be212820a",
        "colab": {
          "base_uri": "https://localhost:8080/"
        }
      },
      "execution_count": 5,
      "outputs": [
        {
          "name": "stdout",
          "output_type": "stream",
          "text": [
            "arvinjmf\n",
            "08908e6b7e12d90cd270e1aa2bfc58c9\n"
          ]
        }
      ]
    },
    {
      "cell_type": "markdown",
      "source": [
        "**1.5. Download Dataset from Kaggle and Extract Dataset**\n",
        "\n",
        "The dataset for the Data Science Bowl 2018 competition was downloaded using the Kaggle API. The downloaded zip file was extracted into a directory named data."
      ],
      "metadata": {
        "id": "lO27Mgdv2qrF"
      }
    },
    {
      "cell_type": "code",
      "source": [
        "!kaggle competitions download -c data-science-bowl-2018"
      ],
      "metadata": {
        "id": "9xKWbVAo2qLg",
        "outputId": "12197763-2684-4fdd-a726-50691a2e5135",
        "colab": {
          "base_uri": "https://localhost:8080/"
        }
      },
      "execution_count": 6,
      "outputs": [
        {
          "output_type": "stream",
          "name": "stdout",
          "text": [
            "Downloading data-science-bowl-2018.zip to /content\n",
            " 99% 356M/358M [00:07<00:00, 21.1MB/s]\n",
            "100% 358M/358M [00:07<00:00, 47.5MB/s]\n"
          ]
        }
      ]
    },
    {
      "cell_type": "code",
      "source": [
        "!unzip data-science-bowl-2018.zip -d data"
      ],
      "metadata": {
        "id": "vea28DOz2qHi",
        "outputId": "fc2c2b48-e457-49c2-9a02-d8ab90bfb0c9",
        "colab": {
          "base_uri": "https://localhost:8080/"
        }
      },
      "execution_count": 7,
      "outputs": [
        {
          "output_type": "stream",
          "name": "stdout",
          "text": [
            "Archive:  data-science-bowl-2018.zip\n",
            "  inflating: data/stage1_sample_submission.csv.zip  \n",
            "  inflating: data/stage1_solution.csv.zip  \n",
            "  inflating: data/stage1_test.zip    \n",
            "  inflating: data/stage1_train.zip   \n",
            "  inflating: data/stage1_train_labels.csv.zip  \n",
            "  inflating: data/stage2_sample_submission_final.csv.zip  \n",
            "  inflating: data/stage2_test_final.zip  \n"
          ]
        }
      ]
    },
    {
      "cell_type": "markdown",
      "source": [
        "**1.6. Navigate to Data Directory and Extract All Files and List Directory Contents**\n",
        "\n",
        "Changed the current working directory to data and extracted all zip files within it. The original zip files were then deleted. Finally, we listed the contents of the data directory to confirm the successful extraction of the dataset files."
      ],
      "metadata": {
        "id": "BUGwhky520Ka"
      }
    },
    {
      "cell_type": "code",
      "source": [
        "cd data"
      ],
      "metadata": {
        "id": "zUC8NYLg2qFQ",
        "outputId": "7a570cd7-13d6-4607-ab19-6093e7913406",
        "colab": {
          "base_uri": "https://localhost:8080/"
        }
      },
      "execution_count": 8,
      "outputs": [
        {
          "output_type": "stream",
          "name": "stdout",
          "text": [
            "/content/data\n"
          ]
        }
      ]
    },
    {
      "cell_type": "code",
      "source": [
        "!for file in *.zip; do unzip -q \"$file\" -d \"${file%%.*}\" && rm \"$file\"; done"
      ],
      "metadata": {
        "id": "02ALTOVx2qC0"
      },
      "execution_count": 9,
      "outputs": []
    },
    {
      "cell_type": "code",
      "source": [
        "ls"
      ],
      "metadata": {
        "id": "us0Dzqyj2qAg",
        "outputId": "2d18bbe2-a700-431d-f8fa-a6b6384ba6c5",
        "colab": {
          "base_uri": "https://localhost:8080/"
        }
      },
      "execution_count": 10,
      "outputs": [
        {
          "output_type": "stream",
          "name": "stdout",
          "text": [
            "\u001b[0m\u001b[01;34mstage1_sample_submission\u001b[0m/  \u001b[01;34mstage1_test\u001b[0m/   \u001b[01;34mstage1_train_labels\u001b[0m/             \u001b[01;34mstage2_test_final\u001b[0m/\n",
            "\u001b[01;34mstage1_solution\u001b[0m/           \u001b[01;34mstage1_train\u001b[0m/  \u001b[01;34mstage2_sample_submission_final\u001b[0m/\n"
          ]
        }
      ]
    },
    {
      "cell_type": "markdown",
      "source": [
        "## **Step 2: Data Preprocessing and Augmenation**"
      ],
      "metadata": {
        "id": "5hItEz6X2_an"
      }
    },
    {
      "cell_type": "markdown",
      "source": [
        "**2.1. Stretch Contrast Function**\n",
        "\n",
        "This function stretches the contrast of an image to utilize the full range of pixel values (0 to 255)."
      ],
      "metadata": {
        "id": "dnroWo4L3bjD"
      }
    },
    {
      "cell_type": "code",
      "source": [
        "def stretch_contrast(image):\n",
        "    min_val = np.min(image)\n",
        "    max_val = np.max(image)\n",
        "    stretched_image = (image - min_val) * (255.0 / (max_val - min_val))\n",
        "    return stretched_image.astype(np.uint8)"
      ],
      "metadata": {
        "id": "p3Y70i0k3cMn"
      },
      "execution_count": 11,
      "outputs": []
    },
    {
      "cell_type": "markdown",
      "source": [
        "**2.2. Load Data Function**\n",
        "\n",
        "The load_data function is designed to load images and their corresponding masks from a given base directory, apply contrast stretching to the images, and organize the data into lists."
      ],
      "metadata": {
        "id": "tZB1SzZ44Msk"
      }
    },
    {
      "cell_type": "code",
      "source": [
        "# def load_data(base_path):\n",
        "#     images = []\n",
        "#     masks = []\n",
        "#     sample_names = []\n",
        "\n",
        "#     sample_folders = [os.path.join(base_path, folder) for folder in os.listdir(base_path) if os.path.isdir(os.path.join(base_path, folder))]\n",
        "\n",
        "#     for sample_folder in sample_folders:\n",
        "#         sample_name = os.path.basename(sample_folder)\n",
        "#         image_path = os.path.join(sample_folder, 'images', f'{sample_name}.png')\n",
        "#         masks_path = os.path.join(sample_folder, 'masks')\n",
        "\n",
        "#         image = Image.open(image_path)\n",
        "#         image = np.array(image)\n",
        "#         stretched_image = stretch_contrast(image)\n",
        "#         images.append(stretched_image)\n",
        "#         sample_names.append(sample_name)\n",
        "\n",
        "#         mask_files = [os.path.join(masks_path, mask_file) for mask_file in os.listdir(masks_path) if mask_file.endswith('.png')]\n",
        "#         sample_masks = [np.array(Image.open(mask_file).convert('L')) for mask_file in mask_files]\n",
        "#         masks.append(sample_masks)\n",
        "\n",
        "#     return images, masks, sample_names"
      ],
      "metadata": {
        "id": "QYvzHPyKjGe5"
      },
      "execution_count": 12,
      "outputs": []
    },
    {
      "cell_type": "code",
      "source": [
        "import os\n",
        "import shutil\n",
        "import random\n",
        "\n",
        "# Define the source directory\n",
        "source_dir = \"/content/data/stage1_train\"\n",
        "\n",
        "# Define the destination directory\n",
        "dest_dir = \"/content/data/toy_data\"\n",
        "\n",
        "# Create the destination directory if it doesn't exist\n",
        "os.makedirs(dest_dir, exist_ok=True)\n",
        "\n",
        "# Get a list of all folders in the source directory\n",
        "folders = os.listdir(source_dir)\n",
        "\n",
        "# Randomly select 50 folders\n",
        "selected_folders = random.sample(folders, 50)\n",
        "\n",
        "# Copy selected folders to the destination directory\n",
        "for folder in selected_folders:\n",
        "    src = os.path.join(source_dir, folder)\n",
        "    dst = os.path.join(dest_dir, folder)\n",
        "    shutil.copytree(src, dst)\n",
        "\n",
        "print(\"Selected folders have been copied to the 'toy_data' folder.\")"
      ],
      "metadata": {
        "colab": {
          "base_uri": "https://localhost:8080/"
        },
        "id": "yvYKSkOxBJVo",
        "outputId": "5607f142-76bd-4115-d841-eeae853109ca"
      },
      "execution_count": 13,
      "outputs": [
        {
          "output_type": "stream",
          "name": "stdout",
          "text": [
            "Selected folders have been copied to the 'toy_data' folder.\n"
          ]
        }
      ]
    },
    {
      "cell_type": "code",
      "source": [
        "def load_data(base_path):\n",
        "    images = []\n",
        "    masks = []\n",
        "    sample_names = []\n",
        "    sample_folders = []\n",
        "\n",
        "    # Get all sample folders\n",
        "    sample_folders = [os.path.join(base_path, folder) for folder in os.listdir(base_path) if os.path.isdir(os.path.join(base_path, folder))]\n",
        "\n",
        "    for sample_folder in sample_folders:\n",
        "        sample_name = os.path.basename(sample_folder)\n",
        "        image_path = os.path.join(sample_folder, 'images', f'{sample_name}.png')\n",
        "        masks_path = os.path.join(sample_folder, 'masks')\n",
        "\n",
        "        # Load the image and stretch contrast\n",
        "        image = Image.open(image_path)\n",
        "        image = np.array(image)\n",
        "        stretched_image = stretch_contrast(image)\n",
        "        images.append(stretched_image)\n",
        "        sample_names.append(sample_name)\n",
        "\n",
        "        # Load all masks for this sample\n",
        "        mask_files = [os.path.join(masks_path, mask_file) for mask_file in os.listdir(masks_path) if mask_file.endswith('.png')]\n",
        "        sample_masks = [np.array(Image.open(mask_file).convert('L')) for mask_file in mask_files]\n",
        "        masks.append(sample_masks)\n",
        "\n",
        "    return images, masks, sample_names, sample_folders"
      ],
      "metadata": {
        "id": "6B7P6KZa3cWM"
      },
      "execution_count": 14,
      "outputs": []
    },
    {
      "cell_type": "code",
      "source": [
        "# import os\n",
        "# from PIL import Image\n",
        "# import numpy as np\n",
        "# import matplotlib.pyplot as plt\n",
        "\n",
        "# # Example usage:\n",
        "# base_path = '/content/data/toy_data'\n",
        "# images, masks, sample_names = load_data(base_path)\n",
        "\n",
        "# # Access the first sample\n",
        "# first_sample_index = 0\n",
        "# first_sample_name = sample_names[first_sample_index]\n",
        "# first_sample_image = images[first_sample_index]\n",
        "# first_sample_masks = masks[first_sample_index]\n",
        "\n",
        "# # Print the sample name and display the image\n",
        "# print(f'First sample name: {first_sample_name}')\n",
        "# plt.figure()\n",
        "# plt.imshow(first_sample_image)\n",
        "# plt.title(f'Image: {first_sample_name}')\n",
        "# plt.axis('off')\n",
        "# plt.show()\n",
        "\n",
        "# # Display the masks\n",
        "# for i, mask in enumerate(first_sample_masks):\n",
        "#     plt.figure()\n",
        "#     plt.imshow(mask, cmap='gray')\n",
        "#     plt.title(f'Mask {i + 1} for sample {first_sample_name}')\n",
        "#     plt.axis('off')\n",
        "#     plt.show()\n",
        "\n",
        "# # Merge and display the masks\n",
        "# merged_mask = merge_masks(first_sample_masks)\n",
        "\n",
        "# plt.figure()\n",
        "# plt.imshow(merged_mask, cmap='gray')\n",
        "# plt.title(f'Merged Mask for sample {first_sample_name}')\n",
        "# plt.axis('off')\n",
        "# plt.show()"
      ],
      "metadata": {
        "id": "kv49VqJmjT0_"
      },
      "execution_count": 15,
      "outputs": []
    },
    {
      "cell_type": "markdown",
      "source": [
        "**2.3. Merge Masks Function**\n",
        "\n",
        "This function merges multiple masks by adding the values of corresponding pixels."
      ],
      "metadata": {
        "id": "-C_mfo4754kq"
      }
    },
    {
      "cell_type": "code",
      "source": [
        "def merge_masks(masks):\n",
        "    merged_mask = np.zeros_like(masks[0], dtype=np.uint8)\n",
        "    for mask in masks:\n",
        "        mask_uint8 = mask.astype(np.uint8)\n",
        "        merged_mask += mask_uint8\n",
        "    return merged_mask"
      ],
      "metadata": {
        "id": "j-pX9bvw3cT3"
      },
      "execution_count": 16,
      "outputs": []
    },
    {
      "cell_type": "markdown",
      "source": [
        "**2.4. Mask Merging**\n",
        "\n",
        "The masks are merged to create a single composite mask for each sample, which is then saved for further analysis."
      ],
      "metadata": {
        "id": "OYohouNh93l6"
      }
    },
    {
      "cell_type": "code",
      "source": [
        "import numpy as np\n",
        "from PIL import Image"
      ],
      "metadata": {
        "id": "WEwIfGdC-SyL"
      },
      "execution_count": 17,
      "outputs": []
    },
    {
      "cell_type": "code",
      "source": [
        "# This function saves the merged mask as an image file in the 'merged_masks' folder within the sample folder.\n",
        "def save_merged_mask(merged_mask, sample_folder):\n",
        "    merged_masks_dir = os.path.join(sample_folder, 'merged_masks')\n",
        "    os.makedirs(merged_masks_dir, exist_ok=True)\n",
        "    sample_name = os.path.basename(sample_folder)\n",
        "    output_path = os.path.join(merged_masks_dir, f\"{sample_name}_merged_mask.png\")\n",
        "    merged_mask_image = Image.fromarray(merged_mask)\n",
        "    merged_mask_image.save(output_path)\n",
        "    print(f\"Merged mask saved at: {output_path}\")"
      ],
      "metadata": {
        "id": "dkd9Q-sk9iNX"
      },
      "execution_count": 18,
      "outputs": []
    },
    {
      "cell_type": "code",
      "source": [
        "# This function loads the data, merges the masks for each sample, and saves the merged masks in the corresponding folders.\n",
        "def process_and_save_merged_masks(base_path):\n",
        "    images, masks, sample_names, sample_folders = load_data(base_path)\n",
        "    for sample_name, sample_masks, sample_folder in zip(sample_names, masks, sample_folders):\n",
        "        merged_mask = merge_masks(sample_masks)\n",
        "        save_merged_mask(merged_mask, sample_folder)"
      ],
      "metadata": {
        "id": "MmLXJ1819iLn"
      },
      "execution_count": 19,
      "outputs": []
    },
    {
      "cell_type": "code",
      "source": [
        "base_path = '/content/data/toy_data'\n",
        "process_and_save_merged_masks(base_path)"
      ],
      "metadata": {
        "id": "jS876nHaJxX6",
        "outputId": "0603fb63-1c68-4069-f2dc-a2cf906875e3",
        "colab": {
          "base_uri": "https://localhost:8080/"
        }
      },
      "execution_count": 20,
      "outputs": [
        {
          "output_type": "stream",
          "name": "stdout",
          "text": [
            "Merged mask saved at: /content/data/toy_data/5e263abff938acba1c0cff698261c7c00c23d7376e3ceacc3d5d4a655216b16d/merged_masks/5e263abff938acba1c0cff698261c7c00c23d7376e3ceacc3d5d4a655216b16d_merged_mask.png\n",
            "Merged mask saved at: /content/data/toy_data/20e209f6ffa120a72712e1b4c1d3e24d1339227e2936abd4bbd49a636fada423/merged_masks/20e209f6ffa120a72712e1b4c1d3e24d1339227e2936abd4bbd49a636fada423_merged_mask.png\n",
            "Merged mask saved at: /content/data/toy_data/5afb7932e9c7328f4fb1d7a8166a3699d6cdc5192b93758a75e9956f1513c5a3/merged_masks/5afb7932e9c7328f4fb1d7a8166a3699d6cdc5192b93758a75e9956f1513c5a3_merged_mask.png\n",
            "Merged mask saved at: /content/data/toy_data/7f2b154541166210f468d89bb0a7184f10e51168a181dbb8b686c14654ffa317/merged_masks/7f2b154541166210f468d89bb0a7184f10e51168a181dbb8b686c14654ffa317_merged_mask.png\n",
            "Merged mask saved at: /content/data/toy_data/b3a9f4c9035a0df7e033b18c63bfb0f0d87ff5a4d9aa8bdf417159bb733abb80/merged_masks/b3a9f4c9035a0df7e033b18c63bfb0f0d87ff5a4d9aa8bdf417159bb733abb80_merged_mask.png\n",
            "Merged mask saved at: /content/data/toy_data/958114e5f37d5e1420b410bd716753b3e874b175f2b6958ebf1ec2bdf776e41f/merged_masks/958114e5f37d5e1420b410bd716753b3e874b175f2b6958ebf1ec2bdf776e41f_merged_mask.png\n",
            "Merged mask saved at: /content/data/toy_data/da8ca06ccbb4e2a8718f7c2939ef6cc3a4088981f660842ad885a8273e740d55/merged_masks/da8ca06ccbb4e2a8718f7c2939ef6cc3a4088981f660842ad885a8273e740d55_merged_mask.png\n",
            "Merged mask saved at: /content/data/toy_data/c89ac06daef5c819309f03d6a35792d1a8a66abb8cb3414013ffe71d3dd9fe96/merged_masks/c89ac06daef5c819309f03d6a35792d1a8a66abb8cb3414013ffe71d3dd9fe96_merged_mask.png\n",
            "Merged mask saved at: /content/data/toy_data/76a372bfd3fad3ea30cb163b560e52607a8281f5b042484c3a0fc6d0aa5a7450/merged_masks/76a372bfd3fad3ea30cb163b560e52607a8281f5b042484c3a0fc6d0aa5a7450_merged_mask.png\n",
            "Merged mask saved at: /content/data/toy_data/5ba4facefc949c920d7054813a3e846b000969da2ed860148bdfd18456f59bcc/merged_masks/5ba4facefc949c920d7054813a3e846b000969da2ed860148bdfd18456f59bcc_merged_mask.png\n",
            "Merged mask saved at: /content/data/toy_data/5afcbfd0dd64392aa1e233b996d0bfb4354ee7119f30ae111c33d0fe4df11590/merged_masks/5afcbfd0dd64392aa1e233b996d0bfb4354ee7119f30ae111c33d0fe4df11590_merged_mask.png\n",
            "Merged mask saved at: /content/data/toy_data/88d5a03f8ecd459f076a06e0d5035149193bfdd727c30905de19054dcb9018ae/merged_masks/88d5a03f8ecd459f076a06e0d5035149193bfdd727c30905de19054dcb9018ae_merged_mask.png\n",
            "Merged mask saved at: /content/data/toy_data/dbbfe08a52688d0ac8de9161cbb17cb201e3991aacab8ab8a77fe0e203a69481/merged_masks/dbbfe08a52688d0ac8de9161cbb17cb201e3991aacab8ab8a77fe0e203a69481_merged_mask.png\n",
            "Merged mask saved at: /content/data/toy_data/237802ac5005f9cf782367156c46c383efd9e05088e5768ca883cbbe24abadb1/merged_masks/237802ac5005f9cf782367156c46c383efd9e05088e5768ca883cbbe24abadb1_merged_mask.png\n",
            "Merged mask saved at: /content/data/toy_data/ed4b8e0d756836be7acb2e2b7799c473b52424e3092a71d3c6d23558e500dc4c/merged_masks/ed4b8e0d756836be7acb2e2b7799c473b52424e3092a71d3c6d23558e500dc4c_merged_mask.png\n",
            "Merged mask saved at: /content/data/toy_data/1e61ecf354cb93a62a9561db87a53985fb54e001444f98112ed0fc623fad793e/merged_masks/1e61ecf354cb93a62a9561db87a53985fb54e001444f98112ed0fc623fad793e_merged_mask.png\n",
            "Merged mask saved at: /content/data/toy_data/e4ae1ceddb279bac30273ca7ac480025ce2e7287328f5272234b5bbca6d13135/merged_masks/e4ae1ceddb279bac30273ca7ac480025ce2e7287328f5272234b5bbca6d13135_merged_mask.png\n",
            "Merged mask saved at: /content/data/toy_data/c901794d1a421d52e5734500c0a2a8ca84651fb93b19cec2f411855e70cae339/merged_masks/c901794d1a421d52e5734500c0a2a8ca84651fb93b19cec2f411855e70cae339_merged_mask.png\n",
            "Merged mask saved at: /content/data/toy_data/8f27ebc74164eddfe989a98a754dcf5a9c85ef599a1321de24bcf097df1814ca/merged_masks/8f27ebc74164eddfe989a98a754dcf5a9c85ef599a1321de24bcf097df1814ca_merged_mask.png\n",
            "Merged mask saved at: /content/data/toy_data/1740b0a67ca337ea31648b57c81bcfbb841c7bb5cad185199a9f4da596d531b9/merged_masks/1740b0a67ca337ea31648b57c81bcfbb841c7bb5cad185199a9f4da596d531b9_merged_mask.png\n",
            "Merged mask saved at: /content/data/toy_data/a90401357d50e1376354ae6e5f56a2e4dff3fdb5a4e8d50316673b2b8f1f293b/merged_masks/a90401357d50e1376354ae6e5f56a2e4dff3fdb5a4e8d50316673b2b8f1f293b_merged_mask.png\n",
            "Merged mask saved at: /content/data/toy_data/ef3ef194e5657fda708ecbd3eb6530286ed2ba23c88efb9f1715298975c73548/merged_masks/ef3ef194e5657fda708ecbd3eb6530286ed2ba23c88efb9f1715298975c73548_merged_mask.png\n",
            "Merged mask saved at: /content/data/toy_data/1400420310c9094361a8a243545187f1d4c2365e081b3bb08c5fa29c7491a55b/merged_masks/1400420310c9094361a8a243545187f1d4c2365e081b3bb08c5fa29c7491a55b_merged_mask.png\n",
            "Merged mask saved at: /content/data/toy_data/c00ae67f72816daee468474026e30705003b2d3501f123579a4f0a6366b66aa1/merged_masks/c00ae67f72816daee468474026e30705003b2d3501f123579a4f0a6366b66aa1_merged_mask.png\n",
            "Merged mask saved at: /content/data/toy_data/bde3727f3a9e8b2b58f383ebc762b2157eb50cdbff23e69b025418b43967556b/merged_masks/bde3727f3a9e8b2b58f383ebc762b2157eb50cdbff23e69b025418b43967556b_merged_mask.png\n",
            "Merged mask saved at: /content/data/toy_data/4217e25defac94ff465157d53f5a24b8a14045b763d8606ec4a97d71d99ee381/merged_masks/4217e25defac94ff465157d53f5a24b8a14045b763d8606ec4a97d71d99ee381_merged_mask.png\n",
            "Merged mask saved at: /content/data/toy_data/619429303c1af7540916509fe7900cf483eba4391b06aac87ff7f66ca1ab6483/merged_masks/619429303c1af7540916509fe7900cf483eba4391b06aac87ff7f66ca1ab6483_merged_mask.png\n",
            "Merged mask saved at: /content/data/toy_data/fadeb0ab092833f27daaeb3e24223eb090f9536b83f68cde8f49df7c544f711b/merged_masks/fadeb0ab092833f27daaeb3e24223eb090f9536b83f68cde8f49df7c544f711b_merged_mask.png\n",
            "Merged mask saved at: /content/data/toy_data/33d0a9b24c25852ce35274b4b1777484ccd21f44dbe35491cc926e5948c1ce3e/merged_masks/33d0a9b24c25852ce35274b4b1777484ccd21f44dbe35491cc926e5948c1ce3e_merged_mask.png\n",
            "Merged mask saved at: /content/data/toy_data/00ae65c1c6631ae6f2be1a449902976e6eb8483bf6b0740d00530220832c6d3e/merged_masks/00ae65c1c6631ae6f2be1a449902976e6eb8483bf6b0740d00530220832c6d3e_merged_mask.png\n",
            "Merged mask saved at: /content/data/toy_data/e5f8ad0f0a43af8ca57e31e16800108abdfb44a7e962a71d246f72d2dbde42bf/merged_masks/e5f8ad0f0a43af8ca57e31e16800108abdfb44a7e962a71d246f72d2dbde42bf_merged_mask.png\n",
            "Merged mask saved at: /content/data/toy_data/9b25b8ffd5f52b6c3d235a42d51d380503d1f80b61ef0f62eeb696f5977c38e6/merged_masks/9b25b8ffd5f52b6c3d235a42d51d380503d1f80b61ef0f62eeb696f5977c38e6_merged_mask.png\n",
            "Merged mask saved at: /content/data/toy_data/75120baa6abcbfe750a4eb223b8c10ae6bc3bebdda7b00d9a78bc2472fa28625/merged_masks/75120baa6abcbfe750a4eb223b8c10ae6bc3bebdda7b00d9a78bc2472fa28625_merged_mask.png\n",
            "Merged mask saved at: /content/data/toy_data/c3bec1066aae20f48b82975e7e8b684cd67635a8baf211e4d9e3e13bc54c5d06/merged_masks/c3bec1066aae20f48b82975e7e8b684cd67635a8baf211e4d9e3e13bc54c5d06_merged_mask.png\n",
            "Merged mask saved at: /content/data/toy_data/4590d7d47f521df62f3bcb0bf74d1bca861d94ade614d8afc912d1009d607b94/merged_masks/4590d7d47f521df62f3bcb0bf74d1bca861d94ade614d8afc912d1009d607b94_merged_mask.png\n",
            "Merged mask saved at: /content/data/toy_data/2bf594e9d06f78b4b79d7ffb395497a0a91126b6b0d710d7a9cee21f5c3bd177/merged_masks/2bf594e9d06f78b4b79d7ffb395497a0a91126b6b0d710d7a9cee21f5c3bd177_merged_mask.png\n",
            "Merged mask saved at: /content/data/toy_data/4d4ebfcae4374165ea6ae7c7e18fd0ba5014c3c860ee2489c59e25ddd45e7a32/merged_masks/4d4ebfcae4374165ea6ae7c7e18fd0ba5014c3c860ee2489c59e25ddd45e7a32_merged_mask.png\n",
            "Merged mask saved at: /content/data/toy_data/2e2d29fc44444a85049b162eb359a523dec108ccd5bd75022b25547491abf0c7/merged_masks/2e2d29fc44444a85049b162eb359a523dec108ccd5bd75022b25547491abf0c7_merged_mask.png\n",
            "Merged mask saved at: /content/data/toy_data/a815a986800a95de0957116c6585deea8ffb6ee09ad00ccc687306937ac698d0/merged_masks/a815a986800a95de0957116c6585deea8ffb6ee09ad00ccc687306937ac698d0_merged_mask.png\n",
            "Merged mask saved at: /content/data/toy_data/cc88627344305b9a9b07f8bd042cb074c7a834c13de67ff4b24914ac68f07f6e/merged_masks/cc88627344305b9a9b07f8bd042cb074c7a834c13de67ff4b24914ac68f07f6e_merged_mask.png\n",
            "Merged mask saved at: /content/data/toy_data/05040e2e959c3f5632558fc9683fec88f0010026c555b499066346f67fdd0e13/merged_masks/05040e2e959c3f5632558fc9683fec88f0010026c555b499066346f67fdd0e13_merged_mask.png\n",
            "Merged mask saved at: /content/data/toy_data/92f31f591929a30e4309ab75185c96ff4314ce0a7ead2ed2c2171897ad1da0c7/merged_masks/92f31f591929a30e4309ab75185c96ff4314ce0a7ead2ed2c2171897ad1da0c7_merged_mask.png\n",
            "Merged mask saved at: /content/data/toy_data/150b0ffa318c87b31d78af0e87d60390dbcd84b5f228a8c1fb3225cbe5df3e3f/merged_masks/150b0ffa318c87b31d78af0e87d60390dbcd84b5f228a8c1fb3225cbe5df3e3f_merged_mask.png\n",
            "Merged mask saved at: /content/data/toy_data/0bf4b144167694b6846d584cf52c458f34f28fcae75328a2a096c8214e01c0d0/merged_masks/0bf4b144167694b6846d584cf52c458f34f28fcae75328a2a096c8214e01c0d0_merged_mask.png\n",
            "Merged mask saved at: /content/data/toy_data/4bf6a5ec42032bb8dbbb10d25fdc5211b2fe1ce44b6e577ef89dbda17697d819/merged_masks/4bf6a5ec42032bb8dbbb10d25fdc5211b2fe1ce44b6e577ef89dbda17697d819_merged_mask.png\n",
            "Merged mask saved at: /content/data/toy_data/08ae2741df2f5ac815c0f272a8c532b5167ee853be9b939b9b8b7fa93560868a/merged_masks/08ae2741df2f5ac815c0f272a8c532b5167ee853be9b939b9b8b7fa93560868a_merged_mask.png\n",
            "Merged mask saved at: /content/data/toy_data/37ed50eea5a1e0bade3e6753793b6caeb061cd4c2f365658c257f69cab1f6288/merged_masks/37ed50eea5a1e0bade3e6753793b6caeb061cd4c2f365658c257f69cab1f6288_merged_mask.png\n",
            "Merged mask saved at: /content/data/toy_data/e5aeb5b3577abbebe8982b5dd7d22c4257250ad3000661a42f38bf9248d291fd/merged_masks/e5aeb5b3577abbebe8982b5dd7d22c4257250ad3000661a42f38bf9248d291fd_merged_mask.png\n",
            "Merged mask saved at: /content/data/toy_data/f01a9742c43a69f087700a43893f713878e537bae8e44f76b957f09519601ad6/merged_masks/f01a9742c43a69f087700a43893f713878e537bae8e44f76b957f09519601ad6_merged_mask.png\n",
            "Merged mask saved at: /content/data/toy_data/19f0653c33982a416feed56e5d1ce6849fd83314fd19dfa1c5b23c6b66e9868a/merged_masks/19f0653c33982a416feed56e5d1ce6849fd83314fd19dfa1c5b23c6b66e9868a_merged_mask.png\n"
          ]
        }
      ]
    },
    {
      "cell_type": "code",
      "source": [
        "base_path = '/content/data/stage1_train'\n",
        "process_and_save_merged_masks(base_path)"
      ],
      "metadata": {
        "id": "7LXzEyhO9iI3",
        "outputId": "c49ed180-d6f7-422e-e18a-9765ddf4e494",
        "colab": {
          "base_uri": "https://localhost:8080/"
        }
      },
      "execution_count": null,
      "outputs": [
        {
          "output_type": "stream",
          "name": "stdout",
          "text": [
            "Merged mask saved at: /content/data/stage1_train/1ec74a26e772966df764e063f1391109a60d803cff9d15680093641ed691bf72/merged_masks/1ec74a26e772966df764e063f1391109a60d803cff9d15680093641ed691bf72_merged_mask.png\n",
            "Merged mask saved at: /content/data/stage1_train/04acab7636c4cf61d288a5962f15fa456b7bde31a021e5deedfbf51288e4001e/merged_masks/04acab7636c4cf61d288a5962f15fa456b7bde31a021e5deedfbf51288e4001e_merged_mask.png\n",
            "Merged mask saved at: /content/data/stage1_train/bf7691b0a79811fa068b7408cbce636a73f01ef9e971a95da1a2d96df73782b6/merged_masks/bf7691b0a79811fa068b7408cbce636a73f01ef9e971a95da1a2d96df73782b6_merged_mask.png\n",
            "Merged mask saved at: /content/data/stage1_train/a022908f1b7880838dbc0411e50828e64b4f5e0263afdf04295e30bb2ff58005/merged_masks/a022908f1b7880838dbc0411e50828e64b4f5e0263afdf04295e30bb2ff58005_merged_mask.png\n",
            "Merged mask saved at: /content/data/stage1_train/d256b32adda37f2301c9e46f34b7f9a36cce273256369ceb5dc2c73c3007e3c4/merged_masks/d256b32adda37f2301c9e46f34b7f9a36cce273256369ceb5dc2c73c3007e3c4_merged_mask.png\n",
            "Merged mask saved at: /content/data/stage1_train/8f6e49e474ebb649a1e99662243d51a46cc9ba0c9c8f1efe2e2b662a81b48de1/merged_masks/8f6e49e474ebb649a1e99662243d51a46cc9ba0c9c8f1efe2e2b662a81b48de1_merged_mask.png\n",
            "Merged mask saved at: /content/data/stage1_train/1d02c4b5921e916b9ddfb2f741fd6cf8d0e571ad51eb20e021c826b5fb87350e/merged_masks/1d02c4b5921e916b9ddfb2f741fd6cf8d0e571ad51eb20e021c826b5fb87350e_merged_mask.png\n",
            "Merged mask saved at: /content/data/stage1_train/b3bfd873fca7ff9b2e90f507dfdbe165bb8c153399b6ba5829aa59bae677a91d/merged_masks/b3bfd873fca7ff9b2e90f507dfdbe165bb8c153399b6ba5829aa59bae677a91d_merged_mask.png\n",
            "Merged mask saved at: /content/data/stage1_train/b0d6dfcc95e4d087d232378f860fc3ef9f95ea5a4c26d623a0be091f820a793f/merged_masks/b0d6dfcc95e4d087d232378f860fc3ef9f95ea5a4c26d623a0be091f820a793f_merged_mask.png\n",
            "Merged mask saved at: /content/data/stage1_train/5bb8508ff8ec8683fc6a8aa6bd470f6feb3af4eccdca07f51a1ebc9dad67cfb8/merged_masks/5bb8508ff8ec8683fc6a8aa6bd470f6feb3af4eccdca07f51a1ebc9dad67cfb8_merged_mask.png\n",
            "Merged mask saved at: /content/data/stage1_train/9cbc0700317361236a9fca2eb1f8f79e3a7da17b1970c179cf453921a6136001/merged_masks/9cbc0700317361236a9fca2eb1f8f79e3a7da17b1970c179cf453921a6136001_merged_mask.png\n",
            "Merged mask saved at: /content/data/stage1_train/d1b173875e2261f55014bd27bd7174b9ae1c769338c1b31b5d737e9e60175993/merged_masks/d1b173875e2261f55014bd27bd7174b9ae1c769338c1b31b5d737e9e60175993_merged_mask.png\n",
            "Merged mask saved at: /content/data/stage1_train/c96109cbebcf206f20035cbde414e43872074eee8d839ba214feed9cd36277a1/merged_masks/c96109cbebcf206f20035cbde414e43872074eee8d839ba214feed9cd36277a1_merged_mask.png\n",
            "Merged mask saved at: /content/data/stage1_train/3a22fe593d9606d4f137461dd6802fd3918f9fbf36f4a65292be69670365e2ca/merged_masks/3a22fe593d9606d4f137461dd6802fd3918f9fbf36f4a65292be69670365e2ca_merged_mask.png\n",
            "Merged mask saved at: /content/data/stage1_train/98c5ead89cd066637efd5c93a6edc55c85908eb66807471f0d246d5457341f9c/merged_masks/98c5ead89cd066637efd5c93a6edc55c85908eb66807471f0d246d5457341f9c_merged_mask.png\n",
            "Merged mask saved at: /content/data/stage1_train/97126a9791f0c1176e4563ad679a301dac27c59011f579e808bbd6e9f4cd1034/merged_masks/97126a9791f0c1176e4563ad679a301dac27c59011f579e808bbd6e9f4cd1034_merged_mask.png\n",
            "Merged mask saved at: /content/data/stage1_train/700afb1cd830a808e3c6125749612e5d23fd9f9726049a9e0c2061997514e1a7/merged_masks/700afb1cd830a808e3c6125749612e5d23fd9f9726049a9e0c2061997514e1a7_merged_mask.png\n",
            "Merged mask saved at: /content/data/stage1_train/4a424e0cb845cf6fd4d9fe62875552c7b89a4e0276cf16ebf46babe4656a794e/merged_masks/4a424e0cb845cf6fd4d9fe62875552c7b89a4e0276cf16ebf46babe4656a794e_merged_mask.png\n",
            "Merged mask saved at: /content/data/stage1_train/8e8a7a14749d0b2e48de3d10e2e80063f17b165ad921c8afc0623f08500f3259/merged_masks/8e8a7a14749d0b2e48de3d10e2e80063f17b165ad921c8afc0623f08500f3259_merged_mask.png\n",
            "Merged mask saved at: /content/data/stage1_train/f8e74d4006dd68c1dbe68df7be905835e00d8ba4916f3b18884509a15fdc0b55/merged_masks/f8e74d4006dd68c1dbe68df7be905835e00d8ba4916f3b18884509a15fdc0b55_merged_mask.png\n",
            "Merged mask saved at: /content/data/stage1_train/d1ba6089cae2f90cb7275ece10ca393c25f60ea17e5c9c3cea2399d31fd41869/merged_masks/d1ba6089cae2f90cb7275ece10ca393c25f60ea17e5c9c3cea2399d31fd41869_merged_mask.png\n",
            "Merged mask saved at: /content/data/stage1_train/0280fa8f60f6bcae0f97d93c28f60be194f9309ff610dc5845e60455b0f87c21/merged_masks/0280fa8f60f6bcae0f97d93c28f60be194f9309ff610dc5845e60455b0f87c21_merged_mask.png\n",
            "Merged mask saved at: /content/data/stage1_train/b6c9b58de0388891221b8f7a83cbf0b8f8379b51b5c9a127bf43a4fc49f1cc48/merged_masks/b6c9b58de0388891221b8f7a83cbf0b8f8379b51b5c9a127bf43a4fc49f1cc48_merged_mask.png\n",
            "Merged mask saved at: /content/data/stage1_train/d2ce593bddf9998ce3b76328c0151d0ba4b644c293aca7f6254e521c448b305f/merged_masks/d2ce593bddf9998ce3b76328c0151d0ba4b644c293aca7f6254e521c448b305f_merged_mask.png\n",
            "Merged mask saved at: /content/data/stage1_train/ae9f76b5360df3f60f3cdd389652b96e823080bb830dd8c79e7f1e597d51bc1c/merged_masks/ae9f76b5360df3f60f3cdd389652b96e823080bb830dd8c79e7f1e597d51bc1c_merged_mask.png\n",
            "Merged mask saved at: /content/data/stage1_train/dad607a203483439fcbc2acecd0a39fb5e5a94a32a94348f5c802c79cfeb6e7c/merged_masks/dad607a203483439fcbc2acecd0a39fb5e5a94a32a94348f5c802c79cfeb6e7c_merged_mask.png\n",
            "Merged mask saved at: /content/data/stage1_train/10328b822b836e67b547b4144e0b7eb43747c114ce4cacd8b540648892945b00/merged_masks/10328b822b836e67b547b4144e0b7eb43747c114ce4cacd8b540648892945b00_merged_mask.png\n",
            "Merged mask saved at: /content/data/stage1_train/00071198d059ba7f5914a526d124d28e6d010c92466da21d4a04cd5413362552/merged_masks/00071198d059ba7f5914a526d124d28e6d010c92466da21d4a04cd5413362552_merged_mask.png\n",
            "Merged mask saved at: /content/data/stage1_train/5d75a63972ef643efd7c42f20668b167f2af43635d6263962d84e62e7609ab51/merged_masks/5d75a63972ef643efd7c42f20668b167f2af43635d6263962d84e62e7609ab51_merged_mask.png\n",
            "Merged mask saved at: /content/data/stage1_train/947c0d94c8213ac7aaa41c4efc95d854246550298259cf1bb489654d0e969050/merged_masks/947c0d94c8213ac7aaa41c4efc95d854246550298259cf1bb489654d0e969050_merged_mask.png\n",
            "Merged mask saved at: /content/data/stage1_train/66236902b874b7e4b3891db63a69f6d56f6edcec6aca7ba3c6871d73e7b4c34f/merged_masks/66236902b874b7e4b3891db63a69f6d56f6edcec6aca7ba3c6871d73e7b4c34f_merged_mask.png\n",
            "Merged mask saved at: /content/data/stage1_train/c304a1fdf3bca2f4b4580d2cac59942e2224a7678001bf5ed9d9852f57708932/merged_masks/c304a1fdf3bca2f4b4580d2cac59942e2224a7678001bf5ed9d9852f57708932_merged_mask.png\n",
            "Merged mask saved at: /content/data/stage1_train/bb61fc17daf8bdd4e16fdcf50137a8d7762bec486ede9249d92e511fcb693676/merged_masks/bb61fc17daf8bdd4e16fdcf50137a8d7762bec486ede9249d92e511fcb693676_merged_mask.png\n",
            "Merged mask saved at: /content/data/stage1_train/bf566e75d5cb0196de4139573f8bbbda0fa38d5048edf7267fe8793dcc094a66/merged_masks/bf566e75d5cb0196de4139573f8bbbda0fa38d5048edf7267fe8793dcc094a66_merged_mask.png\n",
            "Merged mask saved at: /content/data/stage1_train/dec1764c00e8b3c4bf1fc7a2fda341279218ff894186b0c2664128348683c757/merged_masks/dec1764c00e8b3c4bf1fc7a2fda341279218ff894186b0c2664128348683c757_merged_mask.png\n",
            "Merged mask saved at: /content/data/stage1_train/072ff14c1d3245bf49ad6f1d4c71cdb18f1cb78a8e06fd2f53767e28f727cb81/merged_masks/072ff14c1d3245bf49ad6f1d4c71cdb18f1cb78a8e06fd2f53767e28f727cb81_merged_mask.png\n",
            "Merged mask saved at: /content/data/stage1_train/0402a81e75262469925ea893b6706183832e85324f7b1e08e634129f5d522cdd/merged_masks/0402a81e75262469925ea893b6706183832e85324f7b1e08e634129f5d522cdd_merged_mask.png\n",
            "Merged mask saved at: /content/data/stage1_train/431b9b0c520a28375b5a0c18d0a5039dd62cbca7c4a0bcc25af3b763d4a81bec/merged_masks/431b9b0c520a28375b5a0c18d0a5039dd62cbca7c4a0bcc25af3b763d4a81bec_merged_mask.png\n",
            "Merged mask saved at: /content/data/stage1_train/fa751ff3a6332c95cb5cb1d28563553914295e9e7d35c4b6bd267241e8a0787c/merged_masks/fa751ff3a6332c95cb5cb1d28563553914295e9e7d35c4b6bd267241e8a0787c_merged_mask.png\n",
            "Merged mask saved at: /content/data/stage1_train/81e2dd950e6df28a4fe202a40afa98b202981f65a5ca05b389749290eb87c883/merged_masks/81e2dd950e6df28a4fe202a40afa98b202981f65a5ca05b389749290eb87c883_merged_mask.png\n",
            "Merged mask saved at: /content/data/stage1_train/ed8c31b001a0c23c33402f94a5ee6b0209e0c6419eb52d5d02255513e3a672fc/merged_masks/ed8c31b001a0c23c33402f94a5ee6b0209e0c6419eb52d5d02255513e3a672fc_merged_mask.png\n",
            "Merged mask saved at: /content/data/stage1_train/ea00f5a91ca75e745d675201cc62d7db266f8e2787033e15a7dd5f1cc5c0ad72/merged_masks/ea00f5a91ca75e745d675201cc62d7db266f8e2787033e15a7dd5f1cc5c0ad72_merged_mask.png\n",
            "Merged mask saved at: /content/data/stage1_train/1b518cd2ea84a389c267662840f3d902d0129fab27696215db2488de6d4316c5/merged_masks/1b518cd2ea84a389c267662840f3d902d0129fab27696215db2488de6d4316c5_merged_mask.png\n",
            "Merged mask saved at: /content/data/stage1_train/673baf65ae5c571d6be452eb41e79ef3fc2eb3fd238e621c6b7621763b429989/merged_masks/673baf65ae5c571d6be452eb41e79ef3fc2eb3fd238e621c6b7621763b429989_merged_mask.png\n",
            "Merged mask saved at: /content/data/stage1_train/b1e3aeb0c56261c17eb71c747d116057b8da7e8c8a6845bdc01b2b3ee2299229/merged_masks/b1e3aeb0c56261c17eb71c747d116057b8da7e8c8a6845bdc01b2b3ee2299229_merged_mask.png\n",
            "Merged mask saved at: /content/data/stage1_train/1a11552569160f0b1ea10bedbd628ce6c14f29edec5092034c2309c556df833e/merged_masks/1a11552569160f0b1ea10bedbd628ce6c14f29edec5092034c2309c556df833e_merged_mask.png\n",
            "Merged mask saved at: /content/data/stage1_train/4e1c889de3764694d0dea41e5682fedb265eaf2cdbe72ff6c1f518747d709464/merged_masks/4e1c889de3764694d0dea41e5682fedb265eaf2cdbe72ff6c1f518747d709464_merged_mask.png\n",
            "Merged mask saved at: /content/data/stage1_train/813f41ef376c3cbcc9d6e2ce6a51c2ee068226d1c1b13404eb238dcfdd447c97/merged_masks/813f41ef376c3cbcc9d6e2ce6a51c2ee068226d1c1b13404eb238dcfdd447c97_merged_mask.png\n",
            "Merged mask saved at: /content/data/stage1_train/77ceeb87f560775ac150b8b9b09684ed3e806d0af6f26cce8f10c5fc280f5df2/merged_masks/77ceeb87f560775ac150b8b9b09684ed3e806d0af6f26cce8f10c5fc280f5df2_merged_mask.png\n",
            "Merged mask saved at: /content/data/stage1_train/f7eaaf420b5204c4a42577428b7cd897a53ef07b759ccbba3ed30a3548ca5605/merged_masks/f7eaaf420b5204c4a42577428b7cd897a53ef07b759ccbba3ed30a3548ca5605_merged_mask.png\n",
            "Merged mask saved at: /content/data/stage1_train/76c44d1addac92a65f1331f2d93f4e3b130bd4e538a6e5239c3ac1f4c403608a/merged_masks/76c44d1addac92a65f1331f2d93f4e3b130bd4e538a6e5239c3ac1f4c403608a_merged_mask.png\n",
            "Merged mask saved at: /content/data/stage1_train/44ab6a09eedee848b072ea3acd0f4e781f9c43b8d4e3d62598e1024584bf0b01/merged_masks/44ab6a09eedee848b072ea3acd0f4e781f9c43b8d4e3d62598e1024584bf0b01_merged_mask.png\n",
            "Merged mask saved at: /content/data/stage1_train/5ba4facefc949c920d7054813a3e846b000969da2ed860148bdfd18456f59bcc/merged_masks/5ba4facefc949c920d7054813a3e846b000969da2ed860148bdfd18456f59bcc_merged_mask.png\n",
            "Merged mask saved at: /content/data/stage1_train/65c8527c16a016191118e8adc3d307fe3a73d37cbe05597a95aebd75daf8d051/merged_masks/65c8527c16a016191118e8adc3d307fe3a73d37cbe05597a95aebd75daf8d051_merged_mask.png\n",
            "Merged mask saved at: /content/data/stage1_train/ff3e512b5fb860e5855d0c05b6cf5a6bcc7792e4be1f0bdab5a00af0e18435c0/merged_masks/ff3e512b5fb860e5855d0c05b6cf5a6bcc7792e4be1f0bdab5a00af0e18435c0_merged_mask.png\n",
            "Merged mask saved at: /content/data/stage1_train/c75139ef0546d2240b37afb3219eb74a06b7977818697d5c3138796472483af3/merged_masks/c75139ef0546d2240b37afb3219eb74a06b7977818697d5c3138796472483af3_merged_mask.png\n",
            "Merged mask saved at: /content/data/stage1_train/35ca5f142a7d7a3e4b59f1a767a31f87cb00d66348226bc64094ee3d1e46531c/merged_masks/35ca5f142a7d7a3e4b59f1a767a31f87cb00d66348226bc64094ee3d1e46531c_merged_mask.png\n",
            "Merged mask saved at: /content/data/stage1_train/adc315bd40d699fd4e4effbcce81cd7162851007f485d754ad3b0472f73a86df/merged_masks/adc315bd40d699fd4e4effbcce81cd7162851007f485d754ad3b0472f73a86df_merged_mask.png\n",
            "Merged mask saved at: /content/data/stage1_train/08275a5b1c2dfcd739e8c4888a5ee2d29f83eccfa75185404ced1dc0866ea992/merged_masks/08275a5b1c2dfcd739e8c4888a5ee2d29f83eccfa75185404ced1dc0866ea992_merged_mask.png\n",
            "Merged mask saved at: /content/data/stage1_train/9586e48a9a4353f11898a6a4b7475a91574e8af82e99c4b7a5e1f1b18f345f7a/merged_masks/9586e48a9a4353f11898a6a4b7475a91574e8af82e99c4b7a5e1f1b18f345f7a_merged_mask.png\n",
            "Merged mask saved at: /content/data/stage1_train/d4d6c683f249d82518431603bf0206d05f2114ac871a99ffade0f5f61cf167e1/merged_masks/d4d6c683f249d82518431603bf0206d05f2114ac871a99ffade0f5f61cf167e1_merged_mask.png\n",
            "Merged mask saved at: /content/data/stage1_train/573e1480b500c395f8d3f1800e1998bf553af0d3d43039333d33cf37d08f64e5/merged_masks/573e1480b500c395f8d3f1800e1998bf553af0d3d43039333d33cf37d08f64e5_merged_mask.png\n",
            "Merged mask saved at: /content/data/stage1_train/139946af9e2c7ef4f0298e622b831dbef5e5c0cd088eb5bc3382f8df9355443d/merged_masks/139946af9e2c7ef4f0298e622b831dbef5e5c0cd088eb5bc3382f8df9355443d_merged_mask.png\n",
            "Merged mask saved at: /content/data/stage1_train/337b6eed0726f07531cd467cd62b6676c31a8c9e716bdbc49433986c022252cf/merged_masks/337b6eed0726f07531cd467cd62b6676c31a8c9e716bdbc49433986c022252cf_merged_mask.png\n",
            "Merged mask saved at: /content/data/stage1_train/58c593bcb98386e7fd42a1d34e291db93477624b164e83ab2afa3caa90d1d921/merged_masks/58c593bcb98386e7fd42a1d34e291db93477624b164e83ab2afa3caa90d1d921_merged_mask.png\n",
            "Merged mask saved at: /content/data/stage1_train/cab4875269f44a701c5e58190a1d2f6fcb577ea79d842522dcab20ccb39b7ad2/merged_masks/cab4875269f44a701c5e58190a1d2f6fcb577ea79d842522dcab20ccb39b7ad2_merged_mask.png\n",
            "Merged mask saved at: /content/data/stage1_train/8fdc34509a0c3721f7b5e235c8a93e1f553343aa17ad103a1e89e3509a3e1570/merged_masks/8fdc34509a0c3721f7b5e235c8a93e1f553343aa17ad103a1e89e3509a3e1570_merged_mask.png\n",
            "Merged mask saved at: /content/data/stage1_train/f01a9742c43a69f087700a43893f713878e537bae8e44f76b957f09519601ad6/merged_masks/f01a9742c43a69f087700a43893f713878e537bae8e44f76b957f09519601ad6_merged_mask.png\n",
            "Merged mask saved at: /content/data/stage1_train/2cfa61bef6542dd359717e9131ce6f076c415a3bd7f48cb093b0d7f3b2ca785d/merged_masks/2cfa61bef6542dd359717e9131ce6f076c415a3bd7f48cb093b0d7f3b2ca785d_merged_mask.png\n",
            "Merged mask saved at: /content/data/stage1_train/6f8197baf738986a1ec3b6ba92b567863d897a739376b7cec5599ad6cecafdfc/merged_masks/6f8197baf738986a1ec3b6ba92b567863d897a739376b7cec5599ad6cecafdfc_merged_mask.png\n",
            "Merged mask saved at: /content/data/stage1_train/a3a1b8f9794ef589b71faa9f35fd97ad6761c4488718fbcf766e95e31afa8606/merged_masks/a3a1b8f9794ef589b71faa9f35fd97ad6761c4488718fbcf766e95e31afa8606_merged_mask.png\n",
            "Merged mask saved at: /content/data/stage1_train/58406ed8ef944831c413c3424dc2b07e59aef13eb1ff16acbb3402b38b5de0bd/merged_masks/58406ed8ef944831c413c3424dc2b07e59aef13eb1ff16acbb3402b38b5de0bd_merged_mask.png\n",
            "Merged mask saved at: /content/data/stage1_train/bbfc4aab5645637680fa0ef00925eea733b93099f1944c0aea09b78af1d4eef2/merged_masks/bbfc4aab5645637680fa0ef00925eea733b93099f1944c0aea09b78af1d4eef2_merged_mask.png\n",
            "Merged mask saved at: /content/data/stage1_train/237802ac5005f9cf782367156c46c383efd9e05088e5768ca883cbbe24abadb1/merged_masks/237802ac5005f9cf782367156c46c383efd9e05088e5768ca883cbbe24abadb1_merged_mask.png\n",
            "Merged mask saved at: /content/data/stage1_train/ec486143ecfec847c22cd8cbc207d85312bcf38e61c9b9a805e0d12add62da8d/merged_masks/ec486143ecfec847c22cd8cbc207d85312bcf38e61c9b9a805e0d12add62da8d_merged_mask.png\n",
            "Merged mask saved at: /content/data/stage1_train/60cb718759bff13f81c4055a7679e81326f78b6a193a2d856546097c949b20ff/merged_masks/60cb718759bff13f81c4055a7679e81326f78b6a193a2d856546097c949b20ff_merged_mask.png\n",
            "Merged mask saved at: /content/data/stage1_train/0bda515e370294ed94efd36bd53782288acacb040c171df2ed97fd691fc9d8fe/merged_masks/0bda515e370294ed94efd36bd53782288acacb040c171df2ed97fd691fc9d8fe_merged_mask.png\n",
            "Merged mask saved at: /content/data/stage1_train/bff985591dd5d6303018a6e9a3dcfb336771a414ad4605c24ce1c1155fc86a96/merged_masks/bff985591dd5d6303018a6e9a3dcfb336771a414ad4605c24ce1c1155fc86a96_merged_mask.png\n",
            "Merged mask saved at: /content/data/stage1_train/547ef286ee5f4e5dce533e982e6992ada67b7d727fdd3cfa6576f24c631a7ae6/merged_masks/547ef286ee5f4e5dce533e982e6992ada67b7d727fdd3cfa6576f24c631a7ae6_merged_mask.png\n",
            "Merged mask saved at: /content/data/stage1_train/df53d0b6c2c4e45d759b2c474011e2b2b32552cd100ca4b22388ab9ca1750ee2/merged_masks/df53d0b6c2c4e45d759b2c474011e2b2b32552cd100ca4b22388ab9ca1750ee2_merged_mask.png\n",
            "Merged mask saved at: /content/data/stage1_train/e321cfa987e77c21373a0f8b1236c83d6636306949a82a7f5b07fc0838e7777f/merged_masks/e321cfa987e77c21373a0f8b1236c83d6636306949a82a7f5b07fc0838e7777f_merged_mask.png\n",
            "Merged mask saved at: /content/data/stage1_train/0b2e702f90aee4fff2bc6e4326308d50cf04701082e718d4f831c8959fbcda93/merged_masks/0b2e702f90aee4fff2bc6e4326308d50cf04701082e718d4f831c8959fbcda93_merged_mask.png\n",
            "Merged mask saved at: /content/data/stage1_train/40946065f7e4b6038599fbfd419f2a67e7635b6f89db3ed6c0d67c8801521af1/merged_masks/40946065f7e4b6038599fbfd419f2a67e7635b6f89db3ed6c0d67c8801521af1_merged_mask.png\n",
            "Merged mask saved at: /content/data/stage1_train/d0f2a00d3155c243048bc48944aef93fb08e2258d1fa5f9ccadd9140082bc22f/merged_masks/d0f2a00d3155c243048bc48944aef93fb08e2258d1fa5f9ccadd9140082bc22f_merged_mask.png\n",
            "Merged mask saved at: /content/data/stage1_train/2e172afb1f43b359f1f0208da9386aefe97c0c1afe202abfe6ec09cdca820990/merged_masks/2e172afb1f43b359f1f0208da9386aefe97c0c1afe202abfe6ec09cdca820990_merged_mask.png\n",
            "Merged mask saved at: /content/data/stage1_train/e5f8ad0f0a43af8ca57e31e16800108abdfb44a7e962a71d246f72d2dbde42bf/merged_masks/e5f8ad0f0a43af8ca57e31e16800108abdfb44a7e962a71d246f72d2dbde42bf_merged_mask.png\n",
            "Merged mask saved at: /content/data/stage1_train/564fa390d9a9c26f986bf860d9091cbd84244bc1c8e3c9369f2f2e5b5fd99b92/merged_masks/564fa390d9a9c26f986bf860d9091cbd84244bc1c8e3c9369f2f2e5b5fd99b92_merged_mask.png\n",
            "Merged mask saved at: /content/data/stage1_train/af576e8ec3a8d0b57eb6a311299e9e4fd2047970d3dd9d6f52e54ea6a91109da/merged_masks/af576e8ec3a8d0b57eb6a311299e9e4fd2047970d3dd9d6f52e54ea6a91109da_merged_mask.png\n",
            "Merged mask saved at: /content/data/stage1_train/abc781c8721fe04b877a7e324494eb75aa5bce94950a0e4e4d7d6ffc9e74da62/merged_masks/abc781c8721fe04b877a7e324494eb75aa5bce94950a0e4e4d7d6ffc9e74da62_merged_mask.png\n",
            "Merged mask saved at: /content/data/stage1_train/295ac4ecf2ee0211c065cf5dbb93b1eb8e61347153447209cd110e9c3e355e81/merged_masks/295ac4ecf2ee0211c065cf5dbb93b1eb8e61347153447209cd110e9c3e355e81_merged_mask.png\n",
            "Merged mask saved at: /content/data/stage1_train/e4fc936ba57a936aaa5941ccc70946ab18fcebcb6e8d85a097c584aff9ca4d88/merged_masks/e4fc936ba57a936aaa5941ccc70946ab18fcebcb6e8d85a097c584aff9ca4d88_merged_mask.png\n",
            "Merged mask saved at: /content/data/stage1_train/b61d3fb0d0ebbee018346e0adeff9e9178f33aa95262779b3c196f93b4ace895/merged_masks/b61d3fb0d0ebbee018346e0adeff9e9178f33aa95262779b3c196f93b4ace895_merged_mask.png\n",
            "Merged mask saved at: /content/data/stage1_train/e49fc2b4f1f39d481a6525225ab3f688be5c87f56884456ad54c953315efae83/merged_masks/e49fc2b4f1f39d481a6525225ab3f688be5c87f56884456ad54c953315efae83_merged_mask.png\n",
            "Merged mask saved at: /content/data/stage1_train/7f4d7b549d0f1a110191e2aded872943d85892bc30667f19fe9de97a5370b08e/merged_masks/7f4d7b549d0f1a110191e2aded872943d85892bc30667f19fe9de97a5370b08e_merged_mask.png\n",
            "Merged mask saved at: /content/data/stage1_train/33d0a9b24c25852ce35274b4b1777484ccd21f44dbe35491cc926e5948c1ce3e/merged_masks/33d0a9b24c25852ce35274b4b1777484ccd21f44dbe35491cc926e5948c1ce3e_merged_mask.png\n",
            "Merged mask saved at: /content/data/stage1_train/5bda829acd824821bc1f3f6573cf065d364653d5322f033a4af943f7a6170566/merged_masks/5bda829acd824821bc1f3f6573cf065d364653d5322f033a4af943f7a6170566_merged_mask.png\n",
            "Merged mask saved at: /content/data/stage1_train/bde3727f3a9e8b2b58f383ebc762b2157eb50cdbff23e69b025418b43967556b/merged_masks/bde3727f3a9e8b2b58f383ebc762b2157eb50cdbff23e69b025418b43967556b_merged_mask.png\n",
            "Merged mask saved at: /content/data/stage1_train/e5a7b8a9924b26b3abf039255a8a3bb00258f4966f68ff3349560b4350af9367/merged_masks/e5a7b8a9924b26b3abf039255a8a3bb00258f4966f68ff3349560b4350af9367_merged_mask.png\n",
            "Merged mask saved at: /content/data/stage1_train/29dd28df98ee51b4ab1a87f5509538ecc3e4697fc57c40c6165658f61b0d8e3a/merged_masks/29dd28df98ee51b4ab1a87f5509538ecc3e4697fc57c40c6165658f61b0d8e3a_merged_mask.png\n",
            "Merged mask saved at: /content/data/stage1_train/5c6eb9a47852754d4e45eceb9a696c64c7cfe304afc5ea491cdfef11d55c17f3/merged_masks/5c6eb9a47852754d4e45eceb9a696c64c7cfe304afc5ea491cdfef11d55c17f3_merged_mask.png\n",
            "Merged mask saved at: /content/data/stage1_train/c6de542205b891eed5c40e6d8ae3d03a6ca39b26dc445b4dbc64340d4d64dd2d/merged_masks/c6de542205b891eed5c40e6d8ae3d03a6ca39b26dc445b4dbc64340d4d64dd2d_merged_mask.png\n",
            "Merged mask saved at: /content/data/stage1_train/5ddbfba2519484316e4b7ccabfa605e6e6fd96c3d87ac8cdfd2c134571a15311/merged_masks/5ddbfba2519484316e4b7ccabfa605e6e6fd96c3d87ac8cdfd2c134571a15311_merged_mask.png\n",
            "Merged mask saved at: /content/data/stage1_train/c169a7782a69ea2f38f64d2739de189e88adbcfd4a829721def8c89ecabe8b71/merged_masks/c169a7782a69ea2f38f64d2739de189e88adbcfd4a829721def8c89ecabe8b71_merged_mask.png\n",
            "Merged mask saved at: /content/data/stage1_train/f67e72b7fe0b1e3648ea745ffd395c80705c89b0c0c48227991fe6f5815b2a18/merged_masks/f67e72b7fe0b1e3648ea745ffd395c80705c89b0c0c48227991fe6f5815b2a18_merged_mask.png\n",
            "Merged mask saved at: /content/data/stage1_train/9774c82396327929fea05e40ae153cabf0107178b2ae3e40a5709b409793887e/merged_masks/9774c82396327929fea05e40ae153cabf0107178b2ae3e40a5709b409793887e_merged_mask.png\n",
            "Merged mask saved at: /content/data/stage1_train/751f421d322940d6efe3bd570a66ecda16d08a1b90bc32a6d7ae1af89856fd49/merged_masks/751f421d322940d6efe3bd570a66ecda16d08a1b90bc32a6d7ae1af89856fd49_merged_mask.png\n",
            "Merged mask saved at: /content/data/stage1_train/876423522bdec1602917b94163a21e05fc7b692045219b7bc96cdaf638c33c25/merged_masks/876423522bdec1602917b94163a21e05fc7b692045219b7bc96cdaf638c33c25_merged_mask.png\n",
            "Merged mask saved at: /content/data/stage1_train/9620c33d8ef2772dbc5bd152429f507bd7fafb27e12109003292b671e556b089/merged_masks/9620c33d8ef2772dbc5bd152429f507bd7fafb27e12109003292b671e556b089_merged_mask.png\n",
            "Merged mask saved at: /content/data/stage1_train/7f2b154541166210f468d89bb0a7184f10e51168a181dbb8b686c14654ffa317/merged_masks/7f2b154541166210f468d89bb0a7184f10e51168a181dbb8b686c14654ffa317_merged_mask.png\n",
            "Merged mask saved at: /content/data/stage1_train/245b995878370ef4ea977568b2b67f93d4ecaa9308761b9d3e148e0803780183/merged_masks/245b995878370ef4ea977568b2b67f93d4ecaa9308761b9d3e148e0803780183_merged_mask.png\n",
            "Merged mask saved at: /content/data/stage1_train/815524d88283ba10ad597b87aa1967671db776df8004a0c4291b67fc2624c22a/merged_masks/815524d88283ba10ad597b87aa1967671db776df8004a0c4291b67fc2624c22a_merged_mask.png\n",
            "Merged mask saved at: /content/data/stage1_train/54fe2d3416951cbc48f8718624c86a7ae58b6022a7fa75591b13f625cf53658b/merged_masks/54fe2d3416951cbc48f8718624c86a7ae58b6022a7fa75591b13f625cf53658b_merged_mask.png\n",
            "Merged mask saved at: /content/data/stage1_train/3a3fee427e6ef7dfd0d82681e2bcee2d054f80287aea7dfa3fa4447666f929b9/merged_masks/3a3fee427e6ef7dfd0d82681e2bcee2d054f80287aea7dfa3fa4447666f929b9_merged_mask.png\n",
            "Merged mask saved at: /content/data/stage1_train/9f073db4acd7e634fd578af50d4e77218742f63a4d423a99808d6fd7cb0d3cdb/merged_masks/9f073db4acd7e634fd578af50d4e77218742f63a4d423a99808d6fd7cb0d3cdb_merged_mask.png\n",
            "Merged mask saved at: /content/data/stage1_train/b6d50fa22380ae3a7e8c52c5bc44a254e7b2596fd8927980dbe2c160cb5689b5/merged_masks/b6d50fa22380ae3a7e8c52c5bc44a254e7b2596fd8927980dbe2c160cb5689b5_merged_mask.png\n",
            "Merged mask saved at: /content/data/stage1_train/8d9b4205ddb10fa49a2973b4f3a2dc6923407ae015081e1a52c4b4c2fe8faa53/merged_masks/8d9b4205ddb10fa49a2973b4f3a2dc6923407ae015081e1a52c4b4c2fe8faa53_merged_mask.png\n",
            "Merged mask saved at: /content/data/stage1_train/dd54adb80393de7769b9853c0aa2ee9b240905d0e99c59d4ccd99401f327aa05/merged_masks/dd54adb80393de7769b9853c0aa2ee9b240905d0e99c59d4ccd99401f327aa05_merged_mask.png\n",
            "Merged mask saved at: /content/data/stage1_train/df9a4212ecb67bb4e58eba62f293b91f9d6f1dde73e38fa891c75661d419fc97/merged_masks/df9a4212ecb67bb4e58eba62f293b91f9d6f1dde73e38fa891c75661d419fc97_merged_mask.png\n",
            "Merged mask saved at: /content/data/stage1_train/a4c44fc5f5bf213e2be6091ccaed49d8bf039d78f6fbd9c4d7b7428cfcb2eda4/merged_masks/a4c44fc5f5bf213e2be6091ccaed49d8bf039d78f6fbd9c4d7b7428cfcb2eda4_merged_mask.png\n",
            "Merged mask saved at: /content/data/stage1_train/5f9d29d6388c700f35a3c29fa1b1ce0c1cba6667d05fdb70bd1e89004dcf71ed/merged_masks/5f9d29d6388c700f35a3c29fa1b1ce0c1cba6667d05fdb70bd1e89004dcf71ed_merged_mask.png\n",
            "Merged mask saved at: /content/data/stage1_train/2dec81a678ddcac2b110acffe82427d857695180bd841e3f9736a554acf832af/merged_masks/2dec81a678ddcac2b110acffe82427d857695180bd841e3f9736a554acf832af_merged_mask.png\n",
            "Merged mask saved at: /content/data/stage1_train/45f059cf21d85ecfce0eb93260516f1e2443d210e9a52f9ae2271d604aa3fcc5/merged_masks/45f059cf21d85ecfce0eb93260516f1e2443d210e9a52f9ae2271d604aa3fcc5_merged_mask.png\n",
            "Merged mask saved at: /content/data/stage1_train/06c779330d6d3447be21df2b9f05d1088f5b3b50dc48724fc130b1fd2896a68c/merged_masks/06c779330d6d3447be21df2b9f05d1088f5b3b50dc48724fc130b1fd2896a68c_merged_mask.png\n",
            "Merged mask saved at: /content/data/stage1_train/db45946a4412a2137674ec075b6892ccd682b77826aba618210569bbc65cf2b0/merged_masks/db45946a4412a2137674ec075b6892ccd682b77826aba618210569bbc65cf2b0_merged_mask.png\n",
            "Merged mask saved at: /content/data/stage1_train/f952cc65376009cfad8249e53b9b2c0daaa3553e897096337d143c625c2df886/merged_masks/f952cc65376009cfad8249e53b9b2c0daaa3553e897096337d143c625c2df886_merged_mask.png\n",
            "Merged mask saved at: /content/data/stage1_train/309ba76b12ecb5ce28b99f3445b2b5dc54c0564c3c0e24c17e4c89a94a5d0535/merged_masks/309ba76b12ecb5ce28b99f3445b2b5dc54c0564c3c0e24c17e4c89a94a5d0535_merged_mask.png\n",
            "Merged mask saved at: /content/data/stage1_train/b4d902d42c93dea77b541456f8d905f35eeb24fc3a5b0b15b5678d78e0aabe0c/merged_masks/b4d902d42c93dea77b541456f8d905f35eeb24fc3a5b0b15b5678d78e0aabe0c_merged_mask.png\n",
            "Merged mask saved at: /content/data/stage1_train/53ad09e4348767bece0165884bf40c10b72ae18444e3f414a850442f02385efc/merged_masks/53ad09e4348767bece0165884bf40c10b72ae18444e3f414a850442f02385efc_merged_mask.png\n",
            "Merged mask saved at: /content/data/stage1_train/79dfcbc9361edd3a1ffe81a5bdaa22a197ad1341f3fa64b86a646c2607d6b324/merged_masks/79dfcbc9361edd3a1ffe81a5bdaa22a197ad1341f3fa64b86a646c2607d6b324_merged_mask.png\n",
            "Merged mask saved at: /content/data/stage1_train/cbff60361ded0570e5d50429a1aa51d81471819bc9b38359f03cfef76de0038c/merged_masks/cbff60361ded0570e5d50429a1aa51d81471819bc9b38359f03cfef76de0038c_merged_mask.png\n",
            "Merged mask saved at: /content/data/stage1_train/33618678c167c5e07be02c49d0c43bcd90493ba5d83110a631409a4d3ccc1e51/merged_masks/33618678c167c5e07be02c49d0c43bcd90493ba5d83110a631409a4d3ccc1e51_merged_mask.png\n",
            "Merged mask saved at: /content/data/stage1_train/1609b1b8480ee52652a644403b3f7d5511410a016750aa3b9a4c8ddb3e893e8e/merged_masks/1609b1b8480ee52652a644403b3f7d5511410a016750aa3b9a4c8ddb3e893e8e_merged_mask.png\n",
            "Merged mask saved at: /content/data/stage1_train/3ca8181367fc1258a418f7bf5044533c83e02a59c1a96def043295c429c297a8/merged_masks/3ca8181367fc1258a418f7bf5044533c83e02a59c1a96def043295c429c297a8_merged_mask.png\n",
            "Merged mask saved at: /content/data/stage1_train/4c465a54e329ec7b0f4bc5f6acdfd3192707d6c0fbdf557339485581c5a6b3c1/merged_masks/4c465a54e329ec7b0f4bc5f6acdfd3192707d6c0fbdf557339485581c5a6b3c1_merged_mask.png\n",
            "Merged mask saved at: /content/data/stage1_train/3ab9cab6212fabd723a2c5a1949c2ded19980398b56e6080978e796f45cbbc90/merged_masks/3ab9cab6212fabd723a2c5a1949c2ded19980398b56e6080978e796f45cbbc90_merged_mask.png\n",
            "Merged mask saved at: /content/data/stage1_train/8de0b1a2e8f614af29fe5fafeaa5bdf55e6b3e65edf36355f19b707f7649ce2b/merged_masks/8de0b1a2e8f614af29fe5fafeaa5bdf55e6b3e65edf36355f19b707f7649ce2b_merged_mask.png\n",
            "Merged mask saved at: /content/data/stage1_train/07761fa39f60dc37022dbbe8d8694595fd5b77ceb2af2a2724768c8e524d6770/merged_masks/07761fa39f60dc37022dbbe8d8694595fd5b77ceb2af2a2724768c8e524d6770_merged_mask.png\n",
            "Merged mask saved at: /content/data/stage1_train/df5cdd0ebe1bdf8dc870bc294b8f08961e083bc7f9be69e268454aa9091808b9/merged_masks/df5cdd0ebe1bdf8dc870bc294b8f08961e083bc7f9be69e268454aa9091808b9_merged_mask.png\n",
            "Merged mask saved at: /content/data/stage1_train/af6b6173c59450bc76b2cc461cf233921fbfdb6feb8dd6da03a0d44193221fd0/merged_masks/af6b6173c59450bc76b2cc461cf233921fbfdb6feb8dd6da03a0d44193221fd0_merged_mask.png\n",
            "Merged mask saved at: /content/data/stage1_train/2ad489c11ed8b77a9d8a2339ac64ffc38e79281c03a2507db4688fd3186c0fe5/merged_masks/2ad489c11ed8b77a9d8a2339ac64ffc38e79281c03a2507db4688fd3186c0fe5_merged_mask.png\n",
            "Merged mask saved at: /content/data/stage1_train/2e2d29fc44444a85049b162eb359a523dec108ccd5bd75022b25547491abf0c7/merged_masks/2e2d29fc44444a85049b162eb359a523dec108ccd5bd75022b25547491abf0c7_merged_mask.png\n",
            "Merged mask saved at: /content/data/stage1_train/bfe8ef193a68a0a86a5e4ae1ddc27bda3f9ffe170494395be4030ba72737c565/merged_masks/bfe8ef193a68a0a86a5e4ae1ddc27bda3f9ffe170494395be4030ba72737c565_merged_mask.png\n",
            "Merged mask saved at: /content/data/stage1_train/2b50b1e3fa5c5aa39bc84ebfaea9961b7199c4d2488ae0b48d0b3459807d59d2/merged_masks/2b50b1e3fa5c5aa39bc84ebfaea9961b7199c4d2488ae0b48d0b3459807d59d2_merged_mask.png\n",
            "Merged mask saved at: /content/data/stage1_train/52a4ac5a875be7a6c886035d54fb63f5f397dc43508c4831898f6b2f8debc7f3/merged_masks/52a4ac5a875be7a6c886035d54fb63f5f397dc43508c4831898f6b2f8debc7f3_merged_mask.png\n",
            "Merged mask saved at: /content/data/stage1_train/573a657d5e5fcb9574a758b0ab34b09c79d7ba374ceb71227c3dc88f009a3f6b/merged_masks/573a657d5e5fcb9574a758b0ab34b09c79d7ba374ceb71227c3dc88f009a3f6b_merged_mask.png\n",
            "Merged mask saved at: /content/data/stage1_train/29780b28e6a75fac7b96f164a1580666513199794f1b19a5df8587fe0cb59b67/merged_masks/29780b28e6a75fac7b96f164a1580666513199794f1b19a5df8587fe0cb59b67_merged_mask.png\n",
            "Merged mask saved at: /content/data/stage1_train/1b44d22643830cd4f23c9deadb0bd499fb392fb2cd9526d81547d93077d983df/merged_masks/1b44d22643830cd4f23c9deadb0bd499fb392fb2cd9526d81547d93077d983df_merged_mask.png\n",
            "Merged mask saved at: /content/data/stage1_train/930f246a8e4ff273a72a6e4b3cf8e8caff94fca4eaf1dbe6f93ba37b8195c0a0/merged_masks/930f246a8e4ff273a72a6e4b3cf8e8caff94fca4eaf1dbe6f93ba37b8195c0a0_merged_mask.png\n",
            "Merged mask saved at: /content/data/stage1_train/cf26c41245febfe67c2a1682cc4ee8752ee40ae3e49610314f45923b8bf5b08a/merged_masks/cf26c41245febfe67c2a1682cc4ee8752ee40ae3e49610314f45923b8bf5b08a_merged_mask.png\n",
            "Merged mask saved at: /content/data/stage1_train/a815a986800a95de0957116c6585deea8ffb6ee09ad00ccc687306937ac698d0/merged_masks/a815a986800a95de0957116c6585deea8ffb6ee09ad00ccc687306937ac698d0_merged_mask.png\n",
            "Merged mask saved at: /content/data/stage1_train/953211bcc0192e2298087d30e708dba68def9e0c13a3ff3326a18b0962c63adc/merged_masks/953211bcc0192e2298087d30e708dba68def9e0c13a3ff3326a18b0962c63adc_merged_mask.png\n",
            "Merged mask saved at: /content/data/stage1_train/602f267432e7a573e1092f1cf48135c82d0fbc8722bc028b9330ec801a40bb18/merged_masks/602f267432e7a573e1092f1cf48135c82d0fbc8722bc028b9330ec801a40bb18_merged_mask.png\n",
            "Merged mask saved at: /content/data/stage1_train/5b12df18e4ae4df5af06052584cf0e6bef58ee2a220653890636eef88a944e14/merged_masks/5b12df18e4ae4df5af06052584cf0e6bef58ee2a220653890636eef88a944e14_merged_mask.png\n",
            "Merged mask saved at: /content/data/stage1_train/bb8ebf465c968a5f6f715de5d9e2e664afd1bcaa533e0e3352ecea1cc5b6fb0d/merged_masks/bb8ebf465c968a5f6f715de5d9e2e664afd1bcaa533e0e3352ecea1cc5b6fb0d_merged_mask.png\n",
            "Merged mask saved at: /content/data/stage1_train/8b12e18670e4b24d03567d1e17c0c24fadf0ea2c1e763983dd6bb4c44b7376a6/merged_masks/8b12e18670e4b24d03567d1e17c0c24fadf0ea2c1e763983dd6bb4c44b7376a6_merged_mask.png\n",
            "Merged mask saved at: /content/data/stage1_train/e5a6c5e01e6a4ef676a2d975374e995dd55792ea317a8e110bebc37da83a4ce8/merged_masks/e5a6c5e01e6a4ef676a2d975374e995dd55792ea317a8e110bebc37da83a4ce8_merged_mask.png\n",
            "Merged mask saved at: /content/data/stage1_train/777f7c4269279951ae05b56e806745e613297d411d048c0bce8964afd7d71a4b/merged_masks/777f7c4269279951ae05b56e806745e613297d411d048c0bce8964afd7d71a4b_merged_mask.png\n",
            "Merged mask saved at: /content/data/stage1_train/02903040e19ddf92f452907644ad3822918f54af41dd85e5a3fe3e1b6d6f9339/merged_masks/02903040e19ddf92f452907644ad3822918f54af41dd85e5a3fe3e1b6d6f9339_merged_mask.png\n",
            "Merged mask saved at: /content/data/stage1_train/2cfa857e63be1b418c91ad5ea1f8d136fd1b80fc856e1d4277274c3dea28011c/merged_masks/2cfa857e63be1b418c91ad5ea1f8d136fd1b80fc856e1d4277274c3dea28011c_merged_mask.png\n",
            "Merged mask saved at: /content/data/stage1_train/136000dc18fa6def2d6c98d4d0b2084d13c22eaffe82e26c665bcaa2a9e51261/merged_masks/136000dc18fa6def2d6c98d4d0b2084d13c22eaffe82e26c665bcaa2a9e51261_merged_mask.png\n",
            "Merged mask saved at: /content/data/stage1_train/8b77284d6f37ab3fc826139ebadaec3b9d81c552fe525c3547bbbd6c65ac0d83/merged_masks/8b77284d6f37ab3fc826139ebadaec3b9d81c552fe525c3547bbbd6c65ac0d83_merged_mask.png\n",
            "Merged mask saved at: /content/data/stage1_train/353ab00e964f71aa720385223a9078b770b7e3efaf5be0f66e670981f68fe606/merged_masks/353ab00e964f71aa720385223a9078b770b7e3efaf5be0f66e670981f68fe606_merged_mask.png\n",
            "Merged mask saved at: /content/data/stage1_train/ff3407842ada5bc18be79ae453e5bdaa1b68afc842fc22fa618ac6e6599d0bb3/merged_masks/ff3407842ada5bc18be79ae453e5bdaa1b68afc842fc22fa618ac6e6599d0bb3_merged_mask.png\n",
            "Merged mask saved at: /content/data/stage1_train/20e209f6ffa120a72712e1b4c1d3e24d1339227e2936abd4bbd49a636fada423/merged_masks/20e209f6ffa120a72712e1b4c1d3e24d1339227e2936abd4bbd49a636fada423_merged_mask.png\n",
            "Merged mask saved at: /content/data/stage1_train/da8ca06ccbb4e2a8718f7c2939ef6cc3a4088981f660842ad885a8273e740d55/merged_masks/da8ca06ccbb4e2a8718f7c2939ef6cc3a4088981f660842ad885a8273e740d55_merged_mask.png\n",
            "Merged mask saved at: /content/data/stage1_train/853a4c67900c411abd04467f7bc7813d3c58a5f565c8b0807e13c6e6dea21344/merged_masks/853a4c67900c411abd04467f7bc7813d3c58a5f565c8b0807e13c6e6dea21344_merged_mask.png\n",
            "Merged mask saved at: /content/data/stage1_train/eb1df8ed879d04b36980b0958a0e8fc446ad08c0bdcf3b5f42e3db023187c7e5/merged_masks/eb1df8ed879d04b36980b0958a0e8fc446ad08c0bdcf3b5f42e3db023187c7e5_merged_mask.png\n",
            "Merged mask saved at: /content/data/stage1_train/d35f25c8e3f7fca5232fc4d5e3faf14b025b20b3731af77fe971a5e2e9d69d28/merged_masks/d35f25c8e3f7fca5232fc4d5e3faf14b025b20b3731af77fe971a5e2e9d69d28_merged_mask.png\n",
            "Merged mask saved at: /content/data/stage1_train/a7f767ca9770b160f234780e172aeb35a50830ba10dc49c526f4712451abe1d2/merged_masks/a7f767ca9770b160f234780e172aeb35a50830ba10dc49c526f4712451abe1d2_merged_mask.png\n",
            "Merged mask saved at: /content/data/stage1_train/7798ca1ddb3133563e290c36228bc8f8f3c9f224e096f442ef0653856662d121/merged_masks/7798ca1ddb3133563e290c36228bc8f8f3c9f224e096f442ef0653856662d121_merged_mask.png\n",
            "Merged mask saved at: /content/data/stage1_train/10ba6cbee4873b32d5626a118a339832ba2b15d8643f66dddcd7cb2ec80fbc28/merged_masks/10ba6cbee4873b32d5626a118a339832ba2b15d8643f66dddcd7cb2ec80fbc28_merged_mask.png\n",
            "Merged mask saved at: /content/data/stage1_train/f29fd9c52e04403cd2c7d43b6fe2479292e53b2f61969d25256d2d2aca7c6a81/merged_masks/f29fd9c52e04403cd2c7d43b6fe2479292e53b2f61969d25256d2d2aca7c6a81_merged_mask.png\n",
            "Merged mask saved at: /content/data/stage1_train/ebc18868864ad075548cc1784f4f9a237bb98335f9645ee727dac8332a3e3716/merged_masks/ebc18868864ad075548cc1784f4f9a237bb98335f9645ee727dac8332a3e3716_merged_mask.png\n",
            "Merged mask saved at: /content/data/stage1_train/9c95eae11da041189e84cda20bdfb75716a6594684de4b6ce12a9aaadbb874c9/merged_masks/9c95eae11da041189e84cda20bdfb75716a6594684de4b6ce12a9aaadbb874c9_merged_mask.png\n",
            "Merged mask saved at: /content/data/stage1_train/6fe2df6de1d962b90146c822bcefc84d0d3d6926fdfbacd3acdc9de830ee5622/merged_masks/6fe2df6de1d962b90146c822bcefc84d0d3d6926fdfbacd3acdc9de830ee5622_merged_mask.png\n",
            "Merged mask saved at: /content/data/stage1_train/61a15ccbfebb9d2fc54c068472a75d7babfb3f48fea008470e7db807585f9510/merged_masks/61a15ccbfebb9d2fc54c068472a75d7babfb3f48fea008470e7db807585f9510_merged_mask.png\n",
            "Merged mask saved at: /content/data/stage1_train/30311520606ec99b6a810ae1a9a753df991777d374212423bb075c408a98ed74/merged_masks/30311520606ec99b6a810ae1a9a753df991777d374212423bb075c408a98ed74_merged_mask.png\n",
            "Merged mask saved at: /content/data/stage1_train/1e61ecf354cb93a62a9561db87a53985fb54e001444f98112ed0fc623fad793e/merged_masks/1e61ecf354cb93a62a9561db87a53985fb54e001444f98112ed0fc623fad793e_merged_mask.png\n",
            "Merged mask saved at: /content/data/stage1_train/aa4d989d262c618ac2793579e200cc71b3767f84698ae5f669867f23cdfe2568/merged_masks/aa4d989d262c618ac2793579e200cc71b3767f84698ae5f669867f23cdfe2568_merged_mask.png\n",
            "Merged mask saved at: /content/data/stage1_train/21408476af0506331e8b5d49b385833e5ef1fbb90815fbf9af9d19b4bb145f76/merged_masks/21408476af0506331e8b5d49b385833e5ef1fbb90815fbf9af9d19b4bb145f76_merged_mask.png\n",
            "Merged mask saved at: /content/data/stage1_train/e1bcb583985325d0ef5f3ef52957d0371c96d4af767b13e48102bca9d5351a9b/merged_masks/e1bcb583985325d0ef5f3ef52957d0371c96d4af767b13e48102bca9d5351a9b_merged_mask.png\n",
            "Merged mask saved at: /content/data/stage1_train/b76ff33ae9da28f9cd8bdce465d45f1eca399db3ffa83847535708e0d511fe38/merged_masks/b76ff33ae9da28f9cd8bdce465d45f1eca399db3ffa83847535708e0d511fe38_merged_mask.png\n",
            "Merged mask saved at: /content/data/stage1_train/ad9d305cbf193d4250743ead466bdaefe910835d7e352c544e22320e8336f5c1/merged_masks/ad9d305cbf193d4250743ead466bdaefe910835d7e352c544e22320e8336f5c1_merged_mask.png\n",
            "Merged mask saved at: /content/data/stage1_train/538b7673d507014d83af238876e03617396b70fe27f525f8205a4a96900fbb8e/merged_masks/538b7673d507014d83af238876e03617396b70fe27f525f8205a4a96900fbb8e_merged_mask.png\n",
            "Merged mask saved at: /content/data/stage1_train/5488e8df5440ee5161fdfae3aeccd2ee396636430065c90e3f1f73870a975991/merged_masks/5488e8df5440ee5161fdfae3aeccd2ee396636430065c90e3f1f73870a975991_merged_mask.png\n",
            "Merged mask saved at: /content/data/stage1_train/a6e81120d1cb9f71f8a25f90a5d56c4b714a642fc496a705e38921fd90a3f69c/merged_masks/a6e81120d1cb9f71f8a25f90a5d56c4b714a642fc496a705e38921fd90a3f69c_merged_mask.png\n",
            "Merged mask saved at: /content/data/stage1_train/cc88627344305b9a9b07f8bd042cb074c7a834c13de67ff4b24914ac68f07f6e/merged_masks/cc88627344305b9a9b07f8bd042cb074c7a834c13de67ff4b24914ac68f07f6e_merged_mask.png\n",
            "Merged mask saved at: /content/data/stage1_train/49edc2f7715100fb0390916e52b3fd11a921f02e59509dc987f67840a36250fc/merged_masks/49edc2f7715100fb0390916e52b3fd11a921f02e59509dc987f67840a36250fc_merged_mask.png\n",
            "Merged mask saved at: /content/data/stage1_train/9ebcfaf2322932d464f15b5662cae4d669b2d785b8299556d73fffcae8365d32/merged_masks/9ebcfaf2322932d464f15b5662cae4d669b2d785b8299556d73fffcae8365d32_merged_mask.png\n",
            "Merged mask saved at: /content/data/stage1_train/1b2bf5933b0fb82918d278983bee66e9532b53807c3638efd9af66d20a2bae88/merged_masks/1b2bf5933b0fb82918d278983bee66e9532b53807c3638efd9af66d20a2bae88_merged_mask.png\n",
            "Merged mask saved at: /content/data/stage1_train/f6cb37ebf29c225284c8415962f7287abe7007fae8fe3d8a3899b608b832d7d5/merged_masks/f6cb37ebf29c225284c8415962f7287abe7007fae8fe3d8a3899b608b832d7d5_merged_mask.png\n",
            "Merged mask saved at: /content/data/stage1_train/ac782d2cad7f515ce7276926209820e386248e3d619b2df81e22d5e3c160b7cb/merged_masks/ac782d2cad7f515ce7276926209820e386248e3d619b2df81e22d5e3c160b7cb_merged_mask.png\n",
            "Merged mask saved at: /content/data/stage1_train/2f929b067a59f88530b6bfa6f6889bc3a38adf88d594895973d1c8b2549fd93d/merged_masks/2f929b067a59f88530b6bfa6f6889bc3a38adf88d594895973d1c8b2549fd93d_merged_mask.png\n",
            "Merged mask saved at: /content/data/stage1_train/a7a581e6760df4701941670e73d72533e3b0fbd7563488ad92772b41f7709710/merged_masks/a7a581e6760df4701941670e73d72533e3b0fbd7563488ad92772b41f7709710_merged_mask.png\n",
            "Merged mask saved at: /content/data/stage1_train/3b75fc03a1d12b29bd2870eb1f6fdb44174dbd1118dfc11c31f127bd87bd27ef/merged_masks/3b75fc03a1d12b29bd2870eb1f6fdb44174dbd1118dfc11c31f127bd87bd27ef_merged_mask.png\n",
            "Merged mask saved at: /content/data/stage1_train/93cfd412c7de5210bbd262ec3a602cfea65072e9272e9fce9b5339a5b9436eb7/merged_masks/93cfd412c7de5210bbd262ec3a602cfea65072e9272e9fce9b5339a5b9436eb7_merged_mask.png\n",
            "Merged mask saved at: /content/data/stage1_train/8175a55b711c948fe383bd3b91b6ca1b9e048a5241e0be13aff31ce2674fbe6d/merged_masks/8175a55b711c948fe383bd3b91b6ca1b9e048a5241e0be13aff31ce2674fbe6d_merged_mask.png\n",
            "Merged mask saved at: /content/data/stage1_train/c35e6e3ea39a718e1b7aff66e4cc678efd662f9b5336b74d69c1d6bca7aaf288/merged_masks/c35e6e3ea39a718e1b7aff66e4cc678efd662f9b5336b74d69c1d6bca7aaf288_merged_mask.png\n",
            "Merged mask saved at: /content/data/stage1_train/a31deaf0ac279d5f34fb2eca80cc2abce6ef30bd64e7aca40efe4b2ba8e9ad3d/merged_masks/a31deaf0ac279d5f34fb2eca80cc2abce6ef30bd64e7aca40efe4b2ba8e9ad3d_merged_mask.png\n",
            "Merged mask saved at: /content/data/stage1_train/8c3ef7aa7ed29b62a65b1c394d2b4a24aa3da25aebfdf3d29dbfc8ad1b08e95a/merged_masks/8c3ef7aa7ed29b62a65b1c394d2b4a24aa3da25aebfdf3d29dbfc8ad1b08e95a_merged_mask.png\n",
            "Merged mask saved at: /content/data/stage1_train/2ab91a4408860ae8339689ed9f87aa9359de1bdd4ca5c2eab7fff7724dbd6707/merged_masks/2ab91a4408860ae8339689ed9f87aa9359de1bdd4ca5c2eab7fff7724dbd6707_merged_mask.png\n",
            "Merged mask saved at: /content/data/stage1_train/8f27ebc74164eddfe989a98a754dcf5a9c85ef599a1321de24bcf097df1814ca/merged_masks/8f27ebc74164eddfe989a98a754dcf5a9c85ef599a1321de24bcf097df1814ca_merged_mask.png\n",
            "Merged mask saved at: /content/data/stage1_train/1e488c42eb1a54a3e8412b1f12cde530f950f238d71078f2ede6a85a02168e1f/merged_masks/1e488c42eb1a54a3e8412b1f12cde530f950f238d71078f2ede6a85a02168e1f_merged_mask.png\n",
            "Merged mask saved at: /content/data/stage1_train/c0c4a829c8d33d16a02f5dc0411597329f4b4d726ed6a22b5530cf6c8e106c4e/merged_masks/c0c4a829c8d33d16a02f5dc0411597329f4b4d726ed6a22b5530cf6c8e106c4e_merged_mask.png\n",
            "Merged mask saved at: /content/data/stage1_train/623cf6987b3fac8f384c09f40d98c5e739c097aa9a9627054542aa27f7d38db1/merged_masks/623cf6987b3fac8f384c09f40d98c5e739c097aa9a9627054542aa27f7d38db1_merged_mask.png\n",
            "Merged mask saved at: /content/data/stage1_train/b98681c74842c4058bd2f88b06063731c26a90da083b1ef348e0ec734c58752b/merged_masks/b98681c74842c4058bd2f88b06063731c26a90da083b1ef348e0ec734c58752b_merged_mask.png\n",
            "Merged mask saved at: /content/data/stage1_train/9e4f8ec60a0d622a02c0e16eedcc0101f88ddefbcec2383946c4572b57a1e43a/merged_masks/9e4f8ec60a0d622a02c0e16eedcc0101f88ddefbcec2383946c4572b57a1e43a_merged_mask.png\n",
            "Merged mask saved at: /content/data/stage1_train/0ddd8deaf1696db68b00c600601c6a74a0502caaf274222c8367bdc31458ae7e/merged_masks/0ddd8deaf1696db68b00c600601c6a74a0502caaf274222c8367bdc31458ae7e_merged_mask.png\n",
            "Merged mask saved at: /content/data/stage1_train/2a1a294e21d76efd0399e4eb321b45f44f7510911acd92c988480195c5b4c812/merged_masks/2a1a294e21d76efd0399e4eb321b45f44f7510911acd92c988480195c5b4c812_merged_mask.png\n",
            "Merged mask saved at: /content/data/stage1_train/3d0ca3498d97edebd28dbc7035eced40baa4af199af09cbb7251792accaa69fe/merged_masks/3d0ca3498d97edebd28dbc7035eced40baa4af199af09cbb7251792accaa69fe_merged_mask.png\n",
            "Merged mask saved at: /content/data/stage1_train/8e507d58f4c27cd2a82bee79fe27b069befd62a46fdaed20970a95a2ba819c7b/merged_masks/8e507d58f4c27cd2a82bee79fe27b069befd62a46fdaed20970a95a2ba819c7b_merged_mask.png\n",
            "Merged mask saved at: /content/data/stage1_train/3874755f6222e83006fdad4d664ec0d9697c13af4fbe24b2f9a059bb13075186/merged_masks/3874755f6222e83006fdad4d664ec0d9697c13af4fbe24b2f9a059bb13075186_merged_mask.png\n",
            "Merged mask saved at: /content/data/stage1_train/b67a6e5da8b1cfa5319d94a7d3f8b706725753346c37a4636bf7382e98b3c5df/merged_masks/b67a6e5da8b1cfa5319d94a7d3f8b706725753346c37a4636bf7382e98b3c5df_merged_mask.png\n",
            "Merged mask saved at: /content/data/stage1_train/4948e3dfe0483c2198b9616612071ead5474dffd223071cf0a567aea9aca0b9e/merged_masks/4948e3dfe0483c2198b9616612071ead5474dffd223071cf0a567aea9aca0b9e_merged_mask.png\n",
            "Merged mask saved at: /content/data/stage1_train/92e7e86e765e05ce331c07a6d14f0a696eac7ee40058699243900f40b696d7aa/merged_masks/92e7e86e765e05ce331c07a6d14f0a696eac7ee40058699243900f40b696d7aa_merged_mask.png\n",
            "Merged mask saved at: /content/data/stage1_train/be26966900aa0e5b41d5a8ecafe04281b37deb05c5cd027968d7b74143398174/merged_masks/be26966900aa0e5b41d5a8ecafe04281b37deb05c5cd027968d7b74143398174_merged_mask.png\n",
            "Merged mask saved at: /content/data/stage1_train/8d05fb18ee0cda107d56735cafa6197a31884e0a5092dc6d41760fb92ae23ab4/merged_masks/8d05fb18ee0cda107d56735cafa6197a31884e0a5092dc6d41760fb92ae23ab4_merged_mask.png\n",
            "Merged mask saved at: /content/data/stage1_train/ecb36c90cdd20245d89173c106f3c6a2d124d07bdea0ae202fb1efa49b0cd169/merged_masks/ecb36c90cdd20245d89173c106f3c6a2d124d07bdea0ae202fb1efa49b0cd169_merged_mask.png\n",
            "Merged mask saved at: /content/data/stage1_train/70827e40a7155391984e56703c6df3392fb4a94bbd6c7008da6a6ca3244965d9/merged_masks/70827e40a7155391984e56703c6df3392fb4a94bbd6c7008da6a6ca3244965d9_merged_mask.png\n",
            "Merged mask saved at: /content/data/stage1_train/fa73f24532b3667718ede7ac5c2e24ad7d3cae17b0a42ed17bbb81b15c28f4ae/merged_masks/fa73f24532b3667718ede7ac5c2e24ad7d3cae17b0a42ed17bbb81b15c28f4ae_merged_mask.png\n",
            "Merged mask saved at: /content/data/stage1_train/bb481eae02085bbae08742f702b9ab7d8b2ff9df2fbefeee9fac51f7c77dd01f/merged_masks/bb481eae02085bbae08742f702b9ab7d8b2ff9df2fbefeee9fac51f7c77dd01f_merged_mask.png\n",
            "Merged mask saved at: /content/data/stage1_train/1740b0a67ca337ea31648b57c81bcfbb841c7bb5cad185199a9f4da596d531b9/merged_masks/1740b0a67ca337ea31648b57c81bcfbb841c7bb5cad185199a9f4da596d531b9_merged_mask.png\n",
            "Merged mask saved at: /content/data/stage1_train/c395870ad9f5a3ae651b50efab9b20c3e6b9aea15d4c731eb34c0cf9e3800a72/merged_masks/c395870ad9f5a3ae651b50efab9b20c3e6b9aea15d4c731eb34c0cf9e3800a72_merged_mask.png\n",
            "Merged mask saved at: /content/data/stage1_train/7f34dfccd1bc2e2466ee3d6f74ff05821a0e5404e9cf2c9568da26b59f7afda5/merged_masks/7f34dfccd1bc2e2466ee3d6f74ff05821a0e5404e9cf2c9568da26b59f7afda5_merged_mask.png\n",
            "Merged mask saved at: /content/data/stage1_train/c00ae67f72816daee468474026e30705003b2d3501f123579a4f0a6366b66aa1/merged_masks/c00ae67f72816daee468474026e30705003b2d3501f123579a4f0a6366b66aa1_merged_mask.png\n",
            "Merged mask saved at: /content/data/stage1_train/866a8cba7bfe1ea73e383d6cf492e53752579140c8b833bb56839a55bf79d855/merged_masks/866a8cba7bfe1ea73e383d6cf492e53752579140c8b833bb56839a55bf79d855_merged_mask.png\n",
            "Merged mask saved at: /content/data/stage1_train/a0325cb7aa59e9c0a75e64ba26855d8032c46161aa4bca0c01bac5e4a836485e/merged_masks/a0325cb7aa59e9c0a75e64ba26855d8032c46161aa4bca0c01bac5e4a836485e_merged_mask.png\n",
            "Merged mask saved at: /content/data/stage1_train/f6863b83d75e5927b30e2e326405b588293283c25aaef2251b30c343296b9cb1/merged_masks/f6863b83d75e5927b30e2e326405b588293283c25aaef2251b30c343296b9cb1_merged_mask.png\n",
            "Merged mask saved at: /content/data/stage1_train/3f9fc8e63f87e8a56d3eaef7db26f1b6db874d19f12abd5a752821b78d47661e/merged_masks/3f9fc8e63f87e8a56d3eaef7db26f1b6db874d19f12abd5a752821b78d47661e_merged_mask.png\n",
            "Merged mask saved at: /content/data/stage1_train/0e21d7b3eea8cdbbed60d51d72f4f8c1974c5d76a8a3893a7d5835c85284132e/merged_masks/0e21d7b3eea8cdbbed60d51d72f4f8c1974c5d76a8a3893a7d5835c85284132e_merged_mask.png\n",
            "Merged mask saved at: /content/data/stage1_train/0121d6759c5adb290c8e828fc882f37dfaf3663ec885c663859948c154a443ed/merged_masks/0121d6759c5adb290c8e828fc882f37dfaf3663ec885c663859948c154a443ed_merged_mask.png\n",
            "Merged mask saved at: /content/data/stage1_train/2255d5aba044256bb92f6b7cbed0fca46d972c7b6b1a59dcbe7f682c5777d074/merged_masks/2255d5aba044256bb92f6b7cbed0fca46d972c7b6b1a59dcbe7f682c5777d074_merged_mask.png\n",
            "Merged mask saved at: /content/data/stage1_train/12f89395ad5d21491ab9cec137e247652451d283064773507d7dc362243c5b8e/merged_masks/12f89395ad5d21491ab9cec137e247652451d283064773507d7dc362243c5b8e_merged_mask.png\n",
            "Merged mask saved at: /content/data/stage1_train/f4faa3a409014db1865074c5f66a0255f71ae3faba03265da0b3b91f68e8a8f0/merged_masks/f4faa3a409014db1865074c5f66a0255f71ae3faba03265da0b3b91f68e8a8f0_merged_mask.png\n",
            "Merged mask saved at: /content/data/stage1_train/8f94a80b95a881d0efdec36affc915dca9609f4cba8134c4a91b219d418778aa/merged_masks/8f94a80b95a881d0efdec36affc915dca9609f4cba8134c4a91b219d418778aa_merged_mask.png\n",
            "Merged mask saved at: /content/data/stage1_train/670ebd9d674be236b9bf0b28650ad3f68e1891b06e16a9021fd069ca7ef32b78/merged_masks/670ebd9d674be236b9bf0b28650ad3f68e1891b06e16a9021fd069ca7ef32b78_merged_mask.png\n",
            "Merged mask saved at: /content/data/stage1_train/03398329ced0c23b9ac3fac84dd53a87d9ffe4d9d10f1b5fe8df8fac12380776/merged_masks/03398329ced0c23b9ac3fac84dd53a87d9ffe4d9d10f1b5fe8df8fac12380776_merged_mask.png\n",
            "Merged mask saved at: /content/data/stage1_train/b1a239838c7dbb34ffea851ad537899f24da62f4e3f3fd6d835ff7b922f27313/merged_masks/b1a239838c7dbb34ffea851ad537899f24da62f4e3f3fd6d835ff7b922f27313_merged_mask.png\n",
            "Merged mask saved at: /content/data/stage1_train/8055957570d7b38f0acecdb56f3078a963a1a7307ca03fcca62212e0e95e5845/merged_masks/8055957570d7b38f0acecdb56f3078a963a1a7307ca03fcca62212e0e95e5845_merged_mask.png\n",
            "Merged mask saved at: /content/data/stage1_train/34c9f4eb2af8b8f46b1d88b74bde16f4614cd08948c2f1d817eb629afc512e7a/merged_masks/34c9f4eb2af8b8f46b1d88b74bde16f4614cd08948c2f1d817eb629afc512e7a_merged_mask.png\n",
            "Merged mask saved at: /content/data/stage1_train/dae976f161fe42dc58dee87d4bf2eb9f65736597cab0114138641b2a39a5c42b/merged_masks/dae976f161fe42dc58dee87d4bf2eb9f65736597cab0114138641b2a39a5c42b_merged_mask.png\n",
            "Merged mask saved at: /content/data/stage1_train/610f32e2d9d270d740aec501dcf0c89595e4e623468ad43272adab90520a8f96/merged_masks/610f32e2d9d270d740aec501dcf0c89595e4e623468ad43272adab90520a8f96_merged_mask.png\n",
            "Merged mask saved at: /content/data/stage1_train/edd36ed822e7ed760ff73e0524df22aa5bf5c565efcdc6c39603239c0896e7a8/merged_masks/edd36ed822e7ed760ff73e0524df22aa5bf5c565efcdc6c39603239c0896e7a8_merged_mask.png\n",
            "Merged mask saved at: /content/data/stage1_train/150b0ffa318c87b31d78af0e87d60390dbcd84b5f228a8c1fb3225cbe5df3e3f/merged_masks/150b0ffa318c87b31d78af0e87d60390dbcd84b5f228a8c1fb3225cbe5df3e3f_merged_mask.png\n",
            "Merged mask saved at: /content/data/stage1_train/06350c7cc618be442c15706db7a68e91f313758d224de4608f9b960106d4f9ca/merged_masks/06350c7cc618be442c15706db7a68e91f313758d224de4608f9b960106d4f9ca_merged_mask.png\n",
            "Merged mask saved at: /content/data/stage1_train/e52960d31f8bddf85400259beb4521383f5ceface1080be3429f2f926cc9b5c2/merged_masks/e52960d31f8bddf85400259beb4521383f5ceface1080be3429f2f926cc9b5c2_merged_mask.png\n",
            "Merged mask saved at: /content/data/stage1_train/80632d6be60c8462e50d51bcf5caf15308931603095d6b5e772a115cd0d0470c/merged_masks/80632d6be60c8462e50d51bcf5caf15308931603095d6b5e772a115cd0d0470c_merged_mask.png\n",
            "Merged mask saved at: /content/data/stage1_train/fc5452f612a0f972fe55cc677055ede662af6723b5c1615ad539b8a4bd279bdb/merged_masks/fc5452f612a0f972fe55cc677055ede662af6723b5c1615ad539b8a4bd279bdb_merged_mask.png\n",
            "Merged mask saved at: /content/data/stage1_train/9bf9f3dcadeb152a9a26b23e2fb199dcf9b2b17660b1646326f5b10cbf51eaee/merged_masks/9bf9f3dcadeb152a9a26b23e2fb199dcf9b2b17660b1646326f5b10cbf51eaee_merged_mask.png\n",
            "Merged mask saved at: /content/data/stage1_train/6b6d4e6ff52de473a4b6f8bd0f11ae22242d508cc4117ff38ec39cbb88088aaa/merged_masks/6b6d4e6ff52de473a4b6f8bd0f11ae22242d508cc4117ff38ec39cbb88088aaa_merged_mask.png\n",
            "Merged mask saved at: /content/data/stage1_train/ea94ba4b01d1bd5f7768d10e0ac547743791033df545c71fcec442d0cb5cb5e7/merged_masks/ea94ba4b01d1bd5f7768d10e0ac547743791033df545c71fcec442d0cb5cb5e7_merged_mask.png\n",
            "Merged mask saved at: /content/data/stage1_train/72e8c49dea44787114fd191f9e97e260f961c6e7ae4715bc95cc91db8d91a4e3/merged_masks/72e8c49dea44787114fd191f9e97e260f961c6e7ae4715bc95cc91db8d91a4e3_merged_mask.png\n",
            "Merged mask saved at: /content/data/stage1_train/d751ccb64fa767a65a966061218438bd1860695d96bbef11fdb2f0d3b8dedba8/merged_masks/d751ccb64fa767a65a966061218438bd1860695d96bbef11fdb2f0d3b8dedba8_merged_mask.png\n",
            "Merged mask saved at: /content/data/stage1_train/d7ec8003735996458b56ccb8ae34d080eb2a6adabef931323239632515b4b220/merged_masks/d7ec8003735996458b56ccb8ae34d080eb2a6adabef931323239632515b4b220_merged_mask.png\n",
            "Merged mask saved at: /content/data/stage1_train/c9f305be17312bdb9530fb4f1adc6d29730ddbe0e74730cbf031de174bf437b7/merged_masks/c9f305be17312bdb9530fb4f1adc6d29730ddbe0e74730cbf031de174bf437b7_merged_mask.png\n",
            "Merged mask saved at: /content/data/stage1_train/0d3640c1f1b80f24e94cc9a5f3e1d9e8db7bf6af7d4aba920265f46cadc25e37/merged_masks/0d3640c1f1b80f24e94cc9a5f3e1d9e8db7bf6af7d4aba920265f46cadc25e37_merged_mask.png\n",
            "Merged mask saved at: /content/data/stage1_train/ae570a676961482848b5097038ef5e407df7a66a8e1c9b0567da599565a6b142/merged_masks/ae570a676961482848b5097038ef5e407df7a66a8e1c9b0567da599565a6b142_merged_mask.png\n",
            "Merged mask saved at: /content/data/stage1_train/6b72b61b80060a9e79a4747f9c5d5af135af9db466681c2d1086f784c7130699/merged_masks/6b72b61b80060a9e79a4747f9c5d5af135af9db466681c2d1086f784c7130699_merged_mask.png\n",
            "Merged mask saved at: /content/data/stage1_train/8a26b134fe9343c0c794513dae7787b7ac1debec3bb2a7096ab0b874a31d8175/merged_masks/8a26b134fe9343c0c794513dae7787b7ac1debec3bb2a7096ab0b874a31d8175_merged_mask.png\n",
            "Merged mask saved at: /content/data/stage1_train/abd8dde78f8d37b68b28da67459371ed65f0a575523e94bc4ecbc88e6fedf0d0/merged_masks/abd8dde78f8d37b68b28da67459371ed65f0a575523e94bc4ecbc88e6fedf0d0_merged_mask.png\n",
            "Merged mask saved at: /content/data/stage1_train/a1f50f101bc471e2d6967ebdb8ba81150588609e769f3b960f0801e4da5fdc6f/merged_masks/a1f50f101bc471e2d6967ebdb8ba81150588609e769f3b960f0801e4da5fdc6f_merged_mask.png\n",
            "Merged mask saved at: /content/data/stage1_train/d827a7d80fc67487a3237135e0d43ae01b7bbcb135e1a167601fc974a8348c51/merged_masks/d827a7d80fc67487a3237135e0d43ae01b7bbcb135e1a167601fc974a8348c51_merged_mask.png\n",
            "Merged mask saved at: /content/data/stage1_train/2869fad54664677e81bacbf00c2256e89a7b90b69d9688c9342e2c736ff5421c/merged_masks/2869fad54664677e81bacbf00c2256e89a7b90b69d9688c9342e2c736ff5421c_merged_mask.png\n",
            "Merged mask saved at: /content/data/stage1_train/a02ec007ae8feddb758078b1dfb8010c26886fd3c8babdc308ead8b4a63acbdb/merged_masks/a02ec007ae8feddb758078b1dfb8010c26886fd3c8babdc308ead8b4a63acbdb_merged_mask.png\n",
            "Merged mask saved at: /content/data/stage1_train/b6edad733399c83c8eb7a59c0d37b54e10cc0d59894e39ff843884d84f61dee1/merged_masks/b6edad733399c83c8eb7a59c0d37b54e10cc0d59894e39ff843884d84f61dee1_merged_mask.png\n",
            "Merged mask saved at: /content/data/stage1_train/50a7ea80dd73232a17f98b5c83f62ec89989e892fe25b79b36f99b3872a7d182/merged_masks/50a7ea80dd73232a17f98b5c83f62ec89989e892fe25b79b36f99b3872a7d182_merged_mask.png\n",
            "Merged mask saved at: /content/data/stage1_train/62057502c387145ed4f8f7f0d5e5bedcb72d3bcec15fa71cb0310dee32871461/merged_masks/62057502c387145ed4f8f7f0d5e5bedcb72d3bcec15fa71cb0310dee32871461_merged_mask.png\n",
            "Merged mask saved at: /content/data/stage1_train/220b37f4ca7cab486d2b71cd87a46ee7411a5aa142799d96ed98015ab5ba538a/merged_masks/220b37f4ca7cab486d2b71cd87a46ee7411a5aa142799d96ed98015ab5ba538a_merged_mask.png\n",
            "Merged mask saved at: /content/data/stage1_train/72b18a405555ad491721e29454e5cd325055ce81a9e78524b56f2c058a4d2327/merged_masks/72b18a405555ad491721e29454e5cd325055ce81a9e78524b56f2c058a4d2327_merged_mask.png\n",
            "Merged mask saved at: /content/data/stage1_train/1d5f4717e179a03675a5aac3fc1c862fb442ddc3e373923016fd6b1430da889b/merged_masks/1d5f4717e179a03675a5aac3fc1c862fb442ddc3e373923016fd6b1430da889b_merged_mask.png\n",
            "Merged mask saved at: /content/data/stage1_train/709e094e39629a9ca21e187f007b331074694e443db40289447c1111f7e267e7/merged_masks/709e094e39629a9ca21e187f007b331074694e443db40289447c1111f7e267e7_merged_mask.png\n",
            "Merged mask saved at: /content/data/stage1_train/2c840a94d216f5ef4e499b53ae885e9b022cbf639e004ec788436093837823b2/merged_masks/2c840a94d216f5ef4e499b53ae885e9b022cbf639e004ec788436093837823b2_merged_mask.png\n",
            "Merged mask saved at: /content/data/stage1_train/03b9306f44e9b8951461623dcbd615550cdcf36ea93b203f2c8fa58ed1dffcbe/merged_masks/03b9306f44e9b8951461623dcbd615550cdcf36ea93b203f2c8fa58ed1dffcbe_merged_mask.png\n",
            "Merged mask saved at: /content/data/stage1_train/ce37f6dd0615d45e66e41a8f2ed6fbc0bbe3103a290394ad474207507710eacc/merged_masks/ce37f6dd0615d45e66e41a8f2ed6fbc0bbe3103a290394ad474207507710eacc_merged_mask.png\n",
            "Merged mask saved at: /content/data/stage1_train/6aa7dd0c88bec4f96cdd497f9c37779733033d9ec6513307461302d36bd32ac7/merged_masks/6aa7dd0c88bec4f96cdd497f9c37779733033d9ec6513307461302d36bd32ac7_merged_mask.png\n",
            "Merged mask saved at: /content/data/stage1_train/aa58ba4512955771b4f9b459cb4e6a8adb71d11cd6cae662ec2df31d688a5fe0/merged_masks/aa58ba4512955771b4f9b459cb4e6a8adb71d11cd6cae662ec2df31d688a5fe0_merged_mask.png\n",
            "Merged mask saved at: /content/data/stage1_train/8cdbdda8b3a64c97409c0160bcfb06eb8e876cedc3691aa63ca16dbafae6f948/merged_masks/8cdbdda8b3a64c97409c0160bcfb06eb8e876cedc3691aa63ca16dbafae6f948_merged_mask.png\n",
            "Merged mask saved at: /content/data/stage1_train/4590d7d47f521df62f3bcb0bf74d1bca861d94ade614d8afc912d1009d607b94/merged_masks/4590d7d47f521df62f3bcb0bf74d1bca861d94ade614d8afc912d1009d607b94_merged_mask.png\n",
            "Merged mask saved at: /content/data/stage1_train/f728de04267283f0b4daab9a840e7433b2c6034baf195fd526850439c9297687/merged_masks/f728de04267283f0b4daab9a840e7433b2c6034baf195fd526850439c9297687_merged_mask.png\n",
            "Merged mask saved at: /content/data/stage1_train/5b2ccfb94dedf2ec8797c0404fc324888e35ab903c41bb26f070552033ca8e6c/merged_masks/5b2ccfb94dedf2ec8797c0404fc324888e35ab903c41bb26f070552033ca8e6c_merged_mask.png\n",
            "Merged mask saved at: /content/data/stage1_train/88678981648b184b23b6c04999f29210cbe351f85b61d2bf99e306fd67a2998a/merged_masks/88678981648b184b23b6c04999f29210cbe351f85b61d2bf99e306fd67a2998a_merged_mask.png\n",
            "Merged mask saved at: /content/data/stage1_train/a6001531274f9ad16e0ced40380f9667b9149558dea7053f7a7db18f5cd028c0/merged_masks/a6001531274f9ad16e0ced40380f9667b9149558dea7053f7a7db18f5cd028c0_merged_mask.png\n",
            "Merged mask saved at: /content/data/stage1_train/61dc249314d7b965eb4561ec739eab9b0f60af55c97b25ced8cb2a42a0be128e/merged_masks/61dc249314d7b965eb4561ec739eab9b0f60af55c97b25ced8cb2a42a0be128e_merged_mask.png\n",
            "Merged mask saved at: /content/data/stage1_train/40b00d701695d8ea5d59f95ac39e18004040c96d17fbc1a539317c674eca084b/merged_masks/40b00d701695d8ea5d59f95ac39e18004040c96d17fbc1a539317c674eca084b_merged_mask.png\n",
            "Merged mask saved at: /content/data/stage1_train/92f31f591929a30e4309ab75185c96ff4314ce0a7ead2ed2c2171897ad1da0c7/merged_masks/92f31f591929a30e4309ab75185c96ff4314ce0a7ead2ed2c2171897ad1da0c7_merged_mask.png\n",
            "Merged mask saved at: /content/data/stage1_train/4cbd6c37f3a55a538d759d440344c287cac66260d3047a83f429e63e7a0f7f20/merged_masks/4cbd6c37f3a55a538d759d440344c287cac66260d3047a83f429e63e7a0f7f20_merged_mask.png\n",
            "Merged mask saved at: /content/data/stage1_train/4217e25defac94ff465157d53f5a24b8a14045b763d8606ec4a97d71d99ee381/merged_masks/4217e25defac94ff465157d53f5a24b8a14045b763d8606ec4a97d71d99ee381_merged_mask.png\n",
            "Merged mask saved at: /content/data/stage1_train/619429303c1af7540916509fe7900cf483eba4391b06aac87ff7f66ca1ab6483/merged_masks/619429303c1af7540916509fe7900cf483eba4391b06aac87ff7f66ca1ab6483_merged_mask.png\n",
            "Merged mask saved at: /content/data/stage1_train/1023509cf8d4c155467800f89508690be9513431992f470594281cd37dbd020d/merged_masks/1023509cf8d4c155467800f89508690be9513431992f470594281cd37dbd020d_merged_mask.png\n",
            "Merged mask saved at: /content/data/stage1_train/54793624413c7d0e048173f7aeee85de3277f7e8d47c82e0a854fe43e879cd12/merged_masks/54793624413c7d0e048173f7aeee85de3277f7e8d47c82e0a854fe43e879cd12_merged_mask.png\n",
            "Merged mask saved at: /content/data/stage1_train/2227fd9b01d67c2bcdb407d3205214e6dfeff9fd0725828e3b3651959942ff4a/merged_masks/2227fd9b01d67c2bcdb407d3205214e6dfeff9fd0725828e3b3651959942ff4a_merged_mask.png\n",
            "Merged mask saved at: /content/data/stage1_train/7aae06bc4558829473071defec0b7ab3bfa9c5005548a13da95596bb6a66d105/merged_masks/7aae06bc4558829473071defec0b7ab3bfa9c5005548a13da95596bb6a66d105_merged_mask.png\n",
            "Merged mask saved at: /content/data/stage1_train/5908488d940e846cc121c768758da9b1bd5b9922417e20c9101a4e254fa98af8/merged_masks/5908488d940e846cc121c768758da9b1bd5b9922417e20c9101a4e254fa98af8_merged_mask.png\n",
            "Merged mask saved at: /content/data/stage1_train/1631352dbafb8a90f11219fffd3bea368a30bc3bad3bbe0e84e19bd720df4945/merged_masks/1631352dbafb8a90f11219fffd3bea368a30bc3bad3bbe0e84e19bd720df4945_merged_mask.png\n",
            "Merged mask saved at: /content/data/stage1_train/ce9e1a58b58940039ae841466198b72ea21cc90584039a9294b47f5aef17ddfa/merged_masks/ce9e1a58b58940039ae841466198b72ea21cc90584039a9294b47f5aef17ddfa_merged_mask.png\n",
            "Merged mask saved at: /content/data/stage1_train/608ff81c8a0c8b622f6648a9c7f935d85f0c503f515ef2ac3728387be1953ee8/merged_masks/608ff81c8a0c8b622f6648a9c7f935d85f0c503f515ef2ac3728387be1953ee8_merged_mask.png\n",
            "Merged mask saved at: /content/data/stage1_train/ddf1bf458312de2895dd9cc5ce7ec9d334ad54c35edc96ad6001d20b1d8588d8/merged_masks/ddf1bf458312de2895dd9cc5ce7ec9d334ad54c35edc96ad6001d20b1d8588d8_merged_mask.png\n",
            "Merged mask saved at: /content/data/stage1_train/718751b439c05bdd589f04fcef321a86be3ecb35292a435138e295e05eb2e771/merged_masks/718751b439c05bdd589f04fcef321a86be3ecb35292a435138e295e05eb2e771_merged_mask.png\n",
            "Merged mask saved at: /content/data/stage1_train/97158b2fe38783d88d4e44ba1b7bc6c84f225f8b35fcccc2f9265c65f14e7c8b/merged_masks/97158b2fe38783d88d4e44ba1b7bc6c84f225f8b35fcccc2f9265c65f14e7c8b_merged_mask.png\n",
            "Merged mask saved at: /content/data/stage1_train/449fe932622db3b49366a260ddd20077219f96fb2dc0f912ad4f60b087876f3b/merged_masks/449fe932622db3b49366a260ddd20077219f96fb2dc0f912ad4f60b087876f3b_merged_mask.png\n",
            "Merged mask saved at: /content/data/stage1_train/20b20ab049372d184c705acebe7af026d3580f5fd5a72ed796e3622e1685af2f/merged_masks/20b20ab049372d184c705acebe7af026d3580f5fd5a72ed796e3622e1685af2f_merged_mask.png\n",
            "Merged mask saved at: /content/data/stage1_train/ce88df7356d9d4a8d5944a93768f4c4b593de2d35616f7448c2b37b9fd60dd1f/merged_masks/ce88df7356d9d4a8d5944a93768f4c4b593de2d35616f7448c2b37b9fd60dd1f_merged_mask.png\n",
            "Merged mask saved at: /content/data/stage1_train/4327d27591871e9c8d317071a390d1b3dcedad05a9746175b005c41ea0d797b2/merged_masks/4327d27591871e9c8d317071a390d1b3dcedad05a9746175b005c41ea0d797b2_merged_mask.png\n",
            "Merged mask saved at: /content/data/stage1_train/9520aff4efe87bd8f3901652fa2dde9b4bc9c679325966145ce00c1ca33f35de/merged_masks/9520aff4efe87bd8f3901652fa2dde9b4bc9c679325966145ce00c1ca33f35de_merged_mask.png\n",
            "Merged mask saved at: /content/data/stage1_train/79fe419488ba98494e3baa35c6fef9662eda1efe325d0ab0ac002f5383245d96/merged_masks/79fe419488ba98494e3baa35c6fef9662eda1efe325d0ab0ac002f5383245d96_merged_mask.png\n",
            "Merged mask saved at: /content/data/stage1_train/d7d12a2acc47a94961aeb56fd56e8a0873016af75f5dd10915de9db8af8e4f5e/merged_masks/d7d12a2acc47a94961aeb56fd56e8a0873016af75f5dd10915de9db8af8e4f5e_merged_mask.png\n",
            "Merged mask saved at: /content/data/stage1_train/55f98f43c152aa0dc8bea513f8ba558cc57494b81ae4ee816977816e79629c50/merged_masks/55f98f43c152aa0dc8bea513f8ba558cc57494b81ae4ee816977816e79629c50_merged_mask.png\n",
            "Merged mask saved at: /content/data/stage1_train/23830d0e51245fc0c9e410efa4c17d2a7d83a0104a3777130119ab892de47a4e/merged_masks/23830d0e51245fc0c9e410efa4c17d2a7d83a0104a3777130119ab892de47a4e_merged_mask.png\n",
            "Merged mask saved at: /content/data/stage1_train/449a9c32e53a37c8a86e01c199155c8da3958b631088e10f6fe43c2119defe51/merged_masks/449a9c32e53a37c8a86e01c199155c8da3958b631088e10f6fe43c2119defe51_merged_mask.png\n",
            "Merged mask saved at: /content/data/stage1_train/2c83c86dd4e5dacc024b55629375567fb8e320a82ef86f541cfe54764040fc25/merged_masks/2c83c86dd4e5dacc024b55629375567fb8e320a82ef86f541cfe54764040fc25_merged_mask.png\n",
            "Merged mask saved at: /content/data/stage1_train/e5aeb5b3577abbebe8982b5dd7d22c4257250ad3000661a42f38bf9248d291fd/merged_masks/e5aeb5b3577abbebe8982b5dd7d22c4257250ad3000661a42f38bf9248d291fd_merged_mask.png\n",
            "Merged mask saved at: /content/data/stage1_train/4185b9369fc8bdcc7e7c68f2129b9a7442237cd0f836a4b6d13ef64bf0ef572a/merged_masks/4185b9369fc8bdcc7e7c68f2129b9a7442237cd0f836a4b6d13ef64bf0ef572a_merged_mask.png\n",
            "Merged mask saved at: /content/data/stage1_train/dbbfe08a52688d0ac8de9161cbb17cb201e3991aacab8ab8a77fe0e203a69481/merged_masks/dbbfe08a52688d0ac8de9161cbb17cb201e3991aacab8ab8a77fe0e203a69481_merged_mask.png\n",
            "Merged mask saved at: /content/data/stage1_train/243443ae303cc09cfbea85bfd22b0c4f026342f3dfc3aa1076f27867910d025b/merged_masks/243443ae303cc09cfbea85bfd22b0c4f026342f3dfc3aa1076f27867910d025b_merged_mask.png\n",
            "Merged mask saved at: /content/data/stage1_train/3594684b9ea0e16196f498815508f8d364d55fea2933a2e782122b6f00375d04/merged_masks/3594684b9ea0e16196f498815508f8d364d55fea2933a2e782122b6f00375d04_merged_mask.png\n",
            "Merged mask saved at: /content/data/stage1_train/f6b16c885c0b2bc0d0eb2bb2eeb0a2753ebafb5a7a91da10e89b0b0478984637/merged_masks/f6b16c885c0b2bc0d0eb2bb2eeb0a2753ebafb5a7a91da10e89b0b0478984637_merged_mask.png\n",
            "Merged mask saved at: /content/data/stage1_train/75120baa6abcbfe750a4eb223b8c10ae6bc3bebdda7b00d9a78bc2472fa28625/merged_masks/75120baa6abcbfe750a4eb223b8c10ae6bc3bebdda7b00d9a78bc2472fa28625_merged_mask.png\n",
            "Merged mask saved at: /content/data/stage1_train/8bef203fce625e4d8c89dca728158be4662dfdfdcd4dc73a6aa39a908c1631bc/merged_masks/8bef203fce625e4d8c89dca728158be4662dfdfdcd4dc73a6aa39a908c1631bc_merged_mask.png\n",
            "Merged mask saved at: /content/data/stage1_train/4c032609d377bd980e01f888e0b298600bf8af0e33c4271a1f3aaf76964dce06/merged_masks/4c032609d377bd980e01f888e0b298600bf8af0e33c4271a1f3aaf76964dce06_merged_mask.png\n",
            "Merged mask saved at: /content/data/stage1_train/2817299fd3b88670e86a9db5651ba24333c299d1d41e5491aabfcd95aee84174/merged_masks/2817299fd3b88670e86a9db5651ba24333c299d1d41e5491aabfcd95aee84174_merged_mask.png\n",
            "Merged mask saved at: /content/data/stage1_train/e66a97b2c77f3d66a7d3cebbc6a36c8c6259368a397f7b67647ed80ad53aa776/merged_masks/e66a97b2c77f3d66a7d3cebbc6a36c8c6259368a397f7b67647ed80ad53aa776_merged_mask.png\n",
            "Merged mask saved at: /content/data/stage1_train/0bf4b144167694b6846d584cf52c458f34f28fcae75328a2a096c8214e01c0d0/merged_masks/0bf4b144167694b6846d584cf52c458f34f28fcae75328a2a096c8214e01c0d0_merged_mask.png\n",
            "Merged mask saved at: /content/data/stage1_train/57bd029b19c1b382bef9db3ac14f13ea85e36a6053b92e46caedee95c05847ab/merged_masks/57bd029b19c1b382bef9db3ac14f13ea85e36a6053b92e46caedee95c05847ab_merged_mask.png\n",
            "Merged mask saved at: /content/data/stage1_train/b2c5d8653c621207e97b699e5c4c05d13df4f02d9db3e594b1f0c22e5b746aae/merged_masks/b2c5d8653c621207e97b699e5c4c05d13df4f02d9db3e594b1f0c22e5b746aae_merged_mask.png\n",
            "Merged mask saved at: /content/data/stage1_train/f487cc82271cf84b4414552aa8b0a9d82d902451ebe8e8bc639d4121c1672ff7/merged_masks/f487cc82271cf84b4414552aa8b0a9d82d902451ebe8e8bc639d4121c1672ff7_merged_mask.png\n",
            "Merged mask saved at: /content/data/stage1_train/4d09672bcf5a2661eea00891bbb8191225a06619a849aece37ad10d9dedbde3e/merged_masks/4d09672bcf5a2661eea00891bbb8191225a06619a849aece37ad10d9dedbde3e_merged_mask.png\n",
            "Merged mask saved at: /content/data/stage1_train/c620631271a56407d6d69fa1a69451ca99c50dcc30e29db04cf6fb7cacbde8cb/merged_masks/c620631271a56407d6d69fa1a69451ca99c50dcc30e29db04cf6fb7cacbde8cb_merged_mask.png\n",
            "Merged mask saved at: /content/data/stage1_train/5c235b945b25b9905b9b0429ce59f1db51d0d0c7d48c2c21ab9f3ca54b0715e6/merged_masks/5c235b945b25b9905b9b0429ce59f1db51d0d0c7d48c2c21ab9f3ca54b0715e6_merged_mask.png\n",
            "Merged mask saved at: /content/data/stage1_train/8efed2e62c919e6d70a2ab548b1a33014877fe8a23f177ef25a9dee25ffe8842/merged_masks/8efed2e62c919e6d70a2ab548b1a33014877fe8a23f177ef25a9dee25ffe8842_merged_mask.png\n",
            "Merged mask saved at: /content/data/stage1_train/ee927e8255096971ddae1bd975cf80c4ad7c847c82d0b5f5dd2ddfe5407007ee/merged_masks/ee927e8255096971ddae1bd975cf80c4ad7c847c82d0b5f5dd2ddfe5407007ee_merged_mask.png\n",
            "Merged mask saved at: /content/data/stage1_train/55ff2b0ec48b76e10c7ee18add5794005cd551697f96af865c763d50da78dd9c/merged_masks/55ff2b0ec48b76e10c7ee18add5794005cd551697f96af865c763d50da78dd9c_merged_mask.png\n",
            "Merged mask saved at: /content/data/stage1_train/c3bec1066aae20f48b82975e7e8b684cd67635a8baf211e4d9e3e13bc54c5d06/merged_masks/c3bec1066aae20f48b82975e7e8b684cd67635a8baf211e4d9e3e13bc54c5d06_merged_mask.png\n",
            "Merged mask saved at: /content/data/stage1_train/4e23ecf65040f86420e0201134e538951acdeda84fbb274311f995682044dd64/merged_masks/4e23ecf65040f86420e0201134e538951acdeda84fbb274311f995682044dd64_merged_mask.png\n",
            "Merged mask saved at: /content/data/stage1_train/615985773f1469fbc00915b3e82d1d4942051c09ddea2667e37ad361ed2e9d59/merged_masks/615985773f1469fbc00915b3e82d1d4942051c09ddea2667e37ad361ed2e9d59_merged_mask.png\n",
            "Merged mask saved at: /content/data/stage1_train/30f65741053db713b3f328d31d3234b6fedbe31df65c1a8ea29be28146cab789/merged_masks/30f65741053db713b3f328d31d3234b6fedbe31df65c1a8ea29be28146cab789_merged_mask.png\n",
            "Merged mask saved at: /content/data/stage1_train/831218e6a1a54b23d4be56c5799854e7eb978811b89215319dc138900bd563e6/merged_masks/831218e6a1a54b23d4be56c5799854e7eb978811b89215319dc138900bd563e6_merged_mask.png\n",
            "Merged mask saved at: /content/data/stage1_train/b560dba92fbf2af785739efced50d5866c86dc4dada9be3832138bef4c3524d2/merged_masks/b560dba92fbf2af785739efced50d5866c86dc4dada9be3832138bef4c3524d2_merged_mask.png\n",
            "Merged mask saved at: /content/data/stage1_train/2abc40c118bc7303592c8bb95a80361e27560854b8971ab34dcf91966575b1f2/merged_masks/2abc40c118bc7303592c8bb95a80361e27560854b8971ab34dcf91966575b1f2_merged_mask.png\n",
            "Merged mask saved at: /content/data/stage1_train/3582166ee20755856adf4882a8bfacb616fce4247911605a109c4862de421bcd/merged_masks/3582166ee20755856adf4882a8bfacb616fce4247911605a109c4862de421bcd_merged_mask.png\n",
            "Merged mask saved at: /content/data/stage1_train/d7db360fabfce9828559a21f6bffff589ae868e0dc6101d7c1212de34a25e3cb/merged_masks/d7db360fabfce9828559a21f6bffff589ae868e0dc6101d7c1212de34a25e3cb_merged_mask.png\n",
            "Merged mask saved at: /content/data/stage1_train/5b0bde771bc67c505d1b59405cbcad0a2766ec3ee4e35852e959552c1b454233/merged_masks/5b0bde771bc67c505d1b59405cbcad0a2766ec3ee4e35852e959552c1b454233_merged_mask.png\n",
            "Merged mask saved at: /content/data/stage1_train/1f0008060150b5b93084ae2e4dabd160ab80a95ce8071a321b80ec4e33b58aca/merged_masks/1f0008060150b5b93084ae2e4dabd160ab80a95ce8071a321b80ec4e33b58aca_merged_mask.png\n",
            "Merged mask saved at: /content/data/stage1_train/ba3997edd3fcb2f823ecdf870d2b607f08bff848f72a5cf72340bae5aca7c5ce/merged_masks/ba3997edd3fcb2f823ecdf870d2b607f08bff848f72a5cf72340bae5aca7c5ce_merged_mask.png\n",
            "Merged mask saved at: /content/data/stage1_train/7af09f98ec299ba0658d759eebc4c34e1c98289ea6ce37f233e9f5e4e2fc84f4/merged_masks/7af09f98ec299ba0658d759eebc4c34e1c98289ea6ce37f233e9f5e4e2fc84f4_merged_mask.png\n",
            "Merged mask saved at: /content/data/stage1_train/11a0170f44e3ab4a8d669ae8ea9546d3a32ebfe6486d9066e5648d30b4e1cb69/merged_masks/11a0170f44e3ab4a8d669ae8ea9546d3a32ebfe6486d9066e5648d30b4e1cb69_merged_mask.png\n",
            "Merged mask saved at: /content/data/stage1_train/e66f25e175abab08ecb4e5f6859db64a211e0ddffb262d7e727b9d9bd4aad2d2/merged_masks/e66f25e175abab08ecb4e5f6859db64a211e0ddffb262d7e727b9d9bd4aad2d2_merged_mask.png\n",
            "Merged mask saved at: /content/data/stage1_train/3bfd6bb152310f93daa6f4e1867c10572946e874b3a30c9ba8e0fcdeb590300b/merged_masks/3bfd6bb152310f93daa6f4e1867c10572946e874b3a30c9ba8e0fcdeb590300b_merged_mask.png\n",
            "Merged mask saved at: /content/data/stage1_train/a246bcaa64af48ee5ca181cd594c0fc43466e7614406eb8bc01199a16ebc95d0/merged_masks/a246bcaa64af48ee5ca181cd594c0fc43466e7614406eb8bc01199a16ebc95d0_merged_mask.png\n",
            "Merged mask saved at: /content/data/stage1_train/2c61fdcb36fd1b2944895af6204279e9f6c164ba894198b40c8b7a3c9bf500ea/merged_masks/2c61fdcb36fd1b2944895af6204279e9f6c164ba894198b40c8b7a3c9bf500ea_merged_mask.png\n",
            "Merged mask saved at: /content/data/stage1_train/aa83f5b4fca02ae43a6b9456ab42707b0beabc6e7c5c4e66c0d2572fb80f3615/merged_masks/aa83f5b4fca02ae43a6b9456ab42707b0beabc6e7c5c4e66c0d2572fb80f3615_merged_mask.png\n",
            "Merged mask saved at: /content/data/stage1_train/b2c23ddb04531158da6a0abcaca78fec0ae5c6f64f60166e4f36f4a161efd76f/merged_masks/b2c23ddb04531158da6a0abcaca78fec0ae5c6f64f60166e4f36f4a161efd76f_merged_mask.png\n",
            "Merged mask saved at: /content/data/stage1_train/b0defa611b75645c0283464ee4163917bad382d335b61e8509f065bf371fa15f/merged_masks/b0defa611b75645c0283464ee4163917bad382d335b61e8509f065bf371fa15f_merged_mask.png\n",
            "Merged mask saved at: /content/data/stage1_train/62570c4ff1c5ab6d9d383aba9f25e604768520b4266afd40fdf4734a694c8bc3/merged_masks/62570c4ff1c5ab6d9d383aba9f25e604768520b4266afd40fdf4734a694c8bc3_merged_mask.png\n",
            "Merged mask saved at: /content/data/stage1_train/84e642d75ae6ece8147272418b6fe13d04db8d076fe306c4acedc329fceab564/merged_masks/84e642d75ae6ece8147272418b6fe13d04db8d076fe306c4acedc329fceab564_merged_mask.png\n",
            "Merged mask saved at: /content/data/stage1_train/37ed50eea5a1e0bade3e6753793b6caeb061cd4c2f365658c257f69cab1f6288/merged_masks/37ed50eea5a1e0bade3e6753793b6caeb061cd4c2f365658c257f69cab1f6288_merged_mask.png\n",
            "Merged mask saved at: /content/data/stage1_train/7c318172e976ae5a962c9c7a4e9fe46d7fb985765ddd3a3e2108e893a90b92b2/merged_masks/7c318172e976ae5a962c9c7a4e9fe46d7fb985765ddd3a3e2108e893a90b92b2_merged_mask.png\n",
            "Merged mask saved at: /content/data/stage1_train/eeb142344e9de3250ab748f93940bf06be70d5078337680998468a134a101698/merged_masks/eeb142344e9de3250ab748f93940bf06be70d5078337680998468a134a101698_merged_mask.png\n",
            "Merged mask saved at: /content/data/stage1_train/aa47f0b303b1d525b52452ae3a8553b2d61d719a28aee547e2ef1fc6730a078f/merged_masks/aa47f0b303b1d525b52452ae3a8553b2d61d719a28aee547e2ef1fc6730a078f_merged_mask.png\n",
            "Merged mask saved at: /content/data/stage1_train/9cdac2870cfe65b6cb61bd151020068a3b427118a27343767b07ea39483fee32/merged_masks/9cdac2870cfe65b6cb61bd151020068a3b427118a27343767b07ea39483fee32_merged_mask.png\n",
            "Merged mask saved at: /content/data/stage1_train/98a463483fe3a56deacc8bc00ab8aa62668bd40ad0c70bbe7deb10d3e4aeb0c0/merged_masks/98a463483fe3a56deacc8bc00ab8aa62668bd40ad0c70bbe7deb10d3e4aeb0c0_merged_mask.png\n",
            "Merged mask saved at: /content/data/stage1_train/a102535b0e88374bea4a1cfd9ee7cb3822ff54f4ab2a9845d428ec22f9ee2288/merged_masks/a102535b0e88374bea4a1cfd9ee7cb3822ff54f4ab2a9845d428ec22f9ee2288_merged_mask.png\n",
            "Merged mask saved at: /content/data/stage1_train/0c6507d493bf79b2ba248c5cca3d14df8b67328b89efa5f4a32f97a06a88c92c/merged_masks/0c6507d493bf79b2ba248c5cca3d14df8b67328b89efa5f4a32f97a06a88c92c_merged_mask.png\n",
            "Merged mask saved at: /content/data/stage1_train/ec031f176dafe0b36547068ce42eab39428ec7995dac1b3ea52d1db79b61fdeb/merged_masks/ec031f176dafe0b36547068ce42eab39428ec7995dac1b3ea52d1db79b61fdeb_merged_mask.png\n",
            "Merged mask saved at: /content/data/stage1_train/fc345dac2205deb169bd70197f07f053bada80b61ffa69fdfb490758323ead69/merged_masks/fc345dac2205deb169bd70197f07f053bada80b61ffa69fdfb490758323ead69_merged_mask.png\n",
            "Merged mask saved at: /content/data/stage1_train/3b0709483b1e86449cc355bb797e841117ba178c6ae1ed955384f4da6486aa20/merged_masks/3b0709483b1e86449cc355bb797e841117ba178c6ae1ed955384f4da6486aa20_merged_mask.png\n",
            "Merged mask saved at: /content/data/stage1_train/74a7785530687a11ecd073e772f90912d9967d02407a192bfab282c35f55ab94/merged_masks/74a7785530687a11ecd073e772f90912d9967d02407a192bfab282c35f55ab94_merged_mask.png\n",
            "Merged mask saved at: /content/data/stage1_train/f73e37957c74f554be132986f38b6f1d75339f636dfe2b681a0cf3f88d2733af/merged_masks/f73e37957c74f554be132986f38b6f1d75339f636dfe2b681a0cf3f88d2733af_merged_mask.png\n",
            "Merged mask saved at: /content/data/stage1_train/693bc64581275f04fc456da74f031d583733360a1f6032fa38b3fbf592ff4352/merged_masks/693bc64581275f04fc456da74f031d583733360a1f6032fa38b3fbf592ff4352_merged_mask.png\n",
            "Merged mask saved at: /content/data/stage1_train/fd8065bcb1afdbed19e028465d5d00cd2ecadc4558de05c6fa28bea3c817aa22/merged_masks/fd8065bcb1afdbed19e028465d5d00cd2ecadc4558de05c6fa28bea3c817aa22_merged_mask.png\n",
            "Merged mask saved at: /content/data/stage1_train/07fb37aafa6626608af90c1e18f6a743f29b6b233d2e427dcd1102df6a916cf5/merged_masks/07fb37aafa6626608af90c1e18f6a743f29b6b233d2e427dcd1102df6a916cf5_merged_mask.png\n",
            "Merged mask saved at: /content/data/stage1_train/76faaed50ed6ea6814ac36199964b86fb09ba7f41a6f213bceaa80d625adc2e1/merged_masks/76faaed50ed6ea6814ac36199964b86fb09ba7f41a6f213bceaa80d625adc2e1_merged_mask.png\n",
            "Merged mask saved at: /content/data/stage1_train/6af82abb29539000be4696884fc822d3cafcb2105906dc7582c92dccad8948c5/merged_masks/6af82abb29539000be4696884fc822d3cafcb2105906dc7582c92dccad8948c5_merged_mask.png\n",
            "Merged mask saved at: /content/data/stage1_train/3a508d2dc03db46e7f97a2a30eabb62ab2886f3cedfea303de8f6a42e50d20eb/merged_masks/3a508d2dc03db46e7f97a2a30eabb62ab2886f3cedfea303de8f6a42e50d20eb_merged_mask.png\n",
            "Merged mask saved at: /content/data/stage1_train/483b89aa683542f1c63e62f5f71ae8ae1f959caf1c379cd61230a71cd1036732/merged_masks/483b89aa683542f1c63e62f5f71ae8ae1f959caf1c379cd61230a71cd1036732_merged_mask.png\n",
            "Merged mask saved at: /content/data/stage1_train/1db1cddf28e305c9478519cfac144eee2242183fe59061f1f15487e925e8f5b5/merged_masks/1db1cddf28e305c9478519cfac144eee2242183fe59061f1f15487e925e8f5b5_merged_mask.png\n",
            "Merged mask saved at: /content/data/stage1_train/54cb3328e778d87f76062b0550e3bc190f46384acd8efbe58c297265d1906e84/merged_masks/54cb3328e778d87f76062b0550e3bc190f46384acd8efbe58c297265d1906e84_merged_mask.png\n",
            "Merged mask saved at: /content/data/stage1_train/420f43d21dbaba42bf8c0995b3a2c85537876d594433770c6c6f3d6b779ec15f/merged_masks/420f43d21dbaba42bf8c0995b3a2c85537876d594433770c6c6f3d6b779ec15f_merged_mask.png\n",
            "Merged mask saved at: /content/data/stage1_train/7978812d0e2e034ee1f9c141f019705582fcaa290e4a01c6c75a62753285cb23/merged_masks/7978812d0e2e034ee1f9c141f019705582fcaa290e4a01c6c75a62753285cb23_merged_mask.png\n",
            "Merged mask saved at: /content/data/stage1_train/c1afe66cd139f996fd984f5f2622903730ec2f1192d90608154f07f7ef6cdb4b/merged_masks/c1afe66cd139f996fd984f5f2622903730ec2f1192d90608154f07f7ef6cdb4b_merged_mask.png\n",
            "Merged mask saved at: /content/data/stage1_train/1c8b905c9519061d6d091e702b45274f4485c80dcf7fb1491e6b2723f5002180/merged_masks/1c8b905c9519061d6d091e702b45274f4485c80dcf7fb1491e6b2723f5002180_merged_mask.png\n",
            "Merged mask saved at: /content/data/stage1_train/ef3ef194e5657fda708ecbd3eb6530286ed2ba23c88efb9f1715298975c73548/merged_masks/ef3ef194e5657fda708ecbd3eb6530286ed2ba23c88efb9f1715298975c73548_merged_mask.png\n",
            "Merged mask saved at: /content/data/stage1_train/84eeec681987753029eb83ea5f3ff7e8b5697783cdb2035f2882d40c9a3f1029/merged_masks/84eeec681987753029eb83ea5f3ff7e8b5697783cdb2035f2882d40c9a3f1029_merged_mask.png\n",
            "Merged mask saved at: /content/data/stage1_train/b0e35e06b85da49bfe3ea737711a72b551a6add446e30eabb01aa683a79873c5/merged_masks/b0e35e06b85da49bfe3ea737711a72b551a6add446e30eabb01aa683a79873c5_merged_mask.png\n",
            "Merged mask saved at: /content/data/stage1_train/01d44a26f6680c42ba94c9bc6339228579a95d0e2695b149b7cc0c9592b21baf/merged_masks/01d44a26f6680c42ba94c9bc6339228579a95d0e2695b149b7cc0c9592b21baf_merged_mask.png\n",
            "Merged mask saved at: /content/data/stage1_train/7f55678298adb736987d9fb5d1d2daefb08fe5bf4d81b2380bedf9449f79cc38/merged_masks/7f55678298adb736987d9fb5d1d2daefb08fe5bf4d81b2380bedf9449f79cc38_merged_mask.png\n",
            "Merged mask saved at: /content/data/stage1_train/58cc121d37fb7f1b4a5252024d88415936781e540252b8f734faeedd29b682d5/merged_masks/58cc121d37fb7f1b4a5252024d88415936781e540252b8f734faeedd29b682d5_merged_mask.png\n",
            "Merged mask saved at: /content/data/stage1_train/f534b43bf37ff946a310a0f08315d76c3fb3394681cf523acef7c0682240072a/merged_masks/f534b43bf37ff946a310a0f08315d76c3fb3394681cf523acef7c0682240072a_merged_mask.png\n",
            "Merged mask saved at: /content/data/stage1_train/ed5be4b63e9506ad64660dd92a098ffcc0325195298c13c815a73773f1efc279/merged_masks/ed5be4b63e9506ad64660dd92a098ffcc0325195298c13c815a73773f1efc279_merged_mask.png\n",
            "Merged mask saved at: /content/data/stage1_train/a22b7882fa85b9f0fcef659a7b82bfcddf01710f9a7617a9e036e84ac6901841/merged_masks/a22b7882fa85b9f0fcef659a7b82bfcddf01710f9a7617a9e036e84ac6901841_merged_mask.png\n",
            "Merged mask saved at: /content/data/stage1_train/e81c758e1ca177b0942ecad62cf8d321ffc315376135bcbed3df932a6e5b40c0/merged_masks/e81c758e1ca177b0942ecad62cf8d321ffc315376135bcbed3df932a6e5b40c0_merged_mask.png\n",
            "Merged mask saved at: /content/data/stage1_train/b214800de5ed4cc558f44d569495970f93c8c047f8e464c51d4bd5c276118423/merged_masks/b214800de5ed4cc558f44d569495970f93c8c047f8e464c51d4bd5c276118423_merged_mask.png\n",
            "Merged mask saved at: /content/data/stage1_train/e856511ac1c34d24320eb7c56c05a4a3340d06667b4f5b8e8df615d415c7f650/merged_masks/e856511ac1c34d24320eb7c56c05a4a3340d06667b4f5b8e8df615d415c7f650_merged_mask.png\n",
            "Merged mask saved at: /content/data/stage1_train/05040e2e959c3f5632558fc9683fec88f0010026c555b499066346f67fdd0e13/merged_masks/05040e2e959c3f5632558fc9683fec88f0010026c555b499066346f67fdd0e13_merged_mask.png\n",
            "Merged mask saved at: /content/data/stage1_train/3852c7e45bd885b9537e276861ab50b99bb42f0f8e717d2f88174c62862ca3ff/merged_masks/3852c7e45bd885b9537e276861ab50b99bb42f0f8e717d2f88174c62862ca3ff_merged_mask.png\n",
            "Merged mask saved at: /content/data/stage1_train/12aeefb1b522b283819b12e4cfaf6b13c1264c0aadac3412b4edd2ace304cb40/merged_masks/12aeefb1b522b283819b12e4cfaf6b13c1264c0aadac3412b4edd2ace304cb40_merged_mask.png\n",
            "Merged mask saved at: /content/data/stage1_train/eb96fc6cbf6880bf05c4309857ae33844a4bc2152e228eff31024e5265cf9fc3/merged_masks/eb96fc6cbf6880bf05c4309857ae33844a4bc2152e228eff31024e5265cf9fc3_merged_mask.png\n",
            "Merged mask saved at: /content/data/stage1_train/7d40ea6ead1bec903f26d9046d291aedcb12a584b4d3b337ea252b34c7d86072/merged_masks/7d40ea6ead1bec903f26d9046d291aedcb12a584b4d3b337ea252b34c7d86072_merged_mask.png\n",
            "Merged mask saved at: /content/data/stage1_train/797945873ca2a95f028671714b71eb3f883efe9dae7fcd3fc0ea1521efb73aaa/merged_masks/797945873ca2a95f028671714b71eb3f883efe9dae7fcd3fc0ea1521efb73aaa_merged_mask.png\n",
            "Merged mask saved at: /content/data/stage1_train/f9ac03b0344ce8c48bc058448541f9211a1e5f4c94fdaf633dd534328d8610ab/merged_masks/f9ac03b0344ce8c48bc058448541f9211a1e5f4c94fdaf633dd534328d8610ab_merged_mask.png\n",
            "Merged mask saved at: /content/data/stage1_train/a0afead3b4fe393f6a6159de040ecb2e66f8a89090abf0d0bf5b8e1d38ae667c/merged_masks/a0afead3b4fe393f6a6159de040ecb2e66f8a89090abf0d0bf5b8e1d38ae667c_merged_mask.png\n",
            "Merged mask saved at: /content/data/stage1_train/cfabf7379c5591d40aa4a20c86b4197c6a25ab55887a9fca4f06c2dfc0f0e973/merged_masks/cfabf7379c5591d40aa4a20c86b4197c6a25ab55887a9fca4f06c2dfc0f0e973_merged_mask.png\n",
            "Merged mask saved at: /content/data/stage1_train/2246874c8b5ba218d01ad8153a201ad4660195f3e4c65da6b9d4ccaf82cb7edf/merged_masks/2246874c8b5ba218d01ad8153a201ad4660195f3e4c65da6b9d4ccaf82cb7edf_merged_mask.png\n",
            "Merged mask saved at: /content/data/stage1_train/f20eb4592e7d3cf58d421a9c34832d33adcdcbd0e17b7bf009a013847608da27/merged_masks/f20eb4592e7d3cf58d421a9c34832d33adcdcbd0e17b7bf009a013847608da27_merged_mask.png\n",
            "Merged mask saved at: /content/data/stage1_train/9d429167633b4d9d7f41544a461975cf8e688a3affa6a8916799202874809f2a/merged_masks/9d429167633b4d9d7f41544a461975cf8e688a3affa6a8916799202874809f2a_merged_mask.png\n",
            "Merged mask saved at: /content/data/stage1_train/5419302571113e9aa74c7c0a9575333ca539b871a16c86ee92b35170b4ddc52e/merged_masks/5419302571113e9aa74c7c0a9575333ca539b871a16c86ee92b35170b4ddc52e_merged_mask.png\n",
            "Merged mask saved at: /content/data/stage1_train/6bd330234b763b77796d4804de8e224881c0fc8dd02650fa708b2edfd8c7461f/merged_masks/6bd330234b763b77796d4804de8e224881c0fc8dd02650fa708b2edfd8c7461f_merged_mask.png\n",
            "Merged mask saved at: /content/data/stage1_train/4596961c789d3b41916492918797724fe75128239fefc516c3ee75322b7926f0/merged_masks/4596961c789d3b41916492918797724fe75128239fefc516c3ee75322b7926f0_merged_mask.png\n",
            "Merged mask saved at: /content/data/stage1_train/b7a86f4968071e0f963fa87ef314fdd1b6c73a66355431cc53a37e193ba6be9b/merged_masks/b7a86f4968071e0f963fa87ef314fdd1b6c73a66355431cc53a37e193ba6be9b_merged_mask.png\n",
            "Merged mask saved at: /content/data/stage1_train/b1f23c4d27afed8af7b6b64793a3760bfea31b65f582d48aaa62d2b988ef2eac/merged_masks/b1f23c4d27afed8af7b6b64793a3760bfea31b65f582d48aaa62d2b988ef2eac_merged_mask.png\n",
            "Merged mask saved at: /content/data/stage1_train/ff599c7301daa1f783924ac8cbe3ce7b42878f15a39c2d19659189951f540f48/merged_masks/ff599c7301daa1f783924ac8cbe3ce7b42878f15a39c2d19659189951f540f48_merged_mask.png\n",
            "Merged mask saved at: /content/data/stage1_train/648636ee314d7bdba3ab2fc0fe49a863de35c3e2caf619039f678df67b526868/merged_masks/648636ee314d7bdba3ab2fc0fe49a863de35c3e2caf619039f678df67b526868_merged_mask.png\n",
            "Merged mask saved at: /content/data/stage1_train/a7f6194ddbeaefb1da571226a97785d09ccafc5893ce3c77078d2040bccfcb77/merged_masks/a7f6194ddbeaefb1da571226a97785d09ccafc5893ce3c77078d2040bccfcb77_merged_mask.png\n",
            "Merged mask saved at: /content/data/stage1_train/93c5638e7e6433b5c9cc87c152bcbe28873d2f9d6a392cca0642520807542a77/merged_masks/93c5638e7e6433b5c9cc87c152bcbe28873d2f9d6a392cca0642520807542a77_merged_mask.png\n",
            "Merged mask saved at: /content/data/stage1_train/e23e11414ee645b51081fb202d38b793f0c8ef2940f8228ded384899d21b02c2/merged_masks/e23e11414ee645b51081fb202d38b793f0c8ef2940f8228ded384899d21b02c2_merged_mask.png\n",
            "Merged mask saved at: /content/data/stage1_train/4d40de30a3db3bc4f241cb7f48e8497c11e8f20a99bf55788bdce17242029745/merged_masks/4d40de30a3db3bc4f241cb7f48e8497c11e8f20a99bf55788bdce17242029745_merged_mask.png\n",
            "Merged mask saved at: /content/data/stage1_train/0c2550a23b8a0f29a7575de8c61690d3c31bc897dd5ba66caec201d201a278c2/merged_masks/0c2550a23b8a0f29a7575de8c61690d3c31bc897dd5ba66caec201d201a278c2_merged_mask.png\n",
            "Merged mask saved at: /content/data/stage1_train/212b858a66f0d23768b8e3e1357704fc2f4cf4bbe7eed8cd59b5d01031d553e6/merged_masks/212b858a66f0d23768b8e3e1357704fc2f4cf4bbe7eed8cd59b5d01031d553e6_merged_mask.png\n",
            "Merged mask saved at: /content/data/stage1_train/958114e5f37d5e1420b410bd716753b3e874b175f2b6958ebf1ec2bdf776e41f/merged_masks/958114e5f37d5e1420b410bd716753b3e874b175f2b6958ebf1ec2bdf776e41f_merged_mask.png\n",
            "Merged mask saved at: /content/data/stage1_train/a65bbfc5673e8053b6ce49f39c79cf3a846fe5cc46dd93105f74fb07cf44606d/merged_masks/a65bbfc5673e8053b6ce49f39c79cf3a846fe5cc46dd93105f74fb07cf44606d_merged_mask.png\n",
            "Merged mask saved at: /content/data/stage1_train/a486f6ed4b8781e7883e433d06a83dd66db3e8b36d45b9976c4214820ee22629/merged_masks/a486f6ed4b8781e7883e433d06a83dd66db3e8b36d45b9976c4214820ee22629_merged_mask.png\n",
            "Merged mask saved at: /content/data/stage1_train/a6515d73077866808ad4cb837ecdac33612527b8a1041e82135e40fce2bb9380/merged_masks/a6515d73077866808ad4cb837ecdac33612527b8a1041e82135e40fce2bb9380_merged_mask.png\n",
            "Merged mask saved at: /content/data/stage1_train/193ffaa5272d5c421ae02130a64d98ad120ec70e4ed97a72cdcd4801ce93b066/merged_masks/193ffaa5272d5c421ae02130a64d98ad120ec70e4ed97a72cdcd4801ce93b066_merged_mask.png\n",
            "Merged mask saved at: /content/data/stage1_train/5d58600efa0c2667ec85595bf456a54e2bd6e6e9a5c0dff42d807bc9fe2b822e/merged_masks/5d58600efa0c2667ec85595bf456a54e2bd6e6e9a5c0dff42d807bc9fe2b822e_merged_mask.png\n",
            "Merged mask saved at: /content/data/stage1_train/0d2bf916cc8de90d02f4cd4c23ea79b227dbc45d845b4124ffea380c92d34c8c/merged_masks/0d2bf916cc8de90d02f4cd4c23ea79b227dbc45d845b4124ffea380c92d34c8c_merged_mask.png\n",
            "Merged mask saved at: /content/data/stage1_train/24a20f2a529cede5695df2422a3986505b5826bb10b10781d6db2074cf3de7b3/merged_masks/24a20f2a529cede5695df2422a3986505b5826bb10b10781d6db2074cf3de7b3_merged_mask.png\n",
            "Merged mask saved at: /content/data/stage1_train/c2a646a819f59a4e816e0ee8ea00ba10d5de9ac20b5a435c41192637790dabee/merged_masks/c2a646a819f59a4e816e0ee8ea00ba10d5de9ac20b5a435c41192637790dabee_merged_mask.png\n",
            "Merged mask saved at: /content/data/stage1_train/6c85029f850d392791e13f74963391054ff54e508967bbd091ee510e9e58e011/merged_masks/6c85029f850d392791e13f74963391054ff54e508967bbd091ee510e9e58e011_merged_mask.png\n",
            "Merged mask saved at: /content/data/stage1_train/7aa1aaa5e032a980f434c8ed63efb57ab0d338d6154c47f7bb75afdc89f43c04/merged_masks/7aa1aaa5e032a980f434c8ed63efb57ab0d338d6154c47f7bb75afdc89f43c04_merged_mask.png\n",
            "Merged mask saved at: /content/data/stage1_train/6ab24e7e1f6c9fdd371c5edae1bbb20abeeb976811f8ab2375880b4483860f4d/merged_masks/6ab24e7e1f6c9fdd371c5edae1bbb20abeeb976811f8ab2375880b4483860f4d_merged_mask.png\n",
            "Merged mask saved at: /content/data/stage1_train/d4d88391bc399a3715440d4da9f8b7a973e010dc1edd9551df2e5a538685add5/merged_masks/d4d88391bc399a3715440d4da9f8b7a973e010dc1edd9551df2e5a538685add5_merged_mask.png\n",
            "Merged mask saved at: /content/data/stage1_train/724b6b7044522f6d5ea35b55f8fa71d0a45a28687be2b7cac3149943ab816eec/merged_masks/724b6b7044522f6d5ea35b55f8fa71d0a45a28687be2b7cac3149943ab816eec_merged_mask.png\n",
            "Merged mask saved at: /content/data/stage1_train/f4b7c24baf69b8752c49d0eb5db4b7b5e1524945d48e54925bff401d5658045d/merged_masks/f4b7c24baf69b8752c49d0eb5db4b7b5e1524945d48e54925bff401d5658045d_merged_mask.png\n",
            "Merged mask saved at: /content/data/stage1_train/9b25b8ffd5f52b6c3d235a42d51d380503d1f80b61ef0f62eeb696f5977c38e6/merged_masks/9b25b8ffd5f52b6c3d235a42d51d380503d1f80b61ef0f62eeb696f5977c38e6_merged_mask.png\n",
            "Merged mask saved at: /content/data/stage1_train/be771d6831e3f8f1af4696bc08a582f163735db5baf9906e4729acc6a05e1187/merged_masks/be771d6831e3f8f1af4696bc08a582f163735db5baf9906e4729acc6a05e1187_merged_mask.png\n",
            "Merged mask saved at: /content/data/stage1_train/76a372bfd3fad3ea30cb163b560e52607a8281f5b042484c3a0fc6d0aa5a7450/merged_masks/76a372bfd3fad3ea30cb163b560e52607a8281f5b042484c3a0fc6d0aa5a7450_merged_mask.png\n",
            "Merged mask saved at: /content/data/stage1_train/fe80a2cf3c93dafad8c364fdd1646b0ba4db056cdb7bdb81474f957064812bba/merged_masks/fe80a2cf3c93dafad8c364fdd1646b0ba4db056cdb7bdb81474f957064812bba_merged_mask.png\n",
            "Merged mask saved at: /content/data/stage1_train/ead9464a50a17f74bf1b6471d94ecce8d887cf518c8fedc6c6048eb948bc4e49/merged_masks/ead9464a50a17f74bf1b6471d94ecce8d887cf518c8fedc6c6048eb948bc4e49_merged_mask.png\n",
            "Merged mask saved at: /content/data/stage1_train/f9ea1a1159c33f39bbe5f18bb278d961188b40508277eab7c0b4b91219b37b5d/merged_masks/f9ea1a1159c33f39bbe5f18bb278d961188b40508277eab7c0b4b91219b37b5d_merged_mask.png\n",
            "Merged mask saved at: /content/data/stage1_train/8ecdb93582b2d5270457b36651b62776256ade3aaa2d7432ae65c14f07432d49/merged_masks/8ecdb93582b2d5270457b36651b62776256ade3aaa2d7432ae65c14f07432d49_merged_mask.png\n",
            "Merged mask saved at: /content/data/stage1_train/da5f98f2b8a64eee735a398de48ed42cd31bf17a6063db46a9e0783ac13cd844/merged_masks/da5f98f2b8a64eee735a398de48ed42cd31bf17a6063db46a9e0783ac13cd844_merged_mask.png\n",
            "Merged mask saved at: /content/data/stage1_train/b24ea5c268469a95ed155eeaf809e36030b78a2eb530a0cb2380cdc1ccdb7dd1/merged_masks/b24ea5c268469a95ed155eeaf809e36030b78a2eb530a0cb2380cdc1ccdb7dd1_merged_mask.png\n",
            "Merged mask saved at: /content/data/stage1_train/c8ca945abc29d262a5525e4c2585541bba33fa77c86a47c94575d8e5b54c83fb/merged_masks/c8ca945abc29d262a5525e4c2585541bba33fa77c86a47c94575d8e5b54c83fb_merged_mask.png\n",
            "Merged mask saved at: /content/data/stage1_train/1d4a5e729bb96b08370789cad0791f6e52ce0ffe1fcc97a04046420b43c851dd/merged_masks/1d4a5e729bb96b08370789cad0791f6e52ce0ffe1fcc97a04046420b43c851dd_merged_mask.png\n",
            "Merged mask saved at: /content/data/stage1_train/785555c0cbb49dad835635217085287a8cc61c27d26f0e106b70c1dfd05784dc/merged_masks/785555c0cbb49dad835635217085287a8cc61c27d26f0e106b70c1dfd05784dc_merged_mask.png\n",
            "Merged mask saved at: /content/data/stage1_train/1c681dfa5cf7e413305d2e90ee47553a46e29cce4f6ed034c8297e511714f867/merged_masks/1c681dfa5cf7e413305d2e90ee47553a46e29cce4f6ed034c8297e511714f867_merged_mask.png\n",
            "Merged mask saved at: /content/data/stage1_train/b3b1626f8ad156acb2963d1faa6a368f9378a266c3b90d9321087fdc5b3032b4/merged_masks/b3b1626f8ad156acb2963d1faa6a368f9378a266c3b90d9321087fdc5b3032b4_merged_mask.png\n",
            "Merged mask saved at: /content/data/stage1_train/fec226e45f49ab81ab71e0eaa1248ba09b56a328338dce93a43f4044eababed5/merged_masks/fec226e45f49ab81ab71e0eaa1248ba09b56a328338dce93a43f4044eababed5_merged_mask.png\n",
            "Merged mask saved at: /content/data/stage1_train/7c0157913223365720209ac83ff2e0b1b2b460173acd615c67646014093a2b97/merged_masks/7c0157913223365720209ac83ff2e0b1b2b460173acd615c67646014093a2b97_merged_mask.png\n",
            "Merged mask saved at: /content/data/stage1_train/f43169e3d8b4f71e687945b9e72cbfdfe2e40e68842568e6a30c60d64c1378b6/merged_masks/f43169e3d8b4f71e687945b9e72cbfdfe2e40e68842568e6a30c60d64c1378b6_merged_mask.png\n",
            "Merged mask saved at: /content/data/stage1_train/2bf594e9d06f78b4b79d7ffb395497a0a91126b6b0d710d7a9cee21f5c3bd177/merged_masks/2bf594e9d06f78b4b79d7ffb395497a0a91126b6b0d710d7a9cee21f5c3bd177_merged_mask.png\n",
            "Merged mask saved at: /content/data/stage1_train/2a2032c4ed78f3fc64de7e5efd0bec26a81680b07404eaa54a1744b7ab3f8365/merged_masks/2a2032c4ed78f3fc64de7e5efd0bec26a81680b07404eaa54a1744b7ab3f8365_merged_mask.png\n",
            "Merged mask saved at: /content/data/stage1_train/5afb7932e9c7328f4fb1d7a8166a3699d6cdc5192b93758a75e9956f1513c5a3/merged_masks/5afb7932e9c7328f4fb1d7a8166a3699d6cdc5192b93758a75e9956f1513c5a3_merged_mask.png\n",
            "Merged mask saved at: /content/data/stage1_train/b1eb0123fe2d8c825694b193efb7b923d95effac9558ee4eaf3116374c2c94fe/merged_masks/b1eb0123fe2d8c825694b193efb7b923d95effac9558ee4eaf3116374c2c94fe_merged_mask.png\n",
            "Merged mask saved at: /content/data/stage1_train/b4de1e3eec159d8af1bd5447696f8996c31709edaf33e26ba9613816705847db/merged_masks/b4de1e3eec159d8af1bd5447696f8996c31709edaf33e26ba9613816705847db_merged_mask.png\n",
            "Merged mask saved at: /content/data/stage1_train/c53326fe49fc26b7fe602b9d8c0c2da2cb157690b44c2b9351a93f8d9bd8043d/merged_masks/c53326fe49fc26b7fe602b9d8c0c2da2cb157690b44c2b9351a93f8d9bd8043d_merged_mask.png\n",
            "Merged mask saved at: /content/data/stage1_train/f93ec5e683d81005ffc2a84a1c0299b2406ad14b764b824e013f7ca3a13833b5/merged_masks/f93ec5e683d81005ffc2a84a1c0299b2406ad14b764b824e013f7ca3a13833b5_merged_mask.png\n",
            "Merged mask saved at: /content/data/stage1_train/516a0e20327d6dfcedcf57e3056115e4fb29cdf4cb349003bdfc75c9b7f5c2cf/merged_masks/516a0e20327d6dfcedcf57e3056115e4fb29cdf4cb349003bdfc75c9b7f5c2cf_merged_mask.png\n",
            "Merged mask saved at: /content/data/stage1_train/bbce7ebc40323a0eff6574d0c3842f50f907f55fbfb46c777f0ed9a49e98ff9b/merged_masks/bbce7ebc40323a0eff6574d0c3842f50f907f55fbfb46c777f0ed9a49e98ff9b_merged_mask.png\n",
            "Merged mask saved at: /content/data/stage1_train/308084bdd358e0bd3dc7f2b409d6f34cc119bce30216f44667fc2be43ff31722/merged_masks/308084bdd358e0bd3dc7f2b409d6f34cc119bce30216f44667fc2be43ff31722_merged_mask.png\n",
            "Merged mask saved at: /content/data/stage1_train/00ae65c1c6631ae6f2be1a449902976e6eb8483bf6b0740d00530220832c6d3e/merged_masks/00ae65c1c6631ae6f2be1a449902976e6eb8483bf6b0740d00530220832c6d3e_merged_mask.png\n",
            "Merged mask saved at: /content/data/stage1_train/3bf7873f11823f4b64422f49c8248dd95c0d01f9ae9075ae3d233bbb21a3d875/merged_masks/3bf7873f11823f4b64422f49c8248dd95c0d01f9ae9075ae3d233bbb21a3d875_merged_mask.png\n",
            "Merged mask saved at: /content/data/stage1_train/ed4b8e0d756836be7acb2e2b7799c473b52424e3092a71d3c6d23558e500dc4c/merged_masks/ed4b8e0d756836be7acb2e2b7799c473b52424e3092a71d3c6d23558e500dc4c_merged_mask.png\n",
            "Merged mask saved at: /content/data/stage1_train/4d4ebfcae4374165ea6ae7c7e18fd0ba5014c3c860ee2489c59e25ddd45e7a32/merged_masks/4d4ebfcae4374165ea6ae7c7e18fd0ba5014c3c860ee2489c59e25ddd45e7a32_merged_mask.png\n",
            "Merged mask saved at: /content/data/stage1_train/7b5987a24dd57325e82812371b3f4df7edc528e0526754ba94cf3a1ea4df25d2/merged_masks/7b5987a24dd57325e82812371b3f4df7edc528e0526754ba94cf3a1ea4df25d2_merged_mask.png\n",
            "Merged mask saved at: /content/data/stage1_train/c901794d1a421d52e5734500c0a2a8ca84651fb93b19cec2f411855e70cae339/merged_masks/c901794d1a421d52e5734500c0a2a8ca84651fb93b19cec2f411855e70cae339_merged_mask.png\n",
            "Merged mask saved at: /content/data/stage1_train/c0f172831b8017c769ff0e80f85b096ac939e79de3d524e0826fbb95221365da/merged_masks/c0f172831b8017c769ff0e80f85b096ac939e79de3d524e0826fbb95221365da_merged_mask.png\n",
            "Merged mask saved at: /content/data/stage1_train/d52958107d0b1f0288f50f346a833df3df485b92d5516cfcb536e73ab7adafd0/merged_masks/d52958107d0b1f0288f50f346a833df3df485b92d5516cfcb536e73ab7adafd0_merged_mask.png\n",
            "Merged mask saved at: /content/data/stage1_train/da31f2aa8601afec5c45180a2c448cb9c4a8ec7b35e75190d6ba3588f69058c8/merged_masks/da31f2aa8601afec5c45180a2c448cb9c4a8ec7b35e75190d6ba3588f69058c8_merged_mask.png\n",
            "Merged mask saved at: /content/data/stage1_train/1bd0f2b3000b7c7723f25335fabfcdddcdf4595dd7de1b142d52bb7a186885f0/merged_masks/1bd0f2b3000b7c7723f25335fabfcdddcdf4595dd7de1b142d52bb7a186885f0_merged_mask.png\n",
            "Merged mask saved at: /content/data/stage1_train/cbca32daaae36a872a11da4eaff65d1068ff3f154eedc9d3fc0c214a4e5d32bd/merged_masks/cbca32daaae36a872a11da4eaff65d1068ff3f154eedc9d3fc0c214a4e5d32bd_merged_mask.png\n",
            "Merged mask saved at: /content/data/stage1_train/5cc036b65f7f2d5480e2be111a561f3713ac021683a9a9138dc49492a29ce856/merged_masks/5cc036b65f7f2d5480e2be111a561f3713ac021683a9a9138dc49492a29ce856_merged_mask.png\n",
            "Merged mask saved at: /content/data/stage1_train/1f6b7cead15344593b32d5f2345fc26713dc74d9b31306c824209d67da401fd8/merged_masks/1f6b7cead15344593b32d5f2345fc26713dc74d9b31306c824209d67da401fd8_merged_mask.png\n",
            "Merged mask saved at: /content/data/stage1_train/e4ae1ceddb279bac30273ca7ac480025ce2e7287328f5272234b5bbca6d13135/merged_masks/e4ae1ceddb279bac30273ca7ac480025ce2e7287328f5272234b5bbca6d13135_merged_mask.png\n",
            "Merged mask saved at: /content/data/stage1_train/4bf6a5ec42032bb8dbbb10d25fdc5211b2fe1ce44b6e577ef89dbda17697d819/merged_masks/4bf6a5ec42032bb8dbbb10d25fdc5211b2fe1ce44b6e577ef89dbda17697d819_merged_mask.png\n",
            "Merged mask saved at: /content/data/stage1_train/0bf33d3db4282d918ec3da7112d0bf0427d4eafe74b3ee0bb419770eefe8d7d6/merged_masks/0bf33d3db4282d918ec3da7112d0bf0427d4eafe74b3ee0bb419770eefe8d7d6_merged_mask.png\n",
            "Merged mask saved at: /content/data/stage1_train/0b0d577159f0d6c266f360f7b8dfde46e16fa665138bf577ec3c6f9c70c0cd1e/merged_masks/0b0d577159f0d6c266f360f7b8dfde46e16fa665138bf577ec3c6f9c70c0cd1e_merged_mask.png\n",
            "Merged mask saved at: /content/data/stage1_train/a3a65623e079af7988b0c1cf1e54041003c6d730c91ecf200b71c47b93a67ed6/merged_masks/a3a65623e079af7988b0c1cf1e54041003c6d730c91ecf200b71c47b93a67ed6_merged_mask.png\n",
            "Merged mask saved at: /content/data/stage1_train/d910b2b1be8406caecfe31a503d412ffc4e3d488286242ebc7381836121dd4ef/merged_masks/d910b2b1be8406caecfe31a503d412ffc4e3d488286242ebc7381836121dd4ef_merged_mask.png\n",
            "Merged mask saved at: /content/data/stage1_train/13c8ff1f49886e91c98ce795c93648ad8634c782ff57eb928ce29496b0425057/merged_masks/13c8ff1f49886e91c98ce795c93648ad8634c782ff57eb928ce29496b0425057_merged_mask.png\n",
            "Merged mask saved at: /content/data/stage1_train/003cee89357d9fe13516167fd67b609a164651b21934585648c740d2c3d86dc1/merged_masks/003cee89357d9fe13516167fd67b609a164651b21934585648c740d2c3d86dc1_merged_mask.png\n",
            "Merged mask saved at: /content/data/stage1_train/1a75de9e11303142864efed27e69ea1960dbd82ca910de221a777ed2caf35a6b/merged_masks/1a75de9e11303142864efed27e69ea1960dbd82ca910de221a777ed2caf35a6b_merged_mask.png\n",
            "Merged mask saved at: /content/data/stage1_train/c043d5ac9dd466052e53491d0d513b0684f493d320b820f6dc2e05330ce58ec3/merged_masks/c043d5ac9dd466052e53491d0d513b0684f493d320b820f6dc2e05330ce58ec3_merged_mask.png\n",
            "Merged mask saved at: /content/data/stage1_train/5afcbfd0dd64392aa1e233b996d0bfb4354ee7119f30ae111c33d0fe4df11590/merged_masks/5afcbfd0dd64392aa1e233b996d0bfb4354ee7119f30ae111c33d0fe4df11590_merged_mask.png\n",
            "Merged mask saved at: /content/data/stage1_train/4dbbb275960ab9e4ec2c66c8d3000f7c70c8dce5112df591b95db84e25efa6e9/merged_masks/4dbbb275960ab9e4ec2c66c8d3000f7c70c8dce5112df591b95db84e25efa6e9_merged_mask.png\n",
            "Merged mask saved at: /content/data/stage1_train/4ff152d76db095f75c664dd48e41e8c9953fd0e784535883916383165e28a08e/merged_masks/4ff152d76db095f75c664dd48e41e8c9953fd0e784535883916383165e28a08e_merged_mask.png\n",
            "Merged mask saved at: /content/data/stage1_train/bf4a61bb81589c9a67e3343408befd3e135af5e88b50c17f998f2131d24bc271/merged_masks/bf4a61bb81589c9a67e3343408befd3e135af5e88b50c17f998f2131d24bc271_merged_mask.png\n",
            "Merged mask saved at: /content/data/stage1_train/86f9087eb1d0875ffb1a28cca7645b14d6c66f995c7d96aa13969d2f8115d533/merged_masks/86f9087eb1d0875ffb1a28cca7645b14d6c66f995c7d96aa13969d2f8115d533_merged_mask.png\n",
            "Merged mask saved at: /content/data/stage1_train/4d2cff9a0c8df3a7ef6100fda6f66e865a7670af6a18564767d8019b9ed2fd7b/merged_masks/4d2cff9a0c8df3a7ef6100fda6f66e865a7670af6a18564767d8019b9ed2fd7b_merged_mask.png\n",
            "Merged mask saved at: /content/data/stage1_train/1c2f9e121fc207efff79d46390df1a740566b683ff56a96d8cabe830a398dd2e/merged_masks/1c2f9e121fc207efff79d46390df1a740566b683ff56a96d8cabe830a398dd2e_merged_mask.png\n",
            "Merged mask saved at: /content/data/stage1_train/3b3f516ebc9a16cff287a5ffd3a1861a345a6d38bedbba74f1c0b0e0eac62afd/merged_masks/3b3f516ebc9a16cff287a5ffd3a1861a345a6d38bedbba74f1c0b0e0eac62afd_merged_mask.png\n",
            "Merged mask saved at: /content/data/stage1_train/f81ca7ee25e733ff37240c34c8e3044d9937bb0166e315952ebde3f237ecb86f/merged_masks/f81ca7ee25e733ff37240c34c8e3044d9937bb0166e315952ebde3f237ecb86f_merged_mask.png\n",
            "Merged mask saved at: /content/data/stage1_train/a101a00fea63f0c43abe5323f4f890bec881eb0caa3bc8498991ff5fd207ed91/merged_masks/a101a00fea63f0c43abe5323f4f890bec881eb0caa3bc8498991ff5fd207ed91_merged_mask.png\n",
            "Merged mask saved at: /content/data/stage1_train/305a8baaf726d7c9e695bff31d3a6a61445999a4732f0a3e6174dc9dcbe43931/merged_masks/305a8baaf726d7c9e695bff31d3a6a61445999a4732f0a3e6174dc9dcbe43931_merged_mask.png\n",
            "Merged mask saved at: /content/data/stage1_train/d3ce382f190ee24729bd2e80684c11bef72bc9c733cdbbc19a17d2c1b2e775f7/merged_masks/d3ce382f190ee24729bd2e80684c11bef72bc9c733cdbbc19a17d2c1b2e775f7_merged_mask.png\n",
            "Merged mask saved at: /content/data/stage1_train/dabfee30b46d23569c63fa7253ef10b2407fbe8023035a5030252313cb718097/merged_masks/dabfee30b46d23569c63fa7253ef10b2407fbe8023035a5030252313cb718097_merged_mask.png\n",
            "Merged mask saved at: /content/data/stage1_train/08ae2741df2f5ac815c0f272a8c532b5167ee853be9b939b9b8b7fa93560868a/merged_masks/08ae2741df2f5ac815c0f272a8c532b5167ee853be9b939b9b8b7fa93560868a_merged_mask.png\n",
            "Merged mask saved at: /content/data/stage1_train/57b49733c5a3c268b013553635a826e6a1b10e699bbd19c3b842375fe0adf344/merged_masks/57b49733c5a3c268b013553635a826e6a1b10e699bbd19c3b842375fe0adf344_merged_mask.png\n",
            "Merged mask saved at: /content/data/stage1_train/442c4eb0185698fe7d148c108a46f74abd399aecda2f4f22981a1671cd95dd7d/merged_masks/442c4eb0185698fe7d148c108a46f74abd399aecda2f4f22981a1671cd95dd7d_merged_mask.png\n",
            "Merged mask saved at: /content/data/stage1_train/0287e7ee5b007c91ae2bd7628d09735e70496bc6127ecb7f3dd043e04ce37426/merged_masks/0287e7ee5b007c91ae2bd7628d09735e70496bc6127ecb7f3dd043e04ce37426_merged_mask.png\n",
            "Merged mask saved at: /content/data/stage1_train/9fb32aba1c2fd53273dca9abefac944ba747f578da82dfaa1249f332a2324944/merged_masks/9fb32aba1c2fd53273dca9abefac944ba747f578da82dfaa1249f332a2324944_merged_mask.png\n",
            "Merged mask saved at: /content/data/stage1_train/7b38c9173ebe69b4c6ba7e703c0c27f39305d9b2910f46405993d2ea7a963b80/merged_masks/7b38c9173ebe69b4c6ba7e703c0c27f39305d9b2910f46405993d2ea7a963b80_merged_mask.png\n",
            "Merged mask saved at: /content/data/stage1_train/094afe36759e7daffe12188ab5987581d405b06720f1d5acf3f2614f404df380/merged_masks/094afe36759e7daffe12188ab5987581d405b06720f1d5acf3f2614f404df380_merged_mask.png\n",
            "Merged mask saved at: /content/data/stage1_train/077f026f4ab0f0bcc0856644d99cbf639e443ec4f067d7b708bc6cecac609424/merged_masks/077f026f4ab0f0bcc0856644d99cbf639e443ec4f067d7b708bc6cecac609424_merged_mask.png\n",
            "Merged mask saved at: /content/data/stage1_train/b3a9f4c9035a0df7e033b18c63bfb0f0d87ff5a4d9aa8bdf417159bb733abb80/merged_masks/b3a9f4c9035a0df7e033b18c63bfb0f0d87ff5a4d9aa8bdf417159bb733abb80_merged_mask.png\n",
            "Merged mask saved at: /content/data/stage1_train/88d5a03f8ecd459f076a06e0d5035149193bfdd727c30905de19054dcb9018ae/merged_masks/88d5a03f8ecd459f076a06e0d5035149193bfdd727c30905de19054dcb9018ae_merged_mask.png\n",
            "Merged mask saved at: /content/data/stage1_train/317832f90f02c5e916b2ac0f3bcb8da9928d8e400b747b2c68e544e56adacf6b/merged_masks/317832f90f02c5e916b2ac0f3bcb8da9928d8e400b747b2c68e544e56adacf6b_merged_mask.png\n",
            "Merged mask saved at: /content/data/stage1_train/a891bbc89143bca7a717386144eb061ec2d599cba24681389bcb3a2fedb8ff8c/merged_masks/a891bbc89143bca7a717386144eb061ec2d599cba24681389bcb3a2fedb8ff8c_merged_mask.png\n",
            "Merged mask saved at: /content/data/stage1_train/8a65e41c630d85c0004ce1772ff66fbc87aca34cb165f695255b39343fcfc832/merged_masks/8a65e41c630d85c0004ce1772ff66fbc87aca34cb165f695255b39343fcfc832_merged_mask.png\n",
            "Merged mask saved at: /content/data/stage1_train/ad473063dab4bf4f2461d9a99a9c0166d4871f156516d9e0a523484e7cf2258d/merged_masks/ad473063dab4bf4f2461d9a99a9c0166d4871f156516d9e0a523484e7cf2258d_merged_mask.png\n",
            "Merged mask saved at: /content/data/stage1_train/4829177d0b36abdd92c4ef0c7834cbc49f95232076bdd7e828f1f7cbb5ed80ec/merged_masks/4829177d0b36abdd92c4ef0c7834cbc49f95232076bdd7e828f1f7cbb5ed80ec_merged_mask.png\n",
            "Merged mask saved at: /content/data/stage1_train/0a7d30b252359a10fd298b638b90cb9ada3acced4e0c0e5a3692013f432ee4e9/merged_masks/0a7d30b252359a10fd298b638b90cb9ada3acced4e0c0e5a3692013f432ee4e9_merged_mask.png\n",
            "Merged mask saved at: /content/data/stage1_train/6b0ac2ab04c09dced54058ec504a4947f8ecd5727dfca7e0b3f69de71d0d31c7/merged_masks/6b0ac2ab04c09dced54058ec504a4947f8ecd5727dfca7e0b3f69de71d0d31c7_merged_mask.png\n",
            "Merged mask saved at: /content/data/stage1_train/356d9903d16074f152fe8f2f0ef555d9959c53264228eae7373cad5cf35d4e85/merged_masks/356d9903d16074f152fe8f2f0ef555d9959c53264228eae7373cad5cf35d4e85_merged_mask.png\n",
            "Merged mask saved at: /content/data/stage1_train/1b6044e4858a9b7cee9b0028d8e54fbc8fb72e6c4424ab5b9f3859bfc72b33c5/merged_masks/1b6044e4858a9b7cee9b0028d8e54fbc8fb72e6c4424ab5b9f3859bfc72b33c5_merged_mask.png\n",
            "Merged mask saved at: /content/data/stage1_train/6bd18a218d25247dc456aed124c066a6397fb93086e860e4d04014bfa9c9555d/merged_masks/6bd18a218d25247dc456aed124c066a6397fb93086e860e4d04014bfa9c9555d_merged_mask.png\n",
            "Merged mask saved at: /content/data/stage1_train/7ba20aa731cc21af74a8d940254176cbad1bdc44f240b550341c6d9c27509daa/merged_masks/7ba20aa731cc21af74a8d940254176cbad1bdc44f240b550341c6d9c27509daa_merged_mask.png\n",
            "Merged mask saved at: /content/data/stage1_train/1f9e429c12f4477221b5b855a5f494fda2ef6d064ff75b061ffaf093e91758c5/merged_masks/1f9e429c12f4477221b5b855a5f494fda2ef6d064ff75b061ffaf093e91758c5_merged_mask.png\n",
            "Merged mask saved at: /content/data/stage1_train/4ca5081854df7bbcaa4934fcf34318f82733a0f8c05b942c2265eea75419d62f/merged_masks/4ca5081854df7bbcaa4934fcf34318f82733a0f8c05b942c2265eea75419d62f_merged_mask.png\n",
            "Merged mask saved at: /content/data/stage1_train/6d327ab4f0e3604fa6e9b8041c7e6db86ab809890d886c691f6e59c9168b7fbe/merged_masks/6d327ab4f0e3604fa6e9b8041c7e6db86ab809890d886c691f6e59c9168b7fbe_merged_mask.png\n",
            "Merged mask saved at: /content/data/stage1_train/f0c9f135c62572f3669a75b2c735e4477dc77fac85e653426ee2b3bcfbed7aaf/merged_masks/f0c9f135c62572f3669a75b2c735e4477dc77fac85e653426ee2b3bcfbed7aaf_merged_mask.png\n",
            "Merged mask saved at: /content/data/stage1_train/d8607b21411c9c8ab532faaeba15f8818a92025897950f94ee4da4f74f53660a/merged_masks/d8607b21411c9c8ab532faaeba15f8818a92025897950f94ee4da4f74f53660a_merged_mask.png\n",
            "Merged mask saved at: /content/data/stage1_train/e414b54f2036bcab61b9c0a966f65adf4b169097c13c740e03d6292ac076258c/merged_masks/e414b54f2036bcab61b9c0a966f65adf4b169097c13c740e03d6292ac076258c_merged_mask.png\n",
            "Merged mask saved at: /content/data/stage1_train/c89ac06daef5c819309f03d6a35792d1a8a66abb8cb3414013ffe71d3dd9fe96/merged_masks/c89ac06daef5c819309f03d6a35792d1a8a66abb8cb3414013ffe71d3dd9fe96_merged_mask.png\n",
            "Merged mask saved at: /content/data/stage1_train/6b61ab2e3ff0e2c7a55fd71e290b51e142555cf82bc7574fc27326735e8acbd1/merged_masks/6b61ab2e3ff0e2c7a55fd71e290b51e142555cf82bc7574fc27326735e8acbd1_merged_mask.png\n",
            "Merged mask saved at: /content/data/stage1_train/4193474b2f1c72f735b13633b219d9cabdd43c21d9c2bb4dfc4809f104ba4c06/merged_masks/4193474b2f1c72f735b13633b219d9cabdd43c21d9c2bb4dfc4809f104ba4c06_merged_mask.png\n",
            "Merged mask saved at: /content/data/stage1_train/4d4f254f3b8b4408d661df3735591554b2f6587ce1952928d619b48010d55467/merged_masks/4d4f254f3b8b4408d661df3735591554b2f6587ce1952928d619b48010d55467_merged_mask.png\n",
            "Merged mask saved at: /content/data/stage1_train/f4c4db3df4ff0de90f44b027fc2e28c16bf7e5c75ea75b0a9762bbb7ac86e7a3/merged_masks/f4c4db3df4ff0de90f44b027fc2e28c16bf7e5c75ea75b0a9762bbb7ac86e7a3_merged_mask.png\n",
            "Merged mask saved at: /content/data/stage1_train/5ef4442e5b8b0b4cf824b61be4050dfd793d846e0a6800afa4425a2f66e91456/merged_masks/5ef4442e5b8b0b4cf824b61be4050dfd793d846e0a6800afa4425a2f66e91456_merged_mask.png\n",
            "Merged mask saved at: /content/data/stage1_train/cb4df20a83b2f38b394c67f1d9d4aef29f9794d5345da3576318374ec3a11490/merged_masks/cb4df20a83b2f38b394c67f1d9d4aef29f9794d5345da3576318374ec3a11490_merged_mask.png\n",
            "Merged mask saved at: /content/data/stage1_train/a1777737270c5f96c4523dff76e4097756f8f7d4c9d59bac079e31f9510deabd/merged_masks/a1777737270c5f96c4523dff76e4097756f8f7d4c9d59bac079e31f9510deabd_merged_mask.png\n",
            "Merged mask saved at: /content/data/stage1_train/6fc83b33896f58a4a067d8fdcf51f15d4ae9be05d8c3815d23336f1f2a8c45a1/merged_masks/6fc83b33896f58a4a067d8fdcf51f15d4ae9be05d8c3815d23336f1f2a8c45a1_merged_mask.png\n",
            "Merged mask saved at: /content/data/stage1_train/d1dbc6ee7c44a7027e935d040e496793186b884a1028d0e26284a206c6f5aff0/merged_masks/d1dbc6ee7c44a7027e935d040e496793186b884a1028d0e26284a206c6f5aff0_merged_mask.png\n",
            "Merged mask saved at: /content/data/stage1_train/da79a2b105f055ce75404a04bf53bbb51d518d9381af7b4ac714c137f101d920/merged_masks/da79a2b105f055ce75404a04bf53bbb51d518d9381af7b4ac714c137f101d920_merged_mask.png\n",
            "Merged mask saved at: /content/data/stage1_train/0acd2c223d300ea55d0546797713851e818e5c697d073b7f4091b96ce0f3d2fe/merged_masks/0acd2c223d300ea55d0546797713851e818e5c697d073b7f4091b96ce0f3d2fe_merged_mask.png\n",
            "Merged mask saved at: /content/data/stage1_train/cdab367b30db47061df837c1ae9fa875d6057614f797332d37d3513517d6c694/merged_masks/cdab367b30db47061df837c1ae9fa875d6057614f797332d37d3513517d6c694_merged_mask.png\n",
            "Merged mask saved at: /content/data/stage1_train/351771edfc5db5665ded8aa4940257276b6526663c76e3b60b92a52584d8943c/merged_masks/351771edfc5db5665ded8aa4940257276b6526663c76e3b60b92a52584d8943c_merged_mask.png\n",
            "Merged mask saved at: /content/data/stage1_train/aaa52100fafaa50877e777229cdf6cde7c422f145ff6719449b80631d9a3b0f6/merged_masks/aaa52100fafaa50877e777229cdf6cde7c422f145ff6719449b80631d9a3b0f6_merged_mask.png\n",
            "Merged mask saved at: /content/data/stage1_train/abbfff07379bceb69dba41dad8b0db5eb80cc8baf3d4af87b7ee20b0dac32215/merged_masks/abbfff07379bceb69dba41dad8b0db5eb80cc8baf3d4af87b7ee20b0dac32215_merged_mask.png\n",
            "Merged mask saved at: /content/data/stage1_train/d32ea6d318626ca14a967d0c1ad3218aebfe636624a8d1173f5150dde8ff38cf/merged_masks/d32ea6d318626ca14a967d0c1ad3218aebfe636624a8d1173f5150dde8ff38cf_merged_mask.png\n",
            "Merged mask saved at: /content/data/stage1_train/afa272dc01825d4b929b3bfc79a10f68dd3c163c450d858b964d1ce0bc93e131/merged_masks/afa272dc01825d4b929b3bfc79a10f68dd3c163c450d858b964d1ce0bc93e131_merged_mask.png\n",
            "Merged mask saved at: /content/data/stage1_train/a90401357d50e1376354ae6e5f56a2e4dff3fdb5a4e8d50316673b2b8f1f293b/merged_masks/a90401357d50e1376354ae6e5f56a2e4dff3fdb5a4e8d50316673b2b8f1f293b_merged_mask.png\n",
            "Merged mask saved at: /content/data/stage1_train/c15c652c08153fb781a5349123ab8f80bb2a8680a41eb8e89e547ae01b7a5441/merged_masks/c15c652c08153fb781a5349123ab8f80bb2a8680a41eb8e89e547ae01b7a5441_merged_mask.png\n",
            "Merged mask saved at: /content/data/stage1_train/4d14a3629b6af6de86d850be236b833a7bfcbf6d8665fd73c6dc339e06c14607/merged_masks/4d14a3629b6af6de86d850be236b833a7bfcbf6d8665fd73c6dc339e06c14607_merged_mask.png\n",
            "Merged mask saved at: /content/data/stage1_train/a90cad45551d62c5cfa89517df8eb5e8f2f87f1a6e6678e606907afcbad91731/merged_masks/a90cad45551d62c5cfa89517df8eb5e8f2f87f1a6e6678e606907afcbad91731_merged_mask.png\n",
            "Merged mask saved at: /content/data/stage1_train/b82548ab19466b461614e6055aaf49fbc24c03a2d20e65575b680c7c28268807/merged_masks/b82548ab19466b461614e6055aaf49fbc24c03a2d20e65575b680c7c28268807_merged_mask.png\n",
            "Merged mask saved at: /content/data/stage1_train/b909aa8f6f4bec37c3fb6ff5a85d166162d07983506fcc57be742b0f9dbafbf7/merged_masks/b909aa8f6f4bec37c3fb6ff5a85d166162d07983506fcc57be742b0f9dbafbf7_merged_mask.png\n",
            "Merged mask saved at: /content/data/stage1_train/63d981a107091e1e3059102ce08870744dde173afe324bc2274c17d42f661778/merged_masks/63d981a107091e1e3059102ce08870744dde173afe324bc2274c17d42f661778_merged_mask.png\n",
            "Merged mask saved at: /content/data/stage1_train/0e4c2e2780de7ec4312f0efcd86b07c3738d21df30bb4643659962b4da5505a3/merged_masks/0e4c2e2780de7ec4312f0efcd86b07c3738d21df30bb4643659962b4da5505a3_merged_mask.png\n",
            "Merged mask saved at: /content/data/stage1_train/08151b19806eebd58e5acec7e138dbfbb1761f41a1ab9620466584ecc7d5fada/merged_masks/08151b19806eebd58e5acec7e138dbfbb1761f41a1ab9620466584ecc7d5fada_merged_mask.png\n",
            "Merged mask saved at: /content/data/stage1_train/d2815f2f616d92be35c7e8dcfe592deec88516aef9ffc9b21257f52b7d6d0354/merged_masks/d2815f2f616d92be35c7e8dcfe592deec88516aef9ffc9b21257f52b7d6d0354_merged_mask.png\n",
            "Merged mask saved at: /content/data/stage1_train/7f38885521586fc6011bef1314a9fb2aa1e4935bd581b2991e1d963395eab770/merged_masks/7f38885521586fc6011bef1314a9fb2aa1e4935bd581b2991e1d963395eab770_merged_mask.png\n",
            "Merged mask saved at: /content/data/stage1_train/7ac468eb217b7058d22c1711285d21949b4121bf3fa3217e3e51453666ebecff/merged_masks/7ac468eb217b7058d22c1711285d21949b4121bf3fa3217e3e51453666ebecff_merged_mask.png\n",
            "Merged mask saved at: /content/data/stage1_train/28d33efef218392e79e385906deb88055d94b65ad217de78c07e85476f80f45a/merged_masks/28d33efef218392e79e385906deb88055d94b65ad217de78c07e85476f80f45a_merged_mask.png\n",
            "Merged mask saved at: /content/data/stage1_train/c0152b1a260e71f9823d17f4fbb4bf7020d5dce62b4a12b3099c1c8e52a1c43a/merged_masks/c0152b1a260e71f9823d17f4fbb4bf7020d5dce62b4a12b3099c1c8e52a1c43a_merged_mask.png\n",
            "Merged mask saved at: /content/data/stage1_train/5953af5080d981b554529971903d8bee9871457a4361b51f04ba04f43793dd8f/merged_masks/5953af5080d981b554529971903d8bee9871457a4361b51f04ba04f43793dd8f_merged_mask.png\n",
            "Merged mask saved at: /content/data/stage1_train/89be66f88612aae541f5843abcd9c015832b5d6c54a28103b3019f7f38df8a6d/merged_masks/89be66f88612aae541f5843abcd9c015832b5d6c54a28103b3019f7f38df8a6d_merged_mask.png\n",
            "Merged mask saved at: /content/data/stage1_train/f26f4c2c70c38fe12e00d5a814d5116691f2ca548908126923fd76ddd665ed24/merged_masks/f26f4c2c70c38fe12e00d5a814d5116691f2ca548908126923fd76ddd665ed24_merged_mask.png\n",
            "Merged mask saved at: /content/data/stage1_train/13f2bec0a24c70345372febb14c4352877b1b6c1b01896246048e83c345c0914/merged_masks/13f2bec0a24c70345372febb14c4352877b1b6c1b01896246048e83c345c0914_merged_mask.png\n",
            "Merged mask saved at: /content/data/stage1_train/8aa1a883f61f0bb5af3d3d60acaaf33af45ef4fbffaac15ae838bc1ce37b6fbf/merged_masks/8aa1a883f61f0bb5af3d3d60acaaf33af45ef4fbffaac15ae838bc1ce37b6fbf_merged_mask.png\n",
            "Merged mask saved at: /content/data/stage1_train/1ee4a111f0e0bb9b001121b94ff98ca736fad03797b25285fe33a47046b3e4b0/merged_masks/1ee4a111f0e0bb9b001121b94ff98ca736fad03797b25285fe33a47046b3e4b0_merged_mask.png\n",
            "Merged mask saved at: /content/data/stage1_train/b8fdc02d915206bb2564e1f7da962f2b9d9d491b11afa00a76622b7932366480/merged_masks/b8fdc02d915206bb2564e1f7da962f2b9d9d491b11afa00a76622b7932366480_merged_mask.png\n",
            "Merged mask saved at: /content/data/stage1_train/a0de55384fada5cbc46bd7a41f6feeef93b67d088497c7316079ccec39c2a834/merged_masks/a0de55384fada5cbc46bd7a41f6feeef93b67d088497c7316079ccec39c2a834_merged_mask.png\n",
            "Merged mask saved at: /content/data/stage1_train/4e07a653352b30bb95b60ebc6c57afbc7215716224af731c51ff8d430788cd40/merged_masks/4e07a653352b30bb95b60ebc6c57afbc7215716224af731c51ff8d430788cd40_merged_mask.png\n",
            "Merged mask saved at: /content/data/stage1_train/57d88f45e479ce3821839b2706d667758c63ac769d76800d815c73d2507c1e42/merged_masks/57d88f45e479ce3821839b2706d667758c63ac769d76800d815c73d2507c1e42_merged_mask.png\n",
            "Merged mask saved at: /content/data/stage1_train/a4c729efb5059893a8b62c7abeba171cb516836f8a20468f6b176dfe2f6f84d1/merged_masks/a4c729efb5059893a8b62c7abeba171cb516836f8a20468f6b176dfe2f6f84d1_merged_mask.png\n",
            "Merged mask saved at: /content/data/stage1_train/4ee5850b63549794eb3ecd3d5f5673164ac16936e36ecc3700da886e3b616149/merged_masks/4ee5850b63549794eb3ecd3d5f5673164ac16936e36ecc3700da886e3b616149_merged_mask.png\n",
            "Merged mask saved at: /content/data/stage1_train/e5384c905e9879cb6e8ff5250fb03155bc1db035d8dde458eece9078b7de8ff1/merged_masks/e5384c905e9879cb6e8ff5250fb03155bc1db035d8dde458eece9078b7de8ff1_merged_mask.png\n",
            "Merged mask saved at: /content/data/stage1_train/449f41710769584b5e4eca8ecb4c76d5272605f27da2949e6285de0860d2cbc0/merged_masks/449f41710769584b5e4eca8ecb4c76d5272605f27da2949e6285de0860d2cbc0_merged_mask.png\n",
            "Merged mask saved at: /content/data/stage1_train/a9d884ba0929dac87c2052ce5b15034163685317d7cff45c40b0f7bd9bd4d9e7/merged_masks/a9d884ba0929dac87c2052ce5b15034163685317d7cff45c40b0f7bd9bd4d9e7_merged_mask.png\n",
            "Merged mask saved at: /content/data/stage1_train/fc9269fb2e651cd4a32b65ae164f79b0a2ea823e0a83508c85d7985a6bed43cf/merged_masks/fc9269fb2e651cd4a32b65ae164f79b0a2ea823e0a83508c85d7985a6bed43cf_merged_mask.png\n",
            "Merged mask saved at: /content/data/stage1_train/68f833de9f8c631cedd7031b8ed9b908c42cbbc1e14254722728a8b7d596fd4c/merged_masks/68f833de9f8c631cedd7031b8ed9b908c42cbbc1e14254722728a8b7d596fd4c_merged_mask.png\n",
            "Merged mask saved at: /content/data/stage1_train/d7fc0d0a7339211f2433829c6553b762e2b9ef82cfe218d58ecae6643fa8e9c7/merged_masks/d7fc0d0a7339211f2433829c6553b762e2b9ef82cfe218d58ecae6643fa8e9c7_merged_mask.png\n",
            "Merged mask saved at: /content/data/stage1_train/0ea221716cf13710214dcd331a61cea48308c3940df1d28cfc7fd817c83714e1/merged_masks/0ea221716cf13710214dcd331a61cea48308c3940df1d28cfc7fd817c83714e1_merged_mask.png\n",
            "Merged mask saved at: /content/data/stage1_train/8d29c5a03e0560c8f9338e8eb7bccf47930149c8173f9ba4b9279fb87d86cf6d/merged_masks/8d29c5a03e0560c8f9338e8eb7bccf47930149c8173f9ba4b9279fb87d86cf6d_merged_mask.png\n",
            "Merged mask saved at: /content/data/stage1_train/a5fe0b7412dd152c41f7afc34ffdf276d4261b6942fa6d36803648e90f2cfc06/merged_masks/a5fe0b7412dd152c41f7afc34ffdf276d4261b6942fa6d36803648e90f2cfc06_merged_mask.png\n",
            "Merged mask saved at: /content/data/stage1_train/1a75e9f15481d11084fe66bc2a5afac6dc5bec20ed56a7351a6d65ef0fe8762b/merged_masks/1a75e9f15481d11084fe66bc2a5afac6dc5bec20ed56a7351a6d65ef0fe8762b_merged_mask.png\n",
            "Merged mask saved at: /content/data/stage1_train/589f86dee5b480a88dd4f77eeaffe2c4d70aefdf879a4096dde1fa4d41055b8f/merged_masks/589f86dee5b480a88dd4f77eeaffe2c4d70aefdf879a4096dde1fa4d41055b8f_merged_mask.png\n",
            "Merged mask saved at: /content/data/stage1_train/bc115ff727e997a88f7cfe4ce817745731a6c753cb9fab6a36e7e66b415a1d3d/merged_masks/bc115ff727e997a88f7cfe4ce817745731a6c753cb9fab6a36e7e66b415a1d3d_merged_mask.png\n",
            "Merged mask saved at: /content/data/stage1_train/a5e695fce80dc03efb6665a9ec14500ab47f4ee9f6437531388dd3cc32c90db1/merged_masks/a5e695fce80dc03efb6665a9ec14500ab47f4ee9f6437531388dd3cc32c90db1_merged_mask.png\n",
            "Merged mask saved at: /content/data/stage1_train/175dbb364bfefc9537931144861c9b6e08934df3992782c669c6fe4234319dfc/merged_masks/175dbb364bfefc9537931144861c9b6e08934df3992782c669c6fe4234319dfc_merged_mask.png\n",
            "Merged mask saved at: /content/data/stage1_train/c322c72b9d411e631580fee9312885088b4bb14ed297aa4b246ec943533b3ffb/merged_masks/c322c72b9d411e631580fee9312885088b4bb14ed297aa4b246ec943533b3ffb_merged_mask.png\n",
            "Merged mask saved at: /content/data/stage1_train/94519eb45cbe1573252623b7ea06a8b43c19c930f5c9b685edb639d0db719ab0/merged_masks/94519eb45cbe1573252623b7ea06a8b43c19c930f5c9b685edb639d0db719ab0_merged_mask.png\n",
            "Merged mask saved at: /content/data/stage1_train/91cc2e0d4d6e2c1ad59a8d63bcbe3e2ea8bc7f8e642e942a0113450181e73379/merged_masks/91cc2e0d4d6e2c1ad59a8d63bcbe3e2ea8bc7f8e642e942a0113450181e73379_merged_mask.png\n",
            "Merged mask saved at: /content/data/stage1_train/3477024fd843e46097840360f9cdee24b76bf5c593ed27a9aee7a5728a06aa51/merged_masks/3477024fd843e46097840360f9cdee24b76bf5c593ed27a9aee7a5728a06aa51_merged_mask.png\n",
            "Merged mask saved at: /content/data/stage1_train/4e92129f4e8066d6f560d6022cd343a2245939aa49d8b06cddbd9bfc7e7eeb0e/merged_masks/4e92129f4e8066d6f560d6022cd343a2245939aa49d8b06cddbd9bfc7e7eeb0e_merged_mask.png\n",
            "Merged mask saved at: /content/data/stage1_train/358e47eaa1e9222252793fe0fb8c77028d4e0d4360b95a07c9fe6df6a2066556/merged_masks/358e47eaa1e9222252793fe0fb8c77028d4e0d4360b95a07c9fe6df6a2066556_merged_mask.png\n",
            "Merged mask saved at: /content/data/stage1_train/52a6b8ae4c8e0a8a07a31b8e3f401d8811bf1942969c198e51dfcbd98520aa60/merged_masks/52a6b8ae4c8e0a8a07a31b8e3f401d8811bf1942969c198e51dfcbd98520aa60_merged_mask.png\n",
            "Merged mask saved at: /content/data/stage1_train/c44ed955eb2e5c8d820b01477e122b32eff6dd475343e11229c33d8af3473b22/merged_masks/c44ed955eb2e5c8d820b01477e122b32eff6dd475343e11229c33d8af3473b22_merged_mask.png\n",
            "Merged mask saved at: /content/data/stage1_train/a6593632dcbbe4c9e9429a9cec573d26fd8c91a47d554d315f25e7c2e0280ee3/merged_masks/a6593632dcbbe4c9e9429a9cec573d26fd8c91a47d554d315f25e7c2e0280ee3_merged_mask.png\n",
            "Merged mask saved at: /content/data/stage1_train/708eb41a3fc8f2b6cd1f529cdf38dc4ad5d5f00ad30bdcba92884f37ff78d614/merged_masks/708eb41a3fc8f2b6cd1f529cdf38dc4ad5d5f00ad30bdcba92884f37ff78d614_merged_mask.png\n",
            "Merged mask saved at: /content/data/stage1_train/9facc652efe19f634639585d692a53dd6c2a8e2f0c9baebdfd85b9b41ec58851/merged_masks/9facc652efe19f634639585d692a53dd6c2a8e2f0c9baebdfd85b9b41ec58851_merged_mask.png\n",
            "Merged mask saved at: /content/data/stage1_train/f35ab34528e3e2d2589d24cbffc0e10024dfc474a68585d0b5feb7b05aa0067f/merged_masks/f35ab34528e3e2d2589d24cbffc0e10024dfc474a68585d0b5feb7b05aa0067f_merged_mask.png\n",
            "Merged mask saved at: /content/data/stage1_train/9bb6e39d5f4415bc7554842ee5d1280403a602f2ba56122b87f453a62d37c06e/merged_masks/9bb6e39d5f4415bc7554842ee5d1280403a602f2ba56122b87f453a62d37c06e_merged_mask.png\n",
            "Merged mask saved at: /content/data/stage1_train/14cc1424c59808274e123db51292e9dbb5b037ef3e7c767a8c45c9ac733b91bf/merged_masks/14cc1424c59808274e123db51292e9dbb5b037ef3e7c767a8c45c9ac733b91bf_merged_mask.png\n",
            "Merged mask saved at: /content/data/stage1_train/c6216cdc42f61bc345434986db42e2ef9b9741aee3210b7a808e952e319d2305/merged_masks/c6216cdc42f61bc345434986db42e2ef9b9741aee3210b7a808e952e319d2305_merged_mask.png\n",
            "Merged mask saved at: /content/data/stage1_train/2349e95ece2857c89db7e4a8be8c88af0b45f3c4262608120cb3bd6ef51fd241/merged_masks/2349e95ece2857c89db7e4a8be8c88af0b45f3c4262608120cb3bd6ef51fd241_merged_mask.png\n",
            "Merged mask saved at: /content/data/stage1_train/20468e8779c43e089dc0ff30f25e6cf3872d5aa6a0fdad6f8aca382da43e8582/merged_masks/20468e8779c43e089dc0ff30f25e6cf3872d5aa6a0fdad6f8aca382da43e8582_merged_mask.png\n",
            "Merged mask saved at: /content/data/stage1_train/f113626a04125d97b27f21b45a0ce9a686d73dee7b5dbc0725d49194ba0203bd/merged_masks/f113626a04125d97b27f21b45a0ce9a686d73dee7b5dbc0725d49194ba0203bd_merged_mask.png\n",
            "Merged mask saved at: /content/data/stage1_train/0532c64c2fd0c4d3188cc751cdfd566b1cfba3d269358717295bab1504c7c275/merged_masks/0532c64c2fd0c4d3188cc751cdfd566b1cfba3d269358717295bab1504c7c275_merged_mask.png\n",
            "Merged mask saved at: /content/data/stage1_train/2d53d7ec0c579fffd6710c956288537d46c719a93c6a04ac0d6550f75a6a6493/merged_masks/2d53d7ec0c579fffd6710c956288537d46c719a93c6a04ac0d6550f75a6a6493_merged_mask.png\n",
            "Merged mask saved at: /content/data/stage1_train/3934a094e8537841e973342c7f8880606f7a2712b14930340d6f6c2afe178c25/merged_masks/3934a094e8537841e973342c7f8880606f7a2712b14930340d6f6c2afe178c25_merged_mask.png\n",
            "Merged mask saved at: /content/data/stage1_train/45c3bdef1819ba7029990e159f61543ed25781d13fb4dc5d4de52e803debd7d3/merged_masks/45c3bdef1819ba7029990e159f61543ed25781d13fb4dc5d4de52e803debd7d3_merged_mask.png\n",
            "Merged mask saved at: /content/data/stage1_train/3ebd2ab34ba86e515feb79ffdeb7fc303a074a98ba39949b905dbde3ff4b7ec0/merged_masks/3ebd2ab34ba86e515feb79ffdeb7fc303a074a98ba39949b905dbde3ff4b7ec0_merged_mask.png\n",
            "Merged mask saved at: /content/data/stage1_train/ac8169a0debed11560f3f0e246c05ea82d03c66346f1576cc8268554cb3f549f/merged_masks/ac8169a0debed11560f3f0e246c05ea82d03c66346f1576cc8268554cb3f549f_merged_mask.png\n",
            "Merged mask saved at: /content/data/stage1_train/4b274461c6d001a7a9aeaf5952b40ac4934d1be96b9c176edfd628a8f77e6df2/merged_masks/4b274461c6d001a7a9aeaf5952b40ac4934d1be96b9c176edfd628a8f77e6df2_merged_mask.png\n",
            "Merged mask saved at: /content/data/stage1_train/e4537e7893e631f3ba6ae5b1023e24b233c78249a31c2f5e561f6c4cad88fcf6/merged_masks/e4537e7893e631f3ba6ae5b1023e24b233c78249a31c2f5e561f6c4cad88fcf6_merged_mask.png\n",
            "Merged mask saved at: /content/data/stage1_train/6fb82031f7fc5f4fa6e0bc2ef3421db19036b5c2cdd2725009ab465d66d61d72/merged_masks/6fb82031f7fc5f4fa6e0bc2ef3421db19036b5c2cdd2725009ab465d66d61d72_merged_mask.png\n",
            "Merged mask saved at: /content/data/stage1_train/c04fa1a74a980d790ba6f3e595fd9851f14370bb71c7cbb7846c33ca9d72687f/merged_masks/c04fa1a74a980d790ba6f3e595fd9851f14370bb71c7cbb7846c33ca9d72687f_merged_mask.png\n",
            "Merged mask saved at: /content/data/stage1_train/19f0653c33982a416feed56e5d1ce6849fd83314fd19dfa1c5b23c6b66e9868a/merged_masks/19f0653c33982a416feed56e5d1ce6849fd83314fd19dfa1c5b23c6b66e9868a_merged_mask.png\n",
            "Merged mask saved at: /content/data/stage1_train/3b957237bc1e09740b58a414282393d3a91dde996b061e7061f4198fb03dab2e/merged_masks/3b957237bc1e09740b58a414282393d3a91dde996b061e7061f4198fb03dab2e_merged_mask.png\n",
            "Merged mask saved at: /content/data/stage1_train/df33b11184427e05c8a450f921586685975fe975f57315e686a0f26fddb93db1/merged_masks/df33b11184427e05c8a450f921586685975fe975f57315e686a0f26fddb93db1_merged_mask.png\n",
            "Merged mask saved at: /content/data/stage1_train/6034456567632f4b48dc3dfbb98534b5953c151990f4235df6c912c0a9c08397/merged_masks/6034456567632f4b48dc3dfbb98534b5953c151990f4235df6c912c0a9c08397_merged_mask.png\n",
            "Merged mask saved at: /content/data/stage1_train/27c30f9011492f234e4587c9a4b53c787037d486f658821196fe354240ac3c47/merged_masks/27c30f9011492f234e4587c9a4b53c787037d486f658821196fe354240ac3c47_merged_mask.png\n",
            "Merged mask saved at: /content/data/stage1_train/be1916d0e5592c17f971315b5de720ef6894173087399daed94a52ef109c1572/merged_masks/be1916d0e5592c17f971315b5de720ef6894173087399daed94a52ef109c1572_merged_mask.png\n",
            "Merged mask saved at: /content/data/stage1_train/091944f1d2611c916b98c020bd066667e33f4639159b2a92407fe5a40788856d/merged_masks/091944f1d2611c916b98c020bd066667e33f4639159b2a92407fe5a40788856d_merged_mask.png\n",
            "Merged mask saved at: /content/data/stage1_train/7773ac91af61ed041701b7c3b649598e3707cf04c0577f464fd31be687f538fe/merged_masks/7773ac91af61ed041701b7c3b649598e3707cf04c0577f464fd31be687f538fe_merged_mask.png\n",
            "Merged mask saved at: /content/data/stage1_train/942d56861fc83e195e9c559a000bb86627d8682f8dcc2300818458e5b6850dd0/merged_masks/942d56861fc83e195e9c559a000bb86627d8682f8dcc2300818458e5b6850dd0_merged_mask.png\n",
            "Merged mask saved at: /content/data/stage1_train/1400420310c9094361a8a243545187f1d4c2365e081b3bb08c5fa29c7491a55b/merged_masks/1400420310c9094361a8a243545187f1d4c2365e081b3bb08c5fa29c7491a55b_merged_mask.png\n",
            "Merged mask saved at: /content/data/stage1_train/64eeef16fdc4e26523d27bfa71a1d38d2cb2e4fa116c0d0ea56b1322f806f0b9/merged_masks/64eeef16fdc4e26523d27bfa71a1d38d2cb2e4fa116c0d0ea56b1322f806f0b9_merged_mask.png\n",
            "Merged mask saved at: /content/data/stage1_train/d6a880b1f6056f3086679de5c810e7af87cdf3bbbd0533a83e3681817fce40fc/merged_masks/d6a880b1f6056f3086679de5c810e7af87cdf3bbbd0533a83e3681817fce40fc_merged_mask.png\n",
            "Merged mask saved at: /content/data/stage1_train/5d21acedb3015c1208b31778561f8b1079cca7487399300390c3947f691e3974/merged_masks/5d21acedb3015c1208b31778561f8b1079cca7487399300390c3947f691e3974_merged_mask.png\n",
            "Merged mask saved at: /content/data/stage1_train/4ae4f936a9ade472764dad80f60f7168e4be067aa66ce9d06d60ebe34951dca4/merged_masks/4ae4f936a9ade472764dad80f60f7168e4be067aa66ce9d06d60ebe34951dca4_merged_mask.png\n",
            "Merged mask saved at: /content/data/stage1_train/371a67232f7c871ec11332292c83cd9bb16063b91d58e86f0b76ef8817bc9465/merged_masks/371a67232f7c871ec11332292c83cd9bb16063b91d58e86f0b76ef8817bc9465_merged_mask.png\n",
            "Merged mask saved at: /content/data/stage1_train/20c37b1ad2f510ed7396969e855fe93d0d05611738f6e706e8ca1d1aed3ded45/merged_masks/20c37b1ad2f510ed7396969e855fe93d0d05611738f6e706e8ca1d1aed3ded45_merged_mask.png\n",
            "Merged mask saved at: /content/data/stage1_train/9a71a416f98971aa14f63ef91242654cc9191a1414ce8bbd38066fe94559aa4f/merged_masks/9a71a416f98971aa14f63ef91242654cc9191a1414ce8bbd38066fe94559aa4f_merged_mask.png\n",
            "Merged mask saved at: /content/data/stage1_train/fdda64c47361b0d1a146e5b7b48dc6b7de615ea80b31f01227a3b16469589528/merged_masks/fdda64c47361b0d1a146e5b7b48dc6b7de615ea80b31f01227a3b16469589528_merged_mask.png\n",
            "Merged mask saved at: /content/data/stage1_train/e216ec5063d3562b793e434c491051bd8867f6c2e571e41137c7c560cc0e6a03/merged_masks/e216ec5063d3562b793e434c491051bd8867f6c2e571e41137c7c560cc0e6a03_merged_mask.png\n",
            "Merged mask saved at: /content/data/stage1_train/319b6cb8b0d24b38db5e3c6fbb13b062e2766d9af5ff9bccb8f439ac0d870e52/merged_masks/319b6cb8b0d24b38db5e3c6fbb13b062e2766d9af5ff9bccb8f439ac0d870e52_merged_mask.png\n",
            "Merged mask saved at: /content/data/stage1_train/f7e5dcfc9c93183c668c5a4ab028d5faad54fb54298711f2caae0508aa978300/merged_masks/f7e5dcfc9c93183c668c5a4ab028d5faad54fb54298711f2caae0508aa978300_merged_mask.png\n",
            "Merged mask saved at: /content/data/stage1_train/af8621ef0db8c26b0bce6385bd5609b584bfd678fcf7a234b8a15e6bb05c15ac/merged_masks/af8621ef0db8c26b0bce6385bd5609b584bfd678fcf7a234b8a15e6bb05c15ac_merged_mask.png\n",
            "Merged mask saved at: /content/data/stage1_train/66612c188d73e931e1863af2c99d2af782c32f65fd97d224abb40bbadb87263f/merged_masks/66612c188d73e931e1863af2c99d2af782c32f65fd97d224abb40bbadb87263f_merged_mask.png\n",
            "Merged mask saved at: /content/data/stage1_train/6eefe1f0d9c2d2c2380db3ecd2113a566ace7dfc917687bb5033b4af5b8293aa/merged_masks/6eefe1f0d9c2d2c2380db3ecd2113a566ace7dfc917687bb5033b4af5b8293aa_merged_mask.png\n",
            "Merged mask saved at: /content/data/stage1_train/dbe5ad05b6f87018159a3228c1d1725892a1bfb9fa9f8fcc2e8bfe70d69d0355/merged_masks/dbe5ad05b6f87018159a3228c1d1725892a1bfb9fa9f8fcc2e8bfe70d69d0355_merged_mask.png\n",
            "Merged mask saved at: /content/data/stage1_train/e50ac10d1dce6496d092d966784ed3795969128ca0bc58199a36d558ed529203/merged_masks/e50ac10d1dce6496d092d966784ed3795969128ca0bc58199a36d558ed529203_merged_mask.png\n",
            "Merged mask saved at: /content/data/stage1_train/0e5edb072788c7b1da8829b02a49ba25668b09f7201cf2b70b111fc3b853d14f/merged_masks/0e5edb072788c7b1da8829b02a49ba25668b09f7201cf2b70b111fc3b853d14f_merged_mask.png\n",
            "Merged mask saved at: /content/data/stage1_train/e7a3a7c99483c243742b6cfa74e81cd48f126dcef004016ad0151df6c16a6243/merged_masks/e7a3a7c99483c243742b6cfa74e81cd48f126dcef004016ad0151df6c16a6243_merged_mask.png\n",
            "Merged mask saved at: /content/data/stage1_train/40bcdad218ac5f0885fc247d88fcad9f729f55c81c79d241a8f1559b6d8c0574/merged_masks/40bcdad218ac5f0885fc247d88fcad9f729f55c81c79d241a8f1559b6d8c0574_merged_mask.png\n",
            "Merged mask saved at: /content/data/stage1_train/feffce59a1a3eb0a6a05992bb7423c39c7d52865846da36d89e2a72c379e5398/merged_masks/feffce59a1a3eb0a6a05992bb7423c39c7d52865846da36d89e2a72c379e5398_merged_mask.png\n",
            "Merged mask saved at: /content/data/stage1_train/43cf6b2ec0b0745ac2b87b4d8780f62e9050d3f5d50a1fcefa42d166191e84c6/merged_masks/43cf6b2ec0b0745ac2b87b4d8780f62e9050d3f5d50a1fcefa42d166191e84c6_merged_mask.png\n",
            "Merged mask saved at: /content/data/stage1_train/76c4f14e35210f87a29e93c46dbb25c8f5dc5c04d1d3134672708bcdfbc7e959/merged_masks/76c4f14e35210f87a29e93c46dbb25c8f5dc5c04d1d3134672708bcdfbc7e959_merged_mask.png\n",
            "Merged mask saved at: /content/data/stage1_train/56d0da5b663ddd49955478c00ca03118c367ff7dd6a646b8c875b0acb207d1c5/merged_masks/56d0da5b663ddd49955478c00ca03118c367ff7dd6a646b8c875b0acb207d1c5_merged_mask.png\n",
            "Merged mask saved at: /content/data/stage1_train/2dd9d8c797fc695665326fc8fd0eb5cd292139fa478ccb5acb7fb352f7030063/merged_masks/2dd9d8c797fc695665326fc8fd0eb5cd292139fa478ccb5acb7fb352f7030063_merged_mask.png\n",
            "Merged mask saved at: /content/data/stage1_train/6bc8cda54f5b66a2a27d962ac219f8075bf7cc43b87ba0c9e776404370429e80/merged_masks/6bc8cda54f5b66a2a27d962ac219f8075bf7cc43b87ba0c9e776404370429e80_merged_mask.png\n",
            "Merged mask saved at: /content/data/stage1_train/e2d22d3d283915df8350d039278e314a23e6e8f2b41bdfc16df849e22dd13b36/merged_masks/e2d22d3d283915df8350d039278e314a23e6e8f2b41bdfc16df849e22dd13b36_merged_mask.png\n",
            "Merged mask saved at: /content/data/stage1_train/a08166d91d2cca263d2dd52764dc25c9c582b7a5ece2b802749fa4be33187c49/merged_masks/a08166d91d2cca263d2dd52764dc25c9c582b7a5ece2b802749fa4be33187c49_merged_mask.png\n",
            "Merged mask saved at: /content/data/stage1_train/8f6597cd978c060378177df76e554d0578b97eab471e237dbe0adc0dd0d93d63/merged_masks/8f6597cd978c060378177df76e554d0578b97eab471e237dbe0adc0dd0d93d63_merged_mask.png\n",
            "Merged mask saved at: /content/data/stage1_train/fadeb0ab092833f27daaeb3e24223eb090f9536b83f68cde8f49df7c544f711b/merged_masks/fadeb0ab092833f27daaeb3e24223eb090f9536b83f68cde8f49df7c544f711b_merged_mask.png\n",
            "Merged mask saved at: /content/data/stage1_train/03f583ec5018739f4abb9b3b4a580ac43bd933c4337ad8877aa18b1dfb59fc9a/merged_masks/03f583ec5018739f4abb9b3b4a580ac43bd933c4337ad8877aa18b1dfb59fc9a_merged_mask.png\n",
            "Merged mask saved at: /content/data/stage1_train/94a5a37c3b1153d5c5aef2eca53c960b9f21f2ef1758209d7ec502ec324b03a3/merged_masks/94a5a37c3b1153d5c5aef2eca53c960b9f21f2ef1758209d7ec502ec324b03a3_merged_mask.png\n",
            "Merged mask saved at: /content/data/stage1_train/33a5b0ff232b425796ee6a9dd5b516ff9aad54ca723b4ec490bf5cd9b2e2a731/merged_masks/33a5b0ff232b425796ee6a9dd5b516ff9aad54ca723b4ec490bf5cd9b2e2a731_merged_mask.png\n",
            "Merged mask saved at: /content/data/stage1_train/45cc00f2ef95da6698bf590663e319d7c0ed4fb99d42dd3cf4060887da74fb81/merged_masks/45cc00f2ef95da6698bf590663e319d7c0ed4fb99d42dd3cf4060887da74fb81_merged_mask.png\n",
            "Merged mask saved at: /content/data/stage1_train/f0a75e0322f11cead4219aa530673fe5eef67580fb6fccc254963c9fc6b58aa1/merged_masks/f0a75e0322f11cead4219aa530673fe5eef67580fb6fccc254963c9fc6b58aa1_merged_mask.png\n",
            "Merged mask saved at: /content/data/stage1_train/c7d546766518703580f63d5d8f11d54971044753f53c0b257d19c2f99d4bfdd0/merged_masks/c7d546766518703580f63d5d8f11d54971044753f53c0b257d19c2f99d4bfdd0_merged_mask.png\n",
            "Merged mask saved at: /content/data/stage1_train/fc22db33a2495f58f118bc182c0087e140df14ccb8dad51373e1a54381f683de/merged_masks/fc22db33a2495f58f118bc182c0087e140df14ccb8dad51373e1a54381f683de_merged_mask.png\n",
            "Merged mask saved at: /content/data/stage1_train/1e8408fbb1619e7a0bcdd0bcd21fae57e7cb1f297d4c79787a9d0f5695d77073/merged_masks/1e8408fbb1619e7a0bcdd0bcd21fae57e7cb1f297d4c79787a9d0f5695d77073_merged_mask.png\n",
            "Merged mask saved at: /content/data/stage1_train/5d2c98fd6fda3c7d739461c3b3d4a0c7f8456121a14519dc5955a1775227b053/merged_masks/5d2c98fd6fda3c7d739461c3b3d4a0c7f8456121a14519dc5955a1775227b053_merged_mask.png\n",
            "Merged mask saved at: /content/data/stage1_train/15039b3acccc4257a1a442646a89b6e596b5eb4531637e6d8fa1c43203722c99/merged_masks/15039b3acccc4257a1a442646a89b6e596b5eb4531637e6d8fa1c43203722c99_merged_mask.png\n",
            "Merged mask saved at: /content/data/stage1_train/514ccfc78cb55988a238d3ac9dc83460aa88382c95d56bcc0559962d9fe481ef/merged_masks/514ccfc78cb55988a238d3ac9dc83460aa88382c95d56bcc0559962d9fe481ef_merged_mask.png\n",
            "Merged mask saved at: /content/data/stage1_train/2dd3356f2dcf470aec4003800744dfec6490e75d88011e1d835f4f3d60f88e7a/merged_masks/2dd3356f2dcf470aec4003800744dfec6490e75d88011e1d835f4f3d60f88e7a_merged_mask.png\n",
            "Merged mask saved at: /content/data/stage1_train/05a8f65ebd0b30d3b210f30b4d640c847c2e710d0d135e0aeeaccbe1988e3b6e/merged_masks/05a8f65ebd0b30d3b210f30b4d640c847c2e710d0d135e0aeeaccbe1988e3b6e_merged_mask.png\n",
            "Merged mask saved at: /content/data/stage1_train/29ea4f6eb4545f43868a9b40a60000426bf8dfd9d062546656a37bd2a2aaf9ec/merged_masks/29ea4f6eb4545f43868a9b40a60000426bf8dfd9d062546656a37bd2a2aaf9ec_merged_mask.png\n",
            "Merged mask saved at: /content/data/stage1_train/87ea72894f6534b28e740cc34cf5c9eb75d0d8902687fce5fcc08a92e9f41386/merged_masks/87ea72894f6534b28e740cc34cf5c9eb75d0d8902687fce5fcc08a92e9f41386_merged_mask.png\n",
            "Merged mask saved at: /content/data/stage1_train/ef6634efb46567d87b811be786b18c4cd0e2cda23d79b65d6afe0d259ef3ade6/merged_masks/ef6634efb46567d87b811be786b18c4cd0e2cda23d79b65d6afe0d259ef3ade6_merged_mask.png\n",
            "Merged mask saved at: /content/data/stage1_train/16c3d5935ba94b720becc24b7a05741c26149e221e3401924080f41e2f891368/merged_masks/16c3d5935ba94b720becc24b7a05741c26149e221e3401924080f41e2f891368_merged_mask.png\n",
            "Merged mask saved at: /content/data/stage1_train/5e263abff938acba1c0cff698261c7c00c23d7376e3ceacc3d5d4a655216b16d/merged_masks/5e263abff938acba1c0cff698261c7c00c23d7376e3ceacc3d5d4a655216b16d_merged_mask.png\n",
            "Merged mask saved at: /content/data/stage1_train/1815cf307859b3e13669041d181aa3b3dbbac1a95aef4c42164b223110c09168/merged_masks/1815cf307859b3e13669041d181aa3b3dbbac1a95aef4c42164b223110c09168_merged_mask.png\n",
            "Merged mask saved at: /content/data/stage1_train/e9b8ad127f2163438b6236c74938f43d7b4863aaf39a16367f4af59bfd96597b/merged_masks/e9b8ad127f2163438b6236c74938f43d7b4863aaf39a16367f4af59bfd96597b_merged_mask.png\n",
            "Merged mask saved at: /content/data/stage1_train/3bfa8b3b01fd24a28477f103063d17368a7398b27331e020f3a0ef59bf68c940/merged_masks/3bfa8b3b01fd24a28477f103063d17368a7398b27331e020f3a0ef59bf68c940_merged_mask.png\n",
            "Merged mask saved at: /content/data/stage1_train/3441821ebea04face181c9e2f4d0d09727c764827ac51b9e7fbadbebabeab225/merged_masks/3441821ebea04face181c9e2f4d0d09727c764827ac51b9e7fbadbebabeab225_merged_mask.png\n",
            "Merged mask saved at: /content/data/stage1_train/6c67b78e8164801059375ed9a607f61e67a7ae347e92e36a7f20514224541d56/merged_masks/6c67b78e8164801059375ed9a607f61e67a7ae347e92e36a7f20514224541d56_merged_mask.png\n"
          ]
        }
      ]
    },
    {
      "cell_type": "markdown",
      "source": [
        "## **3. Data Augmentation**"
      ],
      "metadata": {
        "id": "FDYSbkkQpr9T"
      }
    },
    {
      "cell_type": "markdown",
      "source": [
        "**2.5. Data Augmentation**"
      ],
      "metadata": {
        "id": "AUDXGGJHAdQJ"
      }
    },
    {
      "cell_type": "code",
      "source": [
        "!pip install imgaug"
      ],
      "metadata": {
        "id": "BMwz2Y0gAg_7",
        "outputId": "dd40b5f7-1c16-4338-c202-66b8a5dbbca7",
        "colab": {
          "base_uri": "https://localhost:8080/"
        }
      },
      "execution_count": null,
      "outputs": [
        {
          "output_type": "stream",
          "name": "stdout",
          "text": [
            "Requirement already satisfied: imgaug in /usr/local/lib/python3.10/dist-packages (0.4.0)\n",
            "Requirement already satisfied: six in /usr/local/lib/python3.10/dist-packages (from imgaug) (1.16.0)\n",
            "Requirement already satisfied: numpy>=1.15 in /usr/local/lib/python3.10/dist-packages (from imgaug) (1.25.2)\n",
            "Requirement already satisfied: scipy in /usr/local/lib/python3.10/dist-packages (from imgaug) (1.11.4)\n",
            "Requirement already satisfied: Pillow in /usr/local/lib/python3.10/dist-packages (from imgaug) (9.4.0)\n",
            "Requirement already satisfied: matplotlib in /usr/local/lib/python3.10/dist-packages (from imgaug) (3.7.1)\n",
            "Requirement already satisfied: scikit-image>=0.14.2 in /usr/local/lib/python3.10/dist-packages (from imgaug) (0.19.3)\n",
            "Requirement already satisfied: opencv-python in /usr/local/lib/python3.10/dist-packages (from imgaug) (4.8.0.76)\n",
            "Requirement already satisfied: imageio in /usr/local/lib/python3.10/dist-packages (from imgaug) (2.31.6)\n",
            "Requirement already satisfied: Shapely in /usr/local/lib/python3.10/dist-packages (from imgaug) (2.0.4)\n",
            "Requirement already satisfied: networkx>=2.2 in /usr/local/lib/python3.10/dist-packages (from scikit-image>=0.14.2->imgaug) (3.3)\n",
            "Requirement already satisfied: tifffile>=2019.7.26 in /usr/local/lib/python3.10/dist-packages (from scikit-image>=0.14.2->imgaug) (2024.5.10)\n",
            "Requirement already satisfied: PyWavelets>=1.1.1 in /usr/local/lib/python3.10/dist-packages (from scikit-image>=0.14.2->imgaug) (1.6.0)\n",
            "Requirement already satisfied: packaging>=20.0 in /usr/local/lib/python3.10/dist-packages (from scikit-image>=0.14.2->imgaug) (24.0)\n",
            "Requirement already satisfied: contourpy>=1.0.1 in /usr/local/lib/python3.10/dist-packages (from matplotlib->imgaug) (1.2.1)\n",
            "Requirement already satisfied: cycler>=0.10 in /usr/local/lib/python3.10/dist-packages (from matplotlib->imgaug) (0.12.1)\n",
            "Requirement already satisfied: fonttools>=4.22.0 in /usr/local/lib/python3.10/dist-packages (from matplotlib->imgaug) (4.51.0)\n",
            "Requirement already satisfied: kiwisolver>=1.0.1 in /usr/local/lib/python3.10/dist-packages (from matplotlib->imgaug) (1.4.5)\n",
            "Requirement already satisfied: pyparsing>=2.3.1 in /usr/local/lib/python3.10/dist-packages (from matplotlib->imgaug) (3.1.2)\n",
            "Requirement already satisfied: python-dateutil>=2.7 in /usr/local/lib/python3.10/dist-packages (from matplotlib->imgaug) (2.8.2)\n"
          ]
        }
      ]
    },
    {
      "cell_type": "code",
      "source": [
        "import os\n",
        "import numpy as np\n",
        "from PIL import Image\n",
        "import imgaug.augmenters as iaa"
      ],
      "metadata": {
        "id": "j8z5HlpgAg-b"
      },
      "execution_count": null,
      "outputs": []
    },
    {
      "cell_type": "code",
      "source": [
        "def augment_images_and_masks(images, masks, augmenters):\n",
        "    \"\"\"\n",
        "    Apply augmentations to a list of images and masks in a synchronized manner.\n",
        "    \"\"\"\n",
        "    deterministic_augmenters = augmenters.to_deterministic()\n",
        "    aug_images = deterministic_augmenters(images=images)\n",
        "    aug_masks = deterministic_augmenters(images=masks)\n",
        "    return aug_images, aug_masks"
      ],
      "metadata": {
        "id": "QCMbcUS8Ag8K"
      },
      "execution_count": null,
      "outputs": []
    },
    {
      "cell_type": "code",
      "source": [
        "def load_image(image_path):\n",
        "    \"\"\"\n",
        "    Load an image from the specified path and return it as a numpy array.\n",
        "    \"\"\"\n",
        "    image = Image.open(image_path)\n",
        "    return np.array(image)"
      ],
      "metadata": {
        "id": "usdVnF8uBXyX"
      },
      "execution_count": null,
      "outputs": []
    },
    {
      "cell_type": "code",
      "source": [
        "def save_image(image_array, output_path):\n",
        "    \"\"\"\n",
        "    Save a numpy array as an image to the specified path.\n",
        "    \"\"\"\n",
        "    image = Image.fromarray(image_array)\n",
        "    image.save(output_path)"
      ],
      "metadata": {
        "id": "alx5efQgBaJt"
      },
      "execution_count": null,
      "outputs": []
    },
    {
      "cell_type": "code",
      "source": [
        "def create_augmented_folder(base_path, sample_name, num_augments=5):\n",
        "    \"\"\"\n",
        "    Create augmented images for a given sample and save them in separate folders within the toy_data directory.\n",
        "    \"\"\"\n",
        "    sample_folder = os.path.join(base_path, sample_name)\n",
        "    images_path = os.path.join(sample_folder, 'images')\n",
        "    masks_path = os.path.join(sample_folder, 'masks')\n",
        "\n",
        "    # Load the image\n",
        "    image_files = [os.path.join(images_path, f) for f in os.listdir(images_path) if f.endswith('.png')]\n",
        "    image = load_image(image_files[0])\n",
        "    images = [image]\n",
        "\n",
        "    # Load masks\n",
        "    mask_files = [os.path.join(masks_path, f) for f in os.listdir(masks_path) if f.endswith('.png')]\n",
        "    masks = [load_image(mask_file) for mask_file in mask_files]\n",
        "\n",
        "    # Merge masks\n",
        "    merged_mask = merge_masks(masks)\n",
        "\n",
        "    # Define augmentation pipeline\n",
        "    augmenters = iaa.Sequential([\n",
        "        iaa.Fliplr(0.5),  # horizontal flips\n",
        "        iaa.Sometimes(1.0, iaa.Affine(rotate=[90, 180, 270])),\n",
        "        iaa.Multiply((0.8, 1.2)),  # random brightness changes\n",
        "        iaa.LinearContrast((0.75, 1.5)),  # random contrast changes\n",
        "    ])\n",
        "\n",
        "    # Generate and save augmented images and masks\n",
        "    for i in range(num_augments):\n",
        "        aug_images, aug_masks = augment_images_and_masks(images, [merged_mask], augmenters)\n",
        "\n",
        "        # Create a subfolder for each augmented image and masks within the toy_data directory\n",
        "        augmented_subfolder = os.path.join(base_path, f\"{sample_name}_augmented_{i+1}\")\n",
        "        os.makedirs(augmented_subfolder, exist_ok=True)\n",
        "        augmented_images_folder = os.path.join(augmented_subfolder, 'images')\n",
        "        augmented_masks_folder = os.path.join(augmented_subfolder, 'merged_masks')\n",
        "        os.makedirs(augmented_images_folder, exist_ok=True)\n",
        "        os.makedirs(augmented_masks_folder, exist_ok=True)\n",
        "\n",
        "        for j, aug_image in enumerate(aug_images):\n",
        "            save_image(aug_image, os.path.join(augmented_images_folder, f\"{sample_name}_aug_{i}_{j}.png\"))\n",
        "        for j, aug_mask in enumerate(aug_masks):\n",
        "            save_image(aug_mask, os.path.join(augmented_masks_folder, f\"{sample_name}_merged_mask_aug_{i}_{j}.png\"))\n",
        "\n",
        "    print(f\"Augmented data saved in separate folders within stage1_train for sample: {sample_name}\")"
      ],
      "metadata": {
        "id": "DmngKki0Ag5s"
      },
      "execution_count": null,
      "outputs": []
    },
    {
      "cell_type": "code",
      "source": [
        "# Apply augmentation to all sample folders in the base path\n",
        "def augment_all_samples(base_path, num_augments=5):\n",
        "    \"\"\"\n",
        "    Apply augmentation to all sample folders within the base path.\n",
        "\n",
        "    Args:\n",
        "    - base_path (str): Path to the base directory containing images and masks.\n",
        "    - num_augments (int): Number of augmented images to generate per sample.\n",
        "    \"\"\"\n",
        "    sample_folders = [folder for folder in os.listdir(base_path) if os.path.isdir(os.path.join(base_path, folder))]\n",
        "\n",
        "    for sample_name in sample_folders:\n",
        "        create_augmented_folder(base_path, sample_name, num_augments)"
      ],
      "metadata": {
        "id": "cmvarbm0Ag3K"
      },
      "execution_count": null,
      "outputs": []
    },
    {
      "cell_type": "code",
      "source": [
        "base_path = '/content/data/toy_data'\n",
        "augment_all_samples(base_path, num_augments=2)"
      ],
      "metadata": {
        "id": "fuNaK-uUKJKi",
        "outputId": "b6f6afd6-8096-450a-d1d6-0ea718200b9b",
        "colab": {
          "base_uri": "https://localhost:8080/"
        }
      },
      "execution_count": null,
      "outputs": [
        {
          "output_type": "stream",
          "name": "stdout",
          "text": [
            "Augmented data saved in separate folders within stage1_train for sample: b0d6dfcc95e4d087d232378f860fc3ef9f95ea5a4c26d623a0be091f820a793f\n",
            "Augmented data saved in separate folders within stage1_train for sample: 9cbc0700317361236a9fca2eb1f8f79e3a7da17b1970c179cf453921a6136001\n",
            "Augmented data saved in separate folders within stage1_train for sample: 700afb1cd830a808e3c6125749612e5d23fd9f9726049a9e0c2061997514e1a7\n",
            "Augmented data saved in separate folders within stage1_train for sample: 66236902b874b7e4b3891db63a69f6d56f6edcec6aca7ba3c6871d73e7b4c34f\n",
            "Augmented data saved in separate folders within stage1_train for sample: 76c44d1addac92a65f1331f2d93f4e3b130bd4e538a6e5239c3ac1f4c403608a\n",
            "Augmented data saved in separate folders within stage1_train for sample: adc315bd40d699fd4e4effbcce81cd7162851007f485d754ad3b0472f73a86df\n",
            "Augmented data saved in separate folders within stage1_train for sample: 8fdc34509a0c3721f7b5e235c8a93e1f553343aa17ad103a1e89e3509a3e1570\n",
            "Augmented data saved in separate folders within stage1_train for sample: df53d0b6c2c4e45d759b2c474011e2b2b32552cd100ca4b22388ab9ca1750ee2\n",
            "Augmented data saved in separate folders within stage1_train for sample: 5f9d29d6388c700f35a3c29fa1b1ce0c1cba6667d05fdb70bd1e89004dcf71ed\n",
            "Augmented data saved in separate folders within stage1_train for sample: f952cc65376009cfad8249e53b9b2c0daaa3553e897096337d143c625c2df886\n",
            "Augmented data saved in separate folders within stage1_train for sample: cbff60361ded0570e5d50429a1aa51d81471819bc9b38359f03cfef76de0038c\n",
            "Augmented data saved in separate folders within stage1_train for sample: 07761fa39f60dc37022dbbe8d8694595fd5b77ceb2af2a2724768c8e524d6770\n",
            "Augmented data saved in separate folders within stage1_train for sample: 353ab00e964f71aa720385223a9078b770b7e3efaf5be0f66e670981f68fe606\n",
            "Augmented data saved in separate folders within stage1_train for sample: 20e209f6ffa120a72712e1b4c1d3e24d1339227e2936abd4bbd49a636fada423\n",
            "Augmented data saved in separate folders within stage1_train for sample: eb1df8ed879d04b36980b0958a0e8fc446ad08c0bdcf3b5f42e3db023187c7e5\n",
            "Augmented data saved in separate folders within stage1_train for sample: aa4d989d262c618ac2793579e200cc71b3767f84698ae5f669867f23cdfe2568\n",
            "Augmented data saved in separate folders within stage1_train for sample: 538b7673d507014d83af238876e03617396b70fe27f525f8205a4a96900fbb8e\n",
            "Augmented data saved in separate folders within stage1_train for sample: a6e81120d1cb9f71f8a25f90a5d56c4b714a642fc496a705e38921fd90a3f69c\n",
            "Augmented data saved in separate folders within stage1_train for sample: c0c4a829c8d33d16a02f5dc0411597329f4b4d726ed6a22b5530cf6c8e106c4e\n",
            "Augmented data saved in separate folders within stage1_train for sample: 03398329ced0c23b9ac3fac84dd53a87d9ffe4d9d10f1b5fe8df8fac12380776\n",
            "Augmented data saved in separate folders within stage1_train for sample: 9bf9f3dcadeb152a9a26b23e2fb199dcf9b2b17660b1646326f5b10cbf51eaee\n",
            "Augmented data saved in separate folders within stage1_train for sample: d751ccb64fa767a65a966061218438bd1860695d96bbef11fdb2f0d3b8dedba8\n",
            "Augmented data saved in separate folders within stage1_train for sample: 0d3640c1f1b80f24e94cc9a5f3e1d9e8db7bf6af7d4aba920265f46cadc25e37\n",
            "Augmented data saved in separate folders within stage1_train for sample: 8a26b134fe9343c0c794513dae7787b7ac1debec3bb2a7096ab0b874a31d8175\n",
            "Augmented data saved in separate folders within stage1_train for sample: 62057502c387145ed4f8f7f0d5e5bedcb72d3bcec15fa71cb0310dee32871461\n",
            "Augmented data saved in separate folders within stage1_train for sample: 72b18a405555ad491721e29454e5cd325055ce81a9e78524b56f2c058a4d2327\n",
            "Augmented data saved in separate folders within stage1_train for sample: 20b20ab049372d184c705acebe7af026d3580f5fd5a72ed796e3622e1685af2f\n",
            "Augmented data saved in separate folders within stage1_train for sample: 7c318172e976ae5a962c9c7a4e9fe46d7fb985765ddd3a3e2108e893a90b92b2\n",
            "Augmented data saved in separate folders within stage1_train for sample: 3a508d2dc03db46e7f97a2a30eabb62ab2886f3cedfea303de8f6a42e50d20eb\n",
            "Augmented data saved in separate folders within stage1_train for sample: f534b43bf37ff946a310a0f08315d76c3fb3394681cf523acef7c0682240072a\n",
            "Augmented data saved in separate folders within stage1_train for sample: 2246874c8b5ba218d01ad8153a201ad4660195f3e4c65da6b9d4ccaf82cb7edf\n",
            "Augmented data saved in separate folders within stage1_train for sample: 958114e5f37d5e1420b410bd716753b3e874b175f2b6958ebf1ec2bdf776e41f\n",
            "Augmented data saved in separate folders within stage1_train for sample: 193ffaa5272d5c421ae02130a64d98ad120ec70e4ed97a72cdcd4801ce93b066\n",
            "Augmented data saved in separate folders within stage1_train for sample: 5d58600efa0c2667ec85595bf456a54e2bd6e6e9a5c0dff42d807bc9fe2b822e\n",
            "Augmented data saved in separate folders within stage1_train for sample: 785555c0cbb49dad835635217085287a8cc61c27d26f0e106b70c1dfd05784dc\n",
            "Augmented data saved in separate folders within stage1_train for sample: fec226e45f49ab81ab71e0eaa1248ba09b56a328338dce93a43f4044eababed5\n",
            "Augmented data saved in separate folders within stage1_train for sample: 4d4ebfcae4374165ea6ae7c7e18fd0ba5014c3c860ee2489c59e25ddd45e7a32\n",
            "Augmented data saved in separate folders within stage1_train for sample: da31f2aa8601afec5c45180a2c448cb9c4a8ec7b35e75190d6ba3588f69058c8\n",
            "Augmented data saved in separate folders within stage1_train for sample: 1f9e429c12f4477221b5b855a5f494fda2ef6d064ff75b061ffaf093e91758c5\n",
            "Augmented data saved in separate folders within stage1_train for sample: 6d327ab4f0e3604fa6e9b8041c7e6db86ab809890d886c691f6e59c9168b7fbe\n",
            "Augmented data saved in separate folders within stage1_train for sample: f0c9f135c62572f3669a75b2c735e4477dc77fac85e653426ee2b3bcfbed7aaf\n",
            "Augmented data saved in separate folders within stage1_train for sample: a90cad45551d62c5cfa89517df8eb5e8f2f87f1a6e6678e606907afcbad91731\n",
            "Augmented data saved in separate folders within stage1_train for sample: 5953af5080d981b554529971903d8bee9871457a4361b51f04ba04f43793dd8f\n",
            "Augmented data saved in separate folders within stage1_train for sample: 4e07a653352b30bb95b60ebc6c57afbc7215716224af731c51ff8d430788cd40\n",
            "Augmented data saved in separate folders within stage1_train for sample: 449f41710769584b5e4eca8ecb4c76d5272605f27da2949e6285de0860d2cbc0\n",
            "Augmented data saved in separate folders within stage1_train for sample: 091944f1d2611c916b98c020bd066667e33f4639159b2a92407fe5a40788856d\n",
            "Augmented data saved in separate folders within stage1_train for sample: af8621ef0db8c26b0bce6385bd5609b584bfd678fcf7a234b8a15e6bb05c15ac\n",
            "Augmented data saved in separate folders within stage1_train for sample: 33a5b0ff232b425796ee6a9dd5b516ff9aad54ca723b4ec490bf5cd9b2e2a731\n",
            "Augmented data saved in separate folders within stage1_train for sample: 5e263abff938acba1c0cff698261c7c00c23d7376e3ceacc3d5d4a655216b16d\n",
            "Augmented data saved in separate folders within stage1_train for sample: 3bfa8b3b01fd24a28477f103063d17368a7398b27331e020f3a0ef59bf68c940\n"
          ]
        }
      ]
    },
    {
      "cell_type": "code",
      "source": [
        "# base_path = '/content/data/stage1_train'\n",
        "# augment_all_samples(base_path, num_augments=5)"
      ],
      "metadata": {
        "id": "iizRv7QABEQq"
      },
      "execution_count": null,
      "outputs": []
    },
    {
      "cell_type": "markdown",
      "source": [
        "**2.4. Data organization**"
      ],
      "metadata": {
        "id": "MqlFzLet6AOR"
      }
    },
    {
      "cell_type": "code",
      "source": [
        "import os\n",
        "import shutil\n",
        "from PIL import Image\n",
        "\n",
        "def extract_images(stage1_path, destination_path, content_type='images'):\n",
        "    \"\"\"\n",
        "    Extract all images or merged masks from the stage1_train or stage1_test folder and save them into the specified destination folder.\n",
        "\n",
        "    Args:\n",
        "    - stage1_path (str): Path to the stage1_train or stage1_test folder containing sample folders.\n",
        "    - destination_path (str): Path to the destination folder where images or masks will be saved.\n",
        "    - content_type (str): Type of content to extract ('images' or 'merged_masks').\n",
        "    \"\"\"\n",
        "    # Create the destination directory if it doesn't exist\n",
        "    os.makedirs(destination_path, exist_ok=True)\n",
        "\n",
        "    # Determine the subfolder to look for based on content type\n",
        "    subfolder_name = 'images' if content_type == 'images' else 'merged_masks'\n",
        "\n",
        "    # Iterate over all sample folders in the stage1 directory\n",
        "    for sample_folder in os.listdir(stage1_path):\n",
        "        sample_folder_path = os.path.join(stage1_path, sample_folder, subfolder_name)\n",
        "\n",
        "        # Check if the sample folder contains the specified subfolder\n",
        "        if os.path.isdir(sample_folder_path):\n",
        "            for file in os.listdir(sample_folder_path):\n",
        "                if file.endswith('.png'):\n",
        "                    # Construct the full path to the file\n",
        "                    file_path = os.path.join(sample_folder_path, file)\n",
        "\n",
        "                    # Save the file to the destination directory\n",
        "                    destination_file_path = os.path.join(destination_path, f\"{sample_folder}_{file}\")\n",
        "                    shutil.copy(file_path, destination_file_path)\n",
        "                    print(f\"Copied: {file_path} to {destination_file_path}\")"
      ],
      "metadata": {
        "id": "wBwoCbMU3cRp"
      },
      "execution_count": 21,
      "outputs": []
    },
    {
      "cell_type": "code",
      "source": [
        "def main(destination_path):\n",
        "    if 'train/images' in destination_path:\n",
        "        stage1_path = '/content/data/toy_data'\n",
        "        content_type = 'images'\n",
        "    elif 'train/masks' in destination_path:\n",
        "        stage1_path = '/content/data/toy_data'\n",
        "        content_type = 'masks'\n",
        "    elif 'test/images' in destination_path:\n",
        "        stage1_path = '/content/data/toy_data'\n",
        "        content_type = 'images'\n",
        "    else:\n",
        "        print(\"Invalid destination path\")\n",
        "        return\n",
        "\n",
        "    extract_images(stage1_path, destination_path, content_type)"
      ],
      "metadata": {
        "id": "cPyPKRtr9TQ-"
      },
      "execution_count": 24,
      "outputs": []
    },
    {
      "cell_type": "code",
      "source": [
        "destination_path = '/content/data/train/images'\n",
        "main(destination_path)\n",
        "\n",
        "destination_path = '/content/data/train/masks'\n",
        "main(destination_path)\n",
        "\n",
        "destination_path = '/content/data/test/images'\n",
        "main(destination_path)"
      ],
      "metadata": {
        "id": "V1MxJQTT3cO3",
        "outputId": "c1b88cb6-ffc9-474a-8dc6-938e6396fd07",
        "colab": {
          "base_uri": "https://localhost:8080/"
        }
      },
      "execution_count": 33,
      "outputs": [
        {
          "output_type": "stream",
          "name": "stdout",
          "text": [
            "Copied: /content/data/toy_data/5e263abff938acba1c0cff698261c7c00c23d7376e3ceacc3d5d4a655216b16d/images/5e263abff938acba1c0cff698261c7c00c23d7376e3ceacc3d5d4a655216b16d.png to /content/data/train/images/5e263abff938acba1c0cff698261c7c00c23d7376e3ceacc3d5d4a655216b16d_5e263abff938acba1c0cff698261c7c00c23d7376e3ceacc3d5d4a655216b16d.png\n",
            "Copied: /content/data/toy_data/20e209f6ffa120a72712e1b4c1d3e24d1339227e2936abd4bbd49a636fada423/images/20e209f6ffa120a72712e1b4c1d3e24d1339227e2936abd4bbd49a636fada423.png to /content/data/train/images/20e209f6ffa120a72712e1b4c1d3e24d1339227e2936abd4bbd49a636fada423_20e209f6ffa120a72712e1b4c1d3e24d1339227e2936abd4bbd49a636fada423.png\n",
            "Copied: /content/data/toy_data/5afb7932e9c7328f4fb1d7a8166a3699d6cdc5192b93758a75e9956f1513c5a3/images/5afb7932e9c7328f4fb1d7a8166a3699d6cdc5192b93758a75e9956f1513c5a3.png to /content/data/train/images/5afb7932e9c7328f4fb1d7a8166a3699d6cdc5192b93758a75e9956f1513c5a3_5afb7932e9c7328f4fb1d7a8166a3699d6cdc5192b93758a75e9956f1513c5a3.png\n",
            "Copied: /content/data/toy_data/7f2b154541166210f468d89bb0a7184f10e51168a181dbb8b686c14654ffa317/images/7f2b154541166210f468d89bb0a7184f10e51168a181dbb8b686c14654ffa317.png to /content/data/train/images/7f2b154541166210f468d89bb0a7184f10e51168a181dbb8b686c14654ffa317_7f2b154541166210f468d89bb0a7184f10e51168a181dbb8b686c14654ffa317.png\n",
            "Copied: /content/data/toy_data/b3a9f4c9035a0df7e033b18c63bfb0f0d87ff5a4d9aa8bdf417159bb733abb80/images/b3a9f4c9035a0df7e033b18c63bfb0f0d87ff5a4d9aa8bdf417159bb733abb80.png to /content/data/train/images/b3a9f4c9035a0df7e033b18c63bfb0f0d87ff5a4d9aa8bdf417159bb733abb80_b3a9f4c9035a0df7e033b18c63bfb0f0d87ff5a4d9aa8bdf417159bb733abb80.png\n",
            "Copied: /content/data/toy_data/958114e5f37d5e1420b410bd716753b3e874b175f2b6958ebf1ec2bdf776e41f/images/958114e5f37d5e1420b410bd716753b3e874b175f2b6958ebf1ec2bdf776e41f.png to /content/data/train/images/958114e5f37d5e1420b410bd716753b3e874b175f2b6958ebf1ec2bdf776e41f_958114e5f37d5e1420b410bd716753b3e874b175f2b6958ebf1ec2bdf776e41f.png\n",
            "Copied: /content/data/toy_data/da8ca06ccbb4e2a8718f7c2939ef6cc3a4088981f660842ad885a8273e740d55/images/da8ca06ccbb4e2a8718f7c2939ef6cc3a4088981f660842ad885a8273e740d55.png to /content/data/train/images/da8ca06ccbb4e2a8718f7c2939ef6cc3a4088981f660842ad885a8273e740d55_da8ca06ccbb4e2a8718f7c2939ef6cc3a4088981f660842ad885a8273e740d55.png\n",
            "Copied: /content/data/toy_data/c89ac06daef5c819309f03d6a35792d1a8a66abb8cb3414013ffe71d3dd9fe96/images/c89ac06daef5c819309f03d6a35792d1a8a66abb8cb3414013ffe71d3dd9fe96.png to /content/data/train/images/c89ac06daef5c819309f03d6a35792d1a8a66abb8cb3414013ffe71d3dd9fe96_c89ac06daef5c819309f03d6a35792d1a8a66abb8cb3414013ffe71d3dd9fe96.png\n",
            "Copied: /content/data/toy_data/76a372bfd3fad3ea30cb163b560e52607a8281f5b042484c3a0fc6d0aa5a7450/images/76a372bfd3fad3ea30cb163b560e52607a8281f5b042484c3a0fc6d0aa5a7450.png to /content/data/train/images/76a372bfd3fad3ea30cb163b560e52607a8281f5b042484c3a0fc6d0aa5a7450_76a372bfd3fad3ea30cb163b560e52607a8281f5b042484c3a0fc6d0aa5a7450.png\n",
            "Copied: /content/data/toy_data/5ba4facefc949c920d7054813a3e846b000969da2ed860148bdfd18456f59bcc/images/5ba4facefc949c920d7054813a3e846b000969da2ed860148bdfd18456f59bcc.png to /content/data/train/images/5ba4facefc949c920d7054813a3e846b000969da2ed860148bdfd18456f59bcc_5ba4facefc949c920d7054813a3e846b000969da2ed860148bdfd18456f59bcc.png\n",
            "Copied: /content/data/toy_data/5afcbfd0dd64392aa1e233b996d0bfb4354ee7119f30ae111c33d0fe4df11590/images/5afcbfd0dd64392aa1e233b996d0bfb4354ee7119f30ae111c33d0fe4df11590.png to /content/data/train/images/5afcbfd0dd64392aa1e233b996d0bfb4354ee7119f30ae111c33d0fe4df11590_5afcbfd0dd64392aa1e233b996d0bfb4354ee7119f30ae111c33d0fe4df11590.png\n",
            "Copied: /content/data/toy_data/88d5a03f8ecd459f076a06e0d5035149193bfdd727c30905de19054dcb9018ae/images/88d5a03f8ecd459f076a06e0d5035149193bfdd727c30905de19054dcb9018ae.png to /content/data/train/images/88d5a03f8ecd459f076a06e0d5035149193bfdd727c30905de19054dcb9018ae_88d5a03f8ecd459f076a06e0d5035149193bfdd727c30905de19054dcb9018ae.png\n",
            "Copied: /content/data/toy_data/dbbfe08a52688d0ac8de9161cbb17cb201e3991aacab8ab8a77fe0e203a69481/images/dbbfe08a52688d0ac8de9161cbb17cb201e3991aacab8ab8a77fe0e203a69481.png to /content/data/train/images/dbbfe08a52688d0ac8de9161cbb17cb201e3991aacab8ab8a77fe0e203a69481_dbbfe08a52688d0ac8de9161cbb17cb201e3991aacab8ab8a77fe0e203a69481.png\n",
            "Copied: /content/data/toy_data/237802ac5005f9cf782367156c46c383efd9e05088e5768ca883cbbe24abadb1/images/237802ac5005f9cf782367156c46c383efd9e05088e5768ca883cbbe24abadb1.png to /content/data/train/images/237802ac5005f9cf782367156c46c383efd9e05088e5768ca883cbbe24abadb1_237802ac5005f9cf782367156c46c383efd9e05088e5768ca883cbbe24abadb1.png\n",
            "Copied: /content/data/toy_data/ed4b8e0d756836be7acb2e2b7799c473b52424e3092a71d3c6d23558e500dc4c/images/ed4b8e0d756836be7acb2e2b7799c473b52424e3092a71d3c6d23558e500dc4c.png to /content/data/train/images/ed4b8e0d756836be7acb2e2b7799c473b52424e3092a71d3c6d23558e500dc4c_ed4b8e0d756836be7acb2e2b7799c473b52424e3092a71d3c6d23558e500dc4c.png\n",
            "Copied: /content/data/toy_data/1e61ecf354cb93a62a9561db87a53985fb54e001444f98112ed0fc623fad793e/images/1e61ecf354cb93a62a9561db87a53985fb54e001444f98112ed0fc623fad793e.png to /content/data/train/images/1e61ecf354cb93a62a9561db87a53985fb54e001444f98112ed0fc623fad793e_1e61ecf354cb93a62a9561db87a53985fb54e001444f98112ed0fc623fad793e.png\n",
            "Copied: /content/data/toy_data/e4ae1ceddb279bac30273ca7ac480025ce2e7287328f5272234b5bbca6d13135/images/e4ae1ceddb279bac30273ca7ac480025ce2e7287328f5272234b5bbca6d13135.png to /content/data/train/images/e4ae1ceddb279bac30273ca7ac480025ce2e7287328f5272234b5bbca6d13135_e4ae1ceddb279bac30273ca7ac480025ce2e7287328f5272234b5bbca6d13135.png\n",
            "Copied: /content/data/toy_data/c901794d1a421d52e5734500c0a2a8ca84651fb93b19cec2f411855e70cae339/images/c901794d1a421d52e5734500c0a2a8ca84651fb93b19cec2f411855e70cae339.png to /content/data/train/images/c901794d1a421d52e5734500c0a2a8ca84651fb93b19cec2f411855e70cae339_c901794d1a421d52e5734500c0a2a8ca84651fb93b19cec2f411855e70cae339.png\n",
            "Copied: /content/data/toy_data/8f27ebc74164eddfe989a98a754dcf5a9c85ef599a1321de24bcf097df1814ca/images/8f27ebc74164eddfe989a98a754dcf5a9c85ef599a1321de24bcf097df1814ca.png to /content/data/train/images/8f27ebc74164eddfe989a98a754dcf5a9c85ef599a1321de24bcf097df1814ca_8f27ebc74164eddfe989a98a754dcf5a9c85ef599a1321de24bcf097df1814ca.png\n",
            "Copied: /content/data/toy_data/1740b0a67ca337ea31648b57c81bcfbb841c7bb5cad185199a9f4da596d531b9/images/1740b0a67ca337ea31648b57c81bcfbb841c7bb5cad185199a9f4da596d531b9.png to /content/data/train/images/1740b0a67ca337ea31648b57c81bcfbb841c7bb5cad185199a9f4da596d531b9_1740b0a67ca337ea31648b57c81bcfbb841c7bb5cad185199a9f4da596d531b9.png\n",
            "Copied: /content/data/toy_data/a90401357d50e1376354ae6e5f56a2e4dff3fdb5a4e8d50316673b2b8f1f293b/images/a90401357d50e1376354ae6e5f56a2e4dff3fdb5a4e8d50316673b2b8f1f293b.png to /content/data/train/images/a90401357d50e1376354ae6e5f56a2e4dff3fdb5a4e8d50316673b2b8f1f293b_a90401357d50e1376354ae6e5f56a2e4dff3fdb5a4e8d50316673b2b8f1f293b.png\n",
            "Copied: /content/data/toy_data/ef3ef194e5657fda708ecbd3eb6530286ed2ba23c88efb9f1715298975c73548/images/ef3ef194e5657fda708ecbd3eb6530286ed2ba23c88efb9f1715298975c73548.png to /content/data/train/images/ef3ef194e5657fda708ecbd3eb6530286ed2ba23c88efb9f1715298975c73548_ef3ef194e5657fda708ecbd3eb6530286ed2ba23c88efb9f1715298975c73548.png\n",
            "Copied: /content/data/toy_data/1400420310c9094361a8a243545187f1d4c2365e081b3bb08c5fa29c7491a55b/images/1400420310c9094361a8a243545187f1d4c2365e081b3bb08c5fa29c7491a55b.png to /content/data/train/images/1400420310c9094361a8a243545187f1d4c2365e081b3bb08c5fa29c7491a55b_1400420310c9094361a8a243545187f1d4c2365e081b3bb08c5fa29c7491a55b.png\n",
            "Copied: /content/data/toy_data/c00ae67f72816daee468474026e30705003b2d3501f123579a4f0a6366b66aa1/images/c00ae67f72816daee468474026e30705003b2d3501f123579a4f0a6366b66aa1.png to /content/data/train/images/c00ae67f72816daee468474026e30705003b2d3501f123579a4f0a6366b66aa1_c00ae67f72816daee468474026e30705003b2d3501f123579a4f0a6366b66aa1.png\n",
            "Copied: /content/data/toy_data/bde3727f3a9e8b2b58f383ebc762b2157eb50cdbff23e69b025418b43967556b/images/bde3727f3a9e8b2b58f383ebc762b2157eb50cdbff23e69b025418b43967556b.png to /content/data/train/images/bde3727f3a9e8b2b58f383ebc762b2157eb50cdbff23e69b025418b43967556b_bde3727f3a9e8b2b58f383ebc762b2157eb50cdbff23e69b025418b43967556b.png\n",
            "Copied: /content/data/toy_data/4217e25defac94ff465157d53f5a24b8a14045b763d8606ec4a97d71d99ee381/images/4217e25defac94ff465157d53f5a24b8a14045b763d8606ec4a97d71d99ee381.png to /content/data/train/images/4217e25defac94ff465157d53f5a24b8a14045b763d8606ec4a97d71d99ee381_4217e25defac94ff465157d53f5a24b8a14045b763d8606ec4a97d71d99ee381.png\n",
            "Copied: /content/data/toy_data/619429303c1af7540916509fe7900cf483eba4391b06aac87ff7f66ca1ab6483/images/619429303c1af7540916509fe7900cf483eba4391b06aac87ff7f66ca1ab6483.png to /content/data/train/images/619429303c1af7540916509fe7900cf483eba4391b06aac87ff7f66ca1ab6483_619429303c1af7540916509fe7900cf483eba4391b06aac87ff7f66ca1ab6483.png\n",
            "Copied: /content/data/toy_data/fadeb0ab092833f27daaeb3e24223eb090f9536b83f68cde8f49df7c544f711b/images/fadeb0ab092833f27daaeb3e24223eb090f9536b83f68cde8f49df7c544f711b.png to /content/data/train/images/fadeb0ab092833f27daaeb3e24223eb090f9536b83f68cde8f49df7c544f711b_fadeb0ab092833f27daaeb3e24223eb090f9536b83f68cde8f49df7c544f711b.png\n",
            "Copied: /content/data/toy_data/33d0a9b24c25852ce35274b4b1777484ccd21f44dbe35491cc926e5948c1ce3e/images/33d0a9b24c25852ce35274b4b1777484ccd21f44dbe35491cc926e5948c1ce3e.png to /content/data/train/images/33d0a9b24c25852ce35274b4b1777484ccd21f44dbe35491cc926e5948c1ce3e_33d0a9b24c25852ce35274b4b1777484ccd21f44dbe35491cc926e5948c1ce3e.png\n",
            "Copied: /content/data/toy_data/00ae65c1c6631ae6f2be1a449902976e6eb8483bf6b0740d00530220832c6d3e/images/00ae65c1c6631ae6f2be1a449902976e6eb8483bf6b0740d00530220832c6d3e.png to /content/data/train/images/00ae65c1c6631ae6f2be1a449902976e6eb8483bf6b0740d00530220832c6d3e_00ae65c1c6631ae6f2be1a449902976e6eb8483bf6b0740d00530220832c6d3e.png\n",
            "Copied: /content/data/toy_data/e5f8ad0f0a43af8ca57e31e16800108abdfb44a7e962a71d246f72d2dbde42bf/images/e5f8ad0f0a43af8ca57e31e16800108abdfb44a7e962a71d246f72d2dbde42bf.png to /content/data/train/images/e5f8ad0f0a43af8ca57e31e16800108abdfb44a7e962a71d246f72d2dbde42bf_e5f8ad0f0a43af8ca57e31e16800108abdfb44a7e962a71d246f72d2dbde42bf.png\n",
            "Copied: /content/data/toy_data/9b25b8ffd5f52b6c3d235a42d51d380503d1f80b61ef0f62eeb696f5977c38e6/images/9b25b8ffd5f52b6c3d235a42d51d380503d1f80b61ef0f62eeb696f5977c38e6.png to /content/data/train/images/9b25b8ffd5f52b6c3d235a42d51d380503d1f80b61ef0f62eeb696f5977c38e6_9b25b8ffd5f52b6c3d235a42d51d380503d1f80b61ef0f62eeb696f5977c38e6.png\n",
            "Copied: /content/data/toy_data/75120baa6abcbfe750a4eb223b8c10ae6bc3bebdda7b00d9a78bc2472fa28625/images/75120baa6abcbfe750a4eb223b8c10ae6bc3bebdda7b00d9a78bc2472fa28625.png to /content/data/train/images/75120baa6abcbfe750a4eb223b8c10ae6bc3bebdda7b00d9a78bc2472fa28625_75120baa6abcbfe750a4eb223b8c10ae6bc3bebdda7b00d9a78bc2472fa28625.png\n",
            "Copied: /content/data/toy_data/c3bec1066aae20f48b82975e7e8b684cd67635a8baf211e4d9e3e13bc54c5d06/images/c3bec1066aae20f48b82975e7e8b684cd67635a8baf211e4d9e3e13bc54c5d06.png to /content/data/train/images/c3bec1066aae20f48b82975e7e8b684cd67635a8baf211e4d9e3e13bc54c5d06_c3bec1066aae20f48b82975e7e8b684cd67635a8baf211e4d9e3e13bc54c5d06.png\n",
            "Copied: /content/data/toy_data/4590d7d47f521df62f3bcb0bf74d1bca861d94ade614d8afc912d1009d607b94/images/4590d7d47f521df62f3bcb0bf74d1bca861d94ade614d8afc912d1009d607b94.png to /content/data/train/images/4590d7d47f521df62f3bcb0bf74d1bca861d94ade614d8afc912d1009d607b94_4590d7d47f521df62f3bcb0bf74d1bca861d94ade614d8afc912d1009d607b94.png\n",
            "Copied: /content/data/toy_data/2bf594e9d06f78b4b79d7ffb395497a0a91126b6b0d710d7a9cee21f5c3bd177/images/2bf594e9d06f78b4b79d7ffb395497a0a91126b6b0d710d7a9cee21f5c3bd177.png to /content/data/train/images/2bf594e9d06f78b4b79d7ffb395497a0a91126b6b0d710d7a9cee21f5c3bd177_2bf594e9d06f78b4b79d7ffb395497a0a91126b6b0d710d7a9cee21f5c3bd177.png\n",
            "Copied: /content/data/toy_data/4d4ebfcae4374165ea6ae7c7e18fd0ba5014c3c860ee2489c59e25ddd45e7a32/images/4d4ebfcae4374165ea6ae7c7e18fd0ba5014c3c860ee2489c59e25ddd45e7a32.png to /content/data/train/images/4d4ebfcae4374165ea6ae7c7e18fd0ba5014c3c860ee2489c59e25ddd45e7a32_4d4ebfcae4374165ea6ae7c7e18fd0ba5014c3c860ee2489c59e25ddd45e7a32.png\n",
            "Copied: /content/data/toy_data/2e2d29fc44444a85049b162eb359a523dec108ccd5bd75022b25547491abf0c7/images/2e2d29fc44444a85049b162eb359a523dec108ccd5bd75022b25547491abf0c7.png to /content/data/train/images/2e2d29fc44444a85049b162eb359a523dec108ccd5bd75022b25547491abf0c7_2e2d29fc44444a85049b162eb359a523dec108ccd5bd75022b25547491abf0c7.png\n",
            "Copied: /content/data/toy_data/a815a986800a95de0957116c6585deea8ffb6ee09ad00ccc687306937ac698d0/images/a815a986800a95de0957116c6585deea8ffb6ee09ad00ccc687306937ac698d0.png to /content/data/train/images/a815a986800a95de0957116c6585deea8ffb6ee09ad00ccc687306937ac698d0_a815a986800a95de0957116c6585deea8ffb6ee09ad00ccc687306937ac698d0.png\n",
            "Copied: /content/data/toy_data/cc88627344305b9a9b07f8bd042cb074c7a834c13de67ff4b24914ac68f07f6e/images/cc88627344305b9a9b07f8bd042cb074c7a834c13de67ff4b24914ac68f07f6e.png to /content/data/train/images/cc88627344305b9a9b07f8bd042cb074c7a834c13de67ff4b24914ac68f07f6e_cc88627344305b9a9b07f8bd042cb074c7a834c13de67ff4b24914ac68f07f6e.png\n",
            "Copied: /content/data/toy_data/05040e2e959c3f5632558fc9683fec88f0010026c555b499066346f67fdd0e13/images/05040e2e959c3f5632558fc9683fec88f0010026c555b499066346f67fdd0e13.png to /content/data/train/images/05040e2e959c3f5632558fc9683fec88f0010026c555b499066346f67fdd0e13_05040e2e959c3f5632558fc9683fec88f0010026c555b499066346f67fdd0e13.png\n",
            "Copied: /content/data/toy_data/92f31f591929a30e4309ab75185c96ff4314ce0a7ead2ed2c2171897ad1da0c7/images/92f31f591929a30e4309ab75185c96ff4314ce0a7ead2ed2c2171897ad1da0c7.png to /content/data/train/images/92f31f591929a30e4309ab75185c96ff4314ce0a7ead2ed2c2171897ad1da0c7_92f31f591929a30e4309ab75185c96ff4314ce0a7ead2ed2c2171897ad1da0c7.png\n",
            "Copied: /content/data/toy_data/150b0ffa318c87b31d78af0e87d60390dbcd84b5f228a8c1fb3225cbe5df3e3f/images/150b0ffa318c87b31d78af0e87d60390dbcd84b5f228a8c1fb3225cbe5df3e3f.png to /content/data/train/images/150b0ffa318c87b31d78af0e87d60390dbcd84b5f228a8c1fb3225cbe5df3e3f_150b0ffa318c87b31d78af0e87d60390dbcd84b5f228a8c1fb3225cbe5df3e3f.png\n",
            "Copied: /content/data/toy_data/0bf4b144167694b6846d584cf52c458f34f28fcae75328a2a096c8214e01c0d0/images/0bf4b144167694b6846d584cf52c458f34f28fcae75328a2a096c8214e01c0d0.png to /content/data/train/images/0bf4b144167694b6846d584cf52c458f34f28fcae75328a2a096c8214e01c0d0_0bf4b144167694b6846d584cf52c458f34f28fcae75328a2a096c8214e01c0d0.png\n",
            "Copied: /content/data/toy_data/4bf6a5ec42032bb8dbbb10d25fdc5211b2fe1ce44b6e577ef89dbda17697d819/images/4bf6a5ec42032bb8dbbb10d25fdc5211b2fe1ce44b6e577ef89dbda17697d819.png to /content/data/train/images/4bf6a5ec42032bb8dbbb10d25fdc5211b2fe1ce44b6e577ef89dbda17697d819_4bf6a5ec42032bb8dbbb10d25fdc5211b2fe1ce44b6e577ef89dbda17697d819.png\n",
            "Copied: /content/data/toy_data/08ae2741df2f5ac815c0f272a8c532b5167ee853be9b939b9b8b7fa93560868a/images/08ae2741df2f5ac815c0f272a8c532b5167ee853be9b939b9b8b7fa93560868a.png to /content/data/train/images/08ae2741df2f5ac815c0f272a8c532b5167ee853be9b939b9b8b7fa93560868a_08ae2741df2f5ac815c0f272a8c532b5167ee853be9b939b9b8b7fa93560868a.png\n",
            "Copied: /content/data/toy_data/37ed50eea5a1e0bade3e6753793b6caeb061cd4c2f365658c257f69cab1f6288/images/37ed50eea5a1e0bade3e6753793b6caeb061cd4c2f365658c257f69cab1f6288.png to /content/data/train/images/37ed50eea5a1e0bade3e6753793b6caeb061cd4c2f365658c257f69cab1f6288_37ed50eea5a1e0bade3e6753793b6caeb061cd4c2f365658c257f69cab1f6288.png\n",
            "Copied: /content/data/toy_data/e5aeb5b3577abbebe8982b5dd7d22c4257250ad3000661a42f38bf9248d291fd/images/e5aeb5b3577abbebe8982b5dd7d22c4257250ad3000661a42f38bf9248d291fd.png to /content/data/train/images/e5aeb5b3577abbebe8982b5dd7d22c4257250ad3000661a42f38bf9248d291fd_e5aeb5b3577abbebe8982b5dd7d22c4257250ad3000661a42f38bf9248d291fd.png\n",
            "Copied: /content/data/toy_data/f01a9742c43a69f087700a43893f713878e537bae8e44f76b957f09519601ad6/images/f01a9742c43a69f087700a43893f713878e537bae8e44f76b957f09519601ad6.png to /content/data/train/images/f01a9742c43a69f087700a43893f713878e537bae8e44f76b957f09519601ad6_f01a9742c43a69f087700a43893f713878e537bae8e44f76b957f09519601ad6.png\n",
            "Copied: /content/data/toy_data/19f0653c33982a416feed56e5d1ce6849fd83314fd19dfa1c5b23c6b66e9868a/images/19f0653c33982a416feed56e5d1ce6849fd83314fd19dfa1c5b23c6b66e9868a.png to /content/data/train/images/19f0653c33982a416feed56e5d1ce6849fd83314fd19dfa1c5b23c6b66e9868a_19f0653c33982a416feed56e5d1ce6849fd83314fd19dfa1c5b23c6b66e9868a.png\n",
            "Copied: /content/data/toy_data/5e263abff938acba1c0cff698261c7c00c23d7376e3ceacc3d5d4a655216b16d/merged_masks/5e263abff938acba1c0cff698261c7c00c23d7376e3ceacc3d5d4a655216b16d_merged_mask.png to /content/data/train/masks/5e263abff938acba1c0cff698261c7c00c23d7376e3ceacc3d5d4a655216b16d_5e263abff938acba1c0cff698261c7c00c23d7376e3ceacc3d5d4a655216b16d_merged_mask.png\n",
            "Copied: /content/data/toy_data/20e209f6ffa120a72712e1b4c1d3e24d1339227e2936abd4bbd49a636fada423/merged_masks/20e209f6ffa120a72712e1b4c1d3e24d1339227e2936abd4bbd49a636fada423_merged_mask.png to /content/data/train/masks/20e209f6ffa120a72712e1b4c1d3e24d1339227e2936abd4bbd49a636fada423_20e209f6ffa120a72712e1b4c1d3e24d1339227e2936abd4bbd49a636fada423_merged_mask.png\n",
            "Copied: /content/data/toy_data/5afb7932e9c7328f4fb1d7a8166a3699d6cdc5192b93758a75e9956f1513c5a3/merged_masks/5afb7932e9c7328f4fb1d7a8166a3699d6cdc5192b93758a75e9956f1513c5a3_merged_mask.png to /content/data/train/masks/5afb7932e9c7328f4fb1d7a8166a3699d6cdc5192b93758a75e9956f1513c5a3_5afb7932e9c7328f4fb1d7a8166a3699d6cdc5192b93758a75e9956f1513c5a3_merged_mask.png\n",
            "Copied: /content/data/toy_data/7f2b154541166210f468d89bb0a7184f10e51168a181dbb8b686c14654ffa317/merged_masks/7f2b154541166210f468d89bb0a7184f10e51168a181dbb8b686c14654ffa317_merged_mask.png to /content/data/train/masks/7f2b154541166210f468d89bb0a7184f10e51168a181dbb8b686c14654ffa317_7f2b154541166210f468d89bb0a7184f10e51168a181dbb8b686c14654ffa317_merged_mask.png\n",
            "Copied: /content/data/toy_data/b3a9f4c9035a0df7e033b18c63bfb0f0d87ff5a4d9aa8bdf417159bb733abb80/merged_masks/b3a9f4c9035a0df7e033b18c63bfb0f0d87ff5a4d9aa8bdf417159bb733abb80_merged_mask.png to /content/data/train/masks/b3a9f4c9035a0df7e033b18c63bfb0f0d87ff5a4d9aa8bdf417159bb733abb80_b3a9f4c9035a0df7e033b18c63bfb0f0d87ff5a4d9aa8bdf417159bb733abb80_merged_mask.png\n",
            "Copied: /content/data/toy_data/958114e5f37d5e1420b410bd716753b3e874b175f2b6958ebf1ec2bdf776e41f/merged_masks/958114e5f37d5e1420b410bd716753b3e874b175f2b6958ebf1ec2bdf776e41f_merged_mask.png to /content/data/train/masks/958114e5f37d5e1420b410bd716753b3e874b175f2b6958ebf1ec2bdf776e41f_958114e5f37d5e1420b410bd716753b3e874b175f2b6958ebf1ec2bdf776e41f_merged_mask.png\n",
            "Copied: /content/data/toy_data/da8ca06ccbb4e2a8718f7c2939ef6cc3a4088981f660842ad885a8273e740d55/merged_masks/da8ca06ccbb4e2a8718f7c2939ef6cc3a4088981f660842ad885a8273e740d55_merged_mask.png to /content/data/train/masks/da8ca06ccbb4e2a8718f7c2939ef6cc3a4088981f660842ad885a8273e740d55_da8ca06ccbb4e2a8718f7c2939ef6cc3a4088981f660842ad885a8273e740d55_merged_mask.png\n",
            "Copied: /content/data/toy_data/c89ac06daef5c819309f03d6a35792d1a8a66abb8cb3414013ffe71d3dd9fe96/merged_masks/c89ac06daef5c819309f03d6a35792d1a8a66abb8cb3414013ffe71d3dd9fe96_merged_mask.png to /content/data/train/masks/c89ac06daef5c819309f03d6a35792d1a8a66abb8cb3414013ffe71d3dd9fe96_c89ac06daef5c819309f03d6a35792d1a8a66abb8cb3414013ffe71d3dd9fe96_merged_mask.png\n",
            "Copied: /content/data/toy_data/76a372bfd3fad3ea30cb163b560e52607a8281f5b042484c3a0fc6d0aa5a7450/merged_masks/76a372bfd3fad3ea30cb163b560e52607a8281f5b042484c3a0fc6d0aa5a7450_merged_mask.png to /content/data/train/masks/76a372bfd3fad3ea30cb163b560e52607a8281f5b042484c3a0fc6d0aa5a7450_76a372bfd3fad3ea30cb163b560e52607a8281f5b042484c3a0fc6d0aa5a7450_merged_mask.png\n",
            "Copied: /content/data/toy_data/5ba4facefc949c920d7054813a3e846b000969da2ed860148bdfd18456f59bcc/merged_masks/5ba4facefc949c920d7054813a3e846b000969da2ed860148bdfd18456f59bcc_merged_mask.png to /content/data/train/masks/5ba4facefc949c920d7054813a3e846b000969da2ed860148bdfd18456f59bcc_5ba4facefc949c920d7054813a3e846b000969da2ed860148bdfd18456f59bcc_merged_mask.png\n",
            "Copied: /content/data/toy_data/5afcbfd0dd64392aa1e233b996d0bfb4354ee7119f30ae111c33d0fe4df11590/merged_masks/5afcbfd0dd64392aa1e233b996d0bfb4354ee7119f30ae111c33d0fe4df11590_merged_mask.png to /content/data/train/masks/5afcbfd0dd64392aa1e233b996d0bfb4354ee7119f30ae111c33d0fe4df11590_5afcbfd0dd64392aa1e233b996d0bfb4354ee7119f30ae111c33d0fe4df11590_merged_mask.png\n",
            "Copied: /content/data/toy_data/88d5a03f8ecd459f076a06e0d5035149193bfdd727c30905de19054dcb9018ae/merged_masks/88d5a03f8ecd459f076a06e0d5035149193bfdd727c30905de19054dcb9018ae_merged_mask.png to /content/data/train/masks/88d5a03f8ecd459f076a06e0d5035149193bfdd727c30905de19054dcb9018ae_88d5a03f8ecd459f076a06e0d5035149193bfdd727c30905de19054dcb9018ae_merged_mask.png\n",
            "Copied: /content/data/toy_data/dbbfe08a52688d0ac8de9161cbb17cb201e3991aacab8ab8a77fe0e203a69481/merged_masks/dbbfe08a52688d0ac8de9161cbb17cb201e3991aacab8ab8a77fe0e203a69481_merged_mask.png to /content/data/train/masks/dbbfe08a52688d0ac8de9161cbb17cb201e3991aacab8ab8a77fe0e203a69481_dbbfe08a52688d0ac8de9161cbb17cb201e3991aacab8ab8a77fe0e203a69481_merged_mask.png\n",
            "Copied: /content/data/toy_data/237802ac5005f9cf782367156c46c383efd9e05088e5768ca883cbbe24abadb1/merged_masks/237802ac5005f9cf782367156c46c383efd9e05088e5768ca883cbbe24abadb1_merged_mask.png to /content/data/train/masks/237802ac5005f9cf782367156c46c383efd9e05088e5768ca883cbbe24abadb1_237802ac5005f9cf782367156c46c383efd9e05088e5768ca883cbbe24abadb1_merged_mask.png\n",
            "Copied: /content/data/toy_data/ed4b8e0d756836be7acb2e2b7799c473b52424e3092a71d3c6d23558e500dc4c/merged_masks/ed4b8e0d756836be7acb2e2b7799c473b52424e3092a71d3c6d23558e500dc4c_merged_mask.png to /content/data/train/masks/ed4b8e0d756836be7acb2e2b7799c473b52424e3092a71d3c6d23558e500dc4c_ed4b8e0d756836be7acb2e2b7799c473b52424e3092a71d3c6d23558e500dc4c_merged_mask.png\n",
            "Copied: /content/data/toy_data/1e61ecf354cb93a62a9561db87a53985fb54e001444f98112ed0fc623fad793e/merged_masks/1e61ecf354cb93a62a9561db87a53985fb54e001444f98112ed0fc623fad793e_merged_mask.png to /content/data/train/masks/1e61ecf354cb93a62a9561db87a53985fb54e001444f98112ed0fc623fad793e_1e61ecf354cb93a62a9561db87a53985fb54e001444f98112ed0fc623fad793e_merged_mask.png\n",
            "Copied: /content/data/toy_data/e4ae1ceddb279bac30273ca7ac480025ce2e7287328f5272234b5bbca6d13135/merged_masks/e4ae1ceddb279bac30273ca7ac480025ce2e7287328f5272234b5bbca6d13135_merged_mask.png to /content/data/train/masks/e4ae1ceddb279bac30273ca7ac480025ce2e7287328f5272234b5bbca6d13135_e4ae1ceddb279bac30273ca7ac480025ce2e7287328f5272234b5bbca6d13135_merged_mask.png\n",
            "Copied: /content/data/toy_data/c901794d1a421d52e5734500c0a2a8ca84651fb93b19cec2f411855e70cae339/merged_masks/c901794d1a421d52e5734500c0a2a8ca84651fb93b19cec2f411855e70cae339_merged_mask.png to /content/data/train/masks/c901794d1a421d52e5734500c0a2a8ca84651fb93b19cec2f411855e70cae339_c901794d1a421d52e5734500c0a2a8ca84651fb93b19cec2f411855e70cae339_merged_mask.png\n",
            "Copied: /content/data/toy_data/8f27ebc74164eddfe989a98a754dcf5a9c85ef599a1321de24bcf097df1814ca/merged_masks/8f27ebc74164eddfe989a98a754dcf5a9c85ef599a1321de24bcf097df1814ca_merged_mask.png to /content/data/train/masks/8f27ebc74164eddfe989a98a754dcf5a9c85ef599a1321de24bcf097df1814ca_8f27ebc74164eddfe989a98a754dcf5a9c85ef599a1321de24bcf097df1814ca_merged_mask.png\n",
            "Copied: /content/data/toy_data/1740b0a67ca337ea31648b57c81bcfbb841c7bb5cad185199a9f4da596d531b9/merged_masks/1740b0a67ca337ea31648b57c81bcfbb841c7bb5cad185199a9f4da596d531b9_merged_mask.png to /content/data/train/masks/1740b0a67ca337ea31648b57c81bcfbb841c7bb5cad185199a9f4da596d531b9_1740b0a67ca337ea31648b57c81bcfbb841c7bb5cad185199a9f4da596d531b9_merged_mask.png\n",
            "Copied: /content/data/toy_data/a90401357d50e1376354ae6e5f56a2e4dff3fdb5a4e8d50316673b2b8f1f293b/merged_masks/a90401357d50e1376354ae6e5f56a2e4dff3fdb5a4e8d50316673b2b8f1f293b_merged_mask.png to /content/data/train/masks/a90401357d50e1376354ae6e5f56a2e4dff3fdb5a4e8d50316673b2b8f1f293b_a90401357d50e1376354ae6e5f56a2e4dff3fdb5a4e8d50316673b2b8f1f293b_merged_mask.png\n",
            "Copied: /content/data/toy_data/ef3ef194e5657fda708ecbd3eb6530286ed2ba23c88efb9f1715298975c73548/merged_masks/ef3ef194e5657fda708ecbd3eb6530286ed2ba23c88efb9f1715298975c73548_merged_mask.png to /content/data/train/masks/ef3ef194e5657fda708ecbd3eb6530286ed2ba23c88efb9f1715298975c73548_ef3ef194e5657fda708ecbd3eb6530286ed2ba23c88efb9f1715298975c73548_merged_mask.png\n",
            "Copied: /content/data/toy_data/1400420310c9094361a8a243545187f1d4c2365e081b3bb08c5fa29c7491a55b/merged_masks/1400420310c9094361a8a243545187f1d4c2365e081b3bb08c5fa29c7491a55b_merged_mask.png to /content/data/train/masks/1400420310c9094361a8a243545187f1d4c2365e081b3bb08c5fa29c7491a55b_1400420310c9094361a8a243545187f1d4c2365e081b3bb08c5fa29c7491a55b_merged_mask.png\n",
            "Copied: /content/data/toy_data/c00ae67f72816daee468474026e30705003b2d3501f123579a4f0a6366b66aa1/merged_masks/c00ae67f72816daee468474026e30705003b2d3501f123579a4f0a6366b66aa1_merged_mask.png to /content/data/train/masks/c00ae67f72816daee468474026e30705003b2d3501f123579a4f0a6366b66aa1_c00ae67f72816daee468474026e30705003b2d3501f123579a4f0a6366b66aa1_merged_mask.png\n",
            "Copied: /content/data/toy_data/bde3727f3a9e8b2b58f383ebc762b2157eb50cdbff23e69b025418b43967556b/merged_masks/bde3727f3a9e8b2b58f383ebc762b2157eb50cdbff23e69b025418b43967556b_merged_mask.png to /content/data/train/masks/bde3727f3a9e8b2b58f383ebc762b2157eb50cdbff23e69b025418b43967556b_bde3727f3a9e8b2b58f383ebc762b2157eb50cdbff23e69b025418b43967556b_merged_mask.png\n",
            "Copied: /content/data/toy_data/4217e25defac94ff465157d53f5a24b8a14045b763d8606ec4a97d71d99ee381/merged_masks/4217e25defac94ff465157d53f5a24b8a14045b763d8606ec4a97d71d99ee381_merged_mask.png to /content/data/train/masks/4217e25defac94ff465157d53f5a24b8a14045b763d8606ec4a97d71d99ee381_4217e25defac94ff465157d53f5a24b8a14045b763d8606ec4a97d71d99ee381_merged_mask.png\n",
            "Copied: /content/data/toy_data/619429303c1af7540916509fe7900cf483eba4391b06aac87ff7f66ca1ab6483/merged_masks/619429303c1af7540916509fe7900cf483eba4391b06aac87ff7f66ca1ab6483_merged_mask.png to /content/data/train/masks/619429303c1af7540916509fe7900cf483eba4391b06aac87ff7f66ca1ab6483_619429303c1af7540916509fe7900cf483eba4391b06aac87ff7f66ca1ab6483_merged_mask.png\n",
            "Copied: /content/data/toy_data/fadeb0ab092833f27daaeb3e24223eb090f9536b83f68cde8f49df7c544f711b/merged_masks/fadeb0ab092833f27daaeb3e24223eb090f9536b83f68cde8f49df7c544f711b_merged_mask.png to /content/data/train/masks/fadeb0ab092833f27daaeb3e24223eb090f9536b83f68cde8f49df7c544f711b_fadeb0ab092833f27daaeb3e24223eb090f9536b83f68cde8f49df7c544f711b_merged_mask.png\n",
            "Copied: /content/data/toy_data/33d0a9b24c25852ce35274b4b1777484ccd21f44dbe35491cc926e5948c1ce3e/merged_masks/33d0a9b24c25852ce35274b4b1777484ccd21f44dbe35491cc926e5948c1ce3e_merged_mask.png to /content/data/train/masks/33d0a9b24c25852ce35274b4b1777484ccd21f44dbe35491cc926e5948c1ce3e_33d0a9b24c25852ce35274b4b1777484ccd21f44dbe35491cc926e5948c1ce3e_merged_mask.png\n",
            "Copied: /content/data/toy_data/00ae65c1c6631ae6f2be1a449902976e6eb8483bf6b0740d00530220832c6d3e/merged_masks/00ae65c1c6631ae6f2be1a449902976e6eb8483bf6b0740d00530220832c6d3e_merged_mask.png to /content/data/train/masks/00ae65c1c6631ae6f2be1a449902976e6eb8483bf6b0740d00530220832c6d3e_00ae65c1c6631ae6f2be1a449902976e6eb8483bf6b0740d00530220832c6d3e_merged_mask.png\n",
            "Copied: /content/data/toy_data/e5f8ad0f0a43af8ca57e31e16800108abdfb44a7e962a71d246f72d2dbde42bf/merged_masks/e5f8ad0f0a43af8ca57e31e16800108abdfb44a7e962a71d246f72d2dbde42bf_merged_mask.png to /content/data/train/masks/e5f8ad0f0a43af8ca57e31e16800108abdfb44a7e962a71d246f72d2dbde42bf_e5f8ad0f0a43af8ca57e31e16800108abdfb44a7e962a71d246f72d2dbde42bf_merged_mask.png\n",
            "Copied: /content/data/toy_data/9b25b8ffd5f52b6c3d235a42d51d380503d1f80b61ef0f62eeb696f5977c38e6/merged_masks/9b25b8ffd5f52b6c3d235a42d51d380503d1f80b61ef0f62eeb696f5977c38e6_merged_mask.png to /content/data/train/masks/9b25b8ffd5f52b6c3d235a42d51d380503d1f80b61ef0f62eeb696f5977c38e6_9b25b8ffd5f52b6c3d235a42d51d380503d1f80b61ef0f62eeb696f5977c38e6_merged_mask.png\n",
            "Copied: /content/data/toy_data/75120baa6abcbfe750a4eb223b8c10ae6bc3bebdda7b00d9a78bc2472fa28625/merged_masks/75120baa6abcbfe750a4eb223b8c10ae6bc3bebdda7b00d9a78bc2472fa28625_merged_mask.png to /content/data/train/masks/75120baa6abcbfe750a4eb223b8c10ae6bc3bebdda7b00d9a78bc2472fa28625_75120baa6abcbfe750a4eb223b8c10ae6bc3bebdda7b00d9a78bc2472fa28625_merged_mask.png\n",
            "Copied: /content/data/toy_data/c3bec1066aae20f48b82975e7e8b684cd67635a8baf211e4d9e3e13bc54c5d06/merged_masks/c3bec1066aae20f48b82975e7e8b684cd67635a8baf211e4d9e3e13bc54c5d06_merged_mask.png to /content/data/train/masks/c3bec1066aae20f48b82975e7e8b684cd67635a8baf211e4d9e3e13bc54c5d06_c3bec1066aae20f48b82975e7e8b684cd67635a8baf211e4d9e3e13bc54c5d06_merged_mask.png\n",
            "Copied: /content/data/toy_data/4590d7d47f521df62f3bcb0bf74d1bca861d94ade614d8afc912d1009d607b94/merged_masks/4590d7d47f521df62f3bcb0bf74d1bca861d94ade614d8afc912d1009d607b94_merged_mask.png to /content/data/train/masks/4590d7d47f521df62f3bcb0bf74d1bca861d94ade614d8afc912d1009d607b94_4590d7d47f521df62f3bcb0bf74d1bca861d94ade614d8afc912d1009d607b94_merged_mask.png\n",
            "Copied: /content/data/toy_data/2bf594e9d06f78b4b79d7ffb395497a0a91126b6b0d710d7a9cee21f5c3bd177/merged_masks/2bf594e9d06f78b4b79d7ffb395497a0a91126b6b0d710d7a9cee21f5c3bd177_merged_mask.png to /content/data/train/masks/2bf594e9d06f78b4b79d7ffb395497a0a91126b6b0d710d7a9cee21f5c3bd177_2bf594e9d06f78b4b79d7ffb395497a0a91126b6b0d710d7a9cee21f5c3bd177_merged_mask.png\n",
            "Copied: /content/data/toy_data/4d4ebfcae4374165ea6ae7c7e18fd0ba5014c3c860ee2489c59e25ddd45e7a32/merged_masks/4d4ebfcae4374165ea6ae7c7e18fd0ba5014c3c860ee2489c59e25ddd45e7a32_merged_mask.png to /content/data/train/masks/4d4ebfcae4374165ea6ae7c7e18fd0ba5014c3c860ee2489c59e25ddd45e7a32_4d4ebfcae4374165ea6ae7c7e18fd0ba5014c3c860ee2489c59e25ddd45e7a32_merged_mask.png\n",
            "Copied: /content/data/toy_data/2e2d29fc44444a85049b162eb359a523dec108ccd5bd75022b25547491abf0c7/merged_masks/2e2d29fc44444a85049b162eb359a523dec108ccd5bd75022b25547491abf0c7_merged_mask.png to /content/data/train/masks/2e2d29fc44444a85049b162eb359a523dec108ccd5bd75022b25547491abf0c7_2e2d29fc44444a85049b162eb359a523dec108ccd5bd75022b25547491abf0c7_merged_mask.png\n",
            "Copied: /content/data/toy_data/a815a986800a95de0957116c6585deea8ffb6ee09ad00ccc687306937ac698d0/merged_masks/a815a986800a95de0957116c6585deea8ffb6ee09ad00ccc687306937ac698d0_merged_mask.png to /content/data/train/masks/a815a986800a95de0957116c6585deea8ffb6ee09ad00ccc687306937ac698d0_a815a986800a95de0957116c6585deea8ffb6ee09ad00ccc687306937ac698d0_merged_mask.png\n",
            "Copied: /content/data/toy_data/cc88627344305b9a9b07f8bd042cb074c7a834c13de67ff4b24914ac68f07f6e/merged_masks/cc88627344305b9a9b07f8bd042cb074c7a834c13de67ff4b24914ac68f07f6e_merged_mask.png to /content/data/train/masks/cc88627344305b9a9b07f8bd042cb074c7a834c13de67ff4b24914ac68f07f6e_cc88627344305b9a9b07f8bd042cb074c7a834c13de67ff4b24914ac68f07f6e_merged_mask.png\n",
            "Copied: /content/data/toy_data/05040e2e959c3f5632558fc9683fec88f0010026c555b499066346f67fdd0e13/merged_masks/05040e2e959c3f5632558fc9683fec88f0010026c555b499066346f67fdd0e13_merged_mask.png to /content/data/train/masks/05040e2e959c3f5632558fc9683fec88f0010026c555b499066346f67fdd0e13_05040e2e959c3f5632558fc9683fec88f0010026c555b499066346f67fdd0e13_merged_mask.png\n",
            "Copied: /content/data/toy_data/92f31f591929a30e4309ab75185c96ff4314ce0a7ead2ed2c2171897ad1da0c7/merged_masks/92f31f591929a30e4309ab75185c96ff4314ce0a7ead2ed2c2171897ad1da0c7_merged_mask.png to /content/data/train/masks/92f31f591929a30e4309ab75185c96ff4314ce0a7ead2ed2c2171897ad1da0c7_92f31f591929a30e4309ab75185c96ff4314ce0a7ead2ed2c2171897ad1da0c7_merged_mask.png\n",
            "Copied: /content/data/toy_data/150b0ffa318c87b31d78af0e87d60390dbcd84b5f228a8c1fb3225cbe5df3e3f/merged_masks/150b0ffa318c87b31d78af0e87d60390dbcd84b5f228a8c1fb3225cbe5df3e3f_merged_mask.png to /content/data/train/masks/150b0ffa318c87b31d78af0e87d60390dbcd84b5f228a8c1fb3225cbe5df3e3f_150b0ffa318c87b31d78af0e87d60390dbcd84b5f228a8c1fb3225cbe5df3e3f_merged_mask.png\n",
            "Copied: /content/data/toy_data/0bf4b144167694b6846d584cf52c458f34f28fcae75328a2a096c8214e01c0d0/merged_masks/0bf4b144167694b6846d584cf52c458f34f28fcae75328a2a096c8214e01c0d0_merged_mask.png to /content/data/train/masks/0bf4b144167694b6846d584cf52c458f34f28fcae75328a2a096c8214e01c0d0_0bf4b144167694b6846d584cf52c458f34f28fcae75328a2a096c8214e01c0d0_merged_mask.png\n",
            "Copied: /content/data/toy_data/4bf6a5ec42032bb8dbbb10d25fdc5211b2fe1ce44b6e577ef89dbda17697d819/merged_masks/4bf6a5ec42032bb8dbbb10d25fdc5211b2fe1ce44b6e577ef89dbda17697d819_merged_mask.png to /content/data/train/masks/4bf6a5ec42032bb8dbbb10d25fdc5211b2fe1ce44b6e577ef89dbda17697d819_4bf6a5ec42032bb8dbbb10d25fdc5211b2fe1ce44b6e577ef89dbda17697d819_merged_mask.png\n",
            "Copied: /content/data/toy_data/08ae2741df2f5ac815c0f272a8c532b5167ee853be9b939b9b8b7fa93560868a/merged_masks/08ae2741df2f5ac815c0f272a8c532b5167ee853be9b939b9b8b7fa93560868a_merged_mask.png to /content/data/train/masks/08ae2741df2f5ac815c0f272a8c532b5167ee853be9b939b9b8b7fa93560868a_08ae2741df2f5ac815c0f272a8c532b5167ee853be9b939b9b8b7fa93560868a_merged_mask.png\n",
            "Copied: /content/data/toy_data/37ed50eea5a1e0bade3e6753793b6caeb061cd4c2f365658c257f69cab1f6288/merged_masks/37ed50eea5a1e0bade3e6753793b6caeb061cd4c2f365658c257f69cab1f6288_merged_mask.png to /content/data/train/masks/37ed50eea5a1e0bade3e6753793b6caeb061cd4c2f365658c257f69cab1f6288_37ed50eea5a1e0bade3e6753793b6caeb061cd4c2f365658c257f69cab1f6288_merged_mask.png\n",
            "Copied: /content/data/toy_data/e5aeb5b3577abbebe8982b5dd7d22c4257250ad3000661a42f38bf9248d291fd/merged_masks/e5aeb5b3577abbebe8982b5dd7d22c4257250ad3000661a42f38bf9248d291fd_merged_mask.png to /content/data/train/masks/e5aeb5b3577abbebe8982b5dd7d22c4257250ad3000661a42f38bf9248d291fd_e5aeb5b3577abbebe8982b5dd7d22c4257250ad3000661a42f38bf9248d291fd_merged_mask.png\n",
            "Copied: /content/data/toy_data/f01a9742c43a69f087700a43893f713878e537bae8e44f76b957f09519601ad6/merged_masks/f01a9742c43a69f087700a43893f713878e537bae8e44f76b957f09519601ad6_merged_mask.png to /content/data/train/masks/f01a9742c43a69f087700a43893f713878e537bae8e44f76b957f09519601ad6_f01a9742c43a69f087700a43893f713878e537bae8e44f76b957f09519601ad6_merged_mask.png\n",
            "Copied: /content/data/toy_data/19f0653c33982a416feed56e5d1ce6849fd83314fd19dfa1c5b23c6b66e9868a/merged_masks/19f0653c33982a416feed56e5d1ce6849fd83314fd19dfa1c5b23c6b66e9868a_merged_mask.png to /content/data/train/masks/19f0653c33982a416feed56e5d1ce6849fd83314fd19dfa1c5b23c6b66e9868a_19f0653c33982a416feed56e5d1ce6849fd83314fd19dfa1c5b23c6b66e9868a_merged_mask.png\n",
            "Copied: /content/data/toy_data/5e263abff938acba1c0cff698261c7c00c23d7376e3ceacc3d5d4a655216b16d/images/5e263abff938acba1c0cff698261c7c00c23d7376e3ceacc3d5d4a655216b16d.png to /content/data/test/images/5e263abff938acba1c0cff698261c7c00c23d7376e3ceacc3d5d4a655216b16d_5e263abff938acba1c0cff698261c7c00c23d7376e3ceacc3d5d4a655216b16d.png\n",
            "Copied: /content/data/toy_data/20e209f6ffa120a72712e1b4c1d3e24d1339227e2936abd4bbd49a636fada423/images/20e209f6ffa120a72712e1b4c1d3e24d1339227e2936abd4bbd49a636fada423.png to /content/data/test/images/20e209f6ffa120a72712e1b4c1d3e24d1339227e2936abd4bbd49a636fada423_20e209f6ffa120a72712e1b4c1d3e24d1339227e2936abd4bbd49a636fada423.png\n",
            "Copied: /content/data/toy_data/5afb7932e9c7328f4fb1d7a8166a3699d6cdc5192b93758a75e9956f1513c5a3/images/5afb7932e9c7328f4fb1d7a8166a3699d6cdc5192b93758a75e9956f1513c5a3.png to /content/data/test/images/5afb7932e9c7328f4fb1d7a8166a3699d6cdc5192b93758a75e9956f1513c5a3_5afb7932e9c7328f4fb1d7a8166a3699d6cdc5192b93758a75e9956f1513c5a3.png\n",
            "Copied: /content/data/toy_data/7f2b154541166210f468d89bb0a7184f10e51168a181dbb8b686c14654ffa317/images/7f2b154541166210f468d89bb0a7184f10e51168a181dbb8b686c14654ffa317.png to /content/data/test/images/7f2b154541166210f468d89bb0a7184f10e51168a181dbb8b686c14654ffa317_7f2b154541166210f468d89bb0a7184f10e51168a181dbb8b686c14654ffa317.png\n",
            "Copied: /content/data/toy_data/b3a9f4c9035a0df7e033b18c63bfb0f0d87ff5a4d9aa8bdf417159bb733abb80/images/b3a9f4c9035a0df7e033b18c63bfb0f0d87ff5a4d9aa8bdf417159bb733abb80.png to /content/data/test/images/b3a9f4c9035a0df7e033b18c63bfb0f0d87ff5a4d9aa8bdf417159bb733abb80_b3a9f4c9035a0df7e033b18c63bfb0f0d87ff5a4d9aa8bdf417159bb733abb80.png\n",
            "Copied: /content/data/toy_data/958114e5f37d5e1420b410bd716753b3e874b175f2b6958ebf1ec2bdf776e41f/images/958114e5f37d5e1420b410bd716753b3e874b175f2b6958ebf1ec2bdf776e41f.png to /content/data/test/images/958114e5f37d5e1420b410bd716753b3e874b175f2b6958ebf1ec2bdf776e41f_958114e5f37d5e1420b410bd716753b3e874b175f2b6958ebf1ec2bdf776e41f.png\n",
            "Copied: /content/data/toy_data/da8ca06ccbb4e2a8718f7c2939ef6cc3a4088981f660842ad885a8273e740d55/images/da8ca06ccbb4e2a8718f7c2939ef6cc3a4088981f660842ad885a8273e740d55.png to /content/data/test/images/da8ca06ccbb4e2a8718f7c2939ef6cc3a4088981f660842ad885a8273e740d55_da8ca06ccbb4e2a8718f7c2939ef6cc3a4088981f660842ad885a8273e740d55.png\n",
            "Copied: /content/data/toy_data/c89ac06daef5c819309f03d6a35792d1a8a66abb8cb3414013ffe71d3dd9fe96/images/c89ac06daef5c819309f03d6a35792d1a8a66abb8cb3414013ffe71d3dd9fe96.png to /content/data/test/images/c89ac06daef5c819309f03d6a35792d1a8a66abb8cb3414013ffe71d3dd9fe96_c89ac06daef5c819309f03d6a35792d1a8a66abb8cb3414013ffe71d3dd9fe96.png\n",
            "Copied: /content/data/toy_data/76a372bfd3fad3ea30cb163b560e52607a8281f5b042484c3a0fc6d0aa5a7450/images/76a372bfd3fad3ea30cb163b560e52607a8281f5b042484c3a0fc6d0aa5a7450.png to /content/data/test/images/76a372bfd3fad3ea30cb163b560e52607a8281f5b042484c3a0fc6d0aa5a7450_76a372bfd3fad3ea30cb163b560e52607a8281f5b042484c3a0fc6d0aa5a7450.png\n",
            "Copied: /content/data/toy_data/5ba4facefc949c920d7054813a3e846b000969da2ed860148bdfd18456f59bcc/images/5ba4facefc949c920d7054813a3e846b000969da2ed860148bdfd18456f59bcc.png to /content/data/test/images/5ba4facefc949c920d7054813a3e846b000969da2ed860148bdfd18456f59bcc_5ba4facefc949c920d7054813a3e846b000969da2ed860148bdfd18456f59bcc.png\n",
            "Copied: /content/data/toy_data/5afcbfd0dd64392aa1e233b996d0bfb4354ee7119f30ae111c33d0fe4df11590/images/5afcbfd0dd64392aa1e233b996d0bfb4354ee7119f30ae111c33d0fe4df11590.png to /content/data/test/images/5afcbfd0dd64392aa1e233b996d0bfb4354ee7119f30ae111c33d0fe4df11590_5afcbfd0dd64392aa1e233b996d0bfb4354ee7119f30ae111c33d0fe4df11590.png\n",
            "Copied: /content/data/toy_data/88d5a03f8ecd459f076a06e0d5035149193bfdd727c30905de19054dcb9018ae/images/88d5a03f8ecd459f076a06e0d5035149193bfdd727c30905de19054dcb9018ae.png to /content/data/test/images/88d5a03f8ecd459f076a06e0d5035149193bfdd727c30905de19054dcb9018ae_88d5a03f8ecd459f076a06e0d5035149193bfdd727c30905de19054dcb9018ae.png\n",
            "Copied: /content/data/toy_data/dbbfe08a52688d0ac8de9161cbb17cb201e3991aacab8ab8a77fe0e203a69481/images/dbbfe08a52688d0ac8de9161cbb17cb201e3991aacab8ab8a77fe0e203a69481.png to /content/data/test/images/dbbfe08a52688d0ac8de9161cbb17cb201e3991aacab8ab8a77fe0e203a69481_dbbfe08a52688d0ac8de9161cbb17cb201e3991aacab8ab8a77fe0e203a69481.png\n",
            "Copied: /content/data/toy_data/237802ac5005f9cf782367156c46c383efd9e05088e5768ca883cbbe24abadb1/images/237802ac5005f9cf782367156c46c383efd9e05088e5768ca883cbbe24abadb1.png to /content/data/test/images/237802ac5005f9cf782367156c46c383efd9e05088e5768ca883cbbe24abadb1_237802ac5005f9cf782367156c46c383efd9e05088e5768ca883cbbe24abadb1.png\n",
            "Copied: /content/data/toy_data/ed4b8e0d756836be7acb2e2b7799c473b52424e3092a71d3c6d23558e500dc4c/images/ed4b8e0d756836be7acb2e2b7799c473b52424e3092a71d3c6d23558e500dc4c.png to /content/data/test/images/ed4b8e0d756836be7acb2e2b7799c473b52424e3092a71d3c6d23558e500dc4c_ed4b8e0d756836be7acb2e2b7799c473b52424e3092a71d3c6d23558e500dc4c.png\n",
            "Copied: /content/data/toy_data/1e61ecf354cb93a62a9561db87a53985fb54e001444f98112ed0fc623fad793e/images/1e61ecf354cb93a62a9561db87a53985fb54e001444f98112ed0fc623fad793e.png to /content/data/test/images/1e61ecf354cb93a62a9561db87a53985fb54e001444f98112ed0fc623fad793e_1e61ecf354cb93a62a9561db87a53985fb54e001444f98112ed0fc623fad793e.png\n",
            "Copied: /content/data/toy_data/e4ae1ceddb279bac30273ca7ac480025ce2e7287328f5272234b5bbca6d13135/images/e4ae1ceddb279bac30273ca7ac480025ce2e7287328f5272234b5bbca6d13135.png to /content/data/test/images/e4ae1ceddb279bac30273ca7ac480025ce2e7287328f5272234b5bbca6d13135_e4ae1ceddb279bac30273ca7ac480025ce2e7287328f5272234b5bbca6d13135.png\n",
            "Copied: /content/data/toy_data/c901794d1a421d52e5734500c0a2a8ca84651fb93b19cec2f411855e70cae339/images/c901794d1a421d52e5734500c0a2a8ca84651fb93b19cec2f411855e70cae339.png to /content/data/test/images/c901794d1a421d52e5734500c0a2a8ca84651fb93b19cec2f411855e70cae339_c901794d1a421d52e5734500c0a2a8ca84651fb93b19cec2f411855e70cae339.png\n",
            "Copied: /content/data/toy_data/8f27ebc74164eddfe989a98a754dcf5a9c85ef599a1321de24bcf097df1814ca/images/8f27ebc74164eddfe989a98a754dcf5a9c85ef599a1321de24bcf097df1814ca.png to /content/data/test/images/8f27ebc74164eddfe989a98a754dcf5a9c85ef599a1321de24bcf097df1814ca_8f27ebc74164eddfe989a98a754dcf5a9c85ef599a1321de24bcf097df1814ca.png\n",
            "Copied: /content/data/toy_data/1740b0a67ca337ea31648b57c81bcfbb841c7bb5cad185199a9f4da596d531b9/images/1740b0a67ca337ea31648b57c81bcfbb841c7bb5cad185199a9f4da596d531b9.png to /content/data/test/images/1740b0a67ca337ea31648b57c81bcfbb841c7bb5cad185199a9f4da596d531b9_1740b0a67ca337ea31648b57c81bcfbb841c7bb5cad185199a9f4da596d531b9.png\n",
            "Copied: /content/data/toy_data/a90401357d50e1376354ae6e5f56a2e4dff3fdb5a4e8d50316673b2b8f1f293b/images/a90401357d50e1376354ae6e5f56a2e4dff3fdb5a4e8d50316673b2b8f1f293b.png to /content/data/test/images/a90401357d50e1376354ae6e5f56a2e4dff3fdb5a4e8d50316673b2b8f1f293b_a90401357d50e1376354ae6e5f56a2e4dff3fdb5a4e8d50316673b2b8f1f293b.png\n",
            "Copied: /content/data/toy_data/ef3ef194e5657fda708ecbd3eb6530286ed2ba23c88efb9f1715298975c73548/images/ef3ef194e5657fda708ecbd3eb6530286ed2ba23c88efb9f1715298975c73548.png to /content/data/test/images/ef3ef194e5657fda708ecbd3eb6530286ed2ba23c88efb9f1715298975c73548_ef3ef194e5657fda708ecbd3eb6530286ed2ba23c88efb9f1715298975c73548.png\n",
            "Copied: /content/data/toy_data/1400420310c9094361a8a243545187f1d4c2365e081b3bb08c5fa29c7491a55b/images/1400420310c9094361a8a243545187f1d4c2365e081b3bb08c5fa29c7491a55b.png to /content/data/test/images/1400420310c9094361a8a243545187f1d4c2365e081b3bb08c5fa29c7491a55b_1400420310c9094361a8a243545187f1d4c2365e081b3bb08c5fa29c7491a55b.png\n",
            "Copied: /content/data/toy_data/c00ae67f72816daee468474026e30705003b2d3501f123579a4f0a6366b66aa1/images/c00ae67f72816daee468474026e30705003b2d3501f123579a4f0a6366b66aa1.png to /content/data/test/images/c00ae67f72816daee468474026e30705003b2d3501f123579a4f0a6366b66aa1_c00ae67f72816daee468474026e30705003b2d3501f123579a4f0a6366b66aa1.png\n",
            "Copied: /content/data/toy_data/bde3727f3a9e8b2b58f383ebc762b2157eb50cdbff23e69b025418b43967556b/images/bde3727f3a9e8b2b58f383ebc762b2157eb50cdbff23e69b025418b43967556b.png to /content/data/test/images/bde3727f3a9e8b2b58f383ebc762b2157eb50cdbff23e69b025418b43967556b_bde3727f3a9e8b2b58f383ebc762b2157eb50cdbff23e69b025418b43967556b.png\n",
            "Copied: /content/data/toy_data/4217e25defac94ff465157d53f5a24b8a14045b763d8606ec4a97d71d99ee381/images/4217e25defac94ff465157d53f5a24b8a14045b763d8606ec4a97d71d99ee381.png to /content/data/test/images/4217e25defac94ff465157d53f5a24b8a14045b763d8606ec4a97d71d99ee381_4217e25defac94ff465157d53f5a24b8a14045b763d8606ec4a97d71d99ee381.png\n",
            "Copied: /content/data/toy_data/619429303c1af7540916509fe7900cf483eba4391b06aac87ff7f66ca1ab6483/images/619429303c1af7540916509fe7900cf483eba4391b06aac87ff7f66ca1ab6483.png to /content/data/test/images/619429303c1af7540916509fe7900cf483eba4391b06aac87ff7f66ca1ab6483_619429303c1af7540916509fe7900cf483eba4391b06aac87ff7f66ca1ab6483.png\n",
            "Copied: /content/data/toy_data/fadeb0ab092833f27daaeb3e24223eb090f9536b83f68cde8f49df7c544f711b/images/fadeb0ab092833f27daaeb3e24223eb090f9536b83f68cde8f49df7c544f711b.png to /content/data/test/images/fadeb0ab092833f27daaeb3e24223eb090f9536b83f68cde8f49df7c544f711b_fadeb0ab092833f27daaeb3e24223eb090f9536b83f68cde8f49df7c544f711b.png\n",
            "Copied: /content/data/toy_data/33d0a9b24c25852ce35274b4b1777484ccd21f44dbe35491cc926e5948c1ce3e/images/33d0a9b24c25852ce35274b4b1777484ccd21f44dbe35491cc926e5948c1ce3e.png to /content/data/test/images/33d0a9b24c25852ce35274b4b1777484ccd21f44dbe35491cc926e5948c1ce3e_33d0a9b24c25852ce35274b4b1777484ccd21f44dbe35491cc926e5948c1ce3e.png\n",
            "Copied: /content/data/toy_data/00ae65c1c6631ae6f2be1a449902976e6eb8483bf6b0740d00530220832c6d3e/images/00ae65c1c6631ae6f2be1a449902976e6eb8483bf6b0740d00530220832c6d3e.png to /content/data/test/images/00ae65c1c6631ae6f2be1a449902976e6eb8483bf6b0740d00530220832c6d3e_00ae65c1c6631ae6f2be1a449902976e6eb8483bf6b0740d00530220832c6d3e.png\n",
            "Copied: /content/data/toy_data/e5f8ad0f0a43af8ca57e31e16800108abdfb44a7e962a71d246f72d2dbde42bf/images/e5f8ad0f0a43af8ca57e31e16800108abdfb44a7e962a71d246f72d2dbde42bf.png to /content/data/test/images/e5f8ad0f0a43af8ca57e31e16800108abdfb44a7e962a71d246f72d2dbde42bf_e5f8ad0f0a43af8ca57e31e16800108abdfb44a7e962a71d246f72d2dbde42bf.png\n",
            "Copied: /content/data/toy_data/9b25b8ffd5f52b6c3d235a42d51d380503d1f80b61ef0f62eeb696f5977c38e6/images/9b25b8ffd5f52b6c3d235a42d51d380503d1f80b61ef0f62eeb696f5977c38e6.png to /content/data/test/images/9b25b8ffd5f52b6c3d235a42d51d380503d1f80b61ef0f62eeb696f5977c38e6_9b25b8ffd5f52b6c3d235a42d51d380503d1f80b61ef0f62eeb696f5977c38e6.png\n",
            "Copied: /content/data/toy_data/75120baa6abcbfe750a4eb223b8c10ae6bc3bebdda7b00d9a78bc2472fa28625/images/75120baa6abcbfe750a4eb223b8c10ae6bc3bebdda7b00d9a78bc2472fa28625.png to /content/data/test/images/75120baa6abcbfe750a4eb223b8c10ae6bc3bebdda7b00d9a78bc2472fa28625_75120baa6abcbfe750a4eb223b8c10ae6bc3bebdda7b00d9a78bc2472fa28625.png\n",
            "Copied: /content/data/toy_data/c3bec1066aae20f48b82975e7e8b684cd67635a8baf211e4d9e3e13bc54c5d06/images/c3bec1066aae20f48b82975e7e8b684cd67635a8baf211e4d9e3e13bc54c5d06.png to /content/data/test/images/c3bec1066aae20f48b82975e7e8b684cd67635a8baf211e4d9e3e13bc54c5d06_c3bec1066aae20f48b82975e7e8b684cd67635a8baf211e4d9e3e13bc54c5d06.png\n",
            "Copied: /content/data/toy_data/4590d7d47f521df62f3bcb0bf74d1bca861d94ade614d8afc912d1009d607b94/images/4590d7d47f521df62f3bcb0bf74d1bca861d94ade614d8afc912d1009d607b94.png to /content/data/test/images/4590d7d47f521df62f3bcb0bf74d1bca861d94ade614d8afc912d1009d607b94_4590d7d47f521df62f3bcb0bf74d1bca861d94ade614d8afc912d1009d607b94.png\n",
            "Copied: /content/data/toy_data/2bf594e9d06f78b4b79d7ffb395497a0a91126b6b0d710d7a9cee21f5c3bd177/images/2bf594e9d06f78b4b79d7ffb395497a0a91126b6b0d710d7a9cee21f5c3bd177.png to /content/data/test/images/2bf594e9d06f78b4b79d7ffb395497a0a91126b6b0d710d7a9cee21f5c3bd177_2bf594e9d06f78b4b79d7ffb395497a0a91126b6b0d710d7a9cee21f5c3bd177.png\n",
            "Copied: /content/data/toy_data/4d4ebfcae4374165ea6ae7c7e18fd0ba5014c3c860ee2489c59e25ddd45e7a32/images/4d4ebfcae4374165ea6ae7c7e18fd0ba5014c3c860ee2489c59e25ddd45e7a32.png to /content/data/test/images/4d4ebfcae4374165ea6ae7c7e18fd0ba5014c3c860ee2489c59e25ddd45e7a32_4d4ebfcae4374165ea6ae7c7e18fd0ba5014c3c860ee2489c59e25ddd45e7a32.png\n",
            "Copied: /content/data/toy_data/2e2d29fc44444a85049b162eb359a523dec108ccd5bd75022b25547491abf0c7/images/2e2d29fc44444a85049b162eb359a523dec108ccd5bd75022b25547491abf0c7.png to /content/data/test/images/2e2d29fc44444a85049b162eb359a523dec108ccd5bd75022b25547491abf0c7_2e2d29fc44444a85049b162eb359a523dec108ccd5bd75022b25547491abf0c7.png\n",
            "Copied: /content/data/toy_data/a815a986800a95de0957116c6585deea8ffb6ee09ad00ccc687306937ac698d0/images/a815a986800a95de0957116c6585deea8ffb6ee09ad00ccc687306937ac698d0.png to /content/data/test/images/a815a986800a95de0957116c6585deea8ffb6ee09ad00ccc687306937ac698d0_a815a986800a95de0957116c6585deea8ffb6ee09ad00ccc687306937ac698d0.png\n",
            "Copied: /content/data/toy_data/cc88627344305b9a9b07f8bd042cb074c7a834c13de67ff4b24914ac68f07f6e/images/cc88627344305b9a9b07f8bd042cb074c7a834c13de67ff4b24914ac68f07f6e.png to /content/data/test/images/cc88627344305b9a9b07f8bd042cb074c7a834c13de67ff4b24914ac68f07f6e_cc88627344305b9a9b07f8bd042cb074c7a834c13de67ff4b24914ac68f07f6e.png\n",
            "Copied: /content/data/toy_data/05040e2e959c3f5632558fc9683fec88f0010026c555b499066346f67fdd0e13/images/05040e2e959c3f5632558fc9683fec88f0010026c555b499066346f67fdd0e13.png to /content/data/test/images/05040e2e959c3f5632558fc9683fec88f0010026c555b499066346f67fdd0e13_05040e2e959c3f5632558fc9683fec88f0010026c555b499066346f67fdd0e13.png\n",
            "Copied: /content/data/toy_data/92f31f591929a30e4309ab75185c96ff4314ce0a7ead2ed2c2171897ad1da0c7/images/92f31f591929a30e4309ab75185c96ff4314ce0a7ead2ed2c2171897ad1da0c7.png to /content/data/test/images/92f31f591929a30e4309ab75185c96ff4314ce0a7ead2ed2c2171897ad1da0c7_92f31f591929a30e4309ab75185c96ff4314ce0a7ead2ed2c2171897ad1da0c7.png\n",
            "Copied: /content/data/toy_data/150b0ffa318c87b31d78af0e87d60390dbcd84b5f228a8c1fb3225cbe5df3e3f/images/150b0ffa318c87b31d78af0e87d60390dbcd84b5f228a8c1fb3225cbe5df3e3f.png to /content/data/test/images/150b0ffa318c87b31d78af0e87d60390dbcd84b5f228a8c1fb3225cbe5df3e3f_150b0ffa318c87b31d78af0e87d60390dbcd84b5f228a8c1fb3225cbe5df3e3f.png\n",
            "Copied: /content/data/toy_data/0bf4b144167694b6846d584cf52c458f34f28fcae75328a2a096c8214e01c0d0/images/0bf4b144167694b6846d584cf52c458f34f28fcae75328a2a096c8214e01c0d0.png to /content/data/test/images/0bf4b144167694b6846d584cf52c458f34f28fcae75328a2a096c8214e01c0d0_0bf4b144167694b6846d584cf52c458f34f28fcae75328a2a096c8214e01c0d0.png\n",
            "Copied: /content/data/toy_data/4bf6a5ec42032bb8dbbb10d25fdc5211b2fe1ce44b6e577ef89dbda17697d819/images/4bf6a5ec42032bb8dbbb10d25fdc5211b2fe1ce44b6e577ef89dbda17697d819.png to /content/data/test/images/4bf6a5ec42032bb8dbbb10d25fdc5211b2fe1ce44b6e577ef89dbda17697d819_4bf6a5ec42032bb8dbbb10d25fdc5211b2fe1ce44b6e577ef89dbda17697d819.png\n",
            "Copied: /content/data/toy_data/08ae2741df2f5ac815c0f272a8c532b5167ee853be9b939b9b8b7fa93560868a/images/08ae2741df2f5ac815c0f272a8c532b5167ee853be9b939b9b8b7fa93560868a.png to /content/data/test/images/08ae2741df2f5ac815c0f272a8c532b5167ee853be9b939b9b8b7fa93560868a_08ae2741df2f5ac815c0f272a8c532b5167ee853be9b939b9b8b7fa93560868a.png\n",
            "Copied: /content/data/toy_data/37ed50eea5a1e0bade3e6753793b6caeb061cd4c2f365658c257f69cab1f6288/images/37ed50eea5a1e0bade3e6753793b6caeb061cd4c2f365658c257f69cab1f6288.png to /content/data/test/images/37ed50eea5a1e0bade3e6753793b6caeb061cd4c2f365658c257f69cab1f6288_37ed50eea5a1e0bade3e6753793b6caeb061cd4c2f365658c257f69cab1f6288.png\n",
            "Copied: /content/data/toy_data/e5aeb5b3577abbebe8982b5dd7d22c4257250ad3000661a42f38bf9248d291fd/images/e5aeb5b3577abbebe8982b5dd7d22c4257250ad3000661a42f38bf9248d291fd.png to /content/data/test/images/e5aeb5b3577abbebe8982b5dd7d22c4257250ad3000661a42f38bf9248d291fd_e5aeb5b3577abbebe8982b5dd7d22c4257250ad3000661a42f38bf9248d291fd.png\n",
            "Copied: /content/data/toy_data/f01a9742c43a69f087700a43893f713878e537bae8e44f76b957f09519601ad6/images/f01a9742c43a69f087700a43893f713878e537bae8e44f76b957f09519601ad6.png to /content/data/test/images/f01a9742c43a69f087700a43893f713878e537bae8e44f76b957f09519601ad6_f01a9742c43a69f087700a43893f713878e537bae8e44f76b957f09519601ad6.png\n",
            "Copied: /content/data/toy_data/19f0653c33982a416feed56e5d1ce6849fd83314fd19dfa1c5b23c6b66e9868a/images/19f0653c33982a416feed56e5d1ce6849fd83314fd19dfa1c5b23c6b66e9868a.png to /content/data/test/images/19f0653c33982a416feed56e5d1ce6849fd83314fd19dfa1c5b23c6b66e9868a_19f0653c33982a416feed56e5d1ce6849fd83314fd19dfa1c5b23c6b66e9868a.png\n"
          ]
        }
      ]
    },
    {
      "cell_type": "markdown",
      "source": [
        "**Data Organization**\n",
        "\n"
      ],
      "metadata": {
        "id": "EwVxVq4KGQUe"
      }
    },
    {
      "cell_type": "code",
      "source": [
        "# def create_folders(base_path):\n",
        "#     \"\"\"\n",
        "#     Create images_data and masks_data folders in the specified base path.\n",
        "\n",
        "#     Args:\n",
        "#     - base_path (str): Path to the base directory where the new folders will be created.\n",
        "#     \"\"\"\n",
        "#     images_data_path = os.path.join(base_path, 'images_data')\n",
        "#     masks_data_path = os.path.join(base_path, 'masks_data')\n",
        "\n",
        "#     os.makedirs(images_data_path, exist_ok=True)\n",
        "#     os.makedirs(masks_data_path, exist_ok=True)\n",
        "\n",
        "#     print(f\"Created folders: {images_data_path} and {masks_data_path}\")\n",
        "#     return images_data_path, masks_data_path"
      ],
      "metadata": {
        "id": "kNa1qYQCFc3F"
      },
      "execution_count": null,
      "outputs": []
    },
    {
      "cell_type": "code",
      "source": [
        "# def copy_images_and_masks(base_path, images_data_path, masks_data_path):\n",
        "#     \"\"\"\n",
        "#     Copy all images from images folders and all masks from merged_masks folders\n",
        "#     inside the toy_data folder to images_data and masks_data respectively.\n",
        "\n",
        "#     Args:\n",
        "#     - base_path (str): Path to the base directory containing the toy_data folder.\n",
        "#     - images_data_path (str): Path to the images_data folder.\n",
        "#     - masks_data_path (str): Path to the masks_data folder.\n",
        "#     \"\"\"\n",
        "#     toy_data_path = os.path.join(base_path, 'toy_data')\n",
        "\n",
        "#     # Traverse through all sample folders in toy_data\n",
        "#     for sample_folder in os.listdir(toy_data_path):\n",
        "#         sample_path = os.path.join(toy_data_path, sample_folder)\n",
        "\n",
        "#         if os.path.isdir(sample_path):\n",
        "#             # Copy images\n",
        "#             images_folder = os.path.join(sample_path, 'images')\n",
        "#             if os.path.exists(images_folder):\n",
        "#                 for image_file in os.listdir(images_folder):\n",
        "#                     if image_file.endswith('.png'):\n",
        "#                         source_image_path = os.path.join(images_folder, image_file)\n",
        "#                         target_image_path = os.path.join(images_data_path, f\"{sample_folder}_{image_file}\")\n",
        "#                         shutil.copy(source_image_path, target_image_path)\n",
        "#                         print(f\"Copied image: {source_image_path} to {target_image_path}\")\n",
        "\n",
        "#             # Copy masks\n",
        "#             masks_folder = os.path.join(sample_path, 'merged_masks')\n",
        "#             if os.path.exists(masks_folder):\n",
        "#                 for mask_file in os.listdir(masks_folder):\n",
        "#                     if mask_file.endswith('.png'):\n",
        "#                         source_mask_path = os.path.join(masks_folder, mask_file)\n",
        "#                         target_mask_path = os.path.join(masks_data_path, f\"{sample_folder}_{mask_file}\")\n",
        "#                         shutil.copy(source_mask_path, target_mask_path)\n",
        "#                         print(f\"Copied mask: {source_mask_path} to {target_mask_path}\")"
      ],
      "metadata": {
        "id": "NDTItQ0GFdZ-"
      },
      "execution_count": null,
      "outputs": []
    },
    {
      "cell_type": "code",
      "source": [
        "# base_path = '/content/data'\n",
        "# images_data_path, masks_data_path = create_folders(base_path)\n",
        "# copy_images_and_masks(base_path, images_data_path, masks_data_path)"
      ],
      "metadata": {
        "id": "hQSBfz38Fh27"
      },
      "execution_count": null,
      "outputs": []
    },
    {
      "cell_type": "code",
      "source": [
        "!pip install \"opencv-python-headless<4.3\"\n",
        "!pip install cellpose"
      ],
      "metadata": {
        "id": "Vq4pC7KKA4GY",
        "outputId": "de347874-d433-4dc4-873e-42539b2a12f4",
        "colab": {
          "base_uri": "https://localhost:8080/"
        }
      },
      "execution_count": 26,
      "outputs": [
        {
          "output_type": "stream",
          "name": "stdout",
          "text": [
            "Collecting opencv-python-headless<4.3\n",
            "  Downloading opencv_python_headless-3.4.18.65-cp36-abi3-manylinux_2_17_x86_64.manylinux2014_x86_64.whl (45.7 MB)\n",
            "\u001b[2K     \u001b[90m━━━━━━━━━━━━━━━━━━━━━━━━━━━━━━━━━━━━━━━━\u001b[0m \u001b[32m45.7/45.7 MB\u001b[0m \u001b[31m9.5 MB/s\u001b[0m eta \u001b[36m0:00:00\u001b[0m\n",
            "\u001b[?25hRequirement already satisfied: numpy>=1.21.2 in /usr/local/lib/python3.10/dist-packages (from opencv-python-headless<4.3) (1.25.2)\n",
            "Installing collected packages: opencv-python-headless\n",
            "  Attempting uninstall: opencv-python-headless\n",
            "    Found existing installation: opencv-python-headless 4.9.0.80\n",
            "    Uninstalling opencv-python-headless-4.9.0.80:\n",
            "      Successfully uninstalled opencv-python-headless-4.9.0.80\n",
            "\u001b[31mERROR: pip's dependency resolver does not currently take into account all the packages that are installed. This behaviour is the source of the following dependency conflicts.\n",
            "albumentations 1.3.1 requires opencv-python-headless>=4.1.1, but you have opencv-python-headless 3.4.18.65 which is incompatible.\n",
            "qudida 0.0.4 requires opencv-python-headless>=4.0.1, but you have opencv-python-headless 3.4.18.65 which is incompatible.\u001b[0m\u001b[31m\n",
            "\u001b[0mSuccessfully installed opencv-python-headless-3.4.18.65\n",
            "Collecting cellpose\n",
            "  Downloading cellpose-3.0.8-py3-none-any.whl (204 kB)\n",
            "\u001b[2K     \u001b[90m━━━━━━━━━━━━━━━━━━━━━━━━━━━━━━━━━━━━━━━━\u001b[0m \u001b[32m205.0/205.0 kB\u001b[0m \u001b[31m4.4 MB/s\u001b[0m eta \u001b[36m0:00:00\u001b[0m\n",
            "\u001b[?25hRequirement already satisfied: numpy>=1.20.0 in /usr/local/lib/python3.10/dist-packages (from cellpose) (1.25.2)\n",
            "Requirement already satisfied: scipy in /usr/local/lib/python3.10/dist-packages (from cellpose) (1.11.4)\n",
            "Requirement already satisfied: natsort in /usr/local/lib/python3.10/dist-packages (from cellpose) (8.4.0)\n",
            "Requirement already satisfied: tifffile in /usr/local/lib/python3.10/dist-packages (from cellpose) (2024.5.10)\n",
            "Requirement already satisfied: tqdm in /usr/local/lib/python3.10/dist-packages (from cellpose) (4.66.4)\n",
            "Requirement already satisfied: numba>=0.53.0 in /usr/local/lib/python3.10/dist-packages (from cellpose) (0.58.1)\n",
            "Requirement already satisfied: llvmlite in /usr/local/lib/python3.10/dist-packages (from cellpose) (0.41.1)\n",
            "Requirement already satisfied: torch>=1.6 in /usr/local/lib/python3.10/dist-packages (from cellpose) (2.3.0+cu121)\n",
            "Requirement already satisfied: opencv-python-headless in /usr/local/lib/python3.10/dist-packages (from cellpose) (3.4.18.65)\n",
            "Collecting fastremap (from cellpose)\n",
            "  Downloading fastremap-1.14.1-cp310-cp310-manylinux_2_17_x86_64.manylinux2014_x86_64.whl (6.0 MB)\n",
            "\u001b[2K     \u001b[90m━━━━━━━━━━━━━━━━━━━━━━━━━━━━━━━━━━━━━━━━\u001b[0m \u001b[32m6.0/6.0 MB\u001b[0m \u001b[31m52.1 MB/s\u001b[0m eta \u001b[36m0:00:00\u001b[0m\n",
            "\u001b[?25hCollecting imagecodecs (from cellpose)\n",
            "  Downloading imagecodecs-2024.1.1-cp310-cp310-manylinux_2_17_x86_64.manylinux2014_x86_64.whl (39.6 MB)\n",
            "\u001b[2K     \u001b[90m━━━━━━━━━━━━━━━━━━━━━━━━━━━━━━━━━━━━━━━━\u001b[0m \u001b[32m39.6/39.6 MB\u001b[0m \u001b[31m14.1 MB/s\u001b[0m eta \u001b[36m0:00:00\u001b[0m\n",
            "\u001b[?25hCollecting roifile (from cellpose)\n",
            "  Downloading roifile-2024.3.20-py3-none-any.whl (16 kB)\n",
            "Requirement already satisfied: filelock in /usr/local/lib/python3.10/dist-packages (from torch>=1.6->cellpose) (3.14.0)\n",
            "Requirement already satisfied: typing-extensions>=4.8.0 in /usr/local/lib/python3.10/dist-packages (from torch>=1.6->cellpose) (4.11.0)\n",
            "Requirement already satisfied: sympy in /usr/local/lib/python3.10/dist-packages (from torch>=1.6->cellpose) (1.12)\n",
            "Requirement already satisfied: networkx in /usr/local/lib/python3.10/dist-packages (from torch>=1.6->cellpose) (3.3)\n",
            "Requirement already satisfied: jinja2 in /usr/local/lib/python3.10/dist-packages (from torch>=1.6->cellpose) (3.1.4)\n",
            "Requirement already satisfied: fsspec in /usr/local/lib/python3.10/dist-packages (from torch>=1.6->cellpose) (2023.6.0)\n",
            "Collecting nvidia-cuda-nvrtc-cu12==12.1.105 (from torch>=1.6->cellpose)\n",
            "  Using cached nvidia_cuda_nvrtc_cu12-12.1.105-py3-none-manylinux1_x86_64.whl (23.7 MB)\n",
            "Collecting nvidia-cuda-runtime-cu12==12.1.105 (from torch>=1.6->cellpose)\n",
            "  Using cached nvidia_cuda_runtime_cu12-12.1.105-py3-none-manylinux1_x86_64.whl (823 kB)\n",
            "Collecting nvidia-cuda-cupti-cu12==12.1.105 (from torch>=1.6->cellpose)\n",
            "  Using cached nvidia_cuda_cupti_cu12-12.1.105-py3-none-manylinux1_x86_64.whl (14.1 MB)\n",
            "Collecting nvidia-cudnn-cu12==8.9.2.26 (from torch>=1.6->cellpose)\n",
            "  Using cached nvidia_cudnn_cu12-8.9.2.26-py3-none-manylinux1_x86_64.whl (731.7 MB)\n",
            "Collecting nvidia-cublas-cu12==12.1.3.1 (from torch>=1.6->cellpose)\n",
            "  Using cached nvidia_cublas_cu12-12.1.3.1-py3-none-manylinux1_x86_64.whl (410.6 MB)\n",
            "Collecting nvidia-cufft-cu12==11.0.2.54 (from torch>=1.6->cellpose)\n",
            "  Using cached nvidia_cufft_cu12-11.0.2.54-py3-none-manylinux1_x86_64.whl (121.6 MB)\n",
            "Collecting nvidia-curand-cu12==10.3.2.106 (from torch>=1.6->cellpose)\n",
            "  Using cached nvidia_curand_cu12-10.3.2.106-py3-none-manylinux1_x86_64.whl (56.5 MB)\n",
            "Collecting nvidia-cusolver-cu12==11.4.5.107 (from torch>=1.6->cellpose)\n",
            "  Using cached nvidia_cusolver_cu12-11.4.5.107-py3-none-manylinux1_x86_64.whl (124.2 MB)\n",
            "Collecting nvidia-cusparse-cu12==12.1.0.106 (from torch>=1.6->cellpose)\n",
            "  Using cached nvidia_cusparse_cu12-12.1.0.106-py3-none-manylinux1_x86_64.whl (196.0 MB)\n",
            "Collecting nvidia-nccl-cu12==2.20.5 (from torch>=1.6->cellpose)\n",
            "  Using cached nvidia_nccl_cu12-2.20.5-py3-none-manylinux2014_x86_64.whl (176.2 MB)\n",
            "Collecting nvidia-nvtx-cu12==12.1.105 (from torch>=1.6->cellpose)\n",
            "  Using cached nvidia_nvtx_cu12-12.1.105-py3-none-manylinux1_x86_64.whl (99 kB)\n",
            "Requirement already satisfied: triton==2.3.0 in /usr/local/lib/python3.10/dist-packages (from torch>=1.6->cellpose) (2.3.0)\n",
            "Collecting nvidia-nvjitlink-cu12 (from nvidia-cusolver-cu12==11.4.5.107->torch>=1.6->cellpose)\n",
            "  Downloading nvidia_nvjitlink_cu12-12.5.40-py3-none-manylinux2014_x86_64.whl (21.3 MB)\n",
            "\u001b[2K     \u001b[90m━━━━━━━━━━━━━━━━━━━━━━━━━━━━━━━━━━━━━━━━\u001b[0m \u001b[32m21.3/21.3 MB\u001b[0m \u001b[31m60.0 MB/s\u001b[0m eta \u001b[36m0:00:00\u001b[0m\n",
            "\u001b[?25hRequirement already satisfied: MarkupSafe>=2.0 in /usr/local/lib/python3.10/dist-packages (from jinja2->torch>=1.6->cellpose) (2.1.5)\n",
            "Requirement already satisfied: mpmath>=0.19 in /usr/local/lib/python3.10/dist-packages (from sympy->torch>=1.6->cellpose) (1.3.0)\n",
            "Installing collected packages: roifile, nvidia-nvtx-cu12, nvidia-nvjitlink-cu12, nvidia-nccl-cu12, nvidia-curand-cu12, nvidia-cufft-cu12, nvidia-cuda-runtime-cu12, nvidia-cuda-nvrtc-cu12, nvidia-cuda-cupti-cu12, nvidia-cublas-cu12, imagecodecs, fastremap, nvidia-cusparse-cu12, nvidia-cudnn-cu12, nvidia-cusolver-cu12, cellpose\n",
            "Successfully installed cellpose-3.0.8 fastremap-1.14.1 imagecodecs-2024.1.1 nvidia-cublas-cu12-12.1.3.1 nvidia-cuda-cupti-cu12-12.1.105 nvidia-cuda-nvrtc-cu12-12.1.105 nvidia-cuda-runtime-cu12-12.1.105 nvidia-cudnn-cu12-8.9.2.26 nvidia-cufft-cu12-11.0.2.54 nvidia-curand-cu12-10.3.2.106 nvidia-cusolver-cu12-11.4.5.107 nvidia-cusparse-cu12-12.1.0.106 nvidia-nccl-cu12-2.20.5 nvidia-nvjitlink-cu12-12.5.40 nvidia-nvtx-cu12-12.1.105 roifile-2024.3.20\n"
          ]
        }
      ]
    },
    {
      "cell_type": "code",
      "source": [
        "!nvcc --version\n",
        "!nvidia-smi\n",
        "\n",
        "import os, shutil\n",
        "import numpy as np\n",
        "import matplotlib.pyplot as plt\n",
        "from cellpose import core, utils, io, models, metrics\n",
        "from glob import glob\n",
        "\n",
        "use_GPU = core.use_gpu()\n",
        "yn = ['NO', 'YES']\n",
        "print(f'>>> GPU activated? {yn[use_GPU]}')"
      ],
      "metadata": {
        "id": "0s5el7V8A3cz",
        "outputId": "928a614a-d8bd-43c4-b3a5-21f9506674d7",
        "colab": {
          "base_uri": "https://localhost:8080/"
        }
      },
      "execution_count": 27,
      "outputs": [
        {
          "output_type": "stream",
          "name": "stdout",
          "text": [
            "nvcc: NVIDIA (R) Cuda compiler driver\n",
            "Copyright (c) 2005-2023 NVIDIA Corporation\n",
            "Built on Tue_Aug_15_22:02:13_PDT_2023\n",
            "Cuda compilation tools, release 12.2, V12.2.140\n",
            "Build cuda_12.2.r12.2/compiler.33191640_0\n",
            "/bin/bash: line 1: nvidia-smi: command not found\n",
            ">>> GPU activated? NO\n"
          ]
        }
      ]
    },
    {
      "cell_type": "code",
      "source": [
        "!pip install torch"
      ],
      "metadata": {
        "id": "vyXBu7HprspN",
        "outputId": "ece2ac1a-1947-4d7b-8ea3-abc9ba3cadd1",
        "colab": {
          "base_uri": "https://localhost:8080/"
        }
      },
      "execution_count": 39,
      "outputs": [
        {
          "output_type": "stream",
          "name": "stdout",
          "text": [
            "Requirement already satisfied: torch in /usr/local/lib/python3.10/dist-packages (2.3.0+cu121)\n",
            "Requirement already satisfied: filelock in /usr/local/lib/python3.10/dist-packages (from torch) (3.14.0)\n",
            "Requirement already satisfied: typing-extensions>=4.8.0 in /usr/local/lib/python3.10/dist-packages (from torch) (4.11.0)\n",
            "Requirement already satisfied: sympy in /usr/local/lib/python3.10/dist-packages (from torch) (1.12)\n",
            "Requirement already satisfied: networkx in /usr/local/lib/python3.10/dist-packages (from torch) (3.3)\n",
            "Requirement already satisfied: jinja2 in /usr/local/lib/python3.10/dist-packages (from torch) (3.1.4)\n",
            "Requirement already satisfied: fsspec in /usr/local/lib/python3.10/dist-packages (from torch) (2023.6.0)\n",
            "Requirement already satisfied: nvidia-cuda-nvrtc-cu12==12.1.105 in /usr/local/lib/python3.10/dist-packages (from torch) (12.1.105)\n",
            "Requirement already satisfied: nvidia-cuda-runtime-cu12==12.1.105 in /usr/local/lib/python3.10/dist-packages (from torch) (12.1.105)\n",
            "Requirement already satisfied: nvidia-cuda-cupti-cu12==12.1.105 in /usr/local/lib/python3.10/dist-packages (from torch) (12.1.105)\n",
            "Requirement already satisfied: nvidia-cudnn-cu12==8.9.2.26 in /usr/local/lib/python3.10/dist-packages (from torch) (8.9.2.26)\n",
            "Requirement already satisfied: nvidia-cublas-cu12==12.1.3.1 in /usr/local/lib/python3.10/dist-packages (from torch) (12.1.3.1)\n",
            "Requirement already satisfied: nvidia-cufft-cu12==11.0.2.54 in /usr/local/lib/python3.10/dist-packages (from torch) (11.0.2.54)\n",
            "Requirement already satisfied: nvidia-curand-cu12==10.3.2.106 in /usr/local/lib/python3.10/dist-packages (from torch) (10.3.2.106)\n",
            "Requirement already satisfied: nvidia-cusolver-cu12==11.4.5.107 in /usr/local/lib/python3.10/dist-packages (from torch) (11.4.5.107)\n",
            "Requirement already satisfied: nvidia-cusparse-cu12==12.1.0.106 in /usr/local/lib/python3.10/dist-packages (from torch) (12.1.0.106)\n",
            "Requirement already satisfied: nvidia-nccl-cu12==2.20.5 in /usr/local/lib/python3.10/dist-packages (from torch) (2.20.5)\n",
            "Requirement already satisfied: nvidia-nvtx-cu12==12.1.105 in /usr/local/lib/python3.10/dist-packages (from torch) (12.1.105)\n",
            "Requirement already satisfied: triton==2.3.0 in /usr/local/lib/python3.10/dist-packages (from torch) (2.3.0)\n",
            "Requirement already satisfied: nvidia-nvjitlink-cu12 in /usr/local/lib/python3.10/dist-packages (from nvidia-cusolver-cu12==11.4.5.107->torch) (12.5.40)\n",
            "Requirement already satisfied: MarkupSafe>=2.0 in /usr/local/lib/python3.10/dist-packages (from jinja2->torch) (2.1.5)\n",
            "Requirement already satisfied: mpmath>=0.19 in /usr/local/lib/python3.10/dist-packages (from sympy->torch) (1.3.0)\n"
          ]
        }
      ]
    },
    {
      "cell_type": "code",
      "source": [
        "# !rm -rf train/"
      ],
      "metadata": {
        "id": "mcdshj1wpwiU"
      },
      "execution_count": 35,
      "outputs": []
    },
    {
      "cell_type": "code",
      "source": [
        "import os\n",
        "from skimage import io\n",
        "import numpy as np\n",
        "from cellpose import models, utils, io as cp_io, train\n",
        "\n",
        "# Paths to images and masks\n",
        "train_dir = \"/content/data/train\"  # Path to the directory containing training images and masks\n",
        "test_dir = None  # Set to None if you do not have a separate test directory\n",
        "\n",
        "# Model name and path\n",
        "initial_model = \"cyto\"  # Choose the appropriate pretrained model type\n",
        "model_name = \"CP_custom_model\"  # Name of the new model\n",
        "\n",
        "# Training parameters\n",
        "n_epochs = 10  # Number of epochs\n",
        "\n",
        "Channel_to_use_for_training = \"Grayscale\"  # Choose the primary channel\n",
        "\n",
        "# If you have a secondary channel, specify it here; otherwise, set to \"None\"\n",
        "Second_training_channel = \"None\"\n",
        "\n",
        "# Advanced parameters\n",
        "Use_Default_Advanced_Parameters = True  # Whether to use default advanced parameters\n",
        "learning_rate = 0.1  # Default learning rate\n",
        "weight_decay = 0.0001  # Default weight decay\n",
        "\n",
        "if Use_Default_Advanced_Parameters:\n",
        "    learning_rate = 0.1\n",
        "    weight_decay = 0.0001\n",
        "\n",
        "# Checking if a model with the same name already exists, and delete if so\n",
        "model_path = os.path.join(train_dir, 'models')\n",
        "if os.path.exists(os.path.join(model_path, model_name)):\n",
        "    print(f\"!! WARNING: {model_name} already exists and will be deleted !!\")\n",
        "    os.remove(os.path.join(model_path, model_name))\n",
        "\n",
        "# Match the channel to number\n",
        "chan = 0 if Channel_to_use_for_training == \"Grayscale\" else {\"Red\": 1, \"Green\": 2, \"Blue\": 3}.get(Channel_to_use_for_training, 0)\n",
        "chan2 = 0 if Second_training_channel == \"None\" else {\"Red\": 1, \"Green\": 2, \"Blue\": 3}.get(Second_training_channel, 0)\n",
        "\n",
        "if initial_model == 'scratch':\n",
        "    initial_model = None\n",
        "\n",
        "# Start logger to see training across epochs\n",
        "logger = cp_io.logger_setup()\n",
        "\n",
        "# Define Cellpose model (without size model)\n",
        "model = models.CellposeModel(gpu=True, model_type=initial_model)\n",
        "\n",
        "# Set channels\n",
        "channels = [chan, chan2]\n",
        "\n",
        "# Load images and masks\n",
        "def load_images_and_masks(image_path, mask_path):\n",
        "    images = []\n",
        "    masks = []\n",
        "\n",
        "    for filename in sorted(os.listdir(image_path)):\n",
        "        if filename.endswith('.png'):\n",
        "            image = io.imread(os.path.join(image_path, filename))\n",
        "            images.append(image)\n",
        "\n",
        "    for filename in sorted(os.listdir(mask_path)):\n",
        "        if filename.endswith('.png'):\n",
        "            mask = io.imread(os.path.join(mask_path, filename))\n",
        "            masks.append(mask)\n",
        "\n",
        "    return images, masks\n",
        "\n",
        "image_path = os.path.join(train_dir, 'images')\n",
        "mask_path = os.path.join(train_dir, 'masks')\n",
        "train_data, train_labels = load_images_and_masks(image_path, mask_path)\n",
        "\n",
        "# Perform sanity checks on the loaded data\n",
        "print(f\"Loaded {len(train_data)} training images\")\n",
        "print(f\"Loaded {len(train_labels)} training masks\")\n",
        "\n",
        "if len(train_data) == 0 or len(train_labels) == 0:\n",
        "    raise ValueError(\"No images or masks found. Please check the dataset directory structure and file names.\")\n",
        "\n",
        "# If you have a separate test set, load it; otherwise, set test_data and test_labels to None\n",
        "if test_dir:\n",
        "    test_image_path = os.path.join(test_dir, 'images')\n",
        "    test_mask_path = os.path.join(test_dir, 'masks')\n",
        "    test_data, test_labels = load_images_and_masks(test_image_path, test_mask_path)\n",
        "else:\n",
        "    test_data, test_labels = None, None\n",
        "\n",
        "# Perform training\n",
        "new_model_path = train.train_seg(\n",
        "    model.net,\n",
        "    train_data=train_data,\n",
        "    train_labels=train_labels,\n",
        "    test_data=test_data,\n",
        "    test_labels=test_labels,\n",
        "    channels=channels,\n",
        "    save_path=train_dir,\n",
        "    n_epochs=n_epochs,\n",
        "    learning_rate=learning_rate,\n",
        "    weight_decay=weight_decay,\n",
        "    SGD=True,\n",
        "    nimg_per_epoch=8,\n",
        "    model_name=model_name,\n",
        "    min_train_masks=1\n",
        ")\n",
        "\n",
        "# Diameter of labels in training images\n",
        "diam_labels = model.net.diam_labels.item()\n",
        "\n",
        "print(\"Model training completed and saved successfully!\")\n"
      ],
      "metadata": {
        "id": "DtrVlhqdBNXG",
        "outputId": "f78c511f-f07c-4901-8d72-fb82541a324a",
        "colab": {
          "base_uri": "https://localhost:8080/"
        }
      },
      "execution_count": 41,
      "outputs": [
        {
          "output_type": "stream",
          "name": "stdout",
          "text": [
            "Loaded 50 training images\n",
            "Loaded 50 training masks\n"
          ]
        },
        {
          "output_type": "stream",
          "name": "stderr",
          "text": [
            "100%|██████████| 50/50 [01:35<00:00,  1.92s/it]\n",
            "100%|██████████| 50/50 [00:00<00:00, 725.97it/s]\n"
          ]
        },
        {
          "output_type": "stream",
          "name": "stdout",
          "text": [
            "Model training completed and saved successfully!\n"
          ]
        }
      ]
    },
    {
      "cell_type": "code",
      "source": [
        "\n",
        "import numpy as np\n",
        "import matplotlib.pyplot as plt\n",
        "from skimage import io as skio\n",
        "\n",
        "# Define paths\n",
        "model_path = '/content/data/train/models/CP_custom_model'\n",
        "image_path = '/content/data/stage1_test/0114f484a16c152baa2d82fdd43740880a762c93f436c8988ac461c5c9dbe7d5/images/0114f484a16c152baa2d82fdd43740880a762c93f436c8988ac461c5c9dbe7d5.png'\n",
        "\n",
        "# Load the trained model\n",
        "model = models.CellposeModel(pretrained_model=model_path, gpu=True)\n",
        "\n",
        "# Define channels to use\n",
        "channels = [0, 0]  # Modify if you have specific channels to use\n"
      ],
      "metadata": {
        "id": "mBEULxgCBoud"
      },
      "execution_count": null,
      "outputs": []
    },
    {
      "cell_type": "code",
      "source": [
        "image_dir = '/content/data/train/images/'\n",
        "image_paths = [os.path.join(image_dir, fname) for fname in os.listdir(image_dir) if fname.endswith('.png')]\n",
        "images = [io.imread(image_path) for image_path in image_paths]\n",
        "\n",
        "pred_masks, flows, styles = model.eval(images, channels=channels, do_3D=False)"
      ],
      "metadata": {
        "id": "sZNefY7_uJsh",
        "outputId": "d6cc2222-486d-4ab9-89e3-ec93c8058484",
        "colab": {
          "base_uri": "https://localhost:8080/"
        }
      },
      "execution_count": 99,
      "outputs": [
        {
          "output_type": "stream",
          "name": "stderr",
          "text": [
            "WARNING:cellpose.dynamics:WARNING: no mask pixels found\n",
            "WARNING:cellpose.dynamics:WARNING: no mask pixels found\n",
            "WARNING:cellpose.dynamics:WARNING: no mask pixels found\n",
            "WARNING:cellpose.dynamics:WARNING: no mask pixels found\n"
          ]
        }
      ]
    },
    {
      "cell_type": "code",
      "source": [
        "import torch\n",
        "import torch.nn.functional as F\n",
        "\n",
        "def dice_coef(y_true, y_pred, smooth=1e-6):\n",
        "    \"\"\"\n",
        "    Compute the Dice Coefficient.\n",
        "\n",
        "    Args:\n",
        "    y_true (torch.Tensor): Ground truth mask.\n",
        "    y_pred (torch.Tensor): Predicted mask.\n",
        "    smooth (float): Smoothing factor to avoid division by zero.\n",
        "\n",
        "    Returns:\n",
        "    dice (float): Dice Coefficient.\n",
        "    \"\"\"\n",
        "    y_true_f = y_true.contiguous().view(-1)\n",
        "    y_pred_f = y_pred.contiguous().view(-1)\n",
        "    intersection = (y_true_f * y_pred_f).sum()\n",
        "    return (2. * intersection + smooth) / (y_true_f.sum() + y_pred_f.sum() + smooth)\n",
        "\n",
        "def evaluate_dice_score(test_masks, pred_masks):\n",
        "    \"\"\"\n",
        "    Evaluate Dice Score for each mask and average them.\n",
        "\n",
        "    Args:\n",
        "    test_masks (List[torch.Tensor]): List of ground truth masks.\n",
        "    pred_masks (List[torch.Tensor]): List of predicted masks.\n",
        "\n",
        "    Returns:\n",
        "    avg_dice_score (float): Average Dice score.\n",
        "    \"\"\"\n",
        "    dice_scores = []\n",
        "    for true_mask, pred_mask in zip(test_masks, pred_masks):\n",
        "        dice = dice_coef(true_mask, pred_mask)\n",
        "        dice_scores.append(dice.item())\n",
        "\n",
        "    avg_dice_score = sum(dice_scores) / len(dice_scores)\n",
        "\n",
        "    print(f\"Average Dice Score: {avg_dice_score}\")\n",
        "    return avg_dice_score\n",
        "\n",
        "def mean_iou(y_true, y_pred, num_classes):\n",
        "    \"\"\"\n",
        "    Compute the Mean Intersection over Union (IoU).\n",
        "\n",
        "    Args:\n",
        "    y_true (torch.Tensor): Ground truth mask.\n",
        "    y_pred (torch.Tensor): Predicted mask.\n",
        "    num_classes (int): Number of classes.\n",
        "\n",
        "    Returns:\n",
        "    iou (float): Mean IoU.\n",
        "    \"\"\"\n",
        "    y_true = y_true.contiguous().view(-1)\n",
        "    y_pred = y_pred.contiguous().view(-1)\n",
        "\n",
        "    ious = []\n",
        "    for cls in range(num_classes):\n",
        "        true_cls = (y_true == cls)\n",
        "        pred_cls = (y_pred == cls)\n",
        "        intersection = (true_cls & pred_cls).sum().float().item()\n",
        "        union = (true_cls | pred_cls).sum().float().item()\n",
        "        if union == 0:\n",
        "            ious.append(float('nan'))  # To avoid division by zero\n",
        "        else:\n",
        "            ious.append(intersection / union)\n",
        "\n",
        "    return torch.tensor(ious).nanmean().item()\n",
        "\n",
        "def evaluate_iou(test_masks, pred_masks, num_classes):\n",
        "    \"\"\"\n",
        "    Evaluate IoU for each mask and average them.\n",
        "\n",
        "    Args:\n",
        "    test_masks (List[torch.Tensor]): List of ground truth masks.\n",
        "    pred_masks (List[torch.Tensor]): List of predicted masks.\n",
        "    num_classes (int): Number of classes.\n",
        "\n",
        "    Returns:\n",
        "    avg_iou (float): Average IoU.\n",
        "    \"\"\"\n",
        "    ious = []\n",
        "    for true_mask, pred_mask in zip(test_masks, pred_masks):\n",
        "        iou = mean_iou(true_mask, pred_mask, num_classes)\n",
        "        ious.append(iou)\n",
        "\n",
        "    avg_iou = sum(ious) / len(ious)\n",
        "    print(f\"Average IoU: {avg_iou}\")\n",
        "\n",
        "    return avg_iou\n"
      ],
      "metadata": {
        "id": "f5q6XR_6ykzb"
      },
      "execution_count": 48,
      "outputs": []
    },
    {
      "cell_type": "code",
      "source": [
        "# Run the model on the image\n",
        "mask, flows, styles = model.eval(images[0], channels=channels, do_3D=False)\n",
        "\n",
        "# 'masks' is the segmentation result\n",
        "# Visualize the masks\n",
        "# plt.imshow(images[0], cmap='gray')\n",
        "plt.imshow(masks[0], alpha=0.5)  # Overlay masks with some transparency\n",
        "plt.title(\"Segmented Image\")\n",
        "plt.show()\n",
        "\n"
      ],
      "metadata": {
        "id": "iij5EaogHxOc",
        "outputId": "85719d66-dbe8-44b5-f853-cb02c8bcee87",
        "colab": {
          "base_uri": "https://localhost:8080/",
          "height": 469
        }
      },
      "execution_count": 120,
      "outputs": [
        {
          "output_type": "stream",
          "name": "stderr",
          "text": [
            "WARNING:cellpose.dynamics:WARNING: no mask pixels found\n"
          ]
        },
        {
          "output_type": "display_data",
          "data": {
            "text/plain": [
              "<Figure size 640x480 with 1 Axes>"
            ],
            "image/png": "[encoded data removed]"
          },
          "metadata": {}
        }
      ]
    },
    {
      "cell_type": "code",
      "source": [
        "mask"
      ],
      "metadata": {
        "id": "sO3EO_By9-oO",
        "outputId": "4274beb9-7f1b-4d55-ca8b-b93bb6cf8ce0",
        "colab": {
          "base_uri": "https://localhost:8080/"
        }
      },
      "execution_count": 121,
      "outputs": [
        {
          "output_type": "execute_result",
          "data": {
            "text/plain": [
              "array([[0, 0, 0, ..., 0, 0, 0],\n",
              "       [0, 0, 0, ..., 0, 0, 0],\n",
              "       [0, 0, 0, ..., 0, 0, 0],\n",
              "       ...,\n",
              "       [0, 0, 0, ..., 0, 0, 0],\n",
              "       [0, 0, 0, ..., 0, 0, 0],\n",
              "       [0, 0, 0, ..., 0, 0, 0]], dtype=uint16)"
            ]
          },
          "metadata": {},
          "execution_count": 121
        }
      ]
    },
    {
      "cell_type": "code",
      "source": [
        "mask_dir = '/content/data/train/masks/'\n",
        "mask_paths = [os.path.join(image_dir, fname) for fname in os.listdir(image_dir) if fname.endswith('.png')]\n",
        "true_masks = [io.imread(image_path) for image_path in image_paths]\n",
        "\n",
        "evaluate_iou(test_masks=true_masks,pred_masks=pred_masks,num_classes=2)"
      ],
      "metadata": {
        "id": "RV1-bm07ysuj",
        "outputId": "7d3df4a9-e999-462e-9ca4-e0263b50b87f",
        "colab": {
          "base_uri": "https://localhost:8080/",
          "height": 321
        }
      },
      "execution_count": 119,
      "outputs": [
        {
          "output_type": "error",
          "ename": "AttributeError",
          "evalue": "'numpy.ndarray' object has no attribute 'contiguous'",
          "traceback": [
            "\u001b[0;31m---------------------------------------------------------------------------\u001b[0m",
            "\u001b[0;31mAttributeError\u001b[0m                            Traceback (most recent call last)",
            "\u001b[0;32m<ipython-input-119-6559208ce47a>\u001b[0m in \u001b[0;36m<cell line: 5>\u001b[0;34m()\u001b[0m\n\u001b[1;32m      3\u001b[0m \u001b[0mmasks\u001b[0m \u001b[0;34m=\u001b[0m \u001b[0;34m[\u001b[0m\u001b[0mio\u001b[0m\u001b[0;34m.\u001b[0m\u001b[0mimread\u001b[0m\u001b[0;34m(\u001b[0m\u001b[0mimage_path\u001b[0m\u001b[0;34m)\u001b[0m \u001b[0;32mfor\u001b[0m \u001b[0mimage_path\u001b[0m \u001b[0;32min\u001b[0m \u001b[0mimage_paths\u001b[0m\u001b[0;34m]\u001b[0m\u001b[0;34m\u001b[0m\u001b[0;34m\u001b[0m\u001b[0m\n\u001b[1;32m      4\u001b[0m \u001b[0;34m\u001b[0m\u001b[0m\n\u001b[0;32m----> 5\u001b[0;31m \u001b[0mevaluate_iou\u001b[0m\u001b[0;34m(\u001b[0m\u001b[0mtest_masks\u001b[0m\u001b[0;34m=\u001b[0m\u001b[0mmasks\u001b[0m\u001b[0;34m,\u001b[0m\u001b[0mpred_masks\u001b[0m\u001b[0;34m=\u001b[0m\u001b[0mpred_masks\u001b[0m\u001b[0;34m,\u001b[0m\u001b[0mnum_classes\u001b[0m\u001b[0;34m=\u001b[0m\u001b[0;36m2\u001b[0m\u001b[0;34m)\u001b[0m\u001b[0;34m\u001b[0m\u001b[0;34m\u001b[0m\u001b[0m\n\u001b[0m",
            "\u001b[0;32m<ipython-input-48-44766d3b386c>\u001b[0m in \u001b[0;36mevaluate_iou\u001b[0;34m(test_masks, pred_masks, num_classes)\u001b[0m\n\u001b[1;32m     82\u001b[0m     \u001b[0mious\u001b[0m \u001b[0;34m=\u001b[0m \u001b[0;34m[\u001b[0m\u001b[0;34m]\u001b[0m\u001b[0;34m\u001b[0m\u001b[0;34m\u001b[0m\u001b[0m\n\u001b[1;32m     83\u001b[0m     \u001b[0;32mfor\u001b[0m \u001b[0mtrue_mask\u001b[0m\u001b[0;34m,\u001b[0m \u001b[0mpred_mask\u001b[0m \u001b[0;32min\u001b[0m \u001b[0mzip\u001b[0m\u001b[0;34m(\u001b[0m\u001b[0mtest_masks\u001b[0m\u001b[0;34m,\u001b[0m \u001b[0mpred_masks\u001b[0m\u001b[0;34m)\u001b[0m\u001b[0;34m:\u001b[0m\u001b[0;34m\u001b[0m\u001b[0;34m\u001b[0m\u001b[0m\n\u001b[0;32m---> 84\u001b[0;31m         \u001b[0miou\u001b[0m \u001b[0;34m=\u001b[0m \u001b[0mmean_iou\u001b[0m\u001b[0;34m(\u001b[0m\u001b[0mtrue_mask\u001b[0m\u001b[0;34m,\u001b[0m \u001b[0mpred_mask\u001b[0m\u001b[0;34m,\u001b[0m \u001b[0mnum_classes\u001b[0m\u001b[0;34m)\u001b[0m\u001b[0;34m\u001b[0m\u001b[0;34m\u001b[0m\u001b[0m\n\u001b[0m\u001b[1;32m     85\u001b[0m         \u001b[0mious\u001b[0m\u001b[0;34m.\u001b[0m\u001b[0mappend\u001b[0m\u001b[0;34m(\u001b[0m\u001b[0miou\u001b[0m\u001b[0;34m)\u001b[0m\u001b[0;34m\u001b[0m\u001b[0;34m\u001b[0m\u001b[0m\n\u001b[1;32m     86\u001b[0m \u001b[0;34m\u001b[0m\u001b[0m\n",
            "\u001b[0;32m<ipython-input-48-44766d3b386c>\u001b[0m in \u001b[0;36mmean_iou\u001b[0;34m(y_true, y_pred, num_classes)\u001b[0m\n\u001b[1;32m     52\u001b[0m     \u001b[0miou\u001b[0m \u001b[0;34m(\u001b[0m\u001b[0mfloat\u001b[0m\u001b[0;34m)\u001b[0m\u001b[0;34m:\u001b[0m \u001b[0mMean\u001b[0m \u001b[0mIoU\u001b[0m\u001b[0;34m.\u001b[0m\u001b[0;34m\u001b[0m\u001b[0;34m\u001b[0m\u001b[0m\n\u001b[1;32m     53\u001b[0m     \"\"\"\n\u001b[0;32m---> 54\u001b[0;31m     \u001b[0my_true\u001b[0m \u001b[0;34m=\u001b[0m \u001b[0my_true\u001b[0m\u001b[0;34m.\u001b[0m\u001b[0mcontiguous\u001b[0m\u001b[0;34m(\u001b[0m\u001b[0;34m)\u001b[0m\u001b[0;34m.\u001b[0m\u001b[0mview\u001b[0m\u001b[0;34m(\u001b[0m\u001b[0;34m-\u001b[0m\u001b[0;36m1\u001b[0m\u001b[0;34m)\u001b[0m\u001b[0;34m\u001b[0m\u001b[0;34m\u001b[0m\u001b[0m\n\u001b[0m\u001b[1;32m     55\u001b[0m     \u001b[0my_pred\u001b[0m \u001b[0;34m=\u001b[0m \u001b[0my_pred\u001b[0m\u001b[0;34m.\u001b[0m\u001b[0mcontiguous\u001b[0m\u001b[0;34m(\u001b[0m\u001b[0;34m)\u001b[0m\u001b[0;34m.\u001b[0m\u001b[0mview\u001b[0m\u001b[0;34m(\u001b[0m\u001b[0;34m-\u001b[0m\u001b[0;36m1\u001b[0m\u001b[0;34m)\u001b[0m\u001b[0;34m\u001b[0m\u001b[0;34m\u001b[0m\u001b[0m\n\u001b[1;32m     56\u001b[0m \u001b[0;34m\u001b[0m\u001b[0m\n",
            "\u001b[0;31mAttributeError\u001b[0m: 'numpy.ndarray' object has no attribute 'contiguous'"
          ]
        }
      ]
    }
  ],
  "metadata": {
    "language_info": {
      "name": "python"
    },
    "colab": {
      "provenance": [],
      "gpuType": "T4",
      "include_colab_link": true
    },
    "kernelspec": {
      "name": "python3",
      "display_name": "Python 3"
    },
    "accelerator": "GPU"
  },
  "nbformat": 4,
  "nbformat_minor": 0
}