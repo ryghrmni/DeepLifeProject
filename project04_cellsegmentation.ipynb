{
  "cells": [
    {
      "cell_type": "markdown",
      "metadata": {
        "id": "view-in-github",
        "colab_type": "text"
      },
      "source": [
        "<a href=\"https://colab.research.google.com/github/ryghrmni/DeepLifeProject/blob/Reza/project04_cellsegmentation.ipynb\" target=\"_parent\"><img src=\"https://colab.research.google.com/assets/colab-badge.svg\" alt=\"Open In Colab\"/></a>"
      ]
    },
    {
      "cell_type": "markdown",
      "metadata": {
        "id": "Z0xzMd29fZxI"
      },
      "source": [
        "# **Project : Cell image segmentation projects**\n",
        "\n",
        "\n",
        "---\n",
        "\n",
        "\n",
        "\n",
        "**Team** (Alphabetical order)**:** Arvin Jafari, Delnavaz Fotouhi, Reza Ghahremani\n",
        "\n",
        "**University:** Università degli Studi di Milano\n",
        "\n",
        "** This course is provided by 4EU+ alliance of European universities, Heidelberg University will coordinate a joint course on Applications of Deep Learning in Life Sciences (DeepLife) involving the universities of Paris-Sorbonne, Warsaw, Prague, Milano and Heidelberg.\n",
        "\n",
        "**Reference:** https://deeplife4eu.github.io/\n",
        "\n",
        "\n",
        "---\n",
        "\n",
        "\n",
        "\n",
        "Cell segmentation is usually the first step for downstream single-cell analysis in microscopy image-based biology and biomedical research. Deep learning has been widely used for cell-image segmentation.\n",
        "The CellSeg competition aims to benchmark cell segmentation methods that could be applied to various microscopy images across multiple imaging platforms and tissue types for cell Segmentation. The  Dataset challenge organizers provide contains both labeled images and unlabeled ones.\n",
        "The “2018 Data Science Bowl” Kaggle competition provides cell images and their masks for training cell/nuclei segmentation models.\n",
        "\n",
        "### Project Description\n",
        "\n",
        "In the field of (bio-medical) image processing, segmentation of images is typically performed via U-Nets [1,2].\n",
        "\n",
        "A U-Net consists of an encoder - a series of convolution and pooling layers which reduce the spatial resolution of the input, followed by a decoder - a series of transposed convolution and upsampling layers which increase the spatial resolution of the input. The encoder and decoder are connected by a bottleneck layer which is responsible for reducing the number of channels in the input.\n",
        "The key innovation of U-Net is the addition of skip connections that connect the contracting path to the corresponding layers in the expanding path, allowing the network to recover fine-grained details lost during downsampling.\n",
        "\n",
        "<img src='https://production-media.paperswithcode.com/methods/Screen_Shot_2020-07-07_at_9.08.00_PM_rpNArED.png' width=\"400\"/>\n",
        "\n",
        "\n",
        "At this [link](https://rpubs.com/eR_ic/unet), you find an R implementation of basic U-Nets. At this [link](https://github.com/zhixuhao/unet), you find a Keras implementation of UNets.  \n",
        "Other implementations of more advanced UNets are also made available in [2] at these links: [UNet++](https://github.com/MrGiovanni/UNetPlusPlus)\n",
        "and by the CellSeg organizers as baseline models: [https://neurips22-cellseg.grand-challenge.org/baseline-and-tutorial/](https://neurips22-cellseg.grand-challenge.org/baseline-and-tutorial/)\n",
        "\n",
        "### Project aim\n",
        "\n",
        "The aim of the project is to download the cell images (preferably from the “2018 Data Science Bowl” competition) and assess the performance of an UNet or any other Deep model for cell segmentation.\n",
        "Students are free to choose any model, as long as they are able to explain their rationale, architecture, strengths and weaknesses.\n",
        "\n",
        "\n",
        "\n",
        "### References\n",
        "\n",
        "[1] Ronneberger, O., Fischer, P., Brox, T. (2015). U-Net: Convolutional Networks for Biomedical Image Segmentation. In: Navab, N., Hornegger, J., Wells, W., Frangi, A. (eds) Medical Image Computing and Computer-Assisted Intervention – MICCAI 2015. MICCAI 2015. Lecture Notes in Computer Science(), vol 9351. Springer, Cham. https://doi.org/10.1007/978-3-319-24574-4_28\n",
        "\n",
        "[2] Long, F. Microscopy cell nuclei segmentation with enhanced U-Net. BMC Bioinformatics 21, 8 (2020). https://doi.org/10.1186/s12859-019-3332-1\n"
      ]
    },
    {
      "cell_type": "markdown",
      "source": [
        "## **Step 1: Data Preparation**"
      ],
      "metadata": {
        "id": "u2n196-j1Z8Y"
      }
    },
    {
      "cell_type": "markdown",
      "source": [
        "**1.1. Install and Upgrade Kaggle Package**\n",
        "\n",
        "The Kaggle Python package was installed and upgraded to ensure we have the latest version with all necessary functionalities."
      ],
      "metadata": {
        "id": "DHAZEmm-1xYt"
      }
    },
    {
      "cell_type": "code",
      "source": [
        "!pip install --upgrade kaggle"
      ],
      "metadata": {
        "colab": {
          "base_uri": "https://localhost:8080/"
        },
        "id": "6S8SJIKi1nNd",
        "outputId": "76e9183a-a9ae-495b-b4e9-0ddfdc18801c"
      },
      "execution_count": 1,
      "outputs": [
        {
          "output_type": "stream",
          "name": "stdout",
          "text": [
            "Requirement already satisfied: kaggle in /usr/local/lib/python3.10/dist-packages (1.6.14)\n",
            "Requirement already satisfied: six>=1.10 in /usr/local/lib/python3.10/dist-packages (from kaggle) (1.16.0)\n",
            "Requirement already satisfied: certifi>=2023.7.22 in /usr/local/lib/python3.10/dist-packages (from kaggle) (2024.2.2)\n",
            "Requirement already satisfied: python-dateutil in /usr/local/lib/python3.10/dist-packages (from kaggle) (2.8.2)\n",
            "Requirement already satisfied: requests in /usr/local/lib/python3.10/dist-packages (from kaggle) (2.31.0)\n",
            "Requirement already satisfied: tqdm in /usr/local/lib/python3.10/dist-packages (from kaggle) (4.66.4)\n",
            "Requirement already satisfied: python-slugify in /usr/local/lib/python3.10/dist-packages (from kaggle) (8.0.4)\n",
            "Requirement already satisfied: urllib3 in /usr/local/lib/python3.10/dist-packages (from kaggle) (2.0.7)\n",
            "Requirement already satisfied: bleach in /usr/local/lib/python3.10/dist-packages (from kaggle) (6.1.0)\n",
            "Requirement already satisfied: webencodings in /usr/local/lib/python3.10/dist-packages (from bleach->kaggle) (0.5.1)\n",
            "Requirement already satisfied: text-unidecode>=1.3 in /usr/local/lib/python3.10/dist-packages (from python-slugify->kaggle) (1.3)\n",
            "Requirement already satisfied: charset-normalizer<4,>=2 in /usr/local/lib/python3.10/dist-packages (from requests->kaggle) (3.3.2)\n",
            "Requirement already satisfied: idna<4,>=2.5 in /usr/local/lib/python3.10/dist-packages (from requests->kaggle) (3.7)\n"
          ]
        }
      ]
    },
    {
      "cell_type": "markdown",
      "source": [
        "**1.2. Set Environment Variables for Kaggle API**\n",
        "\n",
        "Environment variables for the Kaggle username and key were set to enable authentication for API requests.\n",
        "\n",
        "**reference:** https://www.kaggle.com/docs/api"
      ],
      "metadata": {
        "id": "D8tQV0ir2L3x"
      }
    },
    {
      "cell_type": "code",
      "source": [
        "import os\n",
        "os.environ['KAGGLE_USERNAME'] = input() #rezaghahremani99\n",
        "os.environ['KAGGLE_KEY'] = input() #2de77e019555e21f9e3cf41417a6d919"
      ],
      "metadata": {
        "colab": {
          "base_uri": "https://localhost:8080/"
        },
        "id": "lZsvlnln2Keg",
        "outputId": "dc62c1cb-0951-40a4-8a0d-5220f0bdf9b8"
      },
      "execution_count": 2,
      "outputs": [
        {
          "name": "stdout",
          "output_type": "stream",
          "text": [
            "rezaghahremani99\n",
            "2de77e019555e21f9e3cf41417a6d919\n"
          ]
        }
      ]
    },
    {
      "cell_type": "markdown",
      "source": [
        "**1.3. Download Dataset from Kaggle and Extract Dataset**\n",
        "\n",
        "The dataset for the Data Science Bowl 2018 competition was downloaded using the Kaggle API. The downloaded zip file was extracted into a directory named data."
      ],
      "metadata": {
        "id": "lO27Mgdv2qrF"
      }
    },
    {
      "cell_type": "code",
      "source": [
        "!kaggle competitions download -c data-science-bowl-2018"
      ],
      "metadata": {
        "colab": {
          "base_uri": "https://localhost:8080/"
        },
        "id": "9xKWbVAo2qLg",
        "outputId": "b25e2ac1-2ac2-4f0c-fa9b-007984904722"
      },
      "execution_count": 3,
      "outputs": [
        {
          "output_type": "stream",
          "name": "stdout",
          "text": [
            "Downloading data-science-bowl-2018.zip to /content\n",
            " 99% 356M/358M [00:17<00:00, 21.3MB/s]\n",
            "100% 358M/358M [00:17<00:00, 20.9MB/s]\n"
          ]
        }
      ]
    },
    {
      "cell_type": "code",
      "source": [
        "!unzip data-science-bowl-2018.zip -d data"
      ],
      "metadata": {
        "colab": {
          "base_uri": "https://localhost:8080/"
        },
        "id": "vea28DOz2qHi",
        "outputId": "d8a1e35f-37c8-4584-9a5d-d19d284f39a8"
      },
      "execution_count": 4,
      "outputs": [
        {
          "output_type": "stream",
          "name": "stdout",
          "text": [
            "Archive:  data-science-bowl-2018.zip\n",
            "  inflating: data/stage1_sample_submission.csv.zip  \n",
            "  inflating: data/stage1_solution.csv.zip  \n",
            "  inflating: data/stage1_test.zip    \n",
            "  inflating: data/stage1_train.zip   \n",
            "  inflating: data/stage1_train_labels.csv.zip  \n",
            "  inflating: data/stage2_sample_submission_final.csv.zip  \n",
            "  inflating: data/stage2_test_final.zip  \n"
          ]
        }
      ]
    },
    {
      "cell_type": "markdown",
      "source": [
        "**1.4. Navigate to Data Directory and Extract All Files and List Directory Contents**\n",
        "\n",
        "Changed the current working directory to data and extracted all zip files within it. The original zip files were then deleted. Finally, we listed the contents of the data directory to confirm the successful extraction of the dataset files."
      ],
      "metadata": {
        "id": "BUGwhky520Ka"
      }
    },
    {
      "cell_type": "code",
      "source": [
        "cd data"
      ],
      "metadata": {
        "colab": {
          "base_uri": "https://localhost:8080/"
        },
        "id": "zUC8NYLg2qFQ",
        "outputId": "092e994d-6cfc-4ae6-866e-b924fde0f75b"
      },
      "execution_count": 5,
      "outputs": [
        {
          "output_type": "stream",
          "name": "stdout",
          "text": [
            "/content/data\n"
          ]
        }
      ]
    },
    {
      "cell_type": "code",
      "source": [
        "!for file in *.zip; do unzip -q \"$file\" -d \"${file%%.*}\" && rm \"$file\"; done"
      ],
      "metadata": {
        "id": "02ALTOVx2qC0"
      },
      "execution_count": 6,
      "outputs": []
    },
    {
      "cell_type": "code",
      "source": [
        "ls"
      ],
      "metadata": {
        "colab": {
          "base_uri": "https://localhost:8080/"
        },
        "id": "us0Dzqyj2qAg",
        "outputId": "ba6b2c2e-938c-48fb-b96e-ebc7d72a6ec0"
      },
      "execution_count": 7,
      "outputs": [
        {
          "output_type": "stream",
          "name": "stdout",
          "text": [
            "\u001b[0m\u001b[01;34mstage1_sample_submission\u001b[0m/  \u001b[01;34mstage1_test\u001b[0m/   \u001b[01;34mstage1_train_labels\u001b[0m/             \u001b[01;34mstage2_test_final\u001b[0m/\n",
            "\u001b[01;34mstage1_solution\u001b[0m/           \u001b[01;34mstage1_train\u001b[0m/  \u001b[01;34mstage2_sample_submission_final\u001b[0m/\n"
          ]
        }
      ]
    },
    {
      "cell_type": "markdown",
      "source": [
        "**1.5. Required Libraries**"
      ],
      "metadata": {
        "id": "xrMgzkRwbncX"
      }
    },
    {
      "cell_type": "code",
      "source": [
        "import os\n",
        "import numpy as np\n",
        "from PIL import Image\n",
        "import imgaug.augmenters as iaa\n",
        "import matplotlib.pyplot as plt\n",
        "import shutil"
      ],
      "metadata": {
        "id": "GipkPLfobsgh"
      },
      "execution_count": 2,
      "outputs": []
    },
    {
      "cell_type": "markdown",
      "source": [
        "## **Step 2: Data Preprocessing and Augmenation**"
      ],
      "metadata": {
        "id": "5hItEz6X2_an"
      }
    },
    {
      "cell_type": "markdown",
      "source": [
        "**2.1. Stretch Contrast Function**\n",
        "\n",
        "This function stretches the contrast of an image to utilize the full range of pixel values (0 to 255)."
      ],
      "metadata": {
        "id": "dnroWo4L3bjD"
      }
    },
    {
      "cell_type": "code",
      "source": [
        "def stretch_contrast(image):\n",
        "    min_val = np.min(image)\n",
        "    max_val = np.max(image)\n",
        "    stretched_image = (image - min_val) * (255.0 / (max_val - min_val))\n",
        "    return stretched_image.astype(np.uint8)"
      ],
      "metadata": {
        "id": "p3Y70i0k3cMn"
      },
      "execution_count": 3,
      "outputs": []
    },
    {
      "cell_type": "markdown",
      "source": [
        "**2.2. Load Data Function**\n",
        "\n",
        "The load_data function is designed to load images and their corresponding masks from a given base directory, apply contrast stretching to the images, and organize the data into lists."
      ],
      "metadata": {
        "id": "tZB1SzZ44Msk"
      }
    },
    {
      "cell_type": "code",
      "source": [
        "def load_data(base_path):\n",
        "    images = []\n",
        "    masks = []\n",
        "    sample_names = []\n",
        "    sample_folders = []\n",
        "\n",
        "    # Get all sample folders\n",
        "    sample_folders = [os.path.join(base_path, folder) for folder in os.listdir(base_path) if os.path.isdir(os.path.join(base_path, folder))]\n",
        "\n",
        "    for sample_folder in sample_folders:\n",
        "        sample_name = os.path.basename(sample_folder)\n",
        "        image_path = os.path.join(sample_folder, 'images', f'{sample_name}.png')\n",
        "        masks_path = os.path.join(sample_folder, 'masks')\n",
        "\n",
        "        # Load the image and stretch contrast\n",
        "        image = Image.open(image_path)\n",
        "        image = np.array(image)\n",
        "        stretched_image = stretch_contrast(image)\n",
        "        images.append(stretched_image)\n",
        "        sample_names.append(sample_name)\n",
        "\n",
        "        # Load all masks for this sample\n",
        "        mask_files = [os.path.join(masks_path, mask_file) for mask_file in os.listdir(masks_path) if mask_file.endswith('.png')]\n",
        "        sample_masks = [np.array(Image.open(mask_file).convert('L')) for mask_file in mask_files]\n",
        "        masks.append(sample_masks)\n",
        "\n",
        "    return images, masks, sample_names, sample_folders"
      ],
      "metadata": {
        "id": "6B7P6KZa3cWM"
      },
      "execution_count": 4,
      "outputs": []
    },
    {
      "cell_type": "markdown",
      "source": [
        "**2.3. Merge Masks Function**\n",
        "\n",
        "This function merges multiple masks by adding the values of corresponding pixels."
      ],
      "metadata": {
        "id": "-C_mfo4754kq"
      }
    },
    {
      "cell_type": "code",
      "source": [
        "def merge_masks(masks):\n",
        "    merged_mask = np.zeros_like(masks[0], dtype=np.uint8)\n",
        "    for mask in masks:\n",
        "        mask_uint8 = mask.astype(np.uint8)\n",
        "        merged_mask += mask_uint8\n",
        "    return merged_mask"
      ],
      "metadata": {
        "id": "j-pX9bvw3cT3"
      },
      "execution_count": 5,
      "outputs": []
    },
    {
      "cell_type": "markdown",
      "source": [
        "**2.4. Mask Merging**\n",
        "\n",
        "The masks are merged to create a single composite mask for each sample, which is then saved for further analysis."
      ],
      "metadata": {
        "id": "OYohouNh93l6"
      }
    },
    {
      "cell_type": "code",
      "source": [
        "# This function saves the merged mask as an image file in the 'merged_masks' folder within the sample folder.\n",
        "def save_merged_mask(merged_mask, sample_folder):\n",
        "    merged_masks_dir = os.path.join(sample_folder, 'merged_masks')\n",
        "    os.makedirs(merged_masks_dir, exist_ok=True)\n",
        "    sample_name = os.path.basename(sample_folder)\n",
        "    output_path = os.path.join(merged_masks_dir, f\"{sample_name}_merged_mask.png\")\n",
        "    merged_mask_image = Image.fromarray(merged_mask)\n",
        "    merged_mask_image.save(output_path)\n",
        "    #print(f\"Merged mask saved at: {output_path}\")"
      ],
      "metadata": {
        "id": "dkd9Q-sk9iNX"
      },
      "execution_count": 6,
      "outputs": []
    },
    {
      "cell_type": "code",
      "source": [
        "# This function loads the data, merges the masks for each sample, and saves the merged masks in the corresponding folders.\n",
        "def process_and_save_merged_masks(base_path):\n",
        "    images, masks, sample_names, sample_folders = load_data(base_path)\n",
        "    for sample_name, sample_masks, sample_folder in zip(sample_names, masks, sample_folders):\n",
        "        merged_mask = merge_masks(sample_masks)\n",
        "        save_merged_mask(merged_mask, sample_folder)"
      ],
      "metadata": {
        "id": "MmLXJ1819iLn"
      },
      "execution_count": 7,
      "outputs": []
    },
    {
      "cell_type": "code",
      "source": [
        "base_path = '/content/data/stage1_train'\n",
        "process_and_save_merged_masks(base_path)"
      ],
      "metadata": {
        "id": "7LXzEyhO9iI3"
      },
      "execution_count": 35,
      "outputs": []
    },
    {
      "cell_type": "markdown",
      "source": [
        "**2.5. Data Augmentation**"
      ],
      "metadata": {
        "id": "AUDXGGJHAdQJ"
      }
    },
    {
      "cell_type": "code",
      "source": [
        "!pip install imgaug"
      ],
      "metadata": {
        "colab": {
          "base_uri": "https://localhost:8080/"
        },
        "id": "BMwz2Y0gAg_7",
        "outputId": "2bacbd0f-35c5-4fa1-b58c-aeb07b8e64fe"
      },
      "execution_count": 8,
      "outputs": [
        {
          "output_type": "stream",
          "name": "stdout",
          "text": [
            "Requirement already satisfied: imgaug in /usr/local/lib/python3.10/dist-packages (0.4.0)\n",
            "Requirement already satisfied: six in /usr/local/lib/python3.10/dist-packages (from imgaug) (1.16.0)\n",
            "Requirement already satisfied: numpy>=1.15 in /usr/local/lib/python3.10/dist-packages (from imgaug) (1.25.2)\n",
            "Requirement already satisfied: scipy in /usr/local/lib/python3.10/dist-packages (from imgaug) (1.11.4)\n",
            "Requirement already satisfied: Pillow in /usr/local/lib/python3.10/dist-packages (from imgaug) (9.4.0)\n",
            "Requirement already satisfied: matplotlib in /usr/local/lib/python3.10/dist-packages (from imgaug) (3.7.1)\n",
            "Requirement already satisfied: scikit-image>=0.14.2 in /usr/local/lib/python3.10/dist-packages (from imgaug) (0.19.3)\n",
            "Requirement already satisfied: opencv-python in /usr/local/lib/python3.10/dist-packages (from imgaug) (4.8.0.76)\n",
            "Requirement already satisfied: imageio in /usr/local/lib/python3.10/dist-packages (from imgaug) (2.31.6)\n",
            "Requirement already satisfied: Shapely in /usr/local/lib/python3.10/dist-packages (from imgaug) (2.0.4)\n",
            "Requirement already satisfied: networkx>=2.2 in /usr/local/lib/python3.10/dist-packages (from scikit-image>=0.14.2->imgaug) (3.3)\n",
            "Requirement already satisfied: tifffile>=2019.7.26 in /usr/local/lib/python3.10/dist-packages (from scikit-image>=0.14.2->imgaug) (2024.5.10)\n",
            "Requirement already satisfied: PyWavelets>=1.1.1 in /usr/local/lib/python3.10/dist-packages (from scikit-image>=0.14.2->imgaug) (1.6.0)\n",
            "Requirement already satisfied: packaging>=20.0 in /usr/local/lib/python3.10/dist-packages (from scikit-image>=0.14.2->imgaug) (24.0)\n",
            "Requirement already satisfied: contourpy>=1.0.1 in /usr/local/lib/python3.10/dist-packages (from matplotlib->imgaug) (1.2.1)\n",
            "Requirement already satisfied: cycler>=0.10 in /usr/local/lib/python3.10/dist-packages (from matplotlib->imgaug) (0.12.1)\n",
            "Requirement already satisfied: fonttools>=4.22.0 in /usr/local/lib/python3.10/dist-packages (from matplotlib->imgaug) (4.51.0)\n",
            "Requirement already satisfied: kiwisolver>=1.0.1 in /usr/local/lib/python3.10/dist-packages (from matplotlib->imgaug) (1.4.5)\n",
            "Requirement already satisfied: pyparsing>=2.3.1 in /usr/local/lib/python3.10/dist-packages (from matplotlib->imgaug) (3.1.2)\n",
            "Requirement already satisfied: python-dateutil>=2.7 in /usr/local/lib/python3.10/dist-packages (from matplotlib->imgaug) (2.8.2)\n"
          ]
        }
      ]
    },
    {
      "cell_type": "code",
      "source": [
        "def augment_images_and_masks(images, masks, augmenters):\n",
        "    \"\"\"\n",
        "    Apply augmentations to a list of images and masks in a synchronized manner.\n",
        "    \"\"\"\n",
        "    deterministic_augmenters = augmenters.to_deterministic()\n",
        "    aug_images = deterministic_augmenters(images=images)\n",
        "    aug_masks = deterministic_augmenters(images=masks)\n",
        "    return aug_images, aug_masks"
      ],
      "metadata": {
        "id": "QCMbcUS8Ag8K"
      },
      "execution_count": 9,
      "outputs": []
    },
    {
      "cell_type": "code",
      "source": [
        "def load_image(image_path):\n",
        "    \"\"\"\n",
        "    Load an image from the specified path and return it as a numpy array.\n",
        "    \"\"\"\n",
        "    image = Image.open(image_path)\n",
        "    return np.array(image)"
      ],
      "metadata": {
        "id": "usdVnF8uBXyX"
      },
      "execution_count": 10,
      "outputs": []
    },
    {
      "cell_type": "code",
      "source": [
        "# Function to load masks\n",
        "def load_masks(masks_path):\n",
        "    mask_files = [os.path.join(masks_path, f) for f in os.listdir(masks_path) if f.endswith('.png')]\n",
        "    masks = [np.array(Image.open(mask_file)) for mask_file in mask_files]\n",
        "    return masks"
      ],
      "metadata": {
        "id": "QS5NZVLKtYB4"
      },
      "execution_count": 11,
      "outputs": []
    },
    {
      "cell_type": "code",
      "source": [
        "def save_image(image_array, output_path):\n",
        "    \"\"\"\n",
        "    Save a numpy array as an image to the specified path.\n",
        "    \"\"\"\n",
        "    image = Image.fromarray(image_array)\n",
        "    image.save(output_path)"
      ],
      "metadata": {
        "id": "alx5efQgBaJt"
      },
      "execution_count": 12,
      "outputs": []
    },
    {
      "cell_type": "code",
      "source": [
        "def create_augmented_folder(base_path, sample_name, num_augments=5):\n",
        "    \"\"\"\n",
        "    Create augmented images for a given sample and save them in separate folders within the toy_data directory.\n",
        "    \"\"\"\n",
        "    sample_folder = os.path.join(base_path, sample_name)\n",
        "    images_path = os.path.join(sample_folder, 'images')\n",
        "    masks_path = os.path.join(sample_folder, 'masks')\n",
        "\n",
        "    # Load the image\n",
        "    image_files = [os.path.join(images_path, f) for f in os.listdir(images_path) if f.endswith('.png')]\n",
        "    image = load_image(image_files[0])\n",
        "    images = [image]\n",
        "\n",
        "    # Load masks\n",
        "    mask_files = [os.path.join(masks_path, f) for f in os.listdir(masks_path) if f.endswith('.png')]\n",
        "    masks = [load_image(mask_file) for mask_file in mask_files]\n",
        "\n",
        "    # Merge masks\n",
        "    merged_mask = merge_masks(masks)\n",
        "\n",
        "    # Define augmentation pipeline\n",
        "    augmenters = iaa.Sequential([\n",
        "        iaa.Fliplr(0.5),  # horizontal flips\n",
        "        iaa.Sometimes(1.0, iaa.Affine(rotate=[90, 180, 270], fit_output=False)),\n",
        "        iaa.Multiply((0.8, 1.2)),  # random brightness changes\n",
        "        iaa.LinearContrast((0.75, 1.5)),  # random contrast changes\n",
        "    ])\n",
        "\n",
        "    # Generate and save augmented images and masks\n",
        "    for i in range(num_augments):\n",
        "        aug_images, aug_masks = augment_images_and_masks(images, [merged_mask], augmenters)\n",
        "\n",
        "        # Create a subfolder for each augmented image and masks within the toy_data directory\n",
        "        augmented_subfolder = os.path.join(base_path, f\"{sample_name}_augmented_{i+1}\")\n",
        "        os.makedirs(augmented_subfolder, exist_ok=True)\n",
        "        augmented_images_folder = os.path.join(augmented_subfolder, 'images')\n",
        "        augmented_masks_folder = os.path.join(augmented_subfolder, 'merged_masks')\n",
        "        os.makedirs(augmented_images_folder, exist_ok=True)\n",
        "        os.makedirs(augmented_masks_folder, exist_ok=True)\n",
        "\n",
        "        for j, aug_image in enumerate(aug_images):\n",
        "            save_image(aug_image, os.path.join(augmented_images_folder, f\"{sample_name}_aug_{i}_{j}.png\"))\n",
        "        for j, aug_mask in enumerate(aug_masks):\n",
        "            save_image(aug_mask, os.path.join(augmented_masks_folder, f\"{sample_name}_merged_mask_aug_{i}_{j}.png\"))\n",
        "\n",
        "    #print(f\"Augmented data saved in separate folders within stage1_train for sample: {sample_name}\")"
      ],
      "metadata": {
        "id": "DmngKki0Ag5s"
      },
      "execution_count": 13,
      "outputs": []
    },
    {
      "cell_type": "code",
      "source": [
        "# Apply augmentation to all sample folders in the base path\n",
        "def augment_all_samples(base_path, num_augments=5):\n",
        "    \"\"\"\n",
        "    Apply augmentation to all sample folders within the base path.\n",
        "\n",
        "    Args:\n",
        "    - base_path (str): Path to the base directory containing images and masks.\n",
        "    - num_augments (int): Number of augmented images to generate per sample.\n",
        "    \"\"\"\n",
        "    sample_folders = [folder for folder in os.listdir(base_path) if os.path.isdir(os.path.join(base_path, folder))]\n",
        "\n",
        "    for sample_name in sample_folders:\n",
        "        create_augmented_folder(base_path, sample_name, num_augments)"
      ],
      "metadata": {
        "id": "cmvarbm0Ag3K"
      },
      "execution_count": 14,
      "outputs": []
    },
    {
      "cell_type": "code",
      "source": [
        "base_path = '/content/data/stage1_train'\n",
        "augment_all_samples(base_path, num_augments=5)"
      ],
      "metadata": {
        "id": "iizRv7QABEQq"
      },
      "execution_count": 44,
      "outputs": []
    },
    {
      "cell_type": "markdown",
      "source": [
        "**2.4. Data organization**"
      ],
      "metadata": {
        "id": "MqlFzLet6AOR"
      }
    },
    {
      "cell_type": "code",
      "source": [
        "def extract_images(stage1_path, destination_path, content_type='images'):\n",
        "    \"\"\"\n",
        "    Extract all images or merged masks from the stage1_train or stage1_test folder and save them into the specified destination folder.\n",
        "\n",
        "    Args:\n",
        "    - stage1_path (str): Path to the stage1_train or stage1_test folder containing sample folders.\n",
        "    - destination_path (str): Path to the destination folder where images or masks will be saved.\n",
        "    - content_type (str): Type of content to extract ('images' or 'merged_masks').\n",
        "    \"\"\"\n",
        "    # Create the destination directory if it doesn't exist\n",
        "    os.makedirs(destination_path, exist_ok=True)\n",
        "\n",
        "    # Determine the subfolder to look for based on content type\n",
        "    subfolder_name = 'images' if content_type == 'images' else 'merged_masks'\n",
        "\n",
        "    # Iterate over all sample folders in the stage1 directory\n",
        "    for sample_folder in os.listdir(stage1_path):\n",
        "        sample_folder_path = os.path.join(stage1_path, sample_folder, subfolder_name)\n",
        "\n",
        "        # Check if the sample folder contains the specified subfolder\n",
        "        if os.path.isdir(sample_folder_path):\n",
        "            for file in os.listdir(sample_folder_path):\n",
        "                if file.endswith('.png'):\n",
        "                    # Construct the full path to the file\n",
        "                    file_path = os.path.join(sample_folder_path, file)\n",
        "\n",
        "                    # Save the file to the destination directory\n",
        "                    destination_file_path = os.path.join(destination_path, f\"{sample_folder}_{file}\")\n",
        "                    shutil.copy(file_path, destination_file_path)\n",
        "                    #print(f\"Copied: {file_path} to {destination_file_path}\")"
      ],
      "metadata": {
        "id": "wBwoCbMU3cRp"
      },
      "execution_count": 15,
      "outputs": []
    },
    {
      "cell_type": "code",
      "source": [
        "def main(destination_path):\n",
        "    if 'train/images' in destination_path:\n",
        "        stage1_path = '/content/data/stage1_train'\n",
        "        content_type = 'images'\n",
        "    elif 'train/masks' in destination_path:\n",
        "        stage1_path = '/content/data/stage1_train'\n",
        "        content_type = 'masks'\n",
        "    elif 'test/images' in destination_path:\n",
        "        stage1_path = '/content/data/stage1_test'\n",
        "        content_type = 'images'\n",
        "    else:\n",
        "        print(\"Invalid destination path\")\n",
        "        return\n",
        "\n",
        "    extract_images(stage1_path, destination_path, content_type)"
      ],
      "metadata": {
        "id": "cPyPKRtr9TQ-"
      },
      "execution_count": 16,
      "outputs": []
    },
    {
      "cell_type": "code",
      "source": [
        "destination_path = '/content/data/train/images'\n",
        "main(destination_path)\n",
        "\n",
        "destination_path = '/content/data/train/masks'\n",
        "main(destination_path)\n",
        "\n",
        "destination_path = '/content/data/test/images'\n",
        "main(destination_path)"
      ],
      "metadata": {
        "id": "V1MxJQTT3cO3"
      },
      "execution_count": 47,
      "outputs": []
    },
    {
      "cell_type": "markdown",
      "source": [
        "## **Step 3: Data Exploration and Visualization**"
      ],
      "metadata": {
        "id": "9Xw08Iu2pU0y"
      }
    },
    {
      "cell_type": "markdown",
      "source": [
        "**3.1. Visualize Augmented Data:**\n",
        "\n",
        "Check and visualize the augmented images and masks to ensure the augmentations are applied correctly."
      ],
      "metadata": {
        "id": "3T_V4g8ppbq9"
      }
    },
    {
      "cell_type": "code",
      "source": [
        "def plot_augmented_sample(sample_folder):\n",
        "    images_folder = os.path.join(sample_folder, 'images')\n",
        "    masks_folder = os.path.join(sample_folder, 'merged_masks')\n",
        "    image_files = [os.path.join(images_folder, f) for f in os.listdir(images_folder) if f.endswith('.png')]\n",
        "    mask_files = [os.path.join(masks_folder, f) for f in os.listdir(masks_folder) if f.endswith('.png')]\n",
        "\n",
        "    for image_file, mask_file in zip(image_files, mask_files):\n",
        "        image = load_image(image_file)\n",
        "        mask = load_image(mask_file)\n",
        "\n",
        "        plt.figure(figsize=(10, 5))\n",
        "        plt.subplot(1, 2, 1)\n",
        "        plt.title('Augmented Image')\n",
        "        plt.imshow(image)\n",
        "        plt.axis('off')\n",
        "\n",
        "        plt.subplot(1, 2, 2)\n",
        "        plt.title('Augmented Mask')\n",
        "        plt.imshow(mask, cmap='gray')\n",
        "        plt.axis('off')\n",
        "\n",
        "        plt.show()"
      ],
      "metadata": {
        "id": "pREcReBbHIa7"
      },
      "execution_count": 17,
      "outputs": []
    },
    {
      "cell_type": "code",
      "source": [
        "# Example usage\n",
        "augmented_sample_folder = '/content/data/stage1_train/00071198d059ba7f5914a526d124d28e6d010c92466da21d4a04cd5413362552_augmented_2'\n",
        "plot_augmented_sample(augmented_sample_folder)"
      ],
      "metadata": {
        "id": "vYGIyfLJHIYb",
        "colab": {
          "base_uri": "https://localhost:8080/",
          "height": 411
        },
        "outputId": "8ed100c1-3804-4396-ebd0-671d5bec9653"
      },
      "execution_count": 53,
      "outputs": [
        {
          "output_type": "display_data",
          "data": {
            "text/plain": [
              "<Figure size 1000x500 with 2 Axes>"
            ],
            "image/png": "[encoded data removed]"
          },
          "metadata": {}
        }
      ]
    },
    {
      "cell_type": "markdown",
      "source": [
        "**3.2. Summarize Key Statistics**\n",
        "\n",
        "Calculate and summarize key statistics about the dataset."
      ],
      "metadata": {
        "id": "dFYCcK5mtHN5"
      }
    },
    {
      "cell_type": "code",
      "source": [
        "# Get a list of all sample folders\n",
        "sample_folders = [os.path.join(base_path, folder) for folder in os.listdir(base_path) if os.path.isdir(os.path.join(base_path, folder))]\n",
        "\n",
        "# Explore the first sample\n",
        "sample_folder = sample_folders[0]\n",
        "image_path = os.path.join(sample_folder, 'images', os.listdir(os.path.join(sample_folder, 'images'))[0])\n",
        "masks_path = os.path.join(sample_folder, 'merged_masks')\n",
        "\n",
        "# Load the image and masks\n",
        "image = load_image(image_path)\n",
        "masks = load_masks(masks_path)"
      ],
      "metadata": {
        "id": "N0-gZRFMtSJB"
      },
      "execution_count": 70,
      "outputs": []
    },
    {
      "cell_type": "code",
      "source": [
        "# Number of images\n",
        "num_images = len(sample_folders)\n",
        "print(f\"Number of images: {num_images}\")"
      ],
      "metadata": {
        "colab": {
          "base_uri": "https://localhost:8080/"
        },
        "id": "etkbRTD4tJSu",
        "outputId": "305efea0-1aa8-4ce4-d331-358f82c8bda4"
      },
      "execution_count": 71,
      "outputs": [
        {
          "output_type": "stream",
          "name": "stdout",
          "text": [
            "Number of images: 4020\n"
          ]
        }
      ]
    },
    {
      "cell_type": "code",
      "source": [
        "# Distribution of mask sizes\n",
        "mask_sizes = []\n",
        "for folder in sample_folders:\n",
        "    masks = load_masks(os.path.join(folder, 'merged_masks'))\n",
        "    mask_sizes.extend([np.sum(mask > 0) for mask in masks])\n",
        "\n",
        "mask_sizes = np.array(mask_sizes)\n",
        "print(f\"Average mask size: {np.mean(mask_sizes):.2f} pixels\")\n",
        "print(f\"Median mask size: {np.median(mask_sizes):.2f} pixels\")"
      ],
      "metadata": {
        "colab": {
          "base_uri": "https://localhost:8080/"
        },
        "id": "UPNRUy3VteWN",
        "outputId": "44d216dd-b77d-4ed2-f92a-c26ba8e7a981"
      },
      "execution_count": 76,
      "outputs": [
        {
          "output_type": "stream",
          "name": "stdout",
          "text": [
            "Average mask size: 54768.61 pixels\n",
            "Median mask size: 23306.00 pixels\n"
          ]
        }
      ]
    },
    {
      "cell_type": "code",
      "source": [
        "# Plot mask size distribution\n",
        "plt.figure(figsize=(10, 6))\n",
        "plt.hist(mask_sizes, bins=50, color='blue', edgecolor='black')\n",
        "plt.title('Distribution of Mask Sizes')\n",
        "plt.xlabel('Mask Size (pixels)')\n",
        "plt.ylabel('Frequency')\n",
        "plt.show()"
      ],
      "metadata": {
        "colab": {
          "base_uri": "https://localhost:8080/",
          "height": 564
        },
        "id": "o91Mvmret2QT",
        "outputId": "5276e0e5-3ed5-4d7a-c215-140a64a66acf"
      },
      "execution_count": 77,
      "outputs": [
        {
          "output_type": "display_data",
          "data": {
            "text/plain": [
              "<Figure size 1000x600 with 1 Axes>"
            ],
            "image/png": "[encoded data removed]"
          },
          "metadata": {}
        }
      ]
    },
    {
      "cell_type": "markdown",
      "source": [
        "## **Step 4: U-Net Model**"
      ],
      "metadata": {
        "id": "F5TKfQd61bQn"
      }
    },
    {
      "cell_type": "code",
      "source": [
        "!pip install opencv-python-headless matplotlib scikit-image tqdm tensorflow tensorflow-datasets"
      ],
      "metadata": {
        "id": "-XSCx5h90Of-",
        "outputId": "d87c8211-8b92-477c-a8f3-dbc0edeae6ac",
        "colab": {
          "base_uri": "https://localhost:8080/"
        }
      },
      "execution_count": 18,
      "outputs": [
        {
          "output_type": "stream",
          "name": "stdout",
          "text": [
            "Requirement already satisfied: opencv-python-headless in /usr/local/lib/python3.10/dist-packages (4.9.0.80)\n",
            "Requirement already satisfied: matplotlib in /usr/local/lib/python3.10/dist-packages (3.7.1)\n",
            "Requirement already satisfied: scikit-image in /usr/local/lib/python3.10/dist-packages (0.19.3)\n",
            "Requirement already satisfied: tqdm in /usr/local/lib/python3.10/dist-packages (4.66.4)\n",
            "Requirement already satisfied: tensorflow in /usr/local/lib/python3.10/dist-packages (2.15.0)\n",
            "Requirement already satisfied: tensorflow-datasets in /usr/local/lib/python3.10/dist-packages (4.9.4)\n",
            "Requirement already satisfied: numpy>=1.21.2 in /usr/local/lib/python3.10/dist-packages (from opencv-python-headless) (1.25.2)\n",
            "Requirement already satisfied: contourpy>=1.0.1 in /usr/local/lib/python3.10/dist-packages (from matplotlib) (1.2.1)\n",
            "Requirement already satisfied: cycler>=0.10 in /usr/local/lib/python3.10/dist-packages (from matplotlib) (0.12.1)\n",
            "Requirement already satisfied: fonttools>=4.22.0 in /usr/local/lib/python3.10/dist-packages (from matplotlib) (4.51.0)\n",
            "Requirement already satisfied: kiwisolver>=1.0.1 in /usr/local/lib/python3.10/dist-packages (from matplotlib) (1.4.5)\n",
            "Requirement already satisfied: packaging>=20.0 in /usr/local/lib/python3.10/dist-packages (from matplotlib) (24.0)\n",
            "Requirement already satisfied: pillow>=6.2.0 in /usr/local/lib/python3.10/dist-packages (from matplotlib) (9.4.0)\n",
            "Requirement already satisfied: pyparsing>=2.3.1 in /usr/local/lib/python3.10/dist-packages (from matplotlib) (3.1.2)\n",
            "Requirement already satisfied: python-dateutil>=2.7 in /usr/local/lib/python3.10/dist-packages (from matplotlib) (2.8.2)\n",
            "Requirement already satisfied: scipy>=1.4.1 in /usr/local/lib/python3.10/dist-packages (from scikit-image) (1.11.4)\n",
            "Requirement already satisfied: networkx>=2.2 in /usr/local/lib/python3.10/dist-packages (from scikit-image) (3.3)\n",
            "Requirement already satisfied: imageio>=2.4.1 in /usr/local/lib/python3.10/dist-packages (from scikit-image) (2.31.6)\n",
            "Requirement already satisfied: tifffile>=2019.7.26 in /usr/local/lib/python3.10/dist-packages (from scikit-image) (2024.5.10)\n",
            "Requirement already satisfied: PyWavelets>=1.1.1 in /usr/local/lib/python3.10/dist-packages (from scikit-image) (1.6.0)\n",
            "Requirement already satisfied: absl-py>=1.0.0 in /usr/local/lib/python3.10/dist-packages (from tensorflow) (1.4.0)\n",
            "Requirement already satisfied: astunparse>=1.6.0 in /usr/local/lib/python3.10/dist-packages (from tensorflow) (1.6.3)\n",
            "Requirement already satisfied: flatbuffers>=23.5.26 in /usr/local/lib/python3.10/dist-packages (from tensorflow) (24.3.25)\n",
            "Requirement already satisfied: gast!=0.5.0,!=0.5.1,!=0.5.2,>=0.2.1 in /usr/local/lib/python3.10/dist-packages (from tensorflow) (0.5.4)\n",
            "Requirement already satisfied: google-pasta>=0.1.1 in /usr/local/lib/python3.10/dist-packages (from tensorflow) (0.2.0)\n",
            "Requirement already satisfied: h5py>=2.9.0 in /usr/local/lib/python3.10/dist-packages (from tensorflow) (3.9.0)\n",
            "Requirement already satisfied: libclang>=13.0.0 in /usr/local/lib/python3.10/dist-packages (from tensorflow) (18.1.1)\n",
            "Requirement already satisfied: ml-dtypes~=0.2.0 in /usr/local/lib/python3.10/dist-packages (from tensorflow) (0.2.0)\n",
            "Requirement already satisfied: opt-einsum>=2.3.2 in /usr/local/lib/python3.10/dist-packages (from tensorflow) (3.3.0)\n",
            "Requirement already satisfied: protobuf!=4.21.0,!=4.21.1,!=4.21.2,!=4.21.3,!=4.21.4,!=4.21.5,<5.0.0dev,>=3.20.3 in /usr/local/lib/python3.10/dist-packages (from tensorflow) (3.20.3)\n",
            "Requirement already satisfied: setuptools in /usr/local/lib/python3.10/dist-packages (from tensorflow) (67.7.2)\n",
            "Requirement already satisfied: six>=1.12.0 in /usr/local/lib/python3.10/dist-packages (from tensorflow) (1.16.0)\n",
            "Requirement already satisfied: termcolor>=1.1.0 in /usr/local/lib/python3.10/dist-packages (from tensorflow) (2.4.0)\n",
            "Requirement already satisfied: typing-extensions>=3.6.6 in /usr/local/lib/python3.10/dist-packages (from tensorflow) (4.11.0)\n",
            "Requirement already satisfied: wrapt<1.15,>=1.11.0 in /usr/local/lib/python3.10/dist-packages (from tensorflow) (1.14.1)\n",
            "Requirement already satisfied: tensorflow-io-gcs-filesystem>=0.23.1 in /usr/local/lib/python3.10/dist-packages (from tensorflow) (0.37.0)\n",
            "Requirement already satisfied: grpcio<2.0,>=1.24.3 in /usr/local/lib/python3.10/dist-packages (from tensorflow) (1.64.0)\n",
            "Requirement already satisfied: tensorboard<2.16,>=2.15 in /usr/local/lib/python3.10/dist-packages (from tensorflow) (2.15.2)\n",
            "Requirement already satisfied: tensorflow-estimator<2.16,>=2.15.0 in /usr/local/lib/python3.10/dist-packages (from tensorflow) (2.15.0)\n",
            "Requirement already satisfied: keras<2.16,>=2.15.0 in /usr/local/lib/python3.10/dist-packages (from tensorflow) (2.15.0)\n",
            "Requirement already satisfied: click in /usr/local/lib/python3.10/dist-packages (from tensorflow-datasets) (8.1.7)\n",
            "Requirement already satisfied: dm-tree in /usr/local/lib/python3.10/dist-packages (from tensorflow-datasets) (0.1.8)\n",
            "Requirement already satisfied: etils[enp,epath,etree]>=0.9.0 in /usr/local/lib/python3.10/dist-packages (from tensorflow-datasets) (1.7.0)\n",
            "Requirement already satisfied: promise in /usr/local/lib/python3.10/dist-packages (from tensorflow-datasets) (2.3)\n",
            "Requirement already satisfied: psutil in /usr/local/lib/python3.10/dist-packages (from tensorflow-datasets) (5.9.5)\n",
            "Requirement already satisfied: requests>=2.19.0 in /usr/local/lib/python3.10/dist-packages (from tensorflow-datasets) (2.31.0)\n",
            "Requirement already satisfied: tensorflow-metadata in /usr/local/lib/python3.10/dist-packages (from tensorflow-datasets) (1.15.0)\n",
            "Requirement already satisfied: toml in /usr/local/lib/python3.10/dist-packages (from tensorflow-datasets) (0.10.2)\n",
            "Requirement already satisfied: array-record>=0.5.0 in /usr/local/lib/python3.10/dist-packages (from tensorflow-datasets) (0.5.1)\n",
            "Requirement already satisfied: wheel<1.0,>=0.23.0 in /usr/local/lib/python3.10/dist-packages (from astunparse>=1.6.0->tensorflow) (0.43.0)\n",
            "Requirement already satisfied: fsspec in /usr/local/lib/python3.10/dist-packages (from etils[enp,epath,etree]>=0.9.0->tensorflow-datasets) (2023.6.0)\n",
            "Requirement already satisfied: importlib_resources in /usr/local/lib/python3.10/dist-packages (from etils[enp,epath,etree]>=0.9.0->tensorflow-datasets) (6.4.0)\n",
            "Requirement already satisfied: zipp in /usr/local/lib/python3.10/dist-packages (from etils[enp,epath,etree]>=0.9.0->tensorflow-datasets) (3.18.2)\n",
            "Requirement already satisfied: charset-normalizer<4,>=2 in /usr/local/lib/python3.10/dist-packages (from requests>=2.19.0->tensorflow-datasets) (3.3.2)\n",
            "Requirement already satisfied: idna<4,>=2.5 in /usr/local/lib/python3.10/dist-packages (from requests>=2.19.0->tensorflow-datasets) (3.7)\n",
            "Requirement already satisfied: urllib3<3,>=1.21.1 in /usr/local/lib/python3.10/dist-packages (from requests>=2.19.0->tensorflow-datasets) (2.0.7)\n",
            "Requirement already satisfied: certifi>=2017.4.17 in /usr/local/lib/python3.10/dist-packages (from requests>=2.19.0->tensorflow-datasets) (2024.2.2)\n",
            "Requirement already satisfied: google-auth<3,>=1.6.3 in /usr/local/lib/python3.10/dist-packages (from tensorboard<2.16,>=2.15->tensorflow) (2.27.0)\n",
            "Requirement already satisfied: google-auth-oauthlib<2,>=0.5 in /usr/local/lib/python3.10/dist-packages (from tensorboard<2.16,>=2.15->tensorflow) (1.2.0)\n",
            "Requirement already satisfied: markdown>=2.6.8 in /usr/local/lib/python3.10/dist-packages (from tensorboard<2.16,>=2.15->tensorflow) (3.6)\n",
            "Requirement already satisfied: tensorboard-data-server<0.8.0,>=0.7.0 in /usr/local/lib/python3.10/dist-packages (from tensorboard<2.16,>=2.15->tensorflow) (0.7.2)\n",
            "Requirement already satisfied: werkzeug>=1.0.1 in /usr/local/lib/python3.10/dist-packages (from tensorboard<2.16,>=2.15->tensorflow) (3.0.3)\n",
            "Requirement already satisfied: cachetools<6.0,>=2.0.0 in /usr/local/lib/python3.10/dist-packages (from google-auth<3,>=1.6.3->tensorboard<2.16,>=2.15->tensorflow) (5.3.3)\n",
            "Requirement already satisfied: pyasn1-modules>=0.2.1 in /usr/local/lib/python3.10/dist-packages (from google-auth<3,>=1.6.3->tensorboard<2.16,>=2.15->tensorflow) (0.4.0)\n",
            "Requirement already satisfied: rsa<5,>=3.1.4 in /usr/local/lib/python3.10/dist-packages (from google-auth<3,>=1.6.3->tensorboard<2.16,>=2.15->tensorflow) (4.9)\n",
            "Requirement already satisfied: requests-oauthlib>=0.7.0 in /usr/local/lib/python3.10/dist-packages (from google-auth-oauthlib<2,>=0.5->tensorboard<2.16,>=2.15->tensorflow) (1.3.1)\n",
            "Requirement already satisfied: MarkupSafe>=2.1.1 in /usr/local/lib/python3.10/dist-packages (from werkzeug>=1.0.1->tensorboard<2.16,>=2.15->tensorflow) (2.1.5)\n",
            "Requirement already satisfied: pyasn1<0.7.0,>=0.4.6 in /usr/local/lib/python3.10/dist-packages (from pyasn1-modules>=0.2.1->google-auth<3,>=1.6.3->tensorboard<2.16,>=2.15->tensorflow) (0.6.0)\n",
            "Requirement already satisfied: oauthlib>=3.0.0 in /usr/local/lib/python3.10/dist-packages (from requests-oauthlib>=0.7.0->google-auth-oauthlib<2,>=0.5->tensorboard<2.16,>=2.15->tensorflow) (3.2.2)\n"
          ]
        }
      ]
    },
    {
      "cell_type": "code",
      "source": [
        "!pip install -q git+https://github.com/tensorflow/examples.git"
      ],
      "metadata": {
        "id": "wcUKnnaD0Pm0",
        "outputId": "66e6b51c-965c-412e-c0f6-0b334e7a19d3",
        "colab": {
          "base_uri": "https://localhost:8080/"
        }
      },
      "execution_count": 19,
      "outputs": [
        {
          "output_type": "stream",
          "name": "stdout",
          "text": [
            "  Preparing metadata (setup.py) ... \u001b[?25l\u001b[?25hdone\n"
          ]
        }
      ]
    },
    {
      "cell_type": "code",
      "source": [
        "import os\n",
        "import glob\n",
        "import cv2\n",
        "import numpy as np\n",
        "from matplotlib import pyplot as plt\n",
        "import math\n",
        "from pathlib import Path\n",
        "import re\n",
        "from skimage import measure\n",
        "from sklearn.metrics import mean_absolute_error, mean_squared_error, accuracy_score\n",
        "import matplotlib as mpl\n",
        "import tqdm\n",
        "import tensorflow as tf\n",
        "from tensorflow_examples.models.pix2pix import pix2pix\n",
        "from sklearn.model_selection import train_test_split\n",
        "from tensorflow.keras.utils import normalize\n",
        "from tensorflow.keras.utils import to_categorical\n",
        "from tensorflow.keras.models import Model, load_model\n",
        "from tensorflow.keras.callbacks import LearningRateScheduler\n",
        "from tensorflow.keras.metrics import MeanIoU\n",
        "from tensorflow.keras.applications import MobileNetV2\n",
        "from tensorflow.keras.losses import SparseCategoricalCrossentropy\n",
        "from tensorflow.keras.layers import Input, Conv2D, MaxPooling2D, UpSampling2D, Concatenate, Conv2DTranspose, BatchNormalization, Dropout, Lambda"
      ],
      "metadata": {
        "id": "S0jVwVSr0VRp"
      },
      "execution_count": 3,
      "outputs": []
    },
    {
      "cell_type": "code",
      "source": [
        "images_path = \"/content/data/train/images\"\n",
        "masks_path = \"/content/data/train/masks\""
      ],
      "metadata": {
        "id": "L8FoalrT0cJf"
      },
      "execution_count": 4,
      "outputs": []
    },
    {
      "cell_type": "code",
      "source": [
        "OUTPUT_CHANNELS = 2\n",
        "classes = {'nothing':0, 'nucleon':1}"
      ],
      "metadata": {
        "id": "s1-374Xz0fU3"
      },
      "execution_count": 5,
      "outputs": []
    },
    {
      "cell_type": "code",
      "source": [
        "def standardize(x):\n",
        "    x = np.array(x, dtype='float64')\n",
        "    x -= np.min(x)\n",
        "    x /= np.percentile(x, 98)\n",
        "    x[x > 1] = 1\n",
        "    return x\n",
        "\n",
        "def preprocessing(img):\n",
        "    image = np.array(img)\n",
        "    gray = cv2.cvtColor(image,cv2.COLOR_BGR2GRAY)\n",
        "    image = np.zeros_like(image)\n",
        "    image[:,:,0] = gray\n",
        "    image[:,:,1] = gray\n",
        "    image[:,:,2] = gray\n",
        "    image = standardize(image)\n",
        "    return image"
      ],
      "metadata": {
        "id": "6KXRglWP0hBa"
      },
      "execution_count": 6,
      "outputs": []
    },
    {
      "cell_type": "code",
      "source": [
        "#Capture training image info as a list\n",
        "images_paths = []\n",
        "masks_paths = []\n",
        "\n",
        "for imgname in os.listdir(images_path):\n",
        "  images_paths.append(os.path.join(images_path,imgname))\n",
        "\n",
        "for imgname in os.listdir(masks_path):\n",
        "  masks_paths.append(os.path.join(masks_path,imgname))"
      ],
      "metadata": {
        "id": "e4uP2qlR0jvH"
      },
      "execution_count": 7,
      "outputs": []
    },
    {
      "cell_type": "code",
      "source": [
        "images_paths.sort()\n",
        "masks_paths.sort()"
      ],
      "metadata": {
        "id": "O1__59vN0lm6"
      },
      "execution_count": 8,
      "outputs": []
    },
    {
      "cell_type": "code",
      "source": [
        "# Resize images\n",
        "SIZE_X = 256\n",
        "SIZE_Y = 256\n",
        "\n",
        "# Capture training image info as a list\n",
        "train_images = []\n",
        "train_masks = []\n",
        "\n",
        "for imgpath in tqdm.tqdm(images_paths):\n",
        "    img = cv2.imread(imgpath)\n",
        "    img = cv2.resize(img, (SIZE_Y, SIZE_X))\n",
        "    img = preprocessing(img)\n",
        "    train_images.append(img)\n",
        "\n",
        "for maskpath in tqdm.tqdm(masks_paths):\n",
        "    mask0 = cv2.imread(maskpath, 0)\n",
        "    mask1 = cv2.resize(mask0, (SIZE_Y, SIZE_X), interpolation=cv2.INTER_NEAREST)  # Otherwise ground truth changes due to interpolation\n",
        "    # Assuming that 'class1' is the class you want to keep and 'bg' is the background class\n",
        "    mask1[mask1 != classes['nothing']] = classes['nucleon']  # Set all classes except 'class1' to background\n",
        "    train_masks.append(mask1)\n",
        "\n",
        "train_images = np.array(train_images)\n",
        "train_masks = np.array(train_masks)\n",
        "\n",
        "# Split the data into training and validation sets\n",
        "X_train, X_val, y_train, y_val = train_test_split(train_images, train_masks, test_size=0.10, shuffle=True, random_state=1)\n",
        "print(\"Class values: \", np.unique(y_train))"
      ],
      "metadata": {
        "id": "ThwzwIj-0rCl",
        "outputId": "93321756-0095-4422-cf2e-21aefaa3f4bd",
        "colab": {
          "base_uri": "https://localhost:8080/"
        }
      },
      "execution_count": null,
      "outputs": [
        {
          "output_type": "stream",
          "name": "stderr",
          "text": [
            "  1%|          | 38/4020 [00:00<00:53, 73.77it/s]<ipython-input-6-2560208f702a>:4: RuntimeWarning: divide by zero encountered in divide\n",
            "  x /= np.percentile(x, 98)\n",
            "<ipython-input-6-2560208f702a>:4: RuntimeWarning: invalid value encountered in divide\n",
            "  x /= np.percentile(x, 98)\n",
            "100%|██████████| 4020/4020 [00:42<00:00, 95.30it/s]\n",
            "100%|██████████| 4020/4020 [00:05<00:00, 770.78it/s] \n"
          ]
        }
      ]
    },
    {
      "cell_type": "code",
      "source": [
        "import matplotlib.pyplot as plt\n",
        "import matplotlib as mpl\n",
        "\n",
        "NORM = mpl.colors.Normalize(vmin=0, vmax=8)\n",
        "\n",
        "plt.figure(figsize=(16, 10))\n",
        "for i in range(1, 4):\n",
        "    plt.subplot(2, 3, i)\n",
        "    img = train_images[i]\n",
        "    plt.imshow(img)\n",
        "    plt.colorbar()\n",
        "    plt.axis('off')\n",
        "\n",
        "for i in range(4, 7):\n",
        "    plt.subplot(2, 3, i)\n",
        "    img = np.squeeze(train_masks[i-3])\n",
        "    plt.imshow(img, cmap='jet', norm=NORM)\n",
        "    plt.colorbar()\n",
        "    plt.axis('off')\n",
        "\n",
        "plt.show()"
      ],
      "metadata": {
        "id": "53eogbJp2Hk2"
      },
      "execution_count": null,
      "outputs": []
    },
    {
      "cell_type": "code",
      "source": [
        "def unet_model(output_channels):\n",
        "    IMG_HEIGHT = X_train.shape[1]\n",
        "    IMG_WIDTH  = X_train.shape[2]\n",
        "    IMG_CHANNELS = X_train.shape[3]\n",
        "\n",
        "    base_model = MobileNetV2(input_shape=[IMG_HEIGHT, IMG_WIDTH, IMG_CHANNELS], include_top=False)\n",
        "\n",
        "    # Use the activations of these layers\n",
        "    layer_names = [\n",
        "        'block_1_expand_relu',   # 64x64\n",
        "        'block_3_expand_relu',   # 32x32\n",
        "        'block_6_expand_relu',   # 16x16\n",
        "        'block_13_expand_relu',  # 8x8\n",
        "        'block_16_project',      # 4x4\n",
        "    ]\n",
        "\n",
        "    base_model_outputs = [base_model.get_layer(name).output for name in layer_names]\n",
        "\n",
        "    # Create the feature extraction model\n",
        "    down_stack = Model(inputs=base_model.input, outputs=base_model_outputs)\n",
        "\n",
        "    down_stack.trainable = False\n",
        "\n",
        "    up_stack = [\n",
        "        pix2pix.upsample(512, 3),  # 4x4 -> 8x8\n",
        "        pix2pix.upsample(256, 3),  # 8x8 -> 16x16\n",
        "        pix2pix.upsample(128, 3),  # 16x16 -> 32x32\n",
        "        pix2pix.upsample(64, 3),   # 32x32 -> 64x64\n",
        "    ]\n",
        "\n",
        "    inputs = Input(shape=[IMG_HEIGHT, IMG_WIDTH, IMG_CHANNELS])\n",
        "\n",
        "    # Downsampling through the model\n",
        "    skips = down_stack(inputs)\n",
        "    x = skips[-1]\n",
        "    skips = reversed(skips[:-1])\n",
        "\n",
        "    # Upsampling and establishing the skip connections\n",
        "    for up, skip in zip(up_stack, skips):\n",
        "        x = up(x)\n",
        "        concat = Concatenate()\n",
        "        x = concat([x, skip])\n",
        "\n",
        "    # This is the last layer of the model\n",
        "    last = Conv2DTranspose(OUTPUT_CHANNELS, 3, strides=2, padding='same')  #64x64 -> 128x128\n",
        "\n",
        "    x = last(x)\n",
        "\n",
        "    return Model(inputs=inputs, outputs=x)"
      ],
      "metadata": {
        "id": "K9pSmBOG0q9R"
      },
      "execution_count": null,
      "outputs": []
    },
    {
      "cell_type": "code",
      "source": [
        "def create_mask(pred_mask):\n",
        "    pred_mask = tf.argmax(pred_mask, axis=-1)\n",
        "    pred_mask = pred_mask[..., tf.newaxis]\n",
        "    return pred_mask[0]\n",
        "\n",
        "\n",
        "def show_predictions(epoch, dataset=None, num=50):\n",
        "  if dataset:\n",
        "\n",
        "    for image, mask in dataset.take(num):\n",
        "        pred_mask = model.predict(image)\n",
        "        plt.figure(figsize=(15, 10))\n",
        "        plt.subplot(231)\n",
        "        plt.title('Testing Image')\n",
        "        plt.imshow(image[0], cmap='gray')\n",
        "        plt.subplot(232)\n",
        "        plt.title('Ground Truth')\n",
        "        plt.imshow(mask[0], cmap='jet')\n",
        "        plt.subplot(233)\n",
        "        plt.title('Prediction on test image')\n",
        "        plt.imshow(create_mask(pred_mask), cmap='jet')\n",
        "\n",
        "        plt.savefig(f\"results/mask_{str(ii)}.png\")\n",
        "\n",
        "        plt.show()\n",
        "  else:\n",
        "      fig = plt.figure(figsize=(12, 12))\n",
        "      fig.suptitle(f\"\\n Epoch: {str(epoch)}\\n\", fontsize=16)\n",
        "\n",
        "      plt.subplot(331)\n",
        "      plt.title('Testing Image')\n",
        "      plt.imshow(train_images[num], cmap='gray')\n",
        "      plt.subplot(332)\n",
        "      plt.title('Ground Truth')\n",
        "      plt.imshow(train_masks[num], cmap='jet')\n",
        "      plt.subplot(333)\n",
        "      plt.title('Prediction on test image')\n",
        "      plt.imshow(create_mask(model.predict(train_images[num][tf.newaxis, ...]))[:,:,0], cmap='jet')\n",
        "\n",
        "      plt.subplot(334)\n",
        "      plt.imshow(train_images[num+16], cmap='gray')\n",
        "      plt.subplot(335)\n",
        "      plt.imshow(train_masks[num+16], cmap='jet')\n",
        "      plt.subplot(336)\n",
        "      plt.imshow(create_mask(model.predict(train_images[num+16][tf.newaxis, ...]))[:,:,0], cmap='jet')\n",
        "      plt.subplot(337)\n",
        "      plt.imshow(train_images[num+14], cmap='gray')\n",
        "      plt.subplot(338)\n",
        "      plt.imshow(train_masks[num+14], cmap='jet')\n",
        "      plt.subplot(339)\n",
        "      plt.imshow(create_mask(model.predict(train_images[num+14][tf.newaxis, ...]))[:,:,0], cmap='jet')\n",
        "\n",
        "      #plt.savefig(f\"results/mask_{str(num+100)}_{str(epoch)}.png\")\n",
        "\n",
        "      plt.show()"
      ],
      "metadata": {
        "id": "XWJMwuyZ0wdw"
      },
      "execution_count": null,
      "outputs": []
    },
    {
      "cell_type": "code",
      "source": [
        "import tensorflow as tf\n",
        "\n",
        "# Define the Dice loss function\n",
        "def dice_loss(y_true, y_pred):\n",
        "    y_true = tf.cast(y_true, tf.float32)  # Cast y_true to float32\n",
        "    # Ensure that the channel dimension matches for y_pred\n",
        "    y_pred = y_pred[:, :, :, 1]  # Assuming the second channel represents the positive class\n",
        "    numerator = 2 * tf.reduce_sum(y_true * y_pred)\n",
        "    denominator = tf.reduce_sum(y_true + y_pred)\n",
        "    return 1 - (numerator + 1) / (denominator + 1)  # Add smoothing to avoid division by zero"
      ],
      "metadata": {
        "id": "5dEYSRAG0wXF"
      },
      "execution_count": null,
      "outputs": []
    },
    {
      "cell_type": "code",
      "source": [
        "model = unet_model(OUTPUT_CHANNELS)\n",
        "model.compile(optimizer='adam',\n",
        "              loss=SparseCategoricalCrossentropy(from_logits=True),\n",
        "              metrics=['accuracy'])   #metrics=[tf.keras.metrics.MeanIoU(num_classes=9)])"
      ],
      "metadata": {
        "id": "1BndNd3a0wUe"
      },
      "execution_count": null,
      "outputs": []
    },
    {
      "cell_type": "code",
      "source": [
        "model.summary()"
      ],
      "metadata": {
        "id": "mtPIj_160wRw"
      },
      "execution_count": null,
      "outputs": []
    },
    {
      "cell_type": "code",
      "source": [
        "EPOCHS = 10\n",
        "VAL_SUBSPLITS = 5\n",
        "BATCH_SIZE = 16\n",
        "VALIDATION_STEPS = len(X_val)//BATCH_SIZE//VAL_SUBSPLITS\n",
        "STEPS_PER_EPOCH = len(X_train)//BATCH_SIZE\n",
        "# sample_image = train_images[0]\n",
        "# sample_mask = train_masks[0]\n",
        "\n",
        "class DisplayCallback(tf.keras.callbacks.Callback):\n",
        "    def on_epoch_end(self, epoch, logs=None):\n",
        "        show_predictions(epoch)\n",
        "        print ('\\nSample Prediction after epoch {}\\n'.format(epoch+1))\n",
        "\n",
        "\n",
        "# Normalize y_train\n",
        "y_train_normalized = y_train / 255.0\n",
        "\n",
        "# Assuming your original y_train shape is (256, 256)\n",
        "# You can expand the dimensions to create (256, 256, 1)\n",
        "y_train_expanded = np.expand_dims(y_train_normalized, axis=-1)\n",
        "\n",
        "# Now repeat this single channel along the last axis to create (256, 256, 3)\n",
        "y_train_rgb = np.repeat(y_train_expanded, 3, axis=-1)\n",
        "\n",
        "\n",
        "model_history = model.fit(X_train, y_train, epochs=EPOCHS,\n",
        "                           batch_size = BATCH_SIZE,\n",
        "                          verbose=1,\n",
        "                          #steps_per_epoch=STEPS_PER_EPOCH,\n",
        "                          #validation_steps=VALIDATION_STEPS,\n",
        "                          validation_data=(X_val, y_val),\n",
        "                          callbacks=[DisplayCallback()]\n",
        "                          )"
      ],
      "metadata": {
        "id": "80Sexbxw05El"
      },
      "execution_count": null,
      "outputs": []
    },
    {
      "cell_type": "code",
      "source": [
        "X_train[0].shape"
      ],
      "metadata": {
        "id": "jk353zkc1Enc"
      },
      "execution_count": null,
      "outputs": []
    },
    {
      "cell_type": "code",
      "source": [
        "y_train[0].shape"
      ],
      "metadata": {
        "id": "FDzAsx3B2OMo"
      },
      "execution_count": null,
      "outputs": []
    },
    {
      "cell_type": "code",
      "source": [
        "model.save('./models/cell_seg')"
      ],
      "metadata": {
        "id": "Ut80KMNr2OnM"
      },
      "execution_count": null,
      "outputs": []
    },
    {
      "cell_type": "code",
      "source": [
        "model = load_model('./models/cell_seg')"
      ],
      "metadata": {
        "id": "m-DG9DCu2QVE"
      },
      "execution_count": null,
      "outputs": []
    }
  ],
  "metadata": {
    "language_info": {
      "name": "python"
    },
    "colab": {
      "provenance": [],
      "gpuType": "T4",
      "include_colab_link": true
    },
    "kernelspec": {
      "name": "python3",
      "display_name": "Python 3"
    },
    "accelerator": "GPU"
  },
  "nbformat": 4,
  "nbformat_minor": 0
}