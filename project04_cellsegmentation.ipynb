{
  "cells": [
    {
      "cell_type": "markdown",
      "metadata": {
        "id": "view-in-github",
        "colab_type": "text"
      },
      "source": [
        "<a href=\"https://colab.research.google.com/github/ryghrmni/DeepLifeProject/blob/main/project04_cellsegmentation.ipynb\" target=\"_parent\"><img src=\"https://colab.research.google.com/assets/colab-badge.svg\" alt=\"Open In Colab\"/></a>"
      ]
    },
    {
      "cell_type": "markdown",
      "metadata": {
        "id": "Z0xzMd29fZxI"
      },
      "source": [
        "# **Project : Cell image segmentation projects**\n",
        "\n",
        "\n",
        "---\n",
        "\n",
        "\n",
        "\n",
        "**Team** (Alphabetical order)**:** Arvin Jafari, Delnavaz Fotouhi, Reza Ghahremani\n",
        "\n",
        "**University:** Università degli Studi di Milano\n",
        "\n",
        "** This course is provided by 4EU+ alliance of European universities, Heidelberg University will coordinate a joint course on Applications of Deep Learning in Life Sciences (DeepLife) involving the universities of Paris-Sorbonne, Warsaw, Prague, Milano and Heidelberg.\n",
        "\n",
        "**Reference:** https://deeplife4eu.github.io/\n",
        "\n",
        "\n",
        "---\n",
        "\n",
        "\n",
        "\n",
        "Cell segmentation is usually the first step for downstream single-cell analysis in microscopy image-based biology and biomedical research. Deep learning has been widely used for cell-image segmentation.\n",
        "The CellSeg competition aims to benchmark cell segmentation methods that could be applied to various microscopy images across multiple imaging platforms and tissue types for cell Segmentation. The  Dataset challenge organizers provide contains both labeled images and unlabeled ones.\n",
        "The “2018 Data Science Bowl” Kaggle competition provides cell images and their masks for training cell/nuclei segmentation models.\n",
        "\n",
        "### Project Description\n",
        "\n",
        "In the field of (bio-medical) image processing, segmentation of images is typically performed via U-Nets [1,2].\n",
        "\n",
        "A U-Net consists of an encoder - a series of convolution and pooling layers which reduce the spatial resolution of the input, followed by a decoder - a series of transposed convolution and upsampling layers which increase the spatial resolution of the input. The encoder and decoder are connected by a bottleneck layer which is responsible for reducing the number of channels in the input.\n",
        "The key innovation of U-Net is the addition of skip connections that connect the contracting path to the corresponding layers in the expanding path, allowing the network to recover fine-grained details lost during downsampling.\n",
        "\n",
        "<img src='https://production-media.paperswithcode.com/methods/Screen_Shot_2020-07-07_at_9.08.00_PM_rpNArED.png' width=\"400\"/>\n",
        "\n",
        "\n",
        "At this [link](https://rpubs.com/eR_ic/unet), you find an R implementation of basic U-Nets. At this [link](https://github.com/zhixuhao/unet), you find a Keras implementation of UNets.  \n",
        "Other implementations of more advanced UNets are also made available in [2] at these links: [UNet++](https://github.com/MrGiovanni/UNetPlusPlus)\n",
        "and by the CellSeg organizers as baseline models: [https://neurips22-cellseg.grand-challenge.org/baseline-and-tutorial/](https://neurips22-cellseg.grand-challenge.org/baseline-and-tutorial/)\n",
        "\n",
        "### Project aim\n",
        "\n",
        "The aim of the project is to download the cell images (preferably from the “2018 Data Science Bowl” competition) and assess the performance of an UNet or any other Deep model for cell segmentation.\n",
        "Students are free to choose any model, as long as they are able to explain their rationale, architecture, strengths and weaknesses.\n",
        "\n",
        "\n",
        "\n",
        "### References\n",
        "\n",
        "[1] Ronneberger, O., Fischer, P., Brox, T. (2015). U-Net: Convolutional Networks for Biomedical Image Segmentation. In: Navab, N., Hornegger, J., Wells, W., Frangi, A. (eds) Medical Image Computing and Computer-Assisted Intervention – MICCAI 2015. MICCAI 2015. Lecture Notes in Computer Science(), vol 9351. Springer, Cham. https://doi.org/10.1007/978-3-319-24574-4_28\n",
        "\n",
        "[2] Long, F. Microscopy cell nuclei segmentation with enhanced U-Net. BMC Bioinformatics 21, 8 (2020). https://doi.org/10.1186/s12859-019-3332-1\n"
      ]
    },
    {
      "cell_type": "markdown",
      "source": [
        "## **Step 1: Data Preparation**"
      ],
      "metadata": {
        "id": "S_9Q83upgSnS"
      }
    },
    {
      "cell_type": "markdown",
      "source": [
        "**1.1. Install and Upgrade Kaggle Package**\n",
        "\n",
        "The Kaggle Python package was installed and upgraded to ensure we have the latest version with all necessary functionalities."
      ],
      "metadata": {
        "id": "lTrwYPvghBBs"
      }
    },
    {
      "cell_type": "code",
      "source": [
        "!pip install --upgrade kaggle"
      ],
      "metadata": {
        "id": "llE76MpTgNhR"
      },
      "execution_count": null,
      "outputs": []
    },
    {
      "cell_type": "markdown",
      "source": [
        "**1.2. Verify and Create Kaggle Directory**\n",
        "\n",
        "We verified if the ~/.kaggle directory exists. If not, the directory was created to store the Kaggle API credentials."
      ],
      "metadata": {
        "id": "OvabfWaqhGYt"
      }
    },
    {
      "cell_type": "code",
      "source": [
        "import os\n",
        "\n",
        "# Verify ~/.kaggle directory exists\n",
        "kaggle_dir = os.path.expanduser('~/.kaggle')\n",
        "if not os.path.exists(kaggle_dir):\n",
        "    os.makedirs(kaggle_dir)\n",
        "    print(\"Directory created: ~/.kaggle\")\n",
        "else:\n",
        "    print(\"Directory already exists: ~/.kaggle\")"
      ],
      "metadata": {
        "id": "VmeyNCpXhOrD"
      },
      "execution_count": null,
      "outputs": []
    },
    {
      "cell_type": "markdown",
      "source": [
        "**1.3. Copy Kaggle JSON to Kaggle Directory**\n",
        "\n",
        "The kaggle.json file, which contains the API credentials, was copied to the ~/.kaggle directory. Permissions were set to ensure the file is secure."
      ],
      "metadata": {
        "id": "GMsa6GgVhTJa"
      }
    },
    {
      "cell_type": "code",
      "source": [
        "import shutil\n",
        "\n",
        "# Step 2: Copy kaggle.json to ~/.kaggle directory\n",
        "kaggle_json_path = 'kaggle.json'  # Update this path if necessary\n",
        "target_path = os.path.join(kaggle_dir, 'kaggle.json')\n",
        "\n",
        "if os.path.exists(kaggle_json_path):\n",
        "    shutil.copy(kaggle_json_path, target_path)\n",
        "    os.chmod(target_path, 0o600)\n",
        "    print(\"kaggle.json has been copied to ~/.kaggle and permissions set.\")\n",
        "else:\n",
        "    print(\"kaggle.json not found in the current directory.\")"
      ],
      "metadata": {
        "id": "Q__hf1q_hbUm"
      },
      "execution_count": null,
      "outputs": []
    },
    {
      "cell_type": "markdown",
      "source": [
        "**1.4. Set Environment Variables for Kaggle API**\n",
        "\n",
        "Environment variables for the Kaggle username and key were set to enable authentication for API requests.\n",
        "\n",
        "**reference:** https://www.kaggle.com/docs/api"
      ],
      "metadata": {
        "id": "wzSlEzC4hdRQ"
      }
    },
    {
      "cell_type": "code",
      "source": [
        "import os\n",
        "os.environ['KAGGLE_USERNAME'] = input()\n",
        "os.environ['KAGGLE_KEY'] = input()"
      ],
      "metadata": {
        "id": "ZIlhf3Kxhq5M"
      },
      "execution_count": null,
      "outputs": []
    },
    {
      "cell_type": "markdown",
      "source": [
        "**1.5. Download Dataset from Kaggle and Extract Dataset**\n",
        "\n",
        "The dataset for the Data Science Bowl 2018 competition was downloaded using the Kaggle API. The downloaded zip file was extracted into a directory named data."
      ],
      "metadata": {
        "id": "eDbincPTh0G-"
      }
    },
    {
      "cell_type": "code",
      "source": [
        "!kaggle competitions download -c data-science-bowl-2018"
      ],
      "metadata": {
        "id": "dx4iQEnVh5e-"
      },
      "execution_count": null,
      "outputs": []
    },
    {
      "cell_type": "code",
      "source": [
        "!unzip data-science-bowl-2018.zip -d data"
      ],
      "metadata": {
        "id": "cN2BwP41iGuH"
      },
      "execution_count": null,
      "outputs": []
    },
    {
      "cell_type": "markdown",
      "source": [
        "**1.6. Navigate to Data Directory and Extract All Files and List Directory Contents**\n",
        "\n",
        "Changed the current working directory to data and extracted all zip files within it. The original zip files were then deleted. Finally, we listed the contents of the data directory to confirm the successful extraction of the dataset files."
      ],
      "metadata": {
        "id": "js7tC7raiJHL"
      }
    },
    {
      "cell_type": "code",
      "source": [
        "cd data\n",
        "!for file in *.zip; do unzip -q \"$file\" -d \"${file%%.*}\" && rm \"$file\"; done"
      ],
      "metadata": {
        "id": "ZlzPJzQyiS3c"
      },
      "execution_count": null,
      "outputs": []
    },
    {
      "cell_type": "code",
      "source": [
        "ls"
      ],
      "metadata": {
        "id": "voQpIuBtiUz4"
      },
      "execution_count": null,
      "outputs": []
    },
    {
      "cell_type": "markdown",
      "source": [
        "## **Step 2: Data Preprocessing**"
      ],
      "metadata": {
        "id": "f7qHUaVyiZaA"
      }
    },
    {
      "cell_type": "markdown",
      "source": [
        "**2.1. Stretch Contrast Function**\n",
        "\n",
        "This function stretches the contrast of an image to utilize the full range of pixel values (0 to 255)."
      ],
      "metadata": {
        "id": "4VH3fz1Hi9Qo"
      }
    },
    {
      "cell_type": "code",
      "source": [
        "def stretch_contrast(image):\n",
        "    min_val = np.min(image)\n",
        "    max_val = np.max(image)\n",
        "    stretched_image = (image - min_val) * (255.0 / (max_val - min_val))\n",
        "    return stretched_image.astype(np.uint8)"
      ],
      "metadata": {
        "id": "SARoLyOVieAZ"
      },
      "execution_count": null,
      "outputs": []
    },
    {
      "cell_type": "markdown",
      "source": [
        "**2.2. Load Data Function**\n",
        "\n",
        "This function loads the images and masks from the specified base path, stretches the contrast of the images, and stores them in lists."
      ],
      "metadata": {
        "id": "7LFplqOfjHK2"
      }
    },
    {
      "cell_type": "code",
      "source": [
        "def load_data(base_path):\n",
        "    images = []\n",
        "    masks = []\n",
        "    sample_names = []\n",
        "\n",
        "    sample_folders = [os.path.join(base_path, folder) for folder in os.listdir(base_path) if os.path.isdir(os.path.join(base_path, folder))]\n",
        "\n",
        "    for sample_folder in sample_folders:\n",
        "        sample_name = os.path.basename(sample_folder)\n",
        "        image_path = os.path.join(sample_folder, 'images', f'{sample_name}.png')\n",
        "        masks_path = os.path.join(sample_folder, 'masks')\n",
        "\n",
        "        image = Image.open(image_path)\n",
        "        image = np.array(image)\n",
        "        stretched_image = stretch_contrast(image)\n",
        "        images.append(stretched_image)\n",
        "        sample_names.append(sample_name)\n",
        "\n",
        "        mask_files = [os.path.join(masks_path, mask_file) for mask_file in os.listdir(masks_path) if mask_file.endswith('.png')]\n",
        "        sample_masks = [np.array(Image.open(mask_file).convert('L')) for mask_file in mask_files]\n",
        "        masks.append(sample_masks)\n",
        "\n",
        "    return images, masks, sample_names"
      ],
      "metadata": {
        "id": "QYvzHPyKjGe5"
      },
      "execution_count": null,
      "outputs": []
    },
    {
      "cell_type": "markdown",
      "source": [
        "**2.3. Merge Masks Function**\n",
        "\n",
        "This function merges multiple masks by adding the values of corresponding pixels."
      ],
      "metadata": {
        "id": "2AbvsDNqjbZ6"
      }
    },
    {
      "cell_type": "code",
      "source": [
        "def merge_masks(masks):\n",
        "    merged_mask = np.zeros_like(masks[0], dtype=np.uint8)\n",
        "    for mask in masks:\n",
        "        mask_uint8 = mask.astype(np.uint8)\n",
        "        merged_mask += mask_uint8\n",
        "    return merged_mask"
      ],
      "metadata": {
        "id": "gR4yyASIjffi"
      },
      "execution_count": null,
      "outputs": []
    },
    {
      "cell_type": "markdown",
      "source": [
        "**2.4. Example Usage**"
      ],
      "metadata": {
        "id": "uAn4KhXRjQTy"
      }
    },
    {
      "cell_type": "code",
      "source": [
        "# Example usage:\n",
        "base_path = '/content/data/toy_data'\n",
        "images, masks, sample_names = load_data(base_path)\n",
        "\n",
        "# Access the first sample\n",
        "first_sample_index = 0\n",
        "first_sample_name = sample_names[first_sample_index]\n",
        "first_sample_image = images[first_sample_index]\n",
        "first_sample_masks = masks[first_sample_index]\n",
        "\n",
        "# Print the sample name and display the image\n",
        "print(f'First sample name: {first_sample_name}')\n",
        "plt.figure()\n",
        "plt.imshow(first_sample_image)\n",
        "plt.title(f'Image: {first_sample_name}')\n",
        "plt.axis('off')\n",
        "plt.show()\n",
        "\n",
        "# Display the masks\n",
        "for i, mask in enumerate(first_sample_masks):\n",
        "    plt.figure()\n",
        "    plt.imshow(mask, cmap='gray')\n",
        "    plt.title(f'Mask {i + 1} for sample {first_sample_name}')\n",
        "    plt.axis('off')\n",
        "    plt.show()\n",
        "\n",
        "# Merge and display the masks\n",
        "merged_mask = merge_masks(first_sample_masks)\n",
        "\n",
        "plt.figure()\n",
        "plt.imshow(merged_mask, cmap='gray')\n",
        "plt.title(f'Merged Mask for sample {first_sample_name}')\n",
        "plt.axis('off')\n",
        "plt.show()"
      ],
      "metadata": {
        "id": "kv49VqJmjT0_"
      },
      "execution_count": null,
      "outputs": []
    },
    {
      "cell_type": "markdown",
      "source": [
        "**2.5. Mask Merging**\n",
        "\n",
        "The masks are merged to create a single composite mask for each sample, which is then saved for further analysis."
      ],
      "metadata": {
        "id": "dFoxx39UkQfP"
      }
    },
    {
      "cell_type": "code",
      "source": [
        "def stretch_contrast(image):\n",
        "    min_val = np.min(image)\n",
        "    max_val = np.max(image)\n",
        "    stretched_image = (image - min_val) * (255.0 / (max_val - min_val))\n",
        "    return stretched_image.astype(np.uint8)\n",
        "\n",
        "def load_data(base_path):\n",
        "    images = []\n",
        "    masks = []\n",
        "    sample_names = []\n",
        "    sample_folders = []\n",
        "\n",
        "    # Get all sample folders\n",
        "    sample_folders = [os.path.join(base_path, folder) for folder in os.listdir(base_path) if os.path.isdir(os.path.join(base_path, folder))]\n",
        "\n",
        "    for sample_folder in sample_folders:\n",
        "        sample_name = os.path.basename(sample_folder)\n",
        "        image_path = os.path.join(sample_folder, 'images', f'{sample_name}.png')\n",
        "        masks_path = os.path.join(sample_folder, 'masks')\n",
        "\n",
        "        # Load the image and stretch contrast\n",
        "        image = Image.open(image_path)\n",
        "        image = np.array(image)\n",
        "        stretched_image = stretch_contrast(image)\n",
        "        images.append(stretched_image)\n",
        "        sample_names.append(sample_name)\n",
        "\n",
        "        # Load all masks for this sample\n",
        "        mask_files = [os.path.join(masks_path, mask_file) for mask_file in os.listdir(masks_path) if mask_file.endswith('.png')]\n",
        "        sample_masks = [np.array(Image.open(mask_file).convert('L')) for mask_file in mask_files]\n",
        "        masks.append(sample_masks)\n",
        "\n",
        "    return images, masks, sample_names, sample_folders\n",
        "\n",
        "# This function merges multiple masks by adding the values of corresponding pixels.\n",
        "def merge_masks(masks):\n",
        "    merged_mask = np.zeros_like(masks[0], dtype=np.uint8)\n",
        "    for mask in masks:\n",
        "        mask_uint8 = mask.astype(np.uint8)\n",
        "        merged_mask += mask_uint8\n",
        "    return merged_mask\n",
        "\n",
        "# This function saves the merged mask as an image file in the 'merged_masks' folder within the sample folder.\n",
        "def save_merged_mask(merged_mask, sample_folder):\n",
        "    merged_masks_dir = os.path.join(sample_folder, 'merged_masks')\n",
        "    os.makedirs(merged_masks_dir, exist_ok=True)\n",
        "    sample_name = os.path.basename(sample_folder)\n",
        "    output_path = os.path.join(merged_masks_dir, f\"{sample_name}_merged_mask.png\")\n",
        "    merged_mask_image = Image.fromarray(merged_mask)\n",
        "    merged_mask_image.save(output_path)\n",
        "    print(f\"Merged mask saved at: {output_path}\")\n",
        "\n",
        "# This function loads the data, merges the masks for each sample, and saves the merged masks in the corresponding folders.\n",
        "def process_and_save_merged_masks(base_path):\n",
        "    images, masks, sample_names, sample_folders = load_data(base_path)\n",
        "    for sample_name, sample_masks, sample_folder in zip(sample_names, masks, sample_folders):\n",
        "        merged_mask = merge_masks(sample_masks)\n",
        "        save_merged_mask(merged_mask, sample_folder)"
      ],
      "metadata": {
        "id": "23SYJC4tk_aS"
      },
      "execution_count": null,
      "outputs": []
    },
    {
      "cell_type": "markdown",
      "source": [
        "## **3. Data Augmentation**"
      ],
      "metadata": {
        "id": "FDYSbkkQpr9T"
      }
    },
    {
      "cell_type": "code",
      "source": [
        "!pip install imgaug"
      ],
      "metadata": {
        "id": "oaZiMfLqpvWa"
      },
      "execution_count": null,
      "outputs": []
    },
    {
      "cell_type": "code",
      "source": [
        "import os\n",
        "import numpy as np\n",
        "from PIL import Image\n",
        "import imgaug.augmenters as iaa"
      ],
      "metadata": {
        "id": "3JCTEhfTpxNN"
      },
      "execution_count": null,
      "outputs": []
    },
    {
      "cell_type": "code",
      "source": [
        "def load_image(image_path):\n",
        "    \"\"\"\n",
        "    Load an image from the specified path and return it as a numpy array.\n",
        "    \"\"\"\n",
        "    image = Image.open(image_path)\n",
        "    return np.array(image)\n",
        "\n",
        "def save_image(image_array, output_path):\n",
        "    \"\"\"\n",
        "    Save a numpy array as an image to the specified path.\n",
        "    \"\"\"\n",
        "    image = Image.fromarray(image_array)\n",
        "    image.save(output_path)\n",
        "\n",
        "def stretch_contrast(image):\n",
        "    \"\"\"\n",
        "    Stretch the contrast of an image to utilize the full range of pixel values (0 to 255).\n",
        "    \"\"\"\n",
        "    min_val = np.min(image)\n",
        "    max_val = np.max(image)\n",
        "    stretched_image = (image - min_val) * (255.0 / (max_val - min_val))\n",
        "    return stretched_image.astype(np.uint8)\n",
        "\n",
        "def merge_masks(masks):\n",
        "    \"\"\"\n",
        "    Merge masks by adding the values of corresponding pixels.\n",
        "    \"\"\"\n",
        "    merged_mask = np.zeros_like(masks[0], dtype=np.uint8)\n",
        "    for mask in masks:\n",
        "        merged_mask += mask.astype(np.uint8)\n",
        "    return merged_mask\n",
        "\n",
        "def augment_images_and_masks(images, masks, augmenters):\n",
        "    \"\"\"\n",
        "    Apply augmentations to a list of images and masks in a synchronized manner.\n",
        "    \"\"\"\n",
        "    deterministic_augmenters = augmenters.to_deterministic()\n",
        "    aug_images = deterministic_augmenters(images=images)\n",
        "    aug_masks = deterministic_augmenters(images=masks)\n",
        "    return aug_images, aug_masks\n",
        "\n",
        "def create_augmented_folder(base_path, sample_name, num_augments=5):\n",
        "    \"\"\"\n",
        "    Create augmented images for a given sample and save them in separate folders within the toy_data directory.\n",
        "    \"\"\"\n",
        "    sample_folder = os.path.join(base_path, sample_name)\n",
        "    images_path = os.path.join(sample_folder, 'images')\n",
        "    masks_path = os.path.join(sample_folder, 'masks')\n",
        "\n",
        "    # Load the image\n",
        "    image_files = [os.path.join(images_path, f) for f in os.listdir(images_path) if f.endswith('.png')]\n",
        "    image = load_image(image_files[0])\n",
        "    images = [image]\n",
        "\n",
        "    # Load masks\n",
        "    mask_files = [os.path.join(masks_path, f) for f in os.listdir(masks_path) if f.endswith('.png')]\n",
        "    masks = [load_image(mask_file) for mask_file in mask_files]\n",
        "\n",
        "    # Merge masks\n",
        "    merged_mask = merge_masks(masks)\n",
        "\n",
        "    # Define augmentation pipeline\n",
        "    augmenters = iaa.Sequential([\n",
        "        iaa.Fliplr(0.5),  # horizontal flips\n",
        "        iaa.Affine(rotate=(-20, 20)),  # random rotations\n",
        "        iaa.Multiply((0.8, 1.2)),  # random brightness changes\n",
        "        iaa.LinearContrast((0.75, 1.5)),  # random contrast changes\n",
        "    ])\n",
        "\n",
        "    # Generate and save augmented images and masks\n",
        "    for i in range(num_augments):\n",
        "        aug_images, aug_masks = augment_images_and_masks(images, [merged_mask], augmenters)\n",
        "\n",
        "        # Create a subfolder for each augmented image and masks within the toy_data directory\n",
        "        augmented_subfolder = os.path.join(base_path, f\"{sample_name}_augmented_{i+1}\")\n",
        "        os.makedirs(augmented_subfolder, exist_ok=True)\n",
        "        augmented_images_folder = os.path.join(augmented_subfolder, 'images')\n",
        "        augmented_masks_folder = os.path.join(augmented_subfolder, 'masks')\n",
        "        os.makedirs(augmented_images_folder, exist_ok=True)\n",
        "        os.makedirs(augmented_masks_folder, exist_ok=True)\n",
        "\n",
        "        for j, aug_image in enumerate(aug_images):\n",
        "            save_image(aug_image, os.path.join(augmented_images_folder, f\"{sample_name}_aug_{i}_{j}.png\"))\n",
        "        for j, aug_mask in enumerate(aug_masks):\n",
        "            save_image(aug_mask, os.path.join(augmented_masks_folder, f\"{sample_name}_merged_mask_aug_{i}_{j}.png\"))\n",
        "\n",
        "    print(f\"Augmented data saved in separate folders within toy_data for sample: {sample_name}\")\n",
        "\n",
        "def load_data(base_path):\n",
        "    \"\"\"\n",
        "    Load images and masks from the specified base path.\n",
        "    \"\"\"\n",
        "    images = []\n",
        "    masks = []\n",
        "    sample_names = []\n",
        "    sample_folders = []\n",
        "\n",
        "    # Get all sample folders\n",
        "    sample_folders = [os.path.join(base_path, folder) for folder in os.listdir(base_path) if os.path.isdir(os.path.join(base_path, folder))]\n",
        "\n",
        "    for sample_folder in sample_folders:\n",
        "        sample_name = os.path.basename(sample_folder)\n",
        "        image_path = os.path.join(sample_folder, 'images', f'{sample_name}.png')\n",
        "        masks_path = os.path.join(sample_folder, 'masks')\n",
        "\n",
        "        # Load the image and stretch contrast\n",
        "        image = Image.open(image_path)\n",
        "        image = np.array(image)\n",
        "        stretched_image = stretch_contrast(image)\n",
        "        images.append(stretched_image)\n",
        "        sample_names.append(sample_name)\n",
        "\n",
        "        # Load all masks for this sample\n",
        "        mask_files = [os.path.join(masks_path, mask_file) for mask_file in os.listdir(masks_path) if mask_file.endswith('.png')]\n",
        "        sample_masks = [np.array(Image.open(mask_file).convert('L')) for mask_file in mask_files]\n",
        "        masks.append(sample_masks)\n",
        "\n",
        "    return images, masks, sample_names, sample_folders"
      ],
      "metadata": {
        "id": "hYqeEeG8pzKa"
      },
      "execution_count": null,
      "outputs": []
    },
    {
      "cell_type": "code",
      "source": [
        "# Example usage\n",
        "base_path = '/content/data/toy_data'\n",
        "sample_name = '4cbd6c37f3a55a538d759d440344c287cac66260d3047a83f429e63e7a0f7f20'\n",
        "create_augmented_folder(base_path, sample_name, num_augments=5)"
      ],
      "metadata": {
        "id": "VMBW8wFep4MS"
      },
      "execution_count": null,
      "outputs": []
    }
  ],
  "metadata": {
    "language_info": {
      "name": "python"
    },
    "colab": {
      "provenance": [],
      "include_colab_link": true
    }
  },
  "nbformat": 4,
  "nbformat_minor": 0
}