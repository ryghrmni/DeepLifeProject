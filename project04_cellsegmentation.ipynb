{
  "cells": [
    {
      "cell_type": "markdown",
      "metadata": {
        "id": "view-in-github",
        "colab_type": "text"
      },
      "source": [
        "<a href=\"https://colab.research.google.com/github/ryghrmni/DeepLifeProject/blob/Reza/project04_cellsegmentation.ipynb\" target=\"_parent\"><img src=\"https://colab.research.google.com/assets/colab-badge.svg\" alt=\"Open In Colab\"/></a>"
      ]
    },
    {
      "cell_type": "markdown",
      "metadata": {
        "id": "Z0xzMd29fZxI"
      },
      "source": [
        "# **Project : Cell image segmentation projects**\n",
        "\n",
        "\n",
        "---\n",
        "\n",
        "\n",
        "\n",
        "**Team** (Alphabetical order)**:** Arvin Jafari, Delnavaz Fotouhi, Reza Ghahremani\n",
        "\n",
        "**University:** Università degli Studi di Milano\n",
        "\n",
        "** This course is provided by 4EU+ alliance of European universities, Heidelberg University will coordinate a joint course on Applications of Deep Learning in Life Sciences (DeepLife) involving the universities of Paris-Sorbonne, Warsaw, Prague, Milano and Heidelberg.\n",
        "\n",
        "**Reference:** https://deeplife4eu.github.io/\n",
        "\n",
        "\n",
        "---\n",
        "\n",
        "\n",
        "\n",
        "Cell segmentation is usually the first step for downstream single-cell analysis in microscopy image-based biology and biomedical research. Deep learning has been widely used for cell-image segmentation.\n",
        "The CellSeg competition aims to benchmark cell segmentation methods that could be applied to various microscopy images across multiple imaging platforms and tissue types for cell Segmentation. The  Dataset challenge organizers provide contains both labeled images and unlabeled ones.\n",
        "The “2018 Data Science Bowl” Kaggle competition provides cell images and their masks for training cell/nuclei segmentation models.\n",
        "\n",
        "### Project Description\n",
        "\n",
        "In the field of (bio-medical) image processing, segmentation of images is typically performed via U-Nets [1,2].\n",
        "\n",
        "A U-Net consists of an encoder - a series of convolution and pooling layers which reduce the spatial resolution of the input, followed by a decoder - a series of transposed convolution and upsampling layers which increase the spatial resolution of the input. The encoder and decoder are connected by a bottleneck layer which is responsible for reducing the number of channels in the input.\n",
        "The key innovation of U-Net is the addition of skip connections that connect the contracting path to the corresponding layers in the expanding path, allowing the network to recover fine-grained details lost during downsampling.\n",
        "\n",
        "<img src='https://production-media.paperswithcode.com/methods/Screen_Shot_2020-07-07_at_9.08.00_PM_rpNArED.png' width=\"400\"/>\n",
        "\n",
        "\n",
        "At this [link](https://rpubs.com/eR_ic/unet), you find an R implementation of basic U-Nets. At this [link](https://github.com/zhixuhao/unet), you find a Keras implementation of UNets.  \n",
        "Other implementations of more advanced UNets are also made available in [2] at these links: [UNet++](https://github.com/MrGiovanni/UNetPlusPlus)\n",
        "and by the CellSeg organizers as baseline models: [https://neurips22-cellseg.grand-challenge.org/baseline-and-tutorial/](https://neurips22-cellseg.grand-challenge.org/baseline-and-tutorial/)\n",
        "\n",
        "### Project aim\n",
        "\n",
        "The aim of the project is to download the cell images (preferably from the “2018 Data Science Bowl” competition) and assess the performance of an UNet or any other Deep model for cell segmentation.\n",
        "Students are free to choose any model, as long as they are able to explain their rationale, architecture, strengths and weaknesses.\n",
        "\n",
        "\n",
        "\n",
        "### References\n",
        "\n",
        "[1] Ronneberger, O., Fischer, P., Brox, T. (2015). U-Net: Convolutional Networks for Biomedical Image Segmentation. In: Navab, N., Hornegger, J., Wells, W., Frangi, A. (eds) Medical Image Computing and Computer-Assisted Intervention – MICCAI 2015. MICCAI 2015. Lecture Notes in Computer Science(), vol 9351. Springer, Cham. https://doi.org/10.1007/978-3-319-24574-4_28\n",
        "\n",
        "[2] Long, F. Microscopy cell nuclei segmentation with enhanced U-Net. BMC Bioinformatics 21, 8 (2020). https://doi.org/10.1186/s12859-019-3332-1\n"
      ]
    },
    {
      "cell_type": "markdown",
      "source": [
        "## **Step 1: Data Preparation**"
      ],
      "metadata": {
        "id": "u2n196-j1Z8Y"
      }
    },
    {
      "cell_type": "markdown",
      "source": [
        "**1.1. Install and Upgrade Kaggle Package**\n",
        "\n",
        "The Kaggle Python package was installed and upgraded to ensure we have the latest version with all necessary functionalities."
      ],
      "metadata": {
        "id": "DHAZEmm-1xYt"
      }
    },
    {
      "cell_type": "code",
      "source": [
        "!pip install --upgrade kaggle"
      ],
      "metadata": {
        "colab": {
          "base_uri": "https://localhost:8080/"
        },
        "id": "6S8SJIKi1nNd",
        "outputId": "a9a06f55-050c-466a-8293-35a34b95d430"
      },
      "execution_count": 1,
      "outputs": [
        {
          "output_type": "stream",
          "name": "stdout",
          "text": [
            "Requirement already satisfied: kaggle in /usr/local/lib/python3.10/dist-packages (1.6.14)\n",
            "Requirement already satisfied: six>=1.10 in /usr/local/lib/python3.10/dist-packages (from kaggle) (1.16.0)\n",
            "Requirement already satisfied: certifi>=2023.7.22 in /usr/local/lib/python3.10/dist-packages (from kaggle) (2024.2.2)\n",
            "Requirement already satisfied: python-dateutil in /usr/local/lib/python3.10/dist-packages (from kaggle) (2.8.2)\n",
            "Requirement already satisfied: requests in /usr/local/lib/python3.10/dist-packages (from kaggle) (2.31.0)\n",
            "Requirement already satisfied: tqdm in /usr/local/lib/python3.10/dist-packages (from kaggle) (4.66.4)\n",
            "Requirement already satisfied: python-slugify in /usr/local/lib/python3.10/dist-packages (from kaggle) (8.0.4)\n",
            "Requirement already satisfied: urllib3 in /usr/local/lib/python3.10/dist-packages (from kaggle) (2.0.7)\n",
            "Requirement already satisfied: bleach in /usr/local/lib/python3.10/dist-packages (from kaggle) (6.1.0)\n",
            "Requirement already satisfied: webencodings in /usr/local/lib/python3.10/dist-packages (from bleach->kaggle) (0.5.1)\n",
            "Requirement already satisfied: text-unidecode>=1.3 in /usr/local/lib/python3.10/dist-packages (from python-slugify->kaggle) (1.3)\n",
            "Requirement already satisfied: charset-normalizer<4,>=2 in /usr/local/lib/python3.10/dist-packages (from requests->kaggle) (3.3.2)\n",
            "Requirement already satisfied: idna<4,>=2.5 in /usr/local/lib/python3.10/dist-packages (from requests->kaggle) (3.7)\n"
          ]
        }
      ]
    },
    {
      "cell_type": "markdown",
      "source": [
        "**1.2. Set Environment Variables for Kaggle API**\n",
        "\n",
        "Environment variables for the Kaggle username and key were set to enable authentication for API requests.\n",
        "\n",
        "**reference:** https://www.kaggle.com/docs/api"
      ],
      "metadata": {
        "id": "D8tQV0ir2L3x"
      }
    },
    {
      "cell_type": "code",
      "source": [
        "import os\n",
        "os.environ['KAGGLE_USERNAME'] = input() #rezaghahremani99\n",
        "os.environ['KAGGLE_KEY'] = input() #2de77e019555e21f9e3cf41417a6d919"
      ],
      "metadata": {
        "colab": {
          "base_uri": "https://localhost:8080/"
        },
        "id": "lZsvlnln2Keg",
        "outputId": "06a6291c-ad23-48a5-a087-665f405dc609"
      },
      "execution_count": 2,
      "outputs": [
        {
          "name": "stdout",
          "output_type": "stream",
          "text": [
            "rezaghahremani99\n",
            "2de77e019555e21f9e3cf41417a6d919\n"
          ]
        }
      ]
    },
    {
      "cell_type": "markdown",
      "source": [
        "**1.3. Download Dataset from Kaggle and Extract Dataset**\n",
        "\n",
        "The dataset for the Data Science Bowl 2018 competition was downloaded using the Kaggle API. The downloaded zip file was extracted into a directory named data."
      ],
      "metadata": {
        "id": "lO27Mgdv2qrF"
      }
    },
    {
      "cell_type": "code",
      "source": [
        "!kaggle competitions download -c data-science-bowl-2018"
      ],
      "metadata": {
        "colab": {
          "base_uri": "https://localhost:8080/"
        },
        "id": "9xKWbVAo2qLg",
        "outputId": "02f304af-7fe5-49ee-8656-e57fe9612a18"
      },
      "execution_count": 3,
      "outputs": [
        {
          "output_type": "stream",
          "name": "stdout",
          "text": [
            "Downloading data-science-bowl-2018.zip to /content\n",
            " 99% 355M/358M [00:05<00:00, 42.3MB/s]\n",
            "100% 358M/358M [00:05<00:00, 64.0MB/s]\n"
          ]
        }
      ]
    },
    {
      "cell_type": "code",
      "source": [
        "!unzip data-science-bowl-2018.zip -d data"
      ],
      "metadata": {
        "colab": {
          "base_uri": "https://localhost:8080/"
        },
        "id": "vea28DOz2qHi",
        "outputId": "1fa30c66-abdd-42c7-e3ae-c2fb3b6d5fdd"
      },
      "execution_count": 4,
      "outputs": [
        {
          "output_type": "stream",
          "name": "stdout",
          "text": [
            "Archive:  data-science-bowl-2018.zip\n",
            "  inflating: data/stage1_sample_submission.csv.zip  \n",
            "  inflating: data/stage1_solution.csv.zip  \n",
            "  inflating: data/stage1_test.zip    \n",
            "  inflating: data/stage1_train.zip   \n",
            "  inflating: data/stage1_train_labels.csv.zip  \n",
            "  inflating: data/stage2_sample_submission_final.csv.zip  \n",
            "  inflating: data/stage2_test_final.zip  \n"
          ]
        }
      ]
    },
    {
      "cell_type": "markdown",
      "source": [
        "**1.4. Navigate to Data Directory and Extract All Files and List Directory Contents**\n",
        "\n",
        "Changed the current working directory to data and extracted all zip files within it. The original zip files were then deleted. Finally, we listed the contents of the data directory to confirm the successful extraction of the dataset files."
      ],
      "metadata": {
        "id": "BUGwhky520Ka"
      }
    },
    {
      "cell_type": "code",
      "source": [
        "cd data"
      ],
      "metadata": {
        "colab": {
          "base_uri": "https://localhost:8080/"
        },
        "id": "zUC8NYLg2qFQ",
        "outputId": "2cf57751-5883-4e3a-b04f-bd13bb8bfb06"
      },
      "execution_count": 5,
      "outputs": [
        {
          "output_type": "stream",
          "name": "stdout",
          "text": [
            "/content/data\n"
          ]
        }
      ]
    },
    {
      "cell_type": "code",
      "source": [
        "!for file in *.zip; do unzip -q \"$file\" -d \"${file%%.*}\" && rm \"$file\"; done"
      ],
      "metadata": {
        "id": "02ALTOVx2qC0"
      },
      "execution_count": 6,
      "outputs": []
    },
    {
      "cell_type": "code",
      "source": [
        "ls"
      ],
      "metadata": {
        "colab": {
          "base_uri": "https://localhost:8080/"
        },
        "id": "us0Dzqyj2qAg",
        "outputId": "7e47d2c2-0dd2-4cb8-ab94-7440bf2fdf59"
      },
      "execution_count": 7,
      "outputs": [
        {
          "output_type": "stream",
          "name": "stdout",
          "text": [
            "\u001b[0m\u001b[01;34mstage1_sample_submission\u001b[0m/  \u001b[01;34mstage1_test\u001b[0m/   \u001b[01;34mstage1_train_labels\u001b[0m/             \u001b[01;34mstage2_test_final\u001b[0m/\n",
            "\u001b[01;34mstage1_solution\u001b[0m/           \u001b[01;34mstage1_train\u001b[0m/  \u001b[01;34mstage2_sample_submission_final\u001b[0m/\n"
          ]
        }
      ]
    },
    {
      "cell_type": "markdown",
      "source": [
        "**1.5. Required Libraries**"
      ],
      "metadata": {
        "id": "xrMgzkRwbncX"
      }
    },
    {
      "cell_type": "code",
      "source": [
        "import os\n",
        "import numpy as np\n",
        "from PIL import Image\n",
        "import imgaug.augmenters as iaa\n",
        "import matplotlib.pyplot as plt\n",
        "import shutil"
      ],
      "metadata": {
        "id": "GipkPLfobsgh"
      },
      "execution_count": 1,
      "outputs": []
    },
    {
      "cell_type": "markdown",
      "source": [
        "## **Step 2: Data Preprocessing and Augmenation**"
      ],
      "metadata": {
        "id": "5hItEz6X2_an"
      }
    },
    {
      "cell_type": "markdown",
      "source": [
        "**2.1. Stretch Contrast Function**\n",
        "\n",
        "This function stretches the contrast of an image to utilize the full range of pixel values (0 to 255)."
      ],
      "metadata": {
        "id": "dnroWo4L3bjD"
      }
    },
    {
      "cell_type": "code",
      "source": [
        "def stretch_contrast(image):\n",
        "    min_val = np.min(image)\n",
        "    max_val = np.max(image)\n",
        "    stretched_image = (image - min_val) * (255.0 / (max_val - min_val))\n",
        "    return stretched_image.astype(np.uint8)"
      ],
      "metadata": {
        "id": "p3Y70i0k3cMn"
      },
      "execution_count": 2,
      "outputs": []
    },
    {
      "cell_type": "markdown",
      "source": [
        "**2.2. Load Data Function**\n",
        "\n",
        "The load_data function is designed to load images and their corresponding masks from a given base directory, apply contrast stretching to the images, and organize the data into lists."
      ],
      "metadata": {
        "id": "tZB1SzZ44Msk"
      }
    },
    {
      "cell_type": "code",
      "source": [
        "def load_data(base_path):\n",
        "    images = []\n",
        "    masks = []\n",
        "    sample_names = []\n",
        "    sample_folders = []\n",
        "\n",
        "    # Get all sample folders\n",
        "    sample_folders = [os.path.join(base_path, folder) for folder in os.listdir(base_path) if os.path.isdir(os.path.join(base_path, folder))]\n",
        "\n",
        "    for sample_folder in sample_folders:\n",
        "        sample_name = os.path.basename(sample_folder)\n",
        "        image_path = os.path.join(sample_folder, 'images', f'{sample_name}.png')\n",
        "        masks_path = os.path.join(sample_folder, 'masks')\n",
        "\n",
        "        # Load the image and stretch contrast\n",
        "        image = Image.open(image_path)\n",
        "        image = np.array(image)\n",
        "        stretched_image = stretch_contrast(image)\n",
        "        images.append(stretched_image)\n",
        "        sample_names.append(sample_name)\n",
        "\n",
        "        # Load all masks for this sample\n",
        "        mask_files = [os.path.join(masks_path, mask_file) for mask_file in os.listdir(masks_path) if mask_file.endswith('.png')]\n",
        "        sample_masks = [np.array(Image.open(mask_file).convert('L')) for mask_file in mask_files]\n",
        "        masks.append(sample_masks)\n",
        "\n",
        "    return images, masks, sample_names, sample_folders"
      ],
      "metadata": {
        "id": "6B7P6KZa3cWM"
      },
      "execution_count": 3,
      "outputs": []
    },
    {
      "cell_type": "markdown",
      "source": [
        "**2.3. Merge Masks Function**\n",
        "\n",
        "This function merges multiple masks by adding the values of corresponding pixels."
      ],
      "metadata": {
        "id": "-C_mfo4754kq"
      }
    },
    {
      "cell_type": "code",
      "source": [
        "def merge_masks(masks):\n",
        "    merged_mask = np.zeros_like(masks[0], dtype=np.uint8)\n",
        "    for mask in masks:\n",
        "        mask_uint8 = mask.astype(np.uint8)\n",
        "        merged_mask += mask_uint8\n",
        "    return merged_mask"
      ],
      "metadata": {
        "id": "j-pX9bvw3cT3"
      },
      "execution_count": 4,
      "outputs": []
    },
    {
      "cell_type": "markdown",
      "source": [
        "**2.4. Mask Merging**\n",
        "\n",
        "The masks are merged to create a single composite mask for each sample, which is then saved for further analysis."
      ],
      "metadata": {
        "id": "OYohouNh93l6"
      }
    },
    {
      "cell_type": "code",
      "source": [
        "# This function saves the merged mask as an image file in the 'merged_masks' folder within the sample folder.\n",
        "def save_merged_mask(merged_mask, sample_folder):\n",
        "    merged_masks_dir = os.path.join(sample_folder, 'merged_masks')\n",
        "    os.makedirs(merged_masks_dir, exist_ok=True)\n",
        "    sample_name = os.path.basename(sample_folder)\n",
        "    output_path = os.path.join(merged_masks_dir, f\"{sample_name}_merged_mask.png\")\n",
        "    merged_mask_image = Image.fromarray(merged_mask)\n",
        "    merged_mask_image.save(output_path)\n",
        "    #print(f\"Merged mask saved at: {output_path}\")"
      ],
      "metadata": {
        "id": "dkd9Q-sk9iNX"
      },
      "execution_count": 5,
      "outputs": []
    },
    {
      "cell_type": "code",
      "source": [
        "# This function loads the data, merges the masks for each sample, and saves the merged masks in the corresponding folders.\n",
        "def process_and_save_merged_masks(base_path):\n",
        "    images, masks, sample_names, sample_folders = load_data(base_path)\n",
        "    for sample_name, sample_masks, sample_folder in zip(sample_names, masks, sample_folders):\n",
        "        merged_mask = merge_masks(sample_masks)\n",
        "        save_merged_mask(merged_mask, sample_folder)"
      ],
      "metadata": {
        "id": "MmLXJ1819iLn"
      },
      "execution_count": 6,
      "outputs": []
    },
    {
      "cell_type": "code",
      "source": [
        "base_path = '/content/data/stage1_train'\n",
        "process_and_save_merged_masks(base_path)"
      ],
      "metadata": {
        "id": "7LXzEyhO9iI3"
      },
      "execution_count": 14,
      "outputs": []
    },
    {
      "cell_type": "markdown",
      "source": [
        "**2.5. Data Augmentation**"
      ],
      "metadata": {
        "id": "AUDXGGJHAdQJ"
      }
    },
    {
      "cell_type": "code",
      "source": [
        "!pip install imgaug"
      ],
      "metadata": {
        "colab": {
          "base_uri": "https://localhost:8080/"
        },
        "id": "BMwz2Y0gAg_7",
        "outputId": "ccecb3fd-c03d-4f3e-b03a-55481b4b97a2"
      },
      "execution_count": 7,
      "outputs": [
        {
          "output_type": "stream",
          "name": "stdout",
          "text": [
            "Requirement already satisfied: imgaug in /usr/local/lib/python3.10/dist-packages (0.4.0)\n",
            "Requirement already satisfied: six in /usr/local/lib/python3.10/dist-packages (from imgaug) (1.16.0)\n",
            "Requirement already satisfied: numpy>=1.15 in /usr/local/lib/python3.10/dist-packages (from imgaug) (1.25.2)\n",
            "Requirement already satisfied: scipy in /usr/local/lib/python3.10/dist-packages (from imgaug) (1.11.4)\n",
            "Requirement already satisfied: Pillow in /usr/local/lib/python3.10/dist-packages (from imgaug) (9.4.0)\n",
            "Requirement already satisfied: matplotlib in /usr/local/lib/python3.10/dist-packages (from imgaug) (3.7.1)\n",
            "Requirement already satisfied: scikit-image>=0.14.2 in /usr/local/lib/python3.10/dist-packages (from imgaug) (0.19.3)\n",
            "Requirement already satisfied: opencv-python in /usr/local/lib/python3.10/dist-packages (from imgaug) (4.8.0.76)\n",
            "Requirement already satisfied: imageio in /usr/local/lib/python3.10/dist-packages (from imgaug) (2.31.6)\n",
            "Requirement already satisfied: Shapely in /usr/local/lib/python3.10/dist-packages (from imgaug) (2.0.4)\n",
            "Requirement already satisfied: networkx>=2.2 in /usr/local/lib/python3.10/dist-packages (from scikit-image>=0.14.2->imgaug) (3.3)\n",
            "Requirement already satisfied: tifffile>=2019.7.26 in /usr/local/lib/python3.10/dist-packages (from scikit-image>=0.14.2->imgaug) (2024.5.10)\n",
            "Requirement already satisfied: PyWavelets>=1.1.1 in /usr/local/lib/python3.10/dist-packages (from scikit-image>=0.14.2->imgaug) (1.6.0)\n",
            "Requirement already satisfied: packaging>=20.0 in /usr/local/lib/python3.10/dist-packages (from scikit-image>=0.14.2->imgaug) (24.0)\n",
            "Requirement already satisfied: contourpy>=1.0.1 in /usr/local/lib/python3.10/dist-packages (from matplotlib->imgaug) (1.2.1)\n",
            "Requirement already satisfied: cycler>=0.10 in /usr/local/lib/python3.10/dist-packages (from matplotlib->imgaug) (0.12.1)\n",
            "Requirement already satisfied: fonttools>=4.22.0 in /usr/local/lib/python3.10/dist-packages (from matplotlib->imgaug) (4.51.0)\n",
            "Requirement already satisfied: kiwisolver>=1.0.1 in /usr/local/lib/python3.10/dist-packages (from matplotlib->imgaug) (1.4.5)\n",
            "Requirement already satisfied: pyparsing>=2.3.1 in /usr/local/lib/python3.10/dist-packages (from matplotlib->imgaug) (3.1.2)\n",
            "Requirement already satisfied: python-dateutil>=2.7 in /usr/local/lib/python3.10/dist-packages (from matplotlib->imgaug) (2.8.2)\n"
          ]
        }
      ]
    },
    {
      "cell_type": "code",
      "source": [
        "def augment_images_and_masks(images, masks, augmenters):\n",
        "    \"\"\"\n",
        "    Apply augmentations to a list of images and masks in a synchronized manner.\n",
        "    \"\"\"\n",
        "    deterministic_augmenters = augmenters.to_deterministic()\n",
        "    aug_images = deterministic_augmenters(images=images)\n",
        "    aug_masks = deterministic_augmenters(images=masks)\n",
        "    return aug_images, aug_masks"
      ],
      "metadata": {
        "id": "QCMbcUS8Ag8K"
      },
      "execution_count": 8,
      "outputs": []
    },
    {
      "cell_type": "code",
      "source": [
        "def load_image(image_path):\n",
        "    \"\"\"\n",
        "    Load an image from the specified path and return it as a numpy array.\n",
        "    Converts RGBA images to RGB by discarding the alpha channel.\n",
        "    \"\"\"\n",
        "    image = Image.open(image_path)\n",
        "    image = image.convert(\"RGB\")  # Convert to RGB to ensure three channels\n",
        "    return np.array(image)"
      ],
      "metadata": {
        "id": "usdVnF8uBXyX"
      },
      "execution_count": 9,
      "outputs": []
    },
    {
      "cell_type": "code",
      "source": [
        "# Function to load masks\n",
        "def load_masks(masks_path):\n",
        "    mask_files = [os.path.join(masks_path, f) for f in os.listdir(masks_path) if f.endswith('.png')]\n",
        "    masks = [np.array(Image.open(mask_file)) for mask_file in mask_files]\n",
        "    return masks"
      ],
      "metadata": {
        "id": "QS5NZVLKtYB4"
      },
      "execution_count": 10,
      "outputs": []
    },
    {
      "cell_type": "code",
      "source": [
        "def save_image(image_array, output_path):\n",
        "    \"\"\"\n",
        "    Save a numpy array as an image to the specified path.\n",
        "    \"\"\"\n",
        "    image = Image.fromarray(image_array)\n",
        "    image.save(output_path)"
      ],
      "metadata": {
        "id": "alx5efQgBaJt"
      },
      "execution_count": 11,
      "outputs": []
    },
    {
      "cell_type": "code",
      "source": [
        "def create_augmented_folder(base_path, sample_name, num_augments=5):\n",
        "    \"\"\"\n",
        "    Create augmented images for a given sample and save them in separate folders within the toy_data directory.\n",
        "    \"\"\"\n",
        "    sample_folder = os.path.join(base_path, sample_name)\n",
        "    images_path = os.path.join(sample_folder, 'images')\n",
        "    masks_path = os.path.join(sample_folder, 'masks')\n",
        "\n",
        "    # Load the image\n",
        "    image_files = [os.path.join(images_path, f) for f in os.listdir(images_path) if f.endswith('.png')]\n",
        "    image = load_image(image_files[0])\n",
        "    images = [image]\n",
        "\n",
        "    # Load masks\n",
        "    mask_files = [os.path.join(masks_path, f) for f in os.listdir(masks_path) if f.endswith('.png')]\n",
        "    masks = [load_image(mask_file) for mask_file in mask_files]\n",
        "\n",
        "    # Merge masks\n",
        "    merged_mask = merge_masks(masks)\n",
        "\n",
        "    # Define augmentation pipeline\n",
        "    augmenters = iaa.Sequential([\n",
        "        iaa.Fliplr(0.5),  # horizontal flips\n",
        "        iaa.Sometimes(1.0, iaa.Affine(rotate=[90, 180, 270],  # random rotations\n",
        "            scale=(0.8, 1.2),  # scaling\n",
        "            fit_output=True,  # ensure output fits the original image size\n",
        "        )),\n",
        "        iaa.Crop(px=(10, 10, 10, 10), keep_size=True),  # Crop the image back to the original size\n",
        "        iaa.Multiply((0.7, 1.3)),  # random brightness changes\n",
        "        iaa.LinearContrast((0.8, 1.5)),  # random contrast changes\n",
        "    ])\n",
        "\n",
        "    # Generate and save augmented images and masks\n",
        "    for i in range(num_augments):\n",
        "        aug_images, aug_masks = augment_images_and_masks(images, [merged_mask], augmenters)\n",
        "\n",
        "        # Create a subfolder for each augmented image and masks within the toy_data directory\n",
        "        augmented_subfolder = os.path.join(base_path, f\"{sample_name}_augmented_{i+1}\")\n",
        "        os.makedirs(augmented_subfolder, exist_ok=True)\n",
        "        augmented_images_folder = os.path.join(augmented_subfolder, 'images')\n",
        "        augmented_masks_folder = os.path.join(augmented_subfolder, 'merged_masks')\n",
        "        os.makedirs(augmented_images_folder, exist_ok=True)\n",
        "        os.makedirs(augmented_masks_folder, exist_ok=True)\n",
        "\n",
        "        for j, aug_image in enumerate(aug_images):\n",
        "            save_image(aug_image, os.path.join(augmented_images_folder, f\"{sample_name}_aug_{i}_{j}.png\"))\n",
        "        for j, aug_mask in enumerate(aug_masks):\n",
        "            save_image(aug_mask, os.path.join(augmented_masks_folder, f\"{sample_name}_merged_mask_aug_{i}_{j}.png\"))\n",
        "\n",
        "    #print(f\"Augmented data saved in separate folders within stage1_train for sample: {sample_name}\")"
      ],
      "metadata": {
        "id": "DmngKki0Ag5s"
      },
      "execution_count": 34,
      "outputs": []
    },
    {
      "cell_type": "code",
      "source": [
        "\"\"\"import os\n",
        "import shutil\n",
        "\n",
        "def delete_augmented_folders(base_path):\n",
        "    # Traverse through the base directory\n",
        "    for folder_name in os.listdir(base_path):\n",
        "        folder_path = os.path.join(base_path, folder_name)\n",
        "        # Check if it is a directory and contains \"augmented\" in the name\n",
        "        if os.path.isdir(folder_path) and \"augmented\" in folder_name:\n",
        "            # Delete the directory\n",
        "            shutil.rmtree(folder_path)\n",
        "            #print(f\"Deleted folder: {folder_path}\")\n",
        "\n",
        "# Example usage\n",
        "base_path = '/content/data/stage1_train'  # Update with your actual base path\n",
        "delete_augmented_folders(base_path)\"\"\""
      ],
      "metadata": {
        "id": "ezdSpX047HvM"
      },
      "execution_count": 33,
      "outputs": []
    },
    {
      "cell_type": "code",
      "source": [
        "# Apply augmentation to all sample folders in the base path\n",
        "def augment_all_samples(base_path, num_augments=5):\n",
        "    \"\"\"\n",
        "    Apply augmentation to all sample folders within the base path.\n",
        "\n",
        "    Args:\n",
        "    - base_path (str): Path to the base directory containing images and masks.\n",
        "    - num_augments (int): Number of augmented images to generate per sample.\n",
        "    \"\"\"\n",
        "    sample_folders = [folder for folder in os.listdir(base_path) if os.path.isdir(os.path.join(base_path, folder))]\n",
        "\n",
        "    for sample_name in sample_folders:\n",
        "        create_augmented_folder(base_path, sample_name, num_augments)"
      ],
      "metadata": {
        "id": "cmvarbm0Ag3K"
      },
      "execution_count": 13,
      "outputs": []
    },
    {
      "cell_type": "code",
      "source": [
        "base_path = '/content/data/stage1_train'\n",
        "augment_all_samples(base_path, num_augments=5)"
      ],
      "metadata": {
        "id": "iizRv7QABEQq"
      },
      "execution_count": 35,
      "outputs": []
    },
    {
      "cell_type": "markdown",
      "source": [
        "**2.4. Data organization**"
      ],
      "metadata": {
        "id": "MqlFzLet6AOR"
      }
    },
    {
      "cell_type": "code",
      "source": [
        "\"\"\"import shutil\n",
        "import os\n",
        "\n",
        "def delete_folder(folder_path):\n",
        "\n",
        "    if os.path.exists(folder_path):\n",
        "        shutil.rmtree(folder_path)\n",
        "        print(f\"Deleted folder: {folder_path}\")\n",
        "    else:\n",
        "        print(f\"Folder does not exist: {folder_path}\")\n",
        "\n",
        "# Define paths to the folders\n",
        "train_folder = '/content/data/train'\n",
        "test_folder = '/content/data/test'\n",
        "\n",
        "# Delete the folders\n",
        "delete_folder(train_folder)\n",
        "delete_folder(test_folder)\"\"\""
      ],
      "metadata": {
        "id": "_qyWZw2ZEsvt",
        "outputId": "8dcae5c3-2d25-48bd-e57f-fb290c553db0",
        "colab": {
          "base_uri": "https://localhost:8080/"
        }
      },
      "execution_count": 28,
      "outputs": [
        {
          "output_type": "stream",
          "name": "stdout",
          "text": [
            "Deleted folder: /content/data/train\n",
            "Deleted folder: /content/data/test\n"
          ]
        }
      ]
    },
    {
      "cell_type": "code",
      "source": [
        "def extract_images(stage1_path, destination_path, content_type='images'):\n",
        "    \"\"\"\n",
        "    Extract all images or merged masks from the stage1_train or stage1_test folder and save them into the specified destination folder.\n",
        "\n",
        "    Args:\n",
        "    - stage1_path (str): Path to the stage1_train or stage1_test folder containing sample folders.\n",
        "    - destination_path (str): Path to the destination folder where images or masks will be saved.\n",
        "    - content_type (str): Type of content to extract ('images' or 'merged_masks').\n",
        "    \"\"\"\n",
        "    # Create the destination directory if it doesn't exist\n",
        "    os.makedirs(destination_path, exist_ok=True)\n",
        "\n",
        "    # Determine the subfolder to look for based on content type\n",
        "    subfolder_name = 'images' if content_type == 'images' else 'merged_masks'\n",
        "\n",
        "    # Iterate over all sample folders in the stage1 directory\n",
        "    for sample_folder in os.listdir(stage1_path):\n",
        "        sample_folder_path = os.path.join(stage1_path, sample_folder, subfolder_name)\n",
        "\n",
        "        # Check if the sample folder contains the specified subfolder\n",
        "        if os.path.isdir(sample_folder_path):\n",
        "            for file in os.listdir(sample_folder_path):\n",
        "                if file.endswith('.png'):\n",
        "                    # Construct the full path to the file\n",
        "                    file_path = os.path.join(sample_folder_path, file)\n",
        "\n",
        "                    # Save the file to the destination directory\n",
        "                    destination_file_path = os.path.join(destination_path, f\"{sample_folder}_{file}\")\n",
        "                    shutil.copy(file_path, destination_file_path)\n",
        "                    #print(f\"Copied: {file_path} to {destination_file_path}\")"
      ],
      "metadata": {
        "id": "wBwoCbMU3cRp"
      },
      "execution_count": 36,
      "outputs": []
    },
    {
      "cell_type": "code",
      "source": [
        "def main(destination_path):\n",
        "    if 'train/images' in destination_path:\n",
        "        stage1_path = '/content/data/stage1_train'\n",
        "        content_type = 'images'\n",
        "    elif 'train/masks' in destination_path:\n",
        "        stage1_path = '/content/data/stage1_train'\n",
        "        content_type = 'masks'\n",
        "    elif 'test/images' in destination_path:\n",
        "        stage1_path = '/content/data/stage1_test'\n",
        "        content_type = 'images'\n",
        "    else:\n",
        "        print(\"Invalid destination path\")\n",
        "        return\n",
        "\n",
        "    extract_images(stage1_path, destination_path, content_type)"
      ],
      "metadata": {
        "id": "cPyPKRtr9TQ-"
      },
      "execution_count": 37,
      "outputs": []
    },
    {
      "cell_type": "code",
      "source": [
        "destination_path = '/content/data/train/images'\n",
        "main(destination_path)\n",
        "\n",
        "destination_path = '/content/data/train/masks'\n",
        "main(destination_path)\n",
        "\n",
        "destination_path = '/content/data/test/images'\n",
        "main(destination_path)"
      ],
      "metadata": {
        "id": "V1MxJQTT3cO3"
      },
      "execution_count": 38,
      "outputs": []
    },
    {
      "cell_type": "markdown",
      "source": [
        "## **Step 3: Data Exploration and Visualization**"
      ],
      "metadata": {
        "id": "9Xw08Iu2pU0y"
      }
    },
    {
      "cell_type": "markdown",
      "source": [
        "**3.1. Visualize Augmented Data:**\n",
        "\n",
        "Check and visualize the augmented images and masks to ensure the augmentations are applied correctly."
      ],
      "metadata": {
        "id": "3T_V4g8ppbq9"
      }
    },
    {
      "cell_type": "code",
      "source": [
        "def plot_augmented_sample(sample_folder):\n",
        "    images_folder = os.path.join(sample_folder, 'images')\n",
        "    masks_folder = os.path.join(sample_folder, 'merged_masks')\n",
        "    image_files = [os.path.join(images_folder, f) for f in os.listdir(images_folder) if f.endswith('.png')]\n",
        "    mask_files = [os.path.join(masks_folder, f) for f in os.listdir(masks_folder) if f.endswith('.png')]\n",
        "\n",
        "    for image_file, mask_file in zip(image_files, mask_files):\n",
        "        image = load_image(image_file)\n",
        "        mask = load_image(mask_file)\n",
        "\n",
        "        plt.figure(figsize=(10, 5))\n",
        "        plt.subplot(1, 2, 1)\n",
        "        plt.title('Augmented Image')\n",
        "        plt.imshow(image)\n",
        "        plt.axis('off')\n",
        "\n",
        "        plt.subplot(1, 2, 2)\n",
        "        plt.title('Augmented Mask')\n",
        "        plt.imshow(mask, cmap='gray')\n",
        "        plt.axis('off')\n",
        "\n",
        "        plt.show()"
      ],
      "metadata": {
        "id": "pREcReBbHIa7"
      },
      "execution_count": 39,
      "outputs": []
    },
    {
      "cell_type": "code",
      "source": [
        "# Example usage\n",
        "augmented_sample_folder = '/content/data/stage1_train/00071198d059ba7f5914a526d124d28e6d010c92466da21d4a04cd5413362552_augmented_2'\n",
        "plot_augmented_sample(augmented_sample_folder)"
      ],
      "metadata": {
        "id": "vYGIyfLJHIYb",
        "colab": {
          "base_uri": "https://localhost:8080/",
          "height": 411
        },
        "outputId": "d05479d2-3a06-4ee3-d76b-1ccdf2799a5e"
      },
      "execution_count": 40,
      "outputs": [
        {
          "output_type": "display_data",
          "data": {
            "text/plain": [
              "<Figure size 1000x500 with 2 Axes>"
            ],
            "image/png": "[encoded data removed]"
          },
          "metadata": {}
        }
      ]
    },
    {
      "cell_type": "markdown",
      "source": [
        "**3.2. Summarize Key Statistics**\n",
        "\n",
        "Calculate and summarize key statistics about the dataset."
      ],
      "metadata": {
        "id": "dFYCcK5mtHN5"
      }
    },
    {
      "cell_type": "code",
      "source": [
        "# Get a list of all sample folders\n",
        "sample_folders = [os.path.join(base_path, folder) for folder in os.listdir(base_path) if os.path.isdir(os.path.join(base_path, folder))]\n",
        "\n",
        "# Explore the first sample\n",
        "sample_folder = sample_folders[0]\n",
        "image_path = os.path.join(sample_folder, 'images', os.listdir(os.path.join(sample_folder, 'images'))[0])\n",
        "masks_path = os.path.join(sample_folder, 'merged_masks')\n",
        "\n",
        "# Load the image and masks\n",
        "image = load_image(image_path)\n",
        "masks = load_masks(masks_path)"
      ],
      "metadata": {
        "id": "N0-gZRFMtSJB"
      },
      "execution_count": 41,
      "outputs": []
    },
    {
      "cell_type": "code",
      "source": [
        "# Number of images\n",
        "num_images = len(sample_folders)\n",
        "print(f\"Number of images: {num_images}\")"
      ],
      "metadata": {
        "colab": {
          "base_uri": "https://localhost:8080/"
        },
        "id": "etkbRTD4tJSu",
        "outputId": "195f8c55-ee98-4473-957d-c96bda6cce6d"
      },
      "execution_count": 42,
      "outputs": [
        {
          "output_type": "stream",
          "name": "stdout",
          "text": [
            "Number of images: 4020\n"
          ]
        }
      ]
    },
    {
      "cell_type": "code",
      "source": [
        "# Distribution of mask sizes\n",
        "mask_sizes = []\n",
        "for folder in sample_folders:\n",
        "    masks = load_masks(os.path.join(folder, 'merged_masks'))\n",
        "    mask_sizes.extend([np.sum(mask > 0) for mask in masks])\n",
        "\n",
        "mask_sizes = np.array(mask_sizes)\n",
        "print(f\"Average mask size: {np.mean(mask_sizes):.2f} pixels\")\n",
        "print(f\"Median mask size: {np.median(mask_sizes):.2f} pixels\")"
      ],
      "metadata": {
        "colab": {
          "base_uri": "https://localhost:8080/"
        },
        "id": "UPNRUy3VteWN",
        "outputId": "b3c4e07b-e826-4756-fee5-9863eae45013"
      },
      "execution_count": 43,
      "outputs": [
        {
          "output_type": "stream",
          "name": "stdout",
          "text": [
            "Average mask size: 154773.55 pixels\n",
            "Median mask size: 52527.00 pixels\n"
          ]
        }
      ]
    },
    {
      "cell_type": "code",
      "source": [
        "# Plot mask size distribution\n",
        "plt.figure(figsize=(10, 6))\n",
        "plt.hist(mask_sizes, bins=50, color='blue', edgecolor='black')\n",
        "plt.title('Distribution of Mask Sizes')\n",
        "plt.xlabel('Mask Size (pixels)')\n",
        "plt.ylabel('Frequency')\n",
        "plt.show()"
      ],
      "metadata": {
        "colab": {
          "base_uri": "https://localhost:8080/",
          "height": 564
        },
        "id": "o91Mvmret2QT",
        "outputId": "5fa022c8-472d-4699-f92a-1c33f82b12de"
      },
      "execution_count": 44,
      "outputs": [
        {
          "output_type": "display_data",
          "data": {
            "text/plain": [
              "<Figure size 1000x600 with 1 Axes>"
            ],
            "image/png": "[encoded data removed]"
          },
          "metadata": {}
        }
      ]
    },
    {
      "cell_type": "markdown",
      "source": [
        "## **Step 4: Cellpose Model**"
      ],
      "metadata": {
        "id": "F5TKfQd61bQn"
      }
    },
    {
      "cell_type": "code",
      "source": [
        "!pip install cellpose"
      ],
      "metadata": {
        "id": "eQriQOmtASV8",
        "outputId": "0cfb59f1-fb1f-4025-e772-bfa278ae3207",
        "colab": {
          "base_uri": "https://localhost:8080/"
        }
      },
      "execution_count": 16,
      "outputs": [
        {
          "output_type": "stream",
          "name": "stdout",
          "text": [
            "Collecting cellpose\n",
            "  Using cached cellpose-3.0.8-py3-none-any.whl (204 kB)\n",
            "Requirement already satisfied: numpy>=1.20.0 in /usr/local/lib/python3.10/dist-packages (from cellpose) (1.25.2)\n",
            "Requirement already satisfied: scipy in /usr/local/lib/python3.10/dist-packages (from cellpose) (1.11.4)\n",
            "Requirement already satisfied: natsort in /usr/local/lib/python3.10/dist-packages (from cellpose) (8.4.0)\n",
            "Requirement already satisfied: tifffile in /usr/local/lib/python3.10/dist-packages (from cellpose) (2024.5.10)\n",
            "Requirement already satisfied: tqdm in /usr/local/lib/python3.10/dist-packages (from cellpose) (4.66.4)\n",
            "Requirement already satisfied: numba>=0.53.0 in /usr/local/lib/python3.10/dist-packages (from cellpose) (0.58.1)\n",
            "Requirement already satisfied: llvmlite in /usr/local/lib/python3.10/dist-packages (from cellpose) (0.41.1)\n",
            "Requirement already satisfied: torch>=1.6 in /usr/local/lib/python3.10/dist-packages (from cellpose) (2.3.0+cu121)\n",
            "Requirement already satisfied: opencv-python-headless in /usr/local/lib/python3.10/dist-packages (from cellpose) (3.4.18.65)\n",
            "Collecting fastremap (from cellpose)\n",
            "  Using cached fastremap-1.14.1-cp310-cp310-manylinux_2_17_x86_64.manylinux2014_x86_64.whl (6.0 MB)\n",
            "Collecting imagecodecs (from cellpose)\n",
            "  Using cached imagecodecs-2024.1.1-cp310-cp310-manylinux_2_17_x86_64.manylinux2014_x86_64.whl (39.6 MB)\n",
            "Collecting roifile (from cellpose)\n",
            "  Using cached roifile-2024.5.24-py3-none-any.whl (16 kB)\n",
            "Requirement already satisfied: filelock in /usr/local/lib/python3.10/dist-packages (from torch>=1.6->cellpose) (3.14.0)\n",
            "Requirement already satisfied: typing-extensions>=4.8.0 in /usr/local/lib/python3.10/dist-packages (from torch>=1.6->cellpose) (4.11.0)\n",
            "Requirement already satisfied: sympy in /usr/local/lib/python3.10/dist-packages (from torch>=1.6->cellpose) (1.12)\n",
            "Requirement already satisfied: networkx in /usr/local/lib/python3.10/dist-packages (from torch>=1.6->cellpose) (3.3)\n",
            "Requirement already satisfied: jinja2 in /usr/local/lib/python3.10/dist-packages (from torch>=1.6->cellpose) (3.1.4)\n",
            "Requirement already satisfied: fsspec in /usr/local/lib/python3.10/dist-packages (from torch>=1.6->cellpose) (2023.6.0)\n",
            "Collecting nvidia-cuda-nvrtc-cu12==12.1.105 (from torch>=1.6->cellpose)\n",
            "  Using cached nvidia_cuda_nvrtc_cu12-12.1.105-py3-none-manylinux1_x86_64.whl (23.7 MB)\n",
            "Collecting nvidia-cuda-runtime-cu12==12.1.105 (from torch>=1.6->cellpose)\n",
            "  Using cached nvidia_cuda_runtime_cu12-12.1.105-py3-none-manylinux1_x86_64.whl (823 kB)\n",
            "Collecting nvidia-cuda-cupti-cu12==12.1.105 (from torch>=1.6->cellpose)\n",
            "  Using cached nvidia_cuda_cupti_cu12-12.1.105-py3-none-manylinux1_x86_64.whl (14.1 MB)\n",
            "Collecting nvidia-cudnn-cu12==8.9.2.26 (from torch>=1.6->cellpose)\n",
            "  Using cached nvidia_cudnn_cu12-8.9.2.26-py3-none-manylinux1_x86_64.whl (731.7 MB)\n",
            "Collecting nvidia-cublas-cu12==12.1.3.1 (from torch>=1.6->cellpose)\n",
            "  Using cached nvidia_cublas_cu12-12.1.3.1-py3-none-manylinux1_x86_64.whl (410.6 MB)\n",
            "Collecting nvidia-cufft-cu12==11.0.2.54 (from torch>=1.6->cellpose)\n",
            "  Using cached nvidia_cufft_cu12-11.0.2.54-py3-none-manylinux1_x86_64.whl (121.6 MB)\n",
            "Collecting nvidia-curand-cu12==10.3.2.106 (from torch>=1.6->cellpose)\n",
            "  Using cached nvidia_curand_cu12-10.3.2.106-py3-none-manylinux1_x86_64.whl (56.5 MB)\n",
            "Collecting nvidia-cusolver-cu12==11.4.5.107 (from torch>=1.6->cellpose)\n",
            "  Using cached nvidia_cusolver_cu12-11.4.5.107-py3-none-manylinux1_x86_64.whl (124.2 MB)\n",
            "Collecting nvidia-cusparse-cu12==12.1.0.106 (from torch>=1.6->cellpose)\n",
            "  Using cached nvidia_cusparse_cu12-12.1.0.106-py3-none-manylinux1_x86_64.whl (196.0 MB)\n",
            "Collecting nvidia-nccl-cu12==2.20.5 (from torch>=1.6->cellpose)\n",
            "  Using cached nvidia_nccl_cu12-2.20.5-py3-none-manylinux2014_x86_64.whl (176.2 MB)\n",
            "Collecting nvidia-nvtx-cu12==12.1.105 (from torch>=1.6->cellpose)\n",
            "  Using cached nvidia_nvtx_cu12-12.1.105-py3-none-manylinux1_x86_64.whl (99 kB)\n",
            "Requirement already satisfied: triton==2.3.0 in /usr/local/lib/python3.10/dist-packages (from torch>=1.6->cellpose) (2.3.0)\n",
            "Collecting nvidia-nvjitlink-cu12 (from nvidia-cusolver-cu12==11.4.5.107->torch>=1.6->cellpose)\n",
            "  Downloading nvidia_nvjitlink_cu12-12.5.40-py3-none-manylinux2014_x86_64.whl (21.3 MB)\n",
            "\u001b[2K     \u001b[90m━━━━━━━━━━━━━━━━━━━━━━━━━━━━━━━━━━━━━━━━\u001b[0m \u001b[32m21.3/21.3 MB\u001b[0m \u001b[31m50.6 MB/s\u001b[0m eta \u001b[36m0:00:00\u001b[0m\n",
            "\u001b[?25hRequirement already satisfied: MarkupSafe>=2.0 in /usr/local/lib/python3.10/dist-packages (from jinja2->torch>=1.6->cellpose) (2.1.5)\n",
            "Requirement already satisfied: mpmath>=0.19 in /usr/local/lib/python3.10/dist-packages (from sympy->torch>=1.6->cellpose) (1.3.0)\n",
            "Installing collected packages: roifile, nvidia-nvtx-cu12, nvidia-nvjitlink-cu12, nvidia-nccl-cu12, nvidia-curand-cu12, nvidia-cufft-cu12, nvidia-cuda-runtime-cu12, nvidia-cuda-nvrtc-cu12, nvidia-cuda-cupti-cu12, nvidia-cublas-cu12, imagecodecs, fastremap, nvidia-cusparse-cu12, nvidia-cudnn-cu12, nvidia-cusolver-cu12, cellpose\n",
            "Successfully installed cellpose-3.0.8 fastremap-1.14.1 imagecodecs-2024.1.1 nvidia-cublas-cu12-12.1.3.1 nvidia-cuda-cupti-cu12-12.1.105 nvidia-cuda-nvrtc-cu12-12.1.105 nvidia-cuda-runtime-cu12-12.1.105 nvidia-cudnn-cu12-8.9.2.26 nvidia-cufft-cu12-11.0.2.54 nvidia-curand-cu12-10.3.2.106 nvidia-cusolver-cu12-11.4.5.107 nvidia-cusparse-cu12-12.1.0.106 nvidia-nccl-cu12-2.20.5 nvidia-nvjitlink-cu12-12.5.40 nvidia-nvtx-cu12-12.1.105 roifile-2024.5.24\n"
          ]
        }
      ]
    },
    {
      "cell_type": "code",
      "source": [
        "import os\n",
        "from skimage import io, transform\n",
        "import numpy as np\n",
        "from cellpose import models, utils, io as cp_io, train\n",
        "import matplotlib.pyplot as plt"
      ],
      "metadata": {
        "id": "3Q_0Jv-RL8ev"
      },
      "execution_count": 82,
      "outputs": []
    },
    {
      "cell_type": "code",
      "source": [
        "# CHECK IF GPU IS AVAILABLE\n",
        "import torch\n",
        "\n",
        "num_gpu = torch.cuda.device_count()\n",
        "print(f'{num_gpu} GPU available')\n",
        "device = torch.device('cuda:0' if torch.cuda.is_available() else 'cpu')"
      ],
      "metadata": {
        "id": "c0OfmXhcAjYn",
        "outputId": "b59a918e-d35b-4a06-a581-413d32323596",
        "colab": {
          "base_uri": "https://localhost:8080/"
        }
      },
      "execution_count": 45,
      "outputs": [
        {
          "output_type": "stream",
          "name": "stdout",
          "text": [
            "1 GPU available\n"
          ]
        }
      ]
    },
    {
      "cell_type": "code",
      "source": [
        "def resize_image(image, target_shape):\n",
        "    \"\"\"\n",
        "    Resize an image to the target shape.\n",
        "    \"\"\"\n",
        "    return transform.resize(image, target_shape, anti_aliasing=True, mode='reflect')"
      ],
      "metadata": {
        "id": "MjKqlvezNVni"
      },
      "execution_count": 83,
      "outputs": []
    },
    {
      "cell_type": "code",
      "source": [
        "def load_and_preprocess_data(base_path, target_shape):\n",
        "    images = []\n",
        "    masks = []\n",
        "    folder_names = []\n",
        "    sample_folders = [os.path.join(base_path, folder) for folder in os.listdir(base_path) if os.path.isdir(os.path.join(base_path, folder))]\n",
        "\n",
        "    for sample_folder in sample_folders:\n",
        "        folder_name = os.path.basename(sample_folder)\n",
        "        image_path = os.path.join(sample_folder, 'images', os.listdir(os.path.join(sample_folder, 'images'))[0])\n",
        "        masks_path = os.path.join(sample_folder, 'merged_masks')\n",
        "\n",
        "        image = load_image(image_path)\n",
        "        mask_list = load_masks(masks_path)\n",
        "        merged_mask = merge_masks(mask_list)\n",
        "\n",
        "        # Resize images and masks to target shape\n",
        "        image = resize_image(image, target_shape)\n",
        "        merged_mask = resize_image(merged_mask, target_shape)\n",
        "\n",
        "        images.append(image)\n",
        "        masks.append(merged_mask)\n",
        "        folder_names.append(folder_name)\n",
        "\n",
        "    return images, masks, folder_names"
      ],
      "metadata": {
        "id": "dbwxnLKHB1ku"
      },
      "execution_count": 87,
      "outputs": []
    },
    {
      "cell_type": "code",
      "source": [
        "# Load and preprocess the training data\n",
        "base_path = '/content/data/stage1_train'\n",
        "target_shape = (256, 256)\n",
        "images, masks, folder_names = load_and_preprocess_data(base_path, target_shape)"
      ],
      "metadata": {
        "id": "whgAkxwBB3YK"
      },
      "execution_count": null,
      "outputs": []
    },
    {
      "cell_type": "code",
      "source": [
        "images[0]"
      ],
      "metadata": {
        "id": "-QX3rq0sCENh",
        "outputId": "01c5e04b-dafd-49c8-c62a-618abe95be03",
        "colab": {
          "base_uri": "https://localhost:8080/",
          "height": 274
        }
      },
      "execution_count": 76,
      "outputs": [
        {
          "output_type": "execute_result",
          "data": {
            "text/plain": [
              "array([[[15, 15, 15],\n",
              "        [16, 16, 16],\n",
              "        [15, 15, 15],\n",
              "        ...,\n",
              "        [18, 18, 18],\n",
              "        [21, 21, 21],\n",
              "        [22, 22, 22]],\n",
              "\n",
              "       [[15, 15, 15],\n",
              "        [15, 15, 15],\n",
              "        [16, 16, 16],\n",
              "        ...,\n",
              "        [18, 18, 18],\n",
              "        [19, 19, 19],\n",
              "        [22, 22, 22]],\n",
              "\n",
              "       [[15, 15, 15],\n",
              "        [15, 15, 15],\n",
              "        [15, 15, 15],\n",
              "        ...,\n",
              "        [18, 18, 18],\n",
              "        [18, 18, 18],\n",
              "        [19, 19, 19]],\n",
              "\n",
              "       ...,\n",
              "\n",
              "       [[50, 50, 50],\n",
              "        [52, 52, 52],\n",
              "        [52, 52, 52],\n",
              "        ...,\n",
              "        [27, 27, 27],\n",
              "        [27, 27, 27],\n",
              "        [27, 27, 27]],\n",
              "\n",
              "       [[48, 48, 48],\n",
              "        [48, 48, 48],\n",
              "        [49, 49, 49],\n",
              "        ...,\n",
              "        [29, 29, 29],\n",
              "        [30, 30, 30],\n",
              "        [30, 30, 30]],\n",
              "\n",
              "       [[43, 43, 43],\n",
              "        [44, 44, 44],\n",
              "        [44, 44, 44],\n",
              "        ...,\n",
              "        [32, 32, 32],\n",
              "        [33, 33, 33],\n",
              "        [34, 34, 34]]], dtype=uint8)"
            ],
            "text/html": [
              "<style>\n",
              "      .ndarray_repr .ndarray_raw_data {\n",
              "        display: none;\n",
              "      }\n",
              "      .ndarray_repr.show_array .ndarray_raw_data {\n",
              "        display: block;\n",
              "      }\n",
              "      .ndarray_repr.show_array .ndarray_image_preview {\n",
              "        display: none;\n",
              "      }\n",
              "      </style>\n",
              "      <div id=\"id-6d9ff1dc-0b63-45b7-a9cb-79bdf839de99\" class=\"ndarray_repr\"><pre>ndarray (235, 235, 3) <button style=\"padding: 0 2px;\">show data</button></pre><img src=\"data:image/png;base64,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\" class=\"ndarray_image_preview\" /><pre class=\"ndarray_raw_data\">array([[[15, 15, 15],\n",
              "        [16, 16, 16],\n",
              "        [15, 15, 15],\n",
              "        ...,\n",
              "        [18, 18, 18],\n",
              "        [21, 21, 21],\n",
              "        [22, 22, 22]],\n",
              "\n",
              "       [[15, 15, 15],\n",
              "        [15, 15, 15],\n",
              "        [16, 16, 16],\n",
              "        ...,\n",
              "        [18, 18, 18],\n",
              "        [19, 19, 19],\n",
              "        [22, 22, 22]],\n",
              "\n",
              "       [[15, 15, 15],\n",
              "        [15, 15, 15],\n",
              "        [15, 15, 15],\n",
              "        ...,\n",
              "        [18, 18, 18],\n",
              "        [18, 18, 18],\n",
              "        [19, 19, 19]],\n",
              "\n",
              "       ...,\n",
              "\n",
              "       [[50, 50, 50],\n",
              "        [52, 52, 52],\n",
              "        [52, 52, 52],\n",
              "        ...,\n",
              "        [27, 27, 27],\n",
              "        [27, 27, 27],\n",
              "        [27, 27, 27]],\n",
              "\n",
              "       [[48, 48, 48],\n",
              "        [48, 48, 48],\n",
              "        [49, 49, 49],\n",
              "        ...,\n",
              "        [29, 29, 29],\n",
              "        [30, 30, 30],\n",
              "        [30, 30, 30]],\n",
              "\n",
              "       [[43, 43, 43],\n",
              "        [44, 44, 44],\n",
              "        [44, 44, 44],\n",
              "        ...,\n",
              "        [32, 32, 32],\n",
              "        [33, 33, 33],\n",
              "        [34, 34, 34]]], dtype=uint8)</pre></div><script>\n",
              "      (() => {\n",
              "      const titles = ['show data', 'hide data'];\n",
              "      let index = 0\n",
              "      document.querySelector('#id-6d9ff1dc-0b63-45b7-a9cb-79bdf839de99 button').onclick = (e) => {\n",
              "        document.querySelector('#id-6d9ff1dc-0b63-45b7-a9cb-79bdf839de99').classList.toggle('show_array');\n",
              "        index = (++index) % 2;\n",
              "        document.querySelector('#id-6d9ff1dc-0b63-45b7-a9cb-79bdf839de99 button').textContent = titles[index];\n",
              "        e.preventDefault();\n",
              "        e.stopPropagation();\n",
              "      }\n",
              "      })();\n",
              "    </script>"
            ]
          },
          "metadata": {},
          "execution_count": 76
        }
      ]
    },
    {
      "cell_type": "code",
      "source": [
        "masks[0]"
      ],
      "metadata": {
        "id": "nLfnIwugJcDr",
        "outputId": "2e123c31-dec4-44cb-875e-fa56cfdac4c6",
        "colab": {
          "base_uri": "https://localhost:8080/",
          "height": 274
        }
      },
      "execution_count": 77,
      "outputs": [
        {
          "output_type": "execute_result",
          "data": {
            "text/plain": [
              "array([[[ 13,  13,  13],\n",
              "        [ 13,  13,  13],\n",
              "        [ 13,  13,  13],\n",
              "        ...,\n",
              "        [ 13,  13,  13],\n",
              "        [ 13,  13,  13],\n",
              "        [ 13,  13,  13]],\n",
              "\n",
              "       [[ 13,  13,  13],\n",
              "        [ 13,  13,  13],\n",
              "        [ 13,  13,  13],\n",
              "        ...,\n",
              "        [ 13,  13,  13],\n",
              "        [ 13,  13,  13],\n",
              "        [ 13,  13,  13]],\n",
              "\n",
              "       [[ 13,  13,  13],\n",
              "        [ 13,  13,  13],\n",
              "        [ 13,  13,  13],\n",
              "        ...,\n",
              "        [ 13,  13,  13],\n",
              "        [ 13,  13,  13],\n",
              "        [ 13,  13,  13]],\n",
              "\n",
              "       ...,\n",
              "\n",
              "       [[241, 241, 241],\n",
              "        [241, 241, 241],\n",
              "        [241, 241, 241],\n",
              "        ...,\n",
              "        [ 13,  13,  13],\n",
              "        [ 13,  13,  13],\n",
              "        [ 13,  13,  13]],\n",
              "\n",
              "       [[241, 241, 241],\n",
              "        [241, 241, 241],\n",
              "        [241, 241, 241],\n",
              "        ...,\n",
              "        [ 13,  13,  13],\n",
              "        [ 13,  13,  13],\n",
              "        [ 13,  13,  13]],\n",
              "\n",
              "       [[241, 241, 241],\n",
              "        [241, 241, 241],\n",
              "        [241, 241, 241],\n",
              "        ...,\n",
              "        [ 13,  13,  13],\n",
              "        [ 13,  13,  13],\n",
              "        [ 13,  13,  13]]], dtype=uint8)"
            ],
            "text/html": [
              "<style>\n",
              "      .ndarray_repr .ndarray_raw_data {\n",
              "        display: none;\n",
              "      }\n",
              "      .ndarray_repr.show_array .ndarray_raw_data {\n",
              "        display: block;\n",
              "      }\n",
              "      .ndarray_repr.show_array .ndarray_image_preview {\n",
              "        display: none;\n",
              "      }\n",
              "      </style>\n",
              "      <div id=\"id-e3345635-e443-4d2a-97e0-2595866eddae\" class=\"ndarray_repr\"><pre>ndarray (235, 235, 3) <button style=\"padding: 0 2px;\">show data</button></pre><img src=\"data:image/png;base64,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\" class=\"ndarray_image_preview\" /><pre class=\"ndarray_raw_data\">array([[[ 13,  13,  13],\n",
              "        [ 13,  13,  13],\n",
              "        [ 13,  13,  13],\n",
              "        ...,\n",
              "        [ 13,  13,  13],\n",
              "        [ 13,  13,  13],\n",
              "        [ 13,  13,  13]],\n",
              "\n",
              "       [[ 13,  13,  13],\n",
              "        [ 13,  13,  13],\n",
              "        [ 13,  13,  13],\n",
              "        ...,\n",
              "        [ 13,  13,  13],\n",
              "        [ 13,  13,  13],\n",
              "        [ 13,  13,  13]],\n",
              "\n",
              "       [[ 13,  13,  13],\n",
              "        [ 13,  13,  13],\n",
              "        [ 13,  13,  13],\n",
              "        ...,\n",
              "        [ 13,  13,  13],\n",
              "        [ 13,  13,  13],\n",
              "        [ 13,  13,  13]],\n",
              "\n",
              "       ...,\n",
              "\n",
              "       [[241, 241, 241],\n",
              "        [241, 241, 241],\n",
              "        [241, 241, 241],\n",
              "        ...,\n",
              "        [ 13,  13,  13],\n",
              "        [ 13,  13,  13],\n",
              "        [ 13,  13,  13]],\n",
              "\n",
              "       [[241, 241, 241],\n",
              "        [241, 241, 241],\n",
              "        [241, 241, 241],\n",
              "        ...,\n",
              "        [ 13,  13,  13],\n",
              "        [ 13,  13,  13],\n",
              "        [ 13,  13,  13]],\n",
              "\n",
              "       [[241, 241, 241],\n",
              "        [241, 241, 241],\n",
              "        [241, 241, 241],\n",
              "        ...,\n",
              "        [ 13,  13,  13],\n",
              "        [ 13,  13,  13],\n",
              "        [ 13,  13,  13]]], dtype=uint8)</pre></div><script>\n",
              "      (() => {\n",
              "      const titles = ['show data', 'hide data'];\n",
              "      let index = 0\n",
              "      document.querySelector('#id-e3345635-e443-4d2a-97e0-2595866eddae button').onclick = (e) => {\n",
              "        document.querySelector('#id-e3345635-e443-4d2a-97e0-2595866eddae').classList.toggle('show_array');\n",
              "        index = (++index) % 2;\n",
              "        document.querySelector('#id-e3345635-e443-4d2a-97e0-2595866eddae button').textContent = titles[index];\n",
              "        e.preventDefault();\n",
              "        e.stopPropagation();\n",
              "      }\n",
              "      })();\n",
              "    </script>"
            ]
          },
          "metadata": {},
          "execution_count": 77
        }
      ]
    },
    {
      "cell_type": "code",
      "source": [
        "folder_names[0]"
      ],
      "metadata": {
        "id": "bKJd0tsGKzcd",
        "outputId": "07122fd5-131c-4d32-a8bb-fa637b2dbf28",
        "colab": {
          "base_uri": "https://localhost:8080/",
          "height": 36
        }
      },
      "execution_count": 78,
      "outputs": [
        {
          "output_type": "execute_result",
          "data": {
            "text/plain": [
              "'13c8ff1f49886e91c98ce795c93648ad8634c782ff57eb928ce29496b0425057_augmented_4'"
            ],
            "application/vnd.google.colaboratory.intrinsic+json": {
              "type": "string"
            }
          },
          "metadata": {},
          "execution_count": 78
        }
      ]
    },
    {
      "cell_type": "code",
      "source": [
        "# Initialize Cellpose model\n",
        "model = models.CellposeModel(gpu=False, pretrained_model='cyto')\n",
        "\n",
        "# Convert lists to numpy arrays\n",
        "images = np.array(images)\n",
        "masks = np.array(masks)\n",
        "\n",
        "# Train the Cellpose model\n",
        "model.train(images, masks, epochs=50, learning_rate=0.2, batch_size=8, diam_mean=30.0)\n",
        "\n",
        "# Save the trained model\n",
        "model_path = 'cellpose_model'\n",
        "model_path = model.cp.save_model(model_path)"
      ],
      "metadata": {
        "id": "MzADBle9Lzyv",
        "outputId": "d414e701-bed9-4fae-9deb-9a9379b4edc7",
        "colab": {
          "base_uri": "https://localhost:8080/",
          "height": 228
        }
      },
      "execution_count": 81,
      "outputs": [
        {
          "output_type": "stream",
          "name": "stderr",
          "text": [
            "100%|██████████| 25.3M/25.3M [00:00<00:00, 66.7MB/s]\n"
          ]
        },
        {
          "output_type": "error",
          "ename": "ValueError",
          "evalue": "setting an array element with a sequence. The requested array has an inhomogeneous shape after 1 dimensions. The detected shape was (4020,) + inhomogeneous part.",
          "traceback": [
            "\u001b[0;31m---------------------------------------------------------------------------\u001b[0m",
            "\u001b[0;31mValueError\u001b[0m                                Traceback (most recent call last)",
            "\u001b[0;32m<ipython-input-81-ab69451ae606>\u001b[0m in \u001b[0;36m<cell line: 5>\u001b[0;34m()\u001b[0m\n\u001b[1;32m      3\u001b[0m \u001b[0;34m\u001b[0m\u001b[0m\n\u001b[1;32m      4\u001b[0m \u001b[0;31m# Convert lists to numpy arrays\u001b[0m\u001b[0;34m\u001b[0m\u001b[0;34m\u001b[0m\u001b[0m\n\u001b[0;32m----> 5\u001b[0;31m \u001b[0mimages\u001b[0m \u001b[0;34m=\u001b[0m \u001b[0mnp\u001b[0m\u001b[0;34m.\u001b[0m\u001b[0marray\u001b[0m\u001b[0;34m(\u001b[0m\u001b[0mimages\u001b[0m\u001b[0;34m)\u001b[0m\u001b[0;34m\u001b[0m\u001b[0;34m\u001b[0m\u001b[0m\n\u001b[0m\u001b[1;32m      6\u001b[0m \u001b[0mmasks\u001b[0m \u001b[0;34m=\u001b[0m \u001b[0mnp\u001b[0m\u001b[0;34m.\u001b[0m\u001b[0marray\u001b[0m\u001b[0;34m(\u001b[0m\u001b[0mmasks\u001b[0m\u001b[0;34m)\u001b[0m\u001b[0;34m\u001b[0m\u001b[0;34m\u001b[0m\u001b[0m\n\u001b[1;32m      7\u001b[0m \u001b[0;34m\u001b[0m\u001b[0m\n",
            "\u001b[0;31mValueError\u001b[0m: setting an array element with a sequence. The requested array has an inhomogeneous shape after 1 dimensions. The detected shape was (4020,) + inhomogeneous part."
          ]
        }
      ]
    }
  ],
  "metadata": {
    "language_info": {
      "name": "python"
    },
    "colab": {
      "provenance": [],
      "gpuType": "T4",
      "include_colab_link": true
    },
    "kernelspec": {
      "name": "python3",
      "display_name": "Python 3"
    },
    "accelerator": "GPU"
  },
  "nbformat": 4,
  "nbformat_minor": 0
}